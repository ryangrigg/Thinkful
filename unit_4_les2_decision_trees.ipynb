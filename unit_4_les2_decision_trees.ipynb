{
 "cells": [
  {
   "cell_type": "code",
   "execution_count": 1,
   "metadata": {
    "collapsed": true
   },
   "outputs": [],
   "source": [
    "import pandas as pd\n",
    "import statsmodels.api as sm\n",
    "import statsmodels.formula.api as smf #needed for models in this script\n",
    "import pylab as pl\n",
    "import matplotlib.pyplot as plt\n",
    "import numpy as np\n",
    "from scipy import stats"
   ]
  },
  {
   "cell_type": "code",
   "execution_count": 2,
   "metadata": {
    "collapsed": true
   },
   "outputs": [],
   "source": [
    "pd.set_option('html', True) #see the dataframe in a more user friendly manner\n",
    "%matplotlib inline"
   ]
  },
  {
   "cell_type": "markdown",
   "metadata": {},
   "source": [
    "## Decision Trees Overview"
   ]
  },
  {
   "cell_type": "markdown",
   "metadata": {},
   "source": [
    "Consider a pool of college applicants. The average SAT score for admission has historically been 2,200, and the average GPA 4.9. We are given the application info on 1,000 applicants and asked to create a model that will allow us to predict students most likely to be admitted. How do we go about doing this?\n",
    "\n",
    "One approach would be to first divide the applicants into those that have SAT score over 2,200 and then call this the \"more likely\" group. Then we could split this group further by GPA based on whether their GPA is less than or equal to 4.9 or over 4.9. We call the latter subgroup \"most likely\" and the former a \"high maybe\". Then we do the same thing to the group with SAT scores below 2,200 calling the high GPA subgroup a \"maybe\", and the low GPA subgroup a \"probably not\".\n",
    "\n",
    "The following is an example of how the decision tree looks for this problem.\n",
    "\n",
    "![](files/dtree1.jpg)\n",
    "\n",
    "1. What do you think would happen if we split on GPA first and then SAT scores---would we get the same groupings? (i.e. what is the best way to split?)\n",
    "2. What if we used more criteria such as essay evaluation scores, extra curriculars, awards and distinctions in sports etc? (i.e. how many attributes should we use to create splits, and what are the most significant attributes?)\n",
    "3. We were given averages, but what about the spread, what about outliers? (i.e. how does the distribution of attributes affect misclassification?)\n",
    "\n",
    "A <u>decision tree</u> uses the intrinsic structure of the data to make these splits. Decision trees are commonly used in operations research, specifically in decision analysis, to help identify a strategy most likely to reach a goal. In machine learning, decision trees are commonly used to help identify features, and specific values of those features, that are most likely to result in a target value. If the target value is categorical, the model is a classification tree; if the target value is continuous, the model is a regression tree.\n",
    "\n",
    "In this lesson, we're going to focus on classification trees."
   ]
  },
  {
   "cell_type": "markdown",
   "metadata": {
    "collapsed": true
   },
   "source": [
    "## Data Cleaning and Exploration"
   ]
  },
  {
   "cell_type": "markdown",
   "metadata": {},
   "source": [
    "Download and unzip UCI HAR Dataset.zip from: https://github.com/shubhabrataroy/Thinkful/tree/master/Data/Unit4.2.2"
   ]
  },
  {
   "cell_type": "markdown",
   "metadata": {},
   "source": [
    " * Read through features_info.txt (https://www.dropbox.com/s/mnj4x46z7jb3xw7/features_info.txt?dl=0). This file describes each feature, its physical significance, and also describes features that are derived from raw data by doing some averaging, or sampling, or some operation that gives a numerical result. What do you notice about the dataset? What kind of guidelines for approaching the dataset do you find?\n",
    " \n",
    " * In static activities (sit, stand, lie down) motion information will not be very useful.\n",
    " \n",
    " * In the dynamic activities (3 types of walking) motion will be significant.\n",
    " \n",
    " * Angle variables will be useful both in differentiating “lie vs stand” and “walk up vs walk down”.\n",
    " \n",
    " * Acceleration and Jerk variables are important in distinguishing various kinds of motion while filtering out random tremors while static.  \n",
    " \n",
    " * Mag and Angle variables contain the same info as (e.g., are strongly correlated with) XYZ variables. We choose to focus on the latter as they are simpler to reason about. This is a very important point to understand as it results in elimination of a few hundred variables.\n",
    " \n",
    " * We ignore the band variables as we have no simple way to interpret the meaning and relate them to physical activities.\n",
    " \n",
    " * mean and std are important, skewness and kurtosis may also so we include all of these."
   ]
  },
  {
   "cell_type": "markdown",
   "metadata": {},
   "source": [
    "<b>Clean-Up:</b> for each of the tasks below, think about how you will fix the data and what the implications/ramifications of your fixes will be. Also, can you think of a way to accomplish several of the cleaning tasks at once?\n",
    "\n",
    "* Identify and fix the inclusion of ( ) in column names. <b>Think I have this one</b>\n",
    "* Identify and remove duplicate column names. <b>Do I need a function that loops over the column names and appends duplicates to a list? Then I use drop function to drop that list of duplicates?</b>\n",
    "* Identify and fix the inclusion of ‘-’ in column names. <b>Think I have this one</b>\n",
    "* Identify and fix extra ) in some column names. <b>Think I have this one</b>\n",
    "* Identify and fix inclusion of multiple ‘,’ in column names. <b>Not Sure</b>\n",
    "* Identify and fix column names containing “BodyBody” <b>Think I have this one</b>\n",
    "* Drop 'Body' and 'Mag' from column names. <b>Think I have this one</b>\n",
    "* Map 'mean' and 'std' to 'Mean' and 'STD' <b>Think I have this one</b>\n",
    "* Make 'activity' a categorical variable.\n",
    "* Plot a histogram of Body Acceleration Magnitude (i.e. histogram of all 6 activities) to see how each variable does as a predictor of static versus dynamic activities."
   ]
  },
  {
   "cell_type": "markdown",
   "metadata": {},
   "source": [
    "<b>Open Data:</b>"
   ]
  },
  {
   "cell_type": "code",
   "execution_count": 11,
   "metadata": {
    "collapsed": false
   },
   "outputs": [
    {
     "data": {
      "text/html": [
       "<div>\n",
       "<table border=\"1\" class=\"dataframe\">\n",
       "  <thead>\n",
       "    <tr style=\"text-align: right;\">\n",
       "      <th></th>\n",
       "      <th>Unnamed: 0</th>\n",
       "      <th>tBodyAcc-mean()-X</th>\n",
       "      <th>tBodyAcc-mean()-Y</th>\n",
       "      <th>tBodyAcc-mean()-Z</th>\n",
       "      <th>tBodyAcc-std()-X</th>\n",
       "      <th>tBodyAcc-std()-Y</th>\n",
       "      <th>tBodyAcc-std()-Z</th>\n",
       "      <th>tBodyAcc-mad()-X</th>\n",
       "      <th>tBodyAcc-mad()-Y</th>\n",
       "      <th>tBodyAcc-mad()-Z</th>\n",
       "      <th>...</th>\n",
       "      <th>fBodyBodyGyroJerkMag-kurtosis()</th>\n",
       "      <th>angle(tBodyAccMean,gravity)</th>\n",
       "      <th>angle(tBodyAccJerkMean),gravityMean)</th>\n",
       "      <th>angle(tBodyGyroMean,gravityMean)</th>\n",
       "      <th>angle(tBodyGyroJerkMean,gravityMean)</th>\n",
       "      <th>angle(X,gravityMean)</th>\n",
       "      <th>angle(Y,gravityMean)</th>\n",
       "      <th>angle(Z,gravityMean)</th>\n",
       "      <th>subject</th>\n",
       "      <th>activity</th>\n",
       "    </tr>\n",
       "  </thead>\n",
       "  <tbody>\n",
       "    <tr>\n",
       "      <th>0</th>\n",
       "      <td>1</td>\n",
       "      <td>0.288585</td>\n",
       "      <td>-0.020294</td>\n",
       "      <td>-0.132905</td>\n",
       "      <td>-0.995279</td>\n",
       "      <td>-0.983111</td>\n",
       "      <td>-0.913526</td>\n",
       "      <td>-0.995112</td>\n",
       "      <td>-0.983185</td>\n",
       "      <td>-0.923527</td>\n",
       "      <td>...</td>\n",
       "      <td>-0.710304</td>\n",
       "      <td>-0.112754</td>\n",
       "      <td>0.0304</td>\n",
       "      <td>-0.464761</td>\n",
       "      <td>-0.018446</td>\n",
       "      <td>-0.841247</td>\n",
       "      <td>0.179941</td>\n",
       "      <td>-0.058627</td>\n",
       "      <td>1</td>\n",
       "      <td>standing</td>\n",
       "    </tr>\n",
       "  </tbody>\n",
       "</table>\n",
       "<p>1 rows × 564 columns</p>\n",
       "</div>"
      ],
      "text/plain": [
       "   Unnamed: 0  tBodyAcc-mean()-X  tBodyAcc-mean()-Y  tBodyAcc-mean()-Z  \\\n",
       "0           1           0.288585          -0.020294          -0.132905   \n",
       "\n",
       "   tBodyAcc-std()-X  tBodyAcc-std()-Y  tBodyAcc-std()-Z  tBodyAcc-mad()-X  \\\n",
       "0         -0.995279         -0.983111         -0.913526         -0.995112   \n",
       "\n",
       "   tBodyAcc-mad()-Y  tBodyAcc-mad()-Z    ...     \\\n",
       "0         -0.983185         -0.923527    ...      \n",
       "\n",
       "   fBodyBodyGyroJerkMag-kurtosis()  angle(tBodyAccMean,gravity)  \\\n",
       "0                        -0.710304                    -0.112754   \n",
       "\n",
       "   angle(tBodyAccJerkMean),gravityMean)  angle(tBodyGyroMean,gravityMean)  \\\n",
       "0                                0.0304                         -0.464761   \n",
       "\n",
       "   angle(tBodyGyroJerkMean,gravityMean)  angle(X,gravityMean)  \\\n",
       "0                             -0.018446             -0.841247   \n",
       "\n",
       "   angle(Y,gravityMean)  angle(Z,gravityMean)  subject  activity  \n",
       "0              0.179941             -0.058627        1  standing  \n",
       "\n",
       "[1 rows x 564 columns]"
      ]
     },
     "execution_count": 11,
     "metadata": {},
     "output_type": "execute_result"
    }
   ],
   "source": [
    "frame = pd.read_csv('samsungdata.csv')\n",
    "frame.head(1)"
   ]
  },
  {
   "cell_type": "markdown",
   "metadata": {},
   "source": [
    "<b>Clean Data Column Headers:</b>"
   ]
  },
  {
   "cell_type": "code",
   "execution_count": null,
   "metadata": {
    "collapsed": true
   },
   "outputs": [],
   "source": [
    "def fix_column_headers(dataframe):\n",
    "    \n",
    "    dataframe.rename(columns=lambda x: x.replace('()', ''), inplace=True) #Identify and fix the inclusion of ( ) in column names.\n",
    "    dataframe.rename(columns=lambda x: x.replace('-', ''), inplace=True) #Identify and fix the inclusion of ‘-’ in column names.\n",
    "    dataframe.rename(columns=lambda x: x.replace('))', ')'), inplace=True) #Identify and fix extra ) in some column names.\n",
    "    dataframe.rename(columns=lambda x: x.replace('BodyBody', ''), inplace=True) #Identify and fix column names containing “BodyBody” names.\n",
    "    dataframe.rename(columns=lambda x: x.replace('Body', ''), inplace=True) #Drop 'Body' and 'Mag' from column names.\n",
    "    dataframe.rename(columns=lambda x: x.replace('Mag', ''), inplace=True) #Drop 'Body' and 'Mag' from column names.\n",
    "    dataframe.rename(columns=lambda x: x.replace('mean', 'Mean'), inplace=True) #Map 'mean' and 'std' to 'Mean' and 'STD'\n",
    "    dataframe.rename(columns=lambda x: x.replace('std', 'STD'), inplace=True) #Map 'mean' and 'std' to 'Mean' and 'STD'\n",
    "    "
   ]
  }
 ],
 "metadata": {
  "kernelspec": {
   "display_name": "Python 2",
   "language": "python",
   "name": "python2"
  },
  "language_info": {
   "codemirror_mode": {
    "name": "ipython",
    "version": 2
   },
   "file_extension": ".py",
   "mimetype": "text/x-python",
   "name": "python",
   "nbconvert_exporter": "python",
   "pygments_lexer": "ipython2",
   "version": "2.7.6"
  }
 },
 "nbformat": 4,
 "nbformat_minor": 0
}
