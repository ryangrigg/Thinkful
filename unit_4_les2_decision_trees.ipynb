{
 "cells": [
  {
   "cell_type": "code",
   "execution_count": 1,
   "metadata": {
    "collapsed": true
   },
   "outputs": [],
   "source": [
    "import pandas as pd\n",
    "import statsmodels.api as sm\n",
    "import statsmodels.formula.api as smf #needed for models in this script\n",
    "import pylab as pl\n",
    "import matplotlib.pyplot as plt\n",
    "import numpy as np\n",
    "from scipy import stats"
   ]
  },
  {
   "cell_type": "code",
   "execution_count": 2,
   "metadata": {
    "collapsed": true
   },
   "outputs": [],
   "source": [
    "pd.set_option('html', True) #see the dataframe in a more user friendly manner\n",
    "%matplotlib inline"
   ]
  },
  {
   "cell_type": "markdown",
   "metadata": {},
   "source": [
    "## Decision Trees Overview"
   ]
  },
  {
   "cell_type": "markdown",
   "metadata": {},
   "source": [
    "Consider a pool of college applicants. The average SAT score for admission has historically been 2,200, and the average GPA 4.9. We are given the application info on 1,000 applicants and asked to create a model that will allow us to predict students most likely to be admitted. How do we go about doing this?\n",
    "\n",
    "One approach would be to first divide the applicants into those that have SAT score over 2,200 and then call this the \"more likely\" group. Then we could split this group further by GPA based on whether their GPA is less than or equal to 4.9 or over 4.9. We call the latter subgroup \"most likely\" and the former a \"high maybe\". Then we do the same thing to the group with SAT scores below 2,200 calling the high GPA subgroup a \"maybe\", and the low GPA subgroup a \"probably not\".\n",
    "\n",
    "The following is an example of how the decision tree looks for this problem.\n",
    "\n",
    "![](files/dtree1.jpg)\n",
    "\n",
    "1. What do you think would happen if we split on GPA first and then SAT scores---would we get the same groupings? (i.e. what is the best way to split?)\n",
    "2. What if we used more criteria such as essay evaluation scores, extra curriculars, awards and distinctions in sports etc? (i.e. how many attributes should we use to create splits, and what are the most significant attributes?)\n",
    "3. We were given averages, but what about the spread, what about outliers? (i.e. how does the distribution of attributes affect misclassification?)\n",
    "\n",
    "A <u>decision tree</u> uses the intrinsic structure of the data to make these splits. Decision trees are commonly used in operations research, specifically in decision analysis, to help identify a strategy most likely to reach a goal. In machine learning, decision trees are commonly used to help identify features, and specific values of those features, that are most likely to result in a target value. If the target value is categorical, the model is a classification tree; if the target value is continuous, the model is a regression tree.\n",
    "\n",
    "In this lesson, we're going to focus on classification trees."
   ]
  },
  {
   "cell_type": "markdown",
   "metadata": {
    "collapsed": true
   },
   "source": [
    "## Data Cleaning and Exploration"
   ]
  },
  {
   "cell_type": "markdown",
   "metadata": {},
   "source": [
    "Download and unzip UCI HAR Dataset.zip from: https://github.com/shubhabrataroy/Thinkful/tree/master/Data/Unit4.2.2"
   ]
  },
  {
   "cell_type": "markdown",
   "metadata": {},
   "source": [
    " * Read through features_info.txt (https://www.dropbox.com/s/mnj4x46z7jb3xw7/features_info.txt?dl=0). This file describes each feature, its physical significance, and also describes features that are derived from raw data by doing some averaging, or sampling, or some operation that gives a numerical result. What do you notice about the dataset? What kind of guidelines for approaching the dataset do you find?\n",
    " \n",
    " * In static activities (sit, stand, lie down) motion information will not be very useful.\n",
    " \n",
    " * In the dynamic activities (3 types of walking) motion will be significant.\n",
    " \n",
    " * Angle variables will be useful both in differentiating “lie vs stand” and “walk up vs walk down”.\n",
    " \n",
    " * Acceleration and Jerk variables are important in distinguishing various kinds of motion while filtering out random tremors while static.  \n",
    " \n",
    " * Mag and Angle variables contain the same info as (e.g., are strongly correlated with) XYZ variables. We choose to focus on the latter as they are simpler to reason about. This is a very important point to understand as it results in elimination of a few hundred variables.\n",
    " \n",
    " * We ignore the band variables as we have no simple way to interpret the meaning and relate them to physical activities.\n",
    " \n",
    " * mean and std are important, skewness and kurtosis may also so we include all of these."
   ]
  },
  {
   "cell_type": "markdown",
   "metadata": {},
   "source": [
    "<b>Clean-Up:</b> for each of the tasks below, think about how you will fix the data and what the implications/ramifications of your fixes will be. Also, can you think of a way to accomplish several of the cleaning tasks at once?\n",
    "\n",
    "* Identify and fix the inclusion of ( ) in column names. <b>Think I have this one</b>\n",
    "* Identify and remove duplicate column names. <b>Do I need a function that loops over the column names and appends duplicates to a list? Then I use drop function to drop that list of duplicates?</b>\n",
    "* Identify and fix the inclusion of ‘-’ in column names. <b>Think I have this one</b>\n",
    "* Identify and fix extra ) in some column names. <b>Think I have this one</b>\n",
    "* Identify and fix inclusion of multiple ‘,’ in column names. <b>Not Sure</b>\n",
    "* Identify and fix column names containing “BodyBody” <b>Think I have this one</b>\n",
    "* Drop 'Body' and 'Mag' from column names. <b>Think I have this one</b>\n",
    "* Map 'mean' and 'std' to 'Mean' and 'STD' <b>Think I have this one</b>\n",
    "* Make 'activity' a categorical variable.\n",
    "* Plot a histogram of Body Acceleration Magnitude (i.e. histogram of all 6 activities) to see how each variable does as a predictor of static versus dynamic activities."
   ]
  },
  {
   "cell_type": "markdown",
   "metadata": {},
   "source": [
    "<b>Open Data:</b>"
   ]
  },
  {
   "cell_type": "code",
   "execution_count": 3,
   "metadata": {
    "collapsed": false
   },
   "outputs": [
    {
     "data": {
      "text/html": [
       "<div>\n",
       "<table border=\"1\" class=\"dataframe\">\n",
       "  <thead>\n",
       "    <tr style=\"text-align: right;\">\n",
       "      <th></th>\n",
       "      <th>Unnamed: 0</th>\n",
       "      <th>tBodyAcc-mean()-X</th>\n",
       "      <th>tBodyAcc-mean()-Y</th>\n",
       "      <th>tBodyAcc-mean()-Z</th>\n",
       "      <th>tBodyAcc-std()-X</th>\n",
       "      <th>tBodyAcc-std()-Y</th>\n",
       "      <th>tBodyAcc-std()-Z</th>\n",
       "      <th>tBodyAcc-mad()-X</th>\n",
       "      <th>tBodyAcc-mad()-Y</th>\n",
       "      <th>tBodyAcc-mad()-Z</th>\n",
       "      <th>...</th>\n",
       "      <th>fBodyBodyGyroJerkMag-kurtosis()</th>\n",
       "      <th>angle(tBodyAccMean,gravity)</th>\n",
       "      <th>angle(tBodyAccJerkMean),gravityMean)</th>\n",
       "      <th>angle(tBodyGyroMean,gravityMean)</th>\n",
       "      <th>angle(tBodyGyroJerkMean,gravityMean)</th>\n",
       "      <th>angle(X,gravityMean)</th>\n",
       "      <th>angle(Y,gravityMean)</th>\n",
       "      <th>angle(Z,gravityMean)</th>\n",
       "      <th>subject</th>\n",
       "      <th>activity</th>\n",
       "    </tr>\n",
       "  </thead>\n",
       "  <tbody>\n",
       "    <tr>\n",
       "      <th>0</th>\n",
       "      <td>1</td>\n",
       "      <td>0.288585</td>\n",
       "      <td>-0.020294</td>\n",
       "      <td>-0.132905</td>\n",
       "      <td>-0.995279</td>\n",
       "      <td>-0.983111</td>\n",
       "      <td>-0.913526</td>\n",
       "      <td>-0.995112</td>\n",
       "      <td>-0.983185</td>\n",
       "      <td>-0.923527</td>\n",
       "      <td>...</td>\n",
       "      <td>-0.710304</td>\n",
       "      <td>-0.112754</td>\n",
       "      <td>0.0304</td>\n",
       "      <td>-0.464761</td>\n",
       "      <td>-0.018446</td>\n",
       "      <td>-0.841247</td>\n",
       "      <td>0.179941</td>\n",
       "      <td>-0.058627</td>\n",
       "      <td>1</td>\n",
       "      <td>standing</td>\n",
       "    </tr>\n",
       "  </tbody>\n",
       "</table>\n",
       "<p>1 rows × 564 columns</p>\n",
       "</div>"
      ],
      "text/plain": [
       "   Unnamed: 0  tBodyAcc-mean()-X  tBodyAcc-mean()-Y  tBodyAcc-mean()-Z  \\\n",
       "0           1           0.288585          -0.020294          -0.132905   \n",
       "\n",
       "   tBodyAcc-std()-X  tBodyAcc-std()-Y  tBodyAcc-std()-Z  tBodyAcc-mad()-X  \\\n",
       "0         -0.995279         -0.983111         -0.913526         -0.995112   \n",
       "\n",
       "   tBodyAcc-mad()-Y  tBodyAcc-mad()-Z    ...     \\\n",
       "0         -0.983185         -0.923527    ...      \n",
       "\n",
       "   fBodyBodyGyroJerkMag-kurtosis()  angle(tBodyAccMean,gravity)  \\\n",
       "0                        -0.710304                    -0.112754   \n",
       "\n",
       "   angle(tBodyAccJerkMean),gravityMean)  angle(tBodyGyroMean,gravityMean)  \\\n",
       "0                                0.0304                         -0.464761   \n",
       "\n",
       "   angle(tBodyGyroJerkMean,gravityMean)  angle(X,gravityMean)  \\\n",
       "0                             -0.018446             -0.841247   \n",
       "\n",
       "   angle(Y,gravityMean)  angle(Z,gravityMean)  subject  activity  \n",
       "0              0.179941             -0.058627        1  standing  \n",
       "\n",
       "[1 rows x 564 columns]"
      ]
     },
     "execution_count": 3,
     "metadata": {},
     "output_type": "execute_result"
    }
   ],
   "source": [
    "frame = pd.read_csv('samsungdata.csv')\n",
    "frame.head(1)"
   ]
  },
  {
   "cell_type": "markdown",
   "metadata": {},
   "source": [
    "<b>Clean Data Column Headers:</b>"
   ]
  },
  {
   "cell_type": "code",
   "execution_count": 4,
   "metadata": {
    "collapsed": true
   },
   "outputs": [],
   "source": [
    "def fix_column_headers(dataframe):\n",
    "    \n",
    "    dataframe.rename(columns=lambda x: x.replace('()', ''), inplace=True) #Identify and fix the inclusion of ( ) in column names.\n",
    "    dataframe.rename(columns=lambda x: x.replace('-', ''), inplace=True) #Identify and fix the inclusion of ‘-’ in column names.\n",
    "    dataframe.rename(columns=lambda x: x.replace('))', ')'), inplace=True) #Identify and fix extra ) in some column names.\n",
    "    dataframe.rename(columns=lambda x: x.replace('BodyBody', ''), inplace=True) #Identify and fix column names containing “BodyBody” names.\n",
    "    dataframe.rename(columns=lambda x: x.replace('Body', ''), inplace=True) #Drop 'Body' and 'Mag' from column names.\n",
    "    dataframe.rename(columns=lambda x: x.replace('Mag', ''), inplace=True) #Drop 'Body' and 'Mag' from column names.\n",
    "    dataframe.rename(columns=lambda x: x.replace('mean', 'Mean'), inplace=True) #Map 'mean' and 'std' to 'Mean' and 'STD'\n",
    "    dataframe.rename(columns=lambda x: x.replace('std', 'STD'), inplace=True) #Map 'mean' and 'std' to 'Mean' and 'STD'\n",
    "    \n",
    "    return dataframe\n",
    "    "
   ]
  },
  {
   "cell_type": "markdown",
   "metadata": {},
   "source": [
    "<b>Note:</b> Not necessary to clean column headers to perform a random forest classifier. "
   ]
  },
  {
   "cell_type": "markdown",
   "metadata": {},
   "source": [
    "## Random Forest Analysis"
   ]
  },
  {
   "cell_type": "markdown",
   "metadata": {},
   "source": [
    "Decision Trees present a simple and clean conceptual model to understand classification via an iterative procedure. However, in practice, a single decision tree is not very useful for real world problems involving a large number of variables and larger datasets. In the same way that large problems are rarely solved by just one expert, a lot of data with a lot of variables probably can't be either. We need several experts. So what do we mean by \"expert\" in the context of decision trees?\n",
    "\n",
    "Imagine that an expert has a decision tree model in their head. We assemble, say, 100 experts and find that each expert's model differs slightly. We can call this a decision forest. The idea behind the random forest method is to produce a model that is, in the aggregate, more accurate than the prediction of any individual decision tree. Essentially, a random forest works as follows:\n",
    "\n",
    "1. Grow a large number of decision trees on your training data.\n",
    "2. For each tree, use only a random subset of features and random subset of datapoints. This prevents overfitting by not letting all of the trees use the same features.\n",
    "3. Make predictions by aggregating over each decision trees' individual predctions.\n",
    "\n",
    "<b>Random forests provide an extremely useful measure known as feature importances.</b> This is basically calculated by measuring which features are the best at predicting what we want, across all of the trees in the random forest. Before completing the follow excercise, read the supplmental introduction to random forests here: http://blog.yhathq.com/posts/random-forests-in-python.html"
   ]
  },
  {
   "cell_type": "markdown",
   "metadata": {},
   "source": [
    "## Blog Example"
   ]
  },
  {
   "cell_type": "markdown",
   "metadata": {},
   "source": [
    "Random forest is a highly versatile machine learning method with numerous applications ranging from marketing to healthcare and insurance. It can be used to model the impact of marketing on customer acquisition, retention, and churn or to predict disease risk and susceptibility in patients.\n",
    "\n",
    "Random forest is a capable of regression and classification. It can handle a large number of features, and it's helpful for estimating which or your variables are important in the underlying data being modeled.\n",
    "\n",
    "<b>What is a Random Forest?</b>\n",
    "\n",
    "Random forest is solid choice for nearly any prediction problem (even non-linear ones). It's a relatively new machine learning strategy (it came out of Bell Labs in the 90s) and it can be used for just about anything. It belongs to a larger class of machine learning algorithms called ensemble methods.\n",
    "\n",
    "<u>Ensemble Learning</u>\n",
    "\n",
    "Ensemble learning involves the combination of several models to solve a single prediction problem. It works by generating multiple classifiers/models which learn and make predictions independently. Those predictions are then combined into a single (mega) prediction that should be as good or better than the prediction made by any one classifer.\n",
    "\n",
    "Random forest is a brand of ensemble learning, as it relies on an ensemble of decision trees. More on ensemble learning in Python here: (http://scikit-learn.org/dev/modules/ensemble.html)\n",
    "\n",
    "<u>Randomized Decision Trees</u>\n",
    "\n",
    "So we know that random forest is an aggregation of other models, but what types of models is it aggregating? As you might have guessed from its name, random forest aggregates Classification (or Regression) Trees. A decision tree is composed of a series of decisions that can be used to classify an observation in a dataset.\n",
    "\n",
    "<u>Random Forest</u>\n",
    "\n",
    "The algorithm to induce a random forest will create a bunch of random decision trees automatically. Since the trees are generated at random, most won't be all that meaningful to learning your classification/regression problem (maybe 99.9% of trees).\n",
    "\n",
    "![](files/dtree2.jpg)\n",
    "\n",
    "*If an observation has a length of 45, blue eyes, and 2 legs, it's going to be classified as red.\n",
    "\n",
    "<u>Arboreal Voting</u>\n",
    "\n",
    "So what good are 10000 (probably) bad models? Well it turns out that they really aren't that helpful. But what is helpful are the few really good decision trees that you also generated along with the bad ones.\n",
    "\n",
    "When you make a prediction, the new observation gets pushed down each decision tree and assigned a predicted value/label. Once each of the trees in the forest have reported its predicted value/label, the predictions are tallied up and the mode vote of all trees is returned as the final prediction.\n",
    "\n",
    "Simply, the 99.9% of trees that are irrelevant make predictions that are all over the map and cancel each another out. The predictions of the minority of trees that are good top that noise and yield a good prediction.\n",
    "\n",
    "<u>Why you should I use it?</u>\n",
    "\n",
    "It's Easy. Random forest is the Leatherman of learning methods. You can throw pretty much anything at it and it'll do a serviceable job. It does a particularly good job of estimating inferred transformations, and, as a result, doesn't require much tuning like SVM (i.e. it's good for folks with tight deadlines).\n",
    "\n",
    "<u>An Example Transformation</u>\n",
    "\n",
    "Random forest is capable of learning without carefully crafted data transformations. Take the the f(x) = log(x) function for example. Create some fake data and add a little noise:"
   ]
  },
  {
   "cell_type": "code",
   "execution_count": 4,
   "metadata": {
    "collapsed": true
   },
   "outputs": [],
   "source": [
    "blog_x = np.random.uniform(1, 100, 1000)\n",
    "blog_y = np.log(blog_x) + np.random.normal(0, .3, 1000)"
   ]
  },
  {
   "cell_type": "code",
   "execution_count": 5,
   "metadata": {
    "collapsed": false
   },
   "outputs": [
    {
     "data": {
      "text/plain": [
       "<matplotlib.text.Text at 0x119407f0>"
      ]
     },
     "execution_count": 5,
     "metadata": {},
     "output_type": "execute_result"
    },
    {
     "data": {
      "image/png": "[encoded data removed]",
      "text/plain": [
       "<matplotlib.figure.Figure at 0x8101278>"
      ]
     },
     "metadata": {},
     "output_type": "display_data"
    }
   ],
   "source": [
    "pl.scatter(blog_x, blog_y, s=1, label=\"log(x) with noise\")\n",
    "pl.plot(np.arange(1, 100), np.log(np.arange(1, 100)), c=\"b\", label=\"log(x) true function\")\n",
    "pl.xlabel(\"x\")\n",
    "pl.ylabel(\"f(x) = log(x)\")\n",
    "pl.legend(loc=\"best\")\n",
    "pl.title(\"A Basic Log Function\")"
   ]
  },
  {
   "cell_type": "markdown",
   "metadata": {},
   "source": [
    "If we try and build a basic linear model to predict y using x we wind up with a straight line that sort of bisects the log(x) function. Whereas if we use a random forest, it does a much better job of approximating the log(x) curve and we get something that looks much more like the true function:\n",
    "\n",
    "![](files/dtree3.jpg)\n",
    "\n",
    "You could argue that the random forest overfits the log(x) function a little bit. Either way, I think this does a nice job of illustrating how the random forest isn't bound by linear constraints.\n",
    "\n",
    "<u>Variable Selection</u>\n",
    "\n",
    "One of the best use cases for random forest is feature selection. One of the byproducts of trying lots of decision tree variations is that you can examine which variables are working best/worst in each tree.\n",
    "\n",
    "When a certain tree uses a one variable and another doesn't, you can compare the value lost or gained from the inclusion/exclusion of that variable. The good random forest implementations are going to do that for you, so all you need to do is know which method or variable to look at.\n",
    "\n",
    "In the following examples, we're trying to figure out which variables are most important for classifying a wine as being red or white.\n",
    "\n",
    "![](files/dtree4.jpg)\n",
    "\n",
    "<u>Classification</u>\n",
    "\n",
    "Random forest is also great for classification. It can be used to make predictions for categories with multiple possible values and it can be calibrated to output probabilities as well. One thing you do need to watch out for is overfitting. Random forest can be prone to overfitting, especially when working with relatively small datasets. You should be suspicious if your model is making \"too good\" of predictions on our test set.\n",
    "\n",
    "One way to overfitting is to only use really relevant features in your model. While this isn't always cut and dry, using a feature selection technique (like the one mentioned previously) can make it a lot easier.\n",
    "\n",
    "![](files/dtree5.jpg)\n",
    "\n",
    "<u>Regression</u>\n",
    "\n",
    "Yep. It does regression too. I've found that random forest--unlike other algorithms--does really well learning on categorical variables or a mixture of categorical and real variables. Categorical variables with high cardinality (# of possible values) can be tricky, so having something like this in your back pocket can come in quite useful."
   ]
  },
  {
   "cell_type": "markdown",
   "metadata": {},
   "source": [
    "## Python Example from Blog"
   ]
  },
  {
   "cell_type": "markdown",
   "metadata": {},
   "source": [
    "Scikit-Learn is a great way to get started with random forest. The scikit-learn API is extremely consistent across algorithms, so you horse race and switch between models very easily. A lot of times I start with something simple and then move to random forest.\n",
    "\n",
    "One of the best features of the random forest implementation in scikit-learn is the n_jobs parameter. This will automatically parallelize fitting your random forest based on the number of cores you want to use. Here's a great presentation by scikit-learn contributor Olivier Grisel where he talks about training a random forest on a 20 node EC2 cluster: https://vimeo.com/63269736"
   ]
  },
  {
   "cell_type": "code",
   "execution_count": 10,
   "metadata": {
    "collapsed": true
   },
   "outputs": [],
   "source": [
    "from sklearn.ensemble import RandomForestClassifier"
   ]
  },
  {
   "cell_type": "code",
   "execution_count": 53,
   "metadata": {
    "collapsed": false
   },
   "outputs": [
    {
     "data": {
      "text/html": [
       "<div>\n",
       "<table border=\"1\" class=\"dataframe\">\n",
       "  <thead>\n",
       "    <tr style=\"text-align: right;\">\n",
       "      <th></th>\n",
       "      <th>sepal_len</th>\n",
       "      <th>sepal_width</th>\n",
       "      <th>petal_len</th>\n",
       "      <th>petal_width</th>\n",
       "      <th>class</th>\n",
       "    </tr>\n",
       "  </thead>\n",
       "  <tbody>\n",
       "    <tr>\n",
       "      <th>0</th>\n",
       "      <td>5.1</td>\n",
       "      <td>3.5</td>\n",
       "      <td>1.4</td>\n",
       "      <td>0.2</td>\n",
       "      <td>Iris-setosa</td>\n",
       "    </tr>\n",
       "    <tr>\n",
       "      <th>1</th>\n",
       "      <td>4.9</td>\n",
       "      <td>3.0</td>\n",
       "      <td>1.4</td>\n",
       "      <td>0.2</td>\n",
       "      <td>Iris-setosa</td>\n",
       "    </tr>\n",
       "    <tr>\n",
       "      <th>2</th>\n",
       "      <td>4.7</td>\n",
       "      <td>3.2</td>\n",
       "      <td>1.3</td>\n",
       "      <td>0.2</td>\n",
       "      <td>Iris-setosa</td>\n",
       "    </tr>\n",
       "    <tr>\n",
       "      <th>3</th>\n",
       "      <td>4.6</td>\n",
       "      <td>3.1</td>\n",
       "      <td>1.5</td>\n",
       "      <td>0.2</td>\n",
       "      <td>Iris-setosa</td>\n",
       "    </tr>\n",
       "    <tr>\n",
       "      <th>4</th>\n",
       "      <td>5.0</td>\n",
       "      <td>3.6</td>\n",
       "      <td>1.4</td>\n",
       "      <td>0.2</td>\n",
       "      <td>Iris-setosa</td>\n",
       "    </tr>\n",
       "  </tbody>\n",
       "</table>\n",
       "</div>"
      ],
      "text/plain": [
       "   sepal_len  sepal_width  petal_len  petal_width        class\n",
       "0        5.1          3.5        1.4          0.2  Iris-setosa\n",
       "1        4.9          3.0        1.4          0.2  Iris-setosa\n",
       "2        4.7          3.2        1.3          0.2  Iris-setosa\n",
       "3        4.6          3.1        1.5          0.2  Iris-setosa\n",
       "4        5.0          3.6        1.4          0.2  Iris-setosa"
      ]
     },
     "execution_count": 53,
     "metadata": {},
     "output_type": "execute_result"
    }
   ],
   "source": [
    "iris = pd.read_csv('iris.data.txt', header=None, sep = ',')\n",
    "iris.columns = ['sepal_len', 'sepal_width', 'petal_len', 'petal_width', 'class']\n",
    "iris.head()"
   ]
  },
  {
   "cell_type": "code",
   "execution_count": 88,
   "metadata": {
    "collapsed": false
   },
   "outputs": [
    {
     "data": {
      "text/html": [
       "<div>\n",
       "<table border=\"1\" class=\"dataframe\">\n",
       "  <thead>\n",
       "    <tr style=\"text-align: right;\">\n",
       "      <th></th>\n",
       "      <th>sepal_len</th>\n",
       "      <th>sepal_width</th>\n",
       "      <th>petal_len</th>\n",
       "      <th>petal_width</th>\n",
       "      <th>class</th>\n",
       "      <th>is_train</th>\n",
       "    </tr>\n",
       "  </thead>\n",
       "  <tbody>\n",
       "    <tr>\n",
       "      <th>0</th>\n",
       "      <td>5.1</td>\n",
       "      <td>3.5</td>\n",
       "      <td>1.4</td>\n",
       "      <td>0.2</td>\n",
       "      <td>Iris-setosa</td>\n",
       "      <td>True</td>\n",
       "    </tr>\n",
       "    <tr>\n",
       "      <th>1</th>\n",
       "      <td>4.9</td>\n",
       "      <td>3.0</td>\n",
       "      <td>1.4</td>\n",
       "      <td>0.2</td>\n",
       "      <td>Iris-setosa</td>\n",
       "      <td>True</td>\n",
       "    </tr>\n",
       "    <tr>\n",
       "      <th>2</th>\n",
       "      <td>4.7</td>\n",
       "      <td>3.2</td>\n",
       "      <td>1.3</td>\n",
       "      <td>0.2</td>\n",
       "      <td>Iris-setosa</td>\n",
       "      <td>True</td>\n",
       "    </tr>\n",
       "    <tr>\n",
       "      <th>3</th>\n",
       "      <td>4.6</td>\n",
       "      <td>3.1</td>\n",
       "      <td>1.5</td>\n",
       "      <td>0.2</td>\n",
       "      <td>Iris-setosa</td>\n",
       "      <td>True</td>\n",
       "    </tr>\n",
       "    <tr>\n",
       "      <th>4</th>\n",
       "      <td>5.0</td>\n",
       "      <td>3.6</td>\n",
       "      <td>1.4</td>\n",
       "      <td>0.2</td>\n",
       "      <td>Iris-setosa</td>\n",
       "      <td>True</td>\n",
       "    </tr>\n",
       "  </tbody>\n",
       "</table>\n",
       "</div>"
      ],
      "text/plain": [
       "   sepal_len  sepal_width  petal_len  petal_width        class is_train\n",
       "0        5.1          3.5        1.4          0.2  Iris-setosa     True\n",
       "1        4.9          3.0        1.4          0.2  Iris-setosa     True\n",
       "2        4.7          3.2        1.3          0.2  Iris-setosa     True\n",
       "3        4.6          3.1        1.5          0.2  Iris-setosa     True\n",
       "4        5.0          3.6        1.4          0.2  Iris-setosa     True"
      ]
     },
     "execution_count": 88,
     "metadata": {},
     "output_type": "execute_result"
    }
   ],
   "source": [
    "iris['is_train'] = np.random.uniform(0,1, len(iris)) <= 0.8\n",
    "iris['class'] = iris['class'].astype('category')\n",
    "iris.head()"
   ]
  },
  {
   "cell_type": "code",
   "execution_count": 89,
   "metadata": {
    "collapsed": false
   },
   "outputs": [
    {
     "data": {
      "text/plain": [
       "sepal_len       float64\n",
       "sepal_width     float64\n",
       "petal_len       float64\n",
       "petal_width     float64\n",
       "class          category\n",
       "is_train           bool\n",
       "dtype: object"
      ]
     },
     "execution_count": 89,
     "metadata": {},
     "output_type": "execute_result"
    }
   ],
   "source": [
    "iris.dtypes"
   ]
  },
  {
   "cell_type": "code",
   "execution_count": 90,
   "metadata": {
    "collapsed": false
   },
   "outputs": [
    {
     "name": "stdout",
     "output_type": "stream",
     "text": [
      "   sepal_len  sepal_width  petal_len  petal_width        class is_train\n",
      "0        5.1          3.5        1.4          0.2  Iris-setosa     True\n",
      "1        4.9          3.0        1.4          0.2  Iris-setosa     True\n",
      "   sepal_len  sepal_width  petal_len  petal_width        class is_train\n",
      "5        5.4          3.9        1.7          0.4  Iris-setosa    False\n",
      "7        5.0          3.4        1.5          0.2  Iris-setosa    False\n"
     ]
    }
   ],
   "source": [
    "train, test = iris[iris['is_train']==True], iris[iris['is_train']==False]\n",
    "print train[:2]\n",
    "print test[:2]"
   ]
  },
  {
   "cell_type": "code",
   "execution_count": 91,
   "metadata": {
    "collapsed": false,
    "scrolled": true
   },
   "outputs": [
    {
     "data": {
      "text/plain": [
       "RandomForestClassifier(bootstrap=True, class_weight=None, criterion='gini',\n",
       "            max_depth=None, max_features='auto', max_leaf_nodes=None,\n",
       "            min_samples_leaf=1, min_samples_split=2,\n",
       "            min_weight_fraction_leaf=0.0, n_estimators=10, n_jobs=2,\n",
       "            oob_score=False, random_state=None, verbose=0,\n",
       "            warm_start=False)"
      ]
     },
     "execution_count": 91,
     "metadata": {},
     "output_type": "execute_result"
    }
   ],
   "source": [
    "features = iris.columns[:4]\n",
    "iris_rf_model = RandomForestClassifier(n_jobs=2)\n",
    "y, _ = pd.factorize(train['class'])\n",
    "iris_rf_model.fit(train[features], y)"
   ]
  },
  {
   "cell_type": "code",
   "execution_count": 92,
   "metadata": {
    "collapsed": false
   },
   "outputs": [
    {
     "data": {
      "text/plain": [
       "array(['Iris-setosa', 'Iris-versicolor', 'Iris-virginica'], dtype=object)"
      ]
     },
     "execution_count": 92,
     "metadata": {},
     "output_type": "execute_result"
    }
   ],
   "source": [
    "target_names = pd.Series.unique(iris['class'])\n",
    "target_names"
   ]
  },
  {
   "cell_type": "code",
   "execution_count": 93,
   "metadata": {
    "collapsed": false
   },
   "outputs": [
    {
     "data": {
      "text/plain": [
       "array(['Iris-setosa', 'Iris-setosa', 'Iris-setosa', 'Iris-setosa',\n",
       "       'Iris-setosa', 'Iris-setosa', 'Iris-setosa', 'Iris-setosa',\n",
       "       'Iris-setosa', 'Iris-setosa', 'Iris-versicolor', 'Iris-versicolor',\n",
       "       'Iris-versicolor', 'Iris-versicolor', 'Iris-versicolor',\n",
       "       'Iris-versicolor', 'Iris-versicolor', 'Iris-virginica',\n",
       "       'Iris-virginica', 'Iris-virginica', 'Iris-virginica',\n",
       "       'Iris-virginica', 'Iris-versicolor', 'Iris-virginica',\n",
       "       'Iris-virginica', 'Iris-virginica'], dtype=object)"
      ]
     },
     "execution_count": 93,
     "metadata": {},
     "output_type": "execute_result"
    }
   ],
   "source": [
    "preds = target_names[iris_rf_model.predict(test[features])]\n",
    "preds"
   ]
  },
  {
   "cell_type": "code",
   "execution_count": 94,
   "metadata": {
    "collapsed": false
   },
   "outputs": [
    {
     "data": {
      "text/html": [
       "<div>\n",
       "<table border=\"1\" class=\"dataframe\">\n",
       "  <thead>\n",
       "    <tr style=\"text-align: right;\">\n",
       "      <th>preds</th>\n",
       "      <th>Iris-setosa</th>\n",
       "      <th>Iris-versicolor</th>\n",
       "      <th>Iris-virginica</th>\n",
       "    </tr>\n",
       "    <tr>\n",
       "      <th>actual</th>\n",
       "      <th></th>\n",
       "      <th></th>\n",
       "      <th></th>\n",
       "    </tr>\n",
       "  </thead>\n",
       "  <tbody>\n",
       "    <tr>\n",
       "      <th>Iris-setosa</th>\n",
       "      <td>10</td>\n",
       "      <td>0</td>\n",
       "      <td>0</td>\n",
       "    </tr>\n",
       "    <tr>\n",
       "      <th>Iris-versicolor</th>\n",
       "      <td>0</td>\n",
       "      <td>7</td>\n",
       "      <td>0</td>\n",
       "    </tr>\n",
       "    <tr>\n",
       "      <th>Iris-virginica</th>\n",
       "      <td>0</td>\n",
       "      <td>1</td>\n",
       "      <td>8</td>\n",
       "    </tr>\n",
       "  </tbody>\n",
       "</table>\n",
       "</div>"
      ],
      "text/plain": [
       "preds            Iris-setosa  Iris-versicolor  Iris-virginica\n",
       "actual                                                       \n",
       "Iris-setosa               10                0               0\n",
       "Iris-versicolor            0                7               0\n",
       "Iris-virginica             0                1               8"
      ]
     },
     "execution_count": 94,
     "metadata": {},
     "output_type": "execute_result"
    }
   ],
   "source": [
    "pd.crosstab(test['class'], preds, rownames=['actual'], colnames=['preds'])"
   ]
  },
  {
   "cell_type": "code",
   "execution_count": 128,
   "metadata": {
    "collapsed": false
   },
   "outputs": [],
   "source": [
    "#Score training data:\n",
    "score_train = iris_rf_model.score(train.ix[:, :4], train.ix[:, 4])"
   ]
  },
  {
   "cell_type": "code",
   "execution_count": 129,
   "metadata": {
    "collapsed": false
   },
   "outputs": [
    {
     "data": {
      "text/plain": [
       "0.0"
      ]
     },
     "execution_count": 129,
     "metadata": {},
     "output_type": "execute_result"
    }
   ],
   "source": [
    "score_train"
   ]
  },
  {
   "cell_type": "code",
   "execution_count": 130,
   "metadata": {
    "collapsed": false
   },
   "outputs": [],
   "source": [
    "#Score testing data:\n",
    "score_testing = iris_rf_model.score(test.ix[:, :4], test.ix[:, 4])"
   ]
  },
  {
   "cell_type": "code",
   "execution_count": 131,
   "metadata": {
    "collapsed": false
   },
   "outputs": [
    {
     "data": {
      "text/plain": [
       "0.0"
      ]
     },
     "execution_count": 131,
     "metadata": {},
     "output_type": "execute_result"
    }
   ],
   "source": [
    "score_testing"
   ]
  },
  {
   "cell_type": "markdown",
   "metadata": {},
   "source": [
    "<b>Comment:</b> I'm not sure why my score functions aren't working? "
   ]
  },
  {
   "cell_type": "markdown",
   "metadata": {},
   "source": [
    "## Thinkful Random Forest Problem"
   ]
  },
  {
   "cell_type": "markdown",
   "metadata": {},
   "source": [
    "In Olympic gymnastic and diving competitions, a panel of judges scores a participant. The top and bottom scores are dropped and the rest are averaged. A random forest algorithm uses similar techniques to eliminate some of the trees' predictions. Each round, the algorithm will randomly drop some number of trees. It then averages the result after some number of iterations.\n",
    "\n",
    "We're going to train a random forest classifier on the subset of features we pulled out based on what we learned during data cleaning and exploration. Please use scikit-learn's implenetation, as it provides easy access to feature importances after fitting your model.\n",
    "\n",
    "* Split the data into training, test, and validation sets.\n",
    "* Fit a random forest classifier with 500 estimators to your training set.\n",
    "* Rank the features by their importance scores. What are the top 10 important features? What is the 10th feature's importance score?\n",
    "* What is your model's mean accuracy score on the validation and test sets?\n",
    "* What is your model's precision and recall score on the test set?"
   ]
  },
  {
   "cell_type": "code",
   "execution_count": 132,
   "metadata": {
    "collapsed": false
   },
   "outputs": [
    {
     "data": {
      "text/html": [
       "<div>\n",
       "<table border=\"1\" class=\"dataframe\">\n",
       "  <thead>\n",
       "    <tr style=\"text-align: right;\">\n",
       "      <th></th>\n",
       "      <th>Unnamed: 0</th>\n",
       "      <th>tBodyAcc-mean()-X</th>\n",
       "      <th>tBodyAcc-mean()-Y</th>\n",
       "      <th>tBodyAcc-mean()-Z</th>\n",
       "      <th>tBodyAcc-std()-X</th>\n",
       "      <th>tBodyAcc-std()-Y</th>\n",
       "      <th>tBodyAcc-std()-Z</th>\n",
       "      <th>tBodyAcc-mad()-X</th>\n",
       "      <th>tBodyAcc-mad()-Y</th>\n",
       "      <th>tBodyAcc-mad()-Z</th>\n",
       "      <th>...</th>\n",
       "      <th>fBodyBodyGyroJerkMag-kurtosis()</th>\n",
       "      <th>angle(tBodyAccMean,gravity)</th>\n",
       "      <th>angle(tBodyAccJerkMean),gravityMean)</th>\n",
       "      <th>angle(tBodyGyroMean,gravityMean)</th>\n",
       "      <th>angle(tBodyGyroJerkMean,gravityMean)</th>\n",
       "      <th>angle(X,gravityMean)</th>\n",
       "      <th>angle(Y,gravityMean)</th>\n",
       "      <th>angle(Z,gravityMean)</th>\n",
       "      <th>subject</th>\n",
       "      <th>activity</th>\n",
       "    </tr>\n",
       "  </thead>\n",
       "  <tbody>\n",
       "    <tr>\n",
       "      <th>0</th>\n",
       "      <td>1</td>\n",
       "      <td>0.288585</td>\n",
       "      <td>-0.020294</td>\n",
       "      <td>-0.132905</td>\n",
       "      <td>-0.995279</td>\n",
       "      <td>-0.983111</td>\n",
       "      <td>-0.913526</td>\n",
       "      <td>-0.995112</td>\n",
       "      <td>-0.983185</td>\n",
       "      <td>-0.923527</td>\n",
       "      <td>...</td>\n",
       "      <td>-0.710304</td>\n",
       "      <td>-0.112754</td>\n",
       "      <td>0.0304</td>\n",
       "      <td>-0.464761</td>\n",
       "      <td>-0.018446</td>\n",
       "      <td>-0.841247</td>\n",
       "      <td>0.179941</td>\n",
       "      <td>-0.058627</td>\n",
       "      <td>1</td>\n",
       "      <td>standing</td>\n",
       "    </tr>\n",
       "  </tbody>\n",
       "</table>\n",
       "<p>1 rows × 564 columns</p>\n",
       "</div>"
      ],
      "text/plain": [
       "   Unnamed: 0  tBodyAcc-mean()-X  tBodyAcc-mean()-Y  tBodyAcc-mean()-Z  \\\n",
       "0           1           0.288585          -0.020294          -0.132905   \n",
       "\n",
       "   tBodyAcc-std()-X  tBodyAcc-std()-Y  tBodyAcc-std()-Z  tBodyAcc-mad()-X  \\\n",
       "0         -0.995279         -0.983111         -0.913526         -0.995112   \n",
       "\n",
       "   tBodyAcc-mad()-Y  tBodyAcc-mad()-Z    ...     \\\n",
       "0         -0.983185         -0.923527    ...      \n",
       "\n",
       "   fBodyBodyGyroJerkMag-kurtosis()  angle(tBodyAccMean,gravity)  \\\n",
       "0                        -0.710304                    -0.112754   \n",
       "\n",
       "   angle(tBodyAccJerkMean),gravityMean)  angle(tBodyGyroMean,gravityMean)  \\\n",
       "0                                0.0304                         -0.464761   \n",
       "\n",
       "   angle(tBodyGyroJerkMean,gravityMean)  angle(X,gravityMean)  \\\n",
       "0                             -0.018446             -0.841247   \n",
       "\n",
       "   angle(Y,gravityMean)  angle(Z,gravityMean)  subject  activity  \n",
       "0              0.179941             -0.058627        1  standing  \n",
       "\n",
       "[1 rows x 564 columns]"
      ]
     },
     "execution_count": 132,
     "metadata": {},
     "output_type": "execute_result"
    }
   ],
   "source": [
    "#recall data:\n",
    "frame.head(1)"
   ]
  },
  {
   "cell_type": "code",
   "execution_count": 135,
   "metadata": {
    "collapsed": false
   },
   "outputs": [],
   "source": [
    "#split into training and testing and sets:\n",
    "frame['is_train'] = np.random.uniform(0,1, len(frame)) <= 0.7"
   ]
  },
  {
   "cell_type": "code",
   "execution_count": 136,
   "metadata": {
    "collapsed": false
   },
   "outputs": [],
   "source": [
    "train_samsung, test_samsung = frame[frame['is_train']==True], frame[frame['is_train']==False]"
   ]
  },
  {
   "cell_type": "code",
   "execution_count": 148,
   "metadata": {
    "collapsed": false
   },
   "outputs": [],
   "source": [
    "samsung_rf = RandomForestClassifier() #name the model\n",
    "sam_X_train = train_samsung[train_samsung.columns[1:-2]] #take all columns except the 'unnamed column' and activity\n",
    "sam_Y_train = train_samsung.activity #take just the activity column\n",
    "\n",
    "sam_X_test = test_samsung[test_samsung.columns[1:-2]] #take all columns except the 'unnamed column' and activity\n",
    "sam_Y_test = test_samsung.activity #take just the activity column"
   ]
  },
  {
   "cell_type": "code",
   "execution_count": 149,
   "metadata": {
    "collapsed": false
   },
   "outputs": [
    {
     "data": {
      "text/plain": [
       "RandomForestClassifier(bootstrap=True, class_weight=None, criterion='gini',\n",
       "            max_depth=None, max_features='auto', max_leaf_nodes=None,\n",
       "            min_samples_leaf=1, min_samples_split=2,\n",
       "            min_weight_fraction_leaf=0.0, n_estimators=10, n_jobs=1,\n",
       "            oob_score=False, random_state=None, verbose=0,\n",
       "            warm_start=False)"
      ]
     },
     "execution_count": 149,
     "metadata": {},
     "output_type": "execute_result"
    }
   ],
   "source": [
    "#train the model on the training data:\n",
    "samsung_rf.fit(sam_X_train, sam_Y_train)"
   ]
  },
  {
   "cell_type": "code",
   "execution_count": 150,
   "metadata": {
    "collapsed": false
   },
   "outputs": [
    {
     "data": {
      "text/plain": [
       "0.99922435524529762"
      ]
     },
     "execution_count": 150,
     "metadata": {},
     "output_type": "execute_result"
    }
   ],
   "source": [
    "#test the score on training data: (Should be very high)\n",
    "samsung_rf.score(sam_X_train, sam_Y_train)"
   ]
  },
  {
   "cell_type": "code",
   "execution_count": 166,
   "metadata": {
    "collapsed": false
   },
   "outputs": [
    {
     "data": {
      "text/plain": [
       "array([ 56, 348,  52,  49,  50, 350,  74, 559,  51, 234, 102, 344,  83,\n",
       "        99, 366, 257,  53,  57, 209,  58, 508, 503,  40, 201, 560,  71,\n",
       "       265, 215,  70,  42,  41, 302,  75, 203, 219, 214, 426, 512, 296,\n",
       "       281,  54, 210, 558, 460,  86, 163,  68,  76,  37, 445], dtype=int64)"
      ]
     },
     "execution_count": 166,
     "metadata": {},
     "output_type": "execute_result"
    }
   ],
   "source": [
    "#Which attributes are most important; Note: returns the index position of the attribute\n",
    "att_importance = np.argsort(samsung_rf.feature_importances_)[::-1] #Note: [::-1] reverses the order so the most important \n",
    "#feature index positions are at the top of the array instead of the bottom. \n",
    "att_importance[:50]"
   ]
  },
  {
   "cell_type": "code",
   "execution_count": 183,
   "metadata": {
    "collapsed": false
   },
   "outputs": [
    {
     "name": "stdout",
     "output_type": "stream",
     "text": [
      "Feature 1   tGravityAcc-energy()-X\n",
      "Feature 2   fBodyAccJerk-std()-Y\n",
      "Feature 3   tGravityAcc-min()-X\n",
      "Feature 4   tGravityAcc-max()-X\n",
      "Feature 5   tGravityAcc-max()-Y\n",
      "Feature 6   fBodyAccJerk-mad()-X\n",
      "Feature 7   tGravityAcc-arCoeff()-Z,2\n",
      "Feature 8   angle(Y,gravityMean)\n",
      "Feature 9   tGravityAcc-max()-Z\n",
      "Feature 10   tBodyAccJerkMag-entropy()\n",
      "Feature 11   tBodyAccJerk-entropy()-X\n",
      "Feature 12   fBodyAccJerk-mean()-X\n",
      "Feature 13   tBodyAccJerk-std()-X\n",
      "Feature 14   tBodyAccJerk-iqr()-X\n",
      "Feature 15   fBodyAccJerk-entropy()-X\n",
      "Feature 16   tBodyGyroJerkMag-sma()\n",
      "Feature 17   tGravityAcc-min()-Y\n",
      "Feature 18   tGravityAcc-energy()-Y\n",
      "Feature 19   tBodyAccMag-arCoeff()1\n",
      "Feature 20   tGravityAcc-energy()-Z\n"
     ]
    }
   ],
   "source": [
    "#Get names of the 20 most important features:\n",
    "cols = frame.columns[1:-2]\n",
    "for i in range(20):\n",
    "    feature = cols[att_importance][i]\n",
    "    print 'Feature',(i + 1),' ', feature"
   ]
  },
  {
   "cell_type": "code",
   "execution_count": 184,
   "metadata": {
    "collapsed": false
   },
   "outputs": [
    {
     "data": {
      "text/plain": [
       "[<matplotlib.lines.Line2D at 0x12f46278>]"
      ]
     },
     "execution_count": 184,
     "metadata": {},
     "output_type": "execute_result"
    },
    {
     "data": {
      "image/png": "[encoded data removed]",
      "text/plain": [
       "<matplotlib.figure.Figure at 0x12f41748>"
      ]
     },
     "metadata": {},
     "output_type": "display_data"
    }
   ],
   "source": [
    "#plot the importance of features:\n",
    "plt.plot(samsung_rf.feature_importances_[att_importance])"
   ]
  },
  {
   "cell_type": "code",
   "execution_count": 187,
   "metadata": {
    "collapsed": false
   },
   "outputs": [
    {
     "data": {
      "text/plain": [
       "[<matplotlib.lines.Line2D at 0x11ded898>]"
      ]
     },
     "execution_count": 187,
     "metadata": {},
     "output_type": "execute_result"
    },
    {
     "data": {
      "image/png": "[encoded data removed]",
      "text/plain": [
       "<matplotlib.figure.Figure at 0x11a0bcc0>"
      ]
     },
     "metadata": {},
     "output_type": "display_data"
    }
   ],
   "source": [
    "#plot top 50 features:\n",
    "plt.plot(samsung_rf.feature_importances_[att_importance][:50])"
   ]
  },
  {
   "cell_type": "code",
   "execution_count": 188,
   "metadata": {
    "collapsed": false
   },
   "outputs": [
    {
     "data": {
      "text/plain": [
       "0.96947608200455582"
      ]
     },
     "execution_count": 188,
     "metadata": {},
     "output_type": "execute_result"
    }
   ],
   "source": [
    "#Evaluate Model on Test Data:\n",
    "samsung_rf.score(sam_X_test, sam_Y_test)"
   ]
  },
  {
   "cell_type": "markdown",
   "metadata": {},
   "source": [
    "<b>Comment:</b> The score for the test data seems to high, I have a feeling I've made a mistake somewhere. "
   ]
  },
  {
   "cell_type": "markdown",
   "metadata": {},
   "source": [
    "<b>Further Comment:</b> I did not complete the 'black box' example. I will complete several more examples of this algorithm from examples with full instructions online until I feel comfortable implementing in real life. This lesson has given me a feel for it; something I didn't have before!"
   ]
  },
  {
   "cell_type": "code",
   "execution_count": null,
   "metadata": {
    "collapsed": true
   },
   "outputs": [],
   "source": []
  }
 ],
 "metadata": {
  "kernelspec": {
   "display_name": "Python 2",
   "language": "python",
   "name": "python2"
  },
  "language_info": {
   "codemirror_mode": {
    "name": "ipython",
    "version": 2
   },
   "file_extension": ".py",
   "mimetype": "text/x-python",
   "name": "python",
   "nbconvert_exporter": "python",
   "pygments_lexer": "ipython2",
   "version": "2.7.6"
  }
 },
 "nbformat": 4,
 "nbformat_minor": 0
}
