{
 "cells": [
  {
   "cell_type": "code",
   "execution_count": 1,
   "metadata": {
    "collapsed": true
   },
   "outputs": [],
   "source": [
    "import pandas as pd\n",
    "import statsmodels.api as sm\n",
    "import statsmodels.formula.api as smf #needed for models in this script\n",
    "import pylab as pl\n",
    "import matplotlib.pyplot as plt\n",
    "import numpy as np\n",
    "from scipy import stats"
   ]
  },
  {
   "cell_type": "code",
   "execution_count": 2,
   "metadata": {
    "collapsed": true
   },
   "outputs": [],
   "source": [
    "pd.set_option('html', True) #see the dataframe in a more user friendly manner\n",
    "%matplotlib inline"
   ]
  },
  {
   "cell_type": "markdown",
   "metadata": {},
   "source": [
    "## Profiling Data"
   ]
  },
  {
   "cell_type": "markdown",
   "metadata": {},
   "source": [
    "As you saw in the last unit, we can profile data both by computing important statistics and by visually inspecting the data. Visual inspection is important in order to understand the overall structure and composition of the data. Sometimes outliers are noise and sometimes they are vital points to be analyzed and understood. Whatever the case, visual inspection is also important for understanding the limitations of our analytical tools.\n",
    "\n",
    "For example, there is the famous case of Anscombe's Quartet. This was an exercise whereby four very different datasets were composed with the same statistical measures (mean, variance, correlation, and linear regression line):\n",
    "\n",
    "![](files/nycbike1.jpg)\n",
    "\n",
    "The descriptive statistics you learned before are important, but they're not the end of the story. Be sure to visualize your data and understand the limits of your analysis. For example, if you have a long-tail distribution, like the credit distribution from previous lessons:\n",
    "\n",
    "![](files/nycbike2.jpg)\n",
    "\n",
    "The mean becomes much less helpful for understanding the data distribution, and you'll want to use the median. Household income and age are both good examples of attributes that usually have a long tail and are best described by the median rather than the mean."
   ]
  },
  {
   "cell_type": "markdown",
   "metadata": {},
   "source": [
    "## Download Citi Bike Station Data"
   ]
  },
  {
   "cell_type": "markdown",
   "metadata": {},
   "source": [
    "One of the important things data scientists bring to their work is not only advanced tools, but a curiosity about the context for their data. We call this \"domain knowledge\". In this case, the domain would be bike share programs, specificaly the bike share program in New York City. Domain knowledge is essential to producing accurate and useful analysis. Without such knowledge, it's easy to produce models that describe something that is neither useful or important. In some cases, you may already be familiar with the domain, but often we're asked to work in a domain in which we have no expertise. In those cases, it's important that you be able to quickly acquire the necessary domain expertise to properly apply the skills you've gained in order to both ask the right questions and produce meaningful and accurate results. For a discussion of this from some of the leaders in the field of data science, see this recent debate on the topic (http://medriscoll.com/post/18784448854/the-data-science-debate-domain-expertise-or)."
   ]
  },
  {
   "cell_type": "markdown",
   "metadata": {},
   "source": [
    "<b>Goal:</b> Record the number of bikes available every minute for an hour across all of New York City in order to see which station or set of stations is the most active in New York City for that hour. Activity is defined as the total number of bicycles taken out or returned in an hour. So if 2 bikes are brought in and 4 bikes are taken out, that station has an activity level of 6.   \n",
    "<b>Note:</b> It's important to define the terms of analysis. In this case, activity has a particular definition. In many cases, the measurement of interest could be defined in many ways and it's important to be as specific as possible. For example, in studying outcomes from an experimental drug treatment, \"success\" may be defined as prolonging life for a certain amount of time, 6 months, over some estimated baseline. Ideas like \"better\", \"best\", \"successful\", and \"enjoyable\" need to be defined such that they can be measured and compared, even if in doing so much of the common meaning for the terms is lost."
   ]
  },
  {
   "cell_type": "markdown",
   "metadata": {},
   "source": [
    "### Import package to access URL"
   ]
  },
  {
   "cell_type": "markdown",
   "metadata": {},
   "source": [
    "To download from a URL, we need to use a special package that handles going to the Internet and downloading the resulting page. In this case, we'll be using a package called requests (package that allows us to download data from any online resource). Documentation for this package: http://docs.python-requests.org/en/latest/"
   ]
  },
  {
   "cell_type": "code",
   "execution_count": 3,
   "metadata": {
    "collapsed": true
   },
   "outputs": [],
   "source": [
    "import requests"
   ]
  },
  {
   "cell_type": "markdown",
   "metadata": {},
   "source": [
    "### Access the URL"
   ]
  },
  {
   "cell_type": "code",
   "execution_count": 4,
   "metadata": {
    "collapsed": true
   },
   "outputs": [],
   "source": [
    "nyc_bike = requests.get('http://www.citibikenyc.com/stations/json')"
   ]
  },
  {
   "cell_type": "markdown",
   "metadata": {},
   "source": [
    "<b>Note:</b> Usually (and the supporting documents) use 'r.' for requests (Ex. r = requests.get('http://www.citibikenyc.com/stations/json'). However, as above, you can call the file you are requesting anything you wish (nyc_bike above) and then you access the commands associated with requests by typing the name of the file you created followed by a period and then tab; for nyc_bike it would look like: nyc_bike. [tab]\n",
    "\n",
    "Although not in iPython, the commands available are the same as:\n",
    "\n",
    "![](files/nycbike3.jpg)"
   ]
  },
  {
   "cell_type": "markdown",
   "metadata": {},
   "source": [
    "You can see there are a number of available methods. The ones you want right now are the ones that allow us to view the actual content of the request. You can see the webpage you downloaded for yourself (http://www.citibikenyc.com/stations/json)."
   ]
  },
  {
   "cell_type": "markdown",
   "metadata": {},
   "source": [
    "<b>Note:</b> In Chrome, you can install the JSONView extension that will automatically format JSON files to be more readible in the browser. Download it here: https://chrome.google.com/webstore/detail/jsonview/chklaanhfefbnpoihckbnefhakgolnmc?utm_source=chrome-ntp-icon"
   ]
  },
  {
   "cell_type": "markdown",
   "metadata": {},
   "source": [
    "To get a basic view of the text type:"
   ]
  },
  {
   "cell_type": "code",
   "execution_count": 10,
   "metadata": {
    "collapsed": false
   },
   "outputs": [
    {
     "data": {
      "text/plain": [
       "u'{\"executionTime\":\"2015-11-04 04:19:15 PM\",\"stationBeanList\":[{\"id\":72,\"stationName\":\"W 52 St & 11 Ave\",\"availableDocks\":38,\"totalDocks\":39,\"latitude\":40.76727216,\"longitude\":-73.99392888,\"statusValue\":\"In Service\",\"statusKey\":1,\"availableBikes\":0,\"stAddress1\":\"W 52 St & 11 Ave\",\"stAddress2\":\"\",\"city\":\"\",\"postalCode\":\"\",\"location\":\"\",\"altitude\":\"\",\"testStation\":false,\"lastCommunicationTime\":\"2015-11-04 04:15:36 PM\",\"landMark\":\"\"},{\"id\":79,\"stationName\":\"Franklin St & W Broadway\",\"availableDocks\":9,\"totalDocks\":33,\"latitude\":40.71911552,\"longitude\":-74.00666661,\"statusValue\":\"In Service\",\"statusKey\":1,\"availableBikes\":24,\"stAddress1\":\"Franklin St & W Broadway\",\"stAddress2\":\"\",\"city\":\"\",\"postalCode\":\"\",\"location\":\"\",\"altitude\":\"\",\"testStation\":false,\"lastCommunicationTime\":\"2015-11-04 04:19:08 PM\",\"landMark\":\"\"},{\"id\":82,\"stationName\":\"St James Pl & Pearl St\",\"availableDocks\":17,\"totalDocks\":27,\"latitude\":40.71117416,\"longitude\":-74.00016545,\"statusValue\":\"In Service\",\"statusKey\":1,\"avail'"
      ]
     },
     "execution_count": 10,
     "metadata": {},
     "output_type": "execute_result"
    }
   ],
   "source": [
    "nyc_bike.text[0:1000]"
   ]
  },
  {
   "cell_type": "markdown",
   "metadata": {},
   "source": [
    "You can see this all comes out as a blob of text. Technically speaking, it's all one long string of text, which would be difficult to parse if you didn't have another function that will make the text easier to read, json().\n",
    "\n",
    "Type this and see what you get:"
   ]
  },
  {
   "cell_type": "code",
   "execution_count": 20,
   "metadata": {
    "collapsed": false
   },
   "outputs": [],
   "source": [
    "nyc_bike.json();"
   ]
  },
  {
   "cell_type": "markdown",
   "metadata": {},
   "source": [
    "<b>NOTE:</b> Used ';' at the end of the above command for .json() to suppress the output. Remove the ';' if you want to see the output."
   ]
  },
  {
   "cell_type": "markdown",
   "metadata": {},
   "source": [
    "You can see the data is formatted into what's called JavaScript Object Notation (JSON). This is a standardized way of formatting data that helps display not only the values but the structure of the data, something that gets lost when data is displayed in a CSV. You access elements in a JSON in the same way you access items in a dictionary, which means you reference values by their key.   \n",
    "To get a list of keys, you can use the keys() function, which will return a list of the keys available at that level of the JSON. You can then begin navigating down the structure of the JSON:"
   ]
  },
  {
   "cell_type": "code",
   "execution_count": 7,
   "metadata": {
    "collapsed": false
   },
   "outputs": [
    {
     "data": {
      "text/plain": [
       "[u'executionTime', u'stationBeanList']"
      ]
     },
     "execution_count": 7,
     "metadata": {},
     "output_type": "execute_result"
    }
   ],
   "source": [
    "nyc_bike.json().keys()"
   ]
  },
  {
   "cell_type": "code",
   "execution_count": 8,
   "metadata": {
    "collapsed": false
   },
   "outputs": [
    {
     "name": "stdout",
     "output_type": "stream",
     "text": [
      "2015-11-03 10:36:09 AM\n"
     ]
    }
   ],
   "source": [
    "# If you look at the \"executionTime\" r.json()['executionTime'], you'll see a string with the time the file was created.\n",
    "print nyc_bike.json()['executionTime']"
   ]
  },
  {
   "cell_type": "code",
   "execution_count": 15,
   "metadata": {
    "collapsed": false
   },
   "outputs": [
    {
     "name": "stdout",
     "output_type": "stream",
     "text": [
      "{u'availableDocks': 38, u'totalDocks': 39, u'city': u'', u'altitude': u'', u'stAddress2': u'', u'longitude': -73.99392888, u'lastCommunicationTime': u'2015-11-04 04:15:36 PM', u'postalCode': u'', u'statusValue': u'In Service', u'testStation': False, u'stAddress1': u'W 52 St & 11 Ave', u'stationName': u'W 52 St & 11 Ave', u'landMark': u'', u'latitude': 40.76727216, u'statusKey': 1, u'availableBikes': 0, u'id': 72, u'location': u''}\n"
     ]
    }
   ],
   "source": [
    "# If you look at the \"stationBeanList\" (r.json()['stationBeanList']), you'll see the list of stations. \n",
    "print nyc_bike.json()['stationBeanList'][0]"
   ]
  },
  {
   "cell_type": "markdown",
   "metadata": {},
   "source": [
    "<b>Question:</b> This returns everything - not just the station names; it looks like this is a result of 'stationBeanList' being a key with the corresponding values being all of the fields except 'executionTime'. Thus, when you pull that key, it returns everything. Please confirm if this is a mistake by Thinkful or if I'm making a mistake.   \n",
    "<b>Update:</b> “This returns everything - not just the station names…“: This is the lesson not being clear enough. stationBeanList is a key, and its associated value is a list, of which each element is a dictionary with one station’s information. Printing it will print each of the elements it contains, not just a particular field from each element. If you want to extract just one particular field, you could try using:   \n",
    "<i>[x['stationName'] for x in nyc_bikes.json()[stationBeanList]</i>"
   ]
  },
  {
   "cell_type": "code",
   "execution_count": 10,
   "metadata": {
    "collapsed": false
   },
   "outputs": [
    {
     "name": "stdout",
     "output_type": "stream",
     "text": [
      "512\n"
     ]
    }
   ],
   "source": [
    "# To get the number of docks, use the len() function (len(r.json()['stationBeanList'])).\n",
    "print len(nyc_bike.json()['stationBeanList'])"
   ]
  },
  {
   "cell_type": "markdown",
   "metadata": {},
   "source": [
    "You can test that you have all the fields (important for setting up a database) by running the data through a loop and gathering all the fields together:"
   ]
  },
  {
   "cell_type": "code",
   "execution_count": 11,
   "metadata": {
    "collapsed": false
   },
   "outputs": [
    {
     "data": {
      "text/plain": [
       "[u'availableDocks',\n",
       " u'totalDocks',\n",
       " u'city',\n",
       " u'altitude',\n",
       " u'stAddress2',\n",
       " u'longitude',\n",
       " u'lastCommunicationTime',\n",
       " u'postalCode',\n",
       " u'statusValue',\n",
       " u'testStation',\n",
       " u'stAddress1',\n",
       " u'stationName',\n",
       " u'landMark',\n",
       " u'latitude',\n",
       " u'statusKey',\n",
       " u'availableBikes',\n",
       " u'id',\n",
       " u'location']"
      ]
     },
     "execution_count": 11,
     "metadata": {},
     "output_type": "execute_result"
    }
   ],
   "source": [
    "key_list = [] #unique list of keys for each station listing\n",
    "for station in nyc_bike.json()['stationBeanList']:\n",
    "    for k in station.keys():\n",
    "        if k not in key_list:\n",
    "            key_list.append(k)\n",
    "            \n",
    "key_list"
   ]
  },
  {
   "cell_type": "markdown",
   "metadata": {},
   "source": [
    "Remember values in r.json()['stationBeanList'] are a list and you can reference the elements like any other list by using the index. To get the first element, you type:"
   ]
  },
  {
   "cell_type": "code",
   "execution_count": 12,
   "metadata": {
    "collapsed": false
   },
   "outputs": [
    {
     "data": {
      "text/plain": [
       "{u'altitude': u'',\n",
       " u'availableBikes': 1,\n",
       " u'availableDocks': 37,\n",
       " u'city': u'',\n",
       " u'id': 72,\n",
       " u'landMark': u'',\n",
       " u'lastCommunicationTime': u'2015-11-03 10:35:45 AM',\n",
       " u'latitude': 40.76727216,\n",
       " u'location': u'',\n",
       " u'longitude': -73.99392888,\n",
       " u'postalCode': u'',\n",
       " u'stAddress1': u'W 52 St & 11 Ave',\n",
       " u'stAddress2': u'',\n",
       " u'stationName': u'W 52 St & 11 Ave',\n",
       " u'statusKey': 1,\n",
       " u'statusValue': u'In Service',\n",
       " u'testStation': False,\n",
       " u'totalDocks': 39}"
      ]
     },
     "execution_count": 12,
     "metadata": {},
     "output_type": "execute_result"
    }
   ],
   "source": [
    "nyc_bike.json()['stationBeanList'][0]"
   ]
  },
  {
   "cell_type": "markdown",
   "metadata": {},
   "source": [
    "### Getting Data into a DataFrame"
   ]
  },
  {
   "cell_type": "markdown",
   "metadata": {},
   "source": [
    "Now that you've explored the data a bit and understand its structure, you can convert the data into a pandas DataFrame. Because it's in JSON format, you have to do something a little different to import it:"
   ]
  },
  {
   "cell_type": "code",
   "execution_count": 13,
   "metadata": {
    "collapsed": false
   },
   "outputs": [
    {
     "data": {
      "text/html": [
       "<div>\n",
       "<table border=\"1\" class=\"dataframe\">\n",
       "  <thead>\n",
       "    <tr style=\"text-align: right;\">\n",
       "      <th></th>\n",
       "      <th>altitude</th>\n",
       "      <th>availableBikes</th>\n",
       "      <th>availableDocks</th>\n",
       "      <th>city</th>\n",
       "      <th>id</th>\n",
       "      <th>landMark</th>\n",
       "      <th>lastCommunicationTime</th>\n",
       "      <th>latitude</th>\n",
       "      <th>location</th>\n",
       "      <th>longitude</th>\n",
       "      <th>postalCode</th>\n",
       "      <th>stAddress1</th>\n",
       "      <th>stAddress2</th>\n",
       "      <th>stationName</th>\n",
       "      <th>statusKey</th>\n",
       "      <th>statusValue</th>\n",
       "      <th>testStation</th>\n",
       "      <th>totalDocks</th>\n",
       "    </tr>\n",
       "  </thead>\n",
       "  <tbody>\n",
       "    <tr>\n",
       "      <th>0</th>\n",
       "      <td></td>\n",
       "      <td>1</td>\n",
       "      <td>37</td>\n",
       "      <td></td>\n",
       "      <td>72</td>\n",
       "      <td></td>\n",
       "      <td>2015-11-03 10:35:45 AM</td>\n",
       "      <td>40.767272</td>\n",
       "      <td></td>\n",
       "      <td>-73.993929</td>\n",
       "      <td></td>\n",
       "      <td>W 52 St &amp; 11 Ave</td>\n",
       "      <td></td>\n",
       "      <td>W 52 St &amp; 11 Ave</td>\n",
       "      <td>1</td>\n",
       "      <td>In Service</td>\n",
       "      <td>False</td>\n",
       "      <td>39</td>\n",
       "    </tr>\n",
       "    <tr>\n",
       "      <th>1</th>\n",
       "      <td></td>\n",
       "      <td>22</td>\n",
       "      <td>11</td>\n",
       "      <td></td>\n",
       "      <td>79</td>\n",
       "      <td></td>\n",
       "      <td>2015-11-03 10:35:39 AM</td>\n",
       "      <td>40.719116</td>\n",
       "      <td></td>\n",
       "      <td>-74.006667</td>\n",
       "      <td></td>\n",
       "      <td>Franklin St &amp; W Broadway</td>\n",
       "      <td></td>\n",
       "      <td>Franklin St &amp; W Broadway</td>\n",
       "      <td>1</td>\n",
       "      <td>In Service</td>\n",
       "      <td>False</td>\n",
       "      <td>33</td>\n",
       "    </tr>\n",
       "    <tr>\n",
       "      <th>2</th>\n",
       "      <td></td>\n",
       "      <td>17</td>\n",
       "      <td>10</td>\n",
       "      <td></td>\n",
       "      <td>82</td>\n",
       "      <td></td>\n",
       "      <td>2015-11-03 10:33:17 AM</td>\n",
       "      <td>40.711174</td>\n",
       "      <td></td>\n",
       "      <td>-74.000165</td>\n",
       "      <td></td>\n",
       "      <td>St James Pl &amp; Pearl St</td>\n",
       "      <td></td>\n",
       "      <td>St James Pl &amp; Pearl St</td>\n",
       "      <td>1</td>\n",
       "      <td>In Service</td>\n",
       "      <td>False</td>\n",
       "      <td>27</td>\n",
       "    </tr>\n",
       "    <tr>\n",
       "      <th>3</th>\n",
       "      <td></td>\n",
       "      <td>15</td>\n",
       "      <td>47</td>\n",
       "      <td></td>\n",
       "      <td>83</td>\n",
       "      <td></td>\n",
       "      <td>2015-11-03 10:33:16 AM</td>\n",
       "      <td>40.683826</td>\n",
       "      <td></td>\n",
       "      <td>-73.976323</td>\n",
       "      <td></td>\n",
       "      <td>Atlantic Ave &amp; Fort Greene Pl</td>\n",
       "      <td></td>\n",
       "      <td>Atlantic Ave &amp; Fort Greene Pl</td>\n",
       "      <td>1</td>\n",
       "      <td>In Service</td>\n",
       "      <td>False</td>\n",
       "      <td>62</td>\n",
       "    </tr>\n",
       "    <tr>\n",
       "      <th>4</th>\n",
       "      <td></td>\n",
       "      <td>8</td>\n",
       "      <td>31</td>\n",
       "      <td></td>\n",
       "      <td>116</td>\n",
       "      <td></td>\n",
       "      <td>2015-11-03 10:32:21 AM</td>\n",
       "      <td>40.741776</td>\n",
       "      <td></td>\n",
       "      <td>-74.001497</td>\n",
       "      <td></td>\n",
       "      <td>W 17 St &amp; 8 Ave</td>\n",
       "      <td></td>\n",
       "      <td>W 17 St &amp; 8 Ave</td>\n",
       "      <td>1</td>\n",
       "      <td>In Service</td>\n",
       "      <td>False</td>\n",
       "      <td>39</td>\n",
       "    </tr>\n",
       "  </tbody>\n",
       "</table>\n",
       "</div>"
      ],
      "text/plain": [
       "  altitude  availableBikes  availableDocks city   id landMark  \\\n",
       "0                        1              37        72            \n",
       "1                       22              11        79            \n",
       "2                       17              10        82            \n",
       "3                       15              47        83            \n",
       "4                        8              31       116            \n",
       "\n",
       "    lastCommunicationTime   latitude location  longitude postalCode  \\\n",
       "0  2015-11-03 10:35:45 AM  40.767272          -73.993929              \n",
       "1  2015-11-03 10:35:39 AM  40.719116          -74.006667              \n",
       "2  2015-11-03 10:33:17 AM  40.711174          -74.000165              \n",
       "3  2015-11-03 10:33:16 AM  40.683826          -73.976323              \n",
       "4  2015-11-03 10:32:21 AM  40.741776          -74.001497              \n",
       "\n",
       "                      stAddress1 stAddress2                    stationName  \\\n",
       "0               W 52 St & 11 Ave                          W 52 St & 11 Ave   \n",
       "1       Franklin St & W Broadway                  Franklin St & W Broadway   \n",
       "2         St James Pl & Pearl St                    St James Pl & Pearl St   \n",
       "3  Atlantic Ave & Fort Greene Pl             Atlantic Ave & Fort Greene Pl   \n",
       "4                W 17 St & 8 Ave                           W 17 St & 8 Ave   \n",
       "\n",
       "   statusKey statusValue testStation  totalDocks  \n",
       "0          1  In Service       False          39  \n",
       "1          1  In Service       False          33  \n",
       "2          1  In Service       False          27  \n",
       "3          1  In Service       False          62  \n",
       "4          1  In Service       False          39  "
      ]
     },
     "execution_count": 13,
     "metadata": {},
     "output_type": "execute_result"
    }
   ],
   "source": [
    "from pandas.io.json import json_normalize\n",
    "\n",
    "nyc_bike_frame = json_normalize(nyc_bike.json()['stationBeanList'])\n",
    "nyc_bike_frame.head()"
   ]
  },
  {
   "cell_type": "markdown",
   "metadata": {},
   "source": [
    "Notice we're taking the <u>stationBeanList and passing values associated with it to pandas to create a DataFrame out of the data instead of the whole JSON.</u> We end up with a standard DataFrame like we've used in the past lessons."
   ]
  },
  {
   "cell_type": "markdown",
   "metadata": {},
   "source": [
    "### Checking the Range of Values"
   ]
  },
  {
   "cell_type": "markdown",
   "metadata": {},
   "source": [
    "Let's look at the range of values for each attribute, starting with the available bikes:"
   ]
  },
  {
   "cell_type": "code",
   "execution_count": 14,
   "metadata": {
    "collapsed": false
   },
   "outputs": [
    {
     "data": {
      "image/png": "[encoded data removed]",
      "text/plain": [
       "<matplotlib.figure.Figure at 0xc55eb00>"
      ]
     },
     "metadata": {},
     "output_type": "display_data"
    }
   ],
   "source": [
    "nyc_bike_frame['availableBikes'].hist()\n",
    "plt.show()"
   ]
  },
  {
   "cell_type": "markdown",
   "metadata": {},
   "source": [
    "Look at the range of total docks:"
   ]
  },
  {
   "cell_type": "code",
   "execution_count": 15,
   "metadata": {
    "collapsed": false
   },
   "outputs": [
    {
     "data": {
      "image/png": "[encoded data removed]",
      "text/plain": [
       "<matplotlib.figure.Figure at 0xe15a668>"
      ]
     },
     "metadata": {},
     "output_type": "display_data"
    }
   ],
   "source": [
    "nyc_bike_frame['totalDocks'].hist()\n",
    "plt.show()"
   ]
  },
  {
   "cell_type": "markdown",
   "metadata": {},
   "source": [
    "These distributions differ because available bikes is a real time changing data point where as total docks is a fixed variable (at least in the short term). Total docks will not change unless more docks are added at the station."
   ]
  },
  {
   "cell_type": "markdown",
   "metadata": {},
   "source": [
    "### Summing up"
   ]
  },
  {
   "cell_type": "markdown",
   "metadata": {},
   "source": [
    "We have a simple JSON structure:\n",
    "\n",
    "![](files/nycbike4.jpg)\n",
    "\n",
    "That we navigated with using the keys() function to explore the various levels (in this case 2 levels below the root level) and we have a good idea of the value ranges. We have a sense of the values we're dealing with."
   ]
  },
  {
   "cell_type": "markdown",
   "metadata": {},
   "source": [
    "## Challenge"
   ]
  },
  {
   "cell_type": "markdown",
   "metadata": {},
   "source": [
    "<b>1. Explore the other data variables. Are there any test stations? How many stations are \"In Service\"? How many are \"Not In Service\"? Any other interesting variables values that need to be accounted for?</b>"
   ]
  },
  {
   "cell_type": "code",
   "execution_count": 16,
   "metadata": {
    "collapsed": false
   },
   "outputs": [
    {
     "name": "stdout",
     "output_type": "stream",
     "text": [
      "False    512\n",
      "dtype: int64\n"
     ]
    }
   ],
   "source": [
    "# Test Stations:\n",
    "print nyc_bike_frame.testStation.value_counts()"
   ]
  },
  {
   "cell_type": "markdown",
   "metadata": {},
   "source": [
    "No - there aren't any test stations in this dataset."
   ]
  },
  {
   "cell_type": "code",
   "execution_count": 17,
   "metadata": {
    "collapsed": false
   },
   "outputs": [
    {
     "name": "stdout",
     "output_type": "stream",
     "text": [
      "In Service        493\n",
      "Not In Service     19\n",
      "dtype: int64\n"
     ]
    }
   ],
   "source": [
    "# Stations in-service vs. out of service:\n",
    "print nyc_bike_frame.statusValue.value_counts()"
   ]
  },
  {
   "cell_type": "markdown",
   "metadata": {},
   "source": [
    "<b>Note:</b> We want to ensure there are no duplicate stations in here that could skew this result. Check for duplicates:"
   ]
  },
  {
   "cell_type": "code",
   "execution_count": 18,
   "metadata": {
    "collapsed": false
   },
   "outputs": [
    {
     "data": {
      "text/plain": [
       "stationName\n",
       "1 Ave & E 15 St    1\n",
       "1 Ave & E 18 St    1\n",
       "1 Ave & E 30 St    1\n",
       "1 Ave & E 44 St    1\n",
       "1 Ave & E 62 St    1\n",
       "Name: stationName, dtype: int64"
      ]
     },
     "execution_count": 18,
     "metadata": {},
     "output_type": "execute_result"
    }
   ],
   "source": [
    "# Calling .head() will show the top counts; if there are any above 1 we know their are duplicate stations in the data:\n",
    "nyc_bike_frame.groupby(['stationName'])['stationName'].count().head()"
   ]
  },
  {
   "cell_type": "markdown",
   "metadata": {},
   "source": [
    "There are no duplicate stations. Thus, there are 488 'In Service' and 22 'Not in Service' stations in our dataset.    \n",
    "<b>NOTE:</b> These are real time datasets, so they are subject to change if you run the scripts at different times."
   ]
  },
  {
   "cell_type": "markdown",
   "metadata": {},
   "source": [
    "Custom Function: It is useful to know quickly the number of unique values in each column of a dataframe. Columns with many unique values can be difficult to model and columns with only one or very few unique entries often don't add value to a model. The below function takes a dataframe and returns the number of unique entries for each column; allowing us to set a value for what we consider to be small for the given dataset we are working with."
   ]
  },
  {
   "cell_type": "code",
   "execution_count": 19,
   "metadata": {
    "collapsed": true
   },
   "outputs": [],
   "source": [
    "def unique_entry_count(dataframe, small_value):\n",
    "    '''\n",
    "    takes a dataframe and returns the columns with the number of unique entries for that specific column; assigning values of \n",
    "    one_only, small or large; user chooses the unique count that will determine small / large in function parameters\n",
    "    '''\n",
    "    entry_list = [] #list that will contain the raw unique counts for each column in the dataframe\n",
    "    \n",
    "    columns = dataframe.columns #list of the dataframe's columns; to be used in the append portion to call to the correct column name and\n",
    "    #in for the index in the new dataframe\n",
    "    cols = ['unqiue_entries'] #the column name for the new dataframe\n",
    "    col_len = len(columns)\n",
    "    \n",
    "    for i in range(col_len):\n",
    "        entry_list.append(dataframe[columns[i]].value_counts().count()) #iterates through each column and counts the number of unique\n",
    "        #entries and appends that final figure to the entry_list\n",
    "\n",
    "    unique_entry_frame = pd.DataFrame(entry_list, index=columns, columns=cols) #creates new dataframe\n",
    "    unique_entry_frame['size'] = unique_entry_frame['unqiue_entries'].apply(lambda x: 'one_only' if x == 1 else 'small' \\\n",
    "                                                                      if x < small_value else 'large')\n",
    "    #based on number of unique entries; applies 'size' to that particular column\n",
    "    \n",
    "    return unique_entry_frame #returns new dataframe that will be used for next group of functions"
   ]
  },
  {
   "cell_type": "code",
   "execution_count": 20,
   "metadata": {
    "collapsed": false
   },
   "outputs": [
    {
     "data": {
      "text/html": [
       "<div>\n",
       "<table border=\"1\" class=\"dataframe\">\n",
       "  <thead>\n",
       "    <tr style=\"text-align: right;\">\n",
       "      <th></th>\n",
       "      <th>unqiue_entries</th>\n",
       "      <th>size</th>\n",
       "    </tr>\n",
       "  </thead>\n",
       "  <tbody>\n",
       "    <tr>\n",
       "      <th>altitude</th>\n",
       "      <td>1</td>\n",
       "      <td>one_only</td>\n",
       "    </tr>\n",
       "    <tr>\n",
       "      <th>availableBikes</th>\n",
       "      <td>52</td>\n",
       "      <td>large</td>\n",
       "    </tr>\n",
       "    <tr>\n",
       "      <th>availableDocks</th>\n",
       "      <td>59</td>\n",
       "      <td>large</td>\n",
       "    </tr>\n",
       "    <tr>\n",
       "      <th>city</th>\n",
       "      <td>1</td>\n",
       "      <td>one_only</td>\n",
       "    </tr>\n",
       "    <tr>\n",
       "      <th>id</th>\n",
       "      <td>512</td>\n",
       "      <td>large</td>\n",
       "    </tr>\n",
       "    <tr>\n",
       "      <th>landMark</th>\n",
       "      <td>1</td>\n",
       "      <td>one_only</td>\n",
       "    </tr>\n",
       "    <tr>\n",
       "      <th>lastCommunicationTime</th>\n",
       "      <td>213</td>\n",
       "      <td>large</td>\n",
       "    </tr>\n",
       "    <tr>\n",
       "      <th>latitude</th>\n",
       "      <td>512</td>\n",
       "      <td>large</td>\n",
       "    </tr>\n",
       "    <tr>\n",
       "      <th>location</th>\n",
       "      <td>1</td>\n",
       "      <td>one_only</td>\n",
       "    </tr>\n",
       "    <tr>\n",
       "      <th>longitude</th>\n",
       "      <td>512</td>\n",
       "      <td>large</td>\n",
       "    </tr>\n",
       "    <tr>\n",
       "      <th>postalCode</th>\n",
       "      <td>1</td>\n",
       "      <td>one_only</td>\n",
       "    </tr>\n",
       "    <tr>\n",
       "      <th>stAddress1</th>\n",
       "      <td>512</td>\n",
       "      <td>large</td>\n",
       "    </tr>\n",
       "    <tr>\n",
       "      <th>stAddress2</th>\n",
       "      <td>1</td>\n",
       "      <td>one_only</td>\n",
       "    </tr>\n",
       "    <tr>\n",
       "      <th>stationName</th>\n",
       "      <td>512</td>\n",
       "      <td>large</td>\n",
       "    </tr>\n",
       "    <tr>\n",
       "      <th>statusKey</th>\n",
       "      <td>2</td>\n",
       "      <td>small</td>\n",
       "    </tr>\n",
       "    <tr>\n",
       "      <th>statusValue</th>\n",
       "      <td>2</td>\n",
       "      <td>small</td>\n",
       "    </tr>\n",
       "    <tr>\n",
       "      <th>testStation</th>\n",
       "      <td>1</td>\n",
       "      <td>one_only</td>\n",
       "    </tr>\n",
       "    <tr>\n",
       "      <th>totalDocks</th>\n",
       "      <td>51</td>\n",
       "      <td>large</td>\n",
       "    </tr>\n",
       "  </tbody>\n",
       "</table>\n",
       "</div>"
      ],
      "text/plain": [
       "                       unqiue_entries      size\n",
       "altitude                            1  one_only\n",
       "availableBikes                     52     large\n",
       "availableDocks                     59     large\n",
       "city                                1  one_only\n",
       "id                                512     large\n",
       "landMark                            1  one_only\n",
       "lastCommunicationTime             213     large\n",
       "latitude                          512     large\n",
       "location                            1  one_only\n",
       "longitude                         512     large\n",
       "postalCode                          1  one_only\n",
       "stAddress1                        512     large\n",
       "stAddress2                          1  one_only\n",
       "stationName                       512     large\n",
       "statusKey                           2     small\n",
       "statusValue                         2     small\n",
       "testStation                         1  one_only\n",
       "totalDocks                         51     large"
      ]
     },
     "execution_count": 20,
     "metadata": {},
     "output_type": "execute_result"
    }
   ],
   "source": [
    "# Set small value to 3\n",
    "nyc_bike_column_counts = unique_entry_count(nyc_bike_frame, 3)\n",
    "nyc_bike_column_counts"
   ]
  },
  {
   "cell_type": "markdown",
   "metadata": {},
   "source": [
    "There are a lot of columns with only one unique value or they are completely empty. We don't need these columns - we can delete them:"
   ]
  },
  {
   "cell_type": "code",
   "execution_count": 21,
   "metadata": {
    "collapsed": false
   },
   "outputs": [
    {
     "data": {
      "text/html": [
       "<div>\n",
       "<table border=\"1\" class=\"dataframe\">\n",
       "  <thead>\n",
       "    <tr style=\"text-align: right;\">\n",
       "      <th></th>\n",
       "      <th>availableBikes</th>\n",
       "      <th>availableDocks</th>\n",
       "      <th>id</th>\n",
       "      <th>lastCommunicationTime</th>\n",
       "      <th>latitude</th>\n",
       "      <th>longitude</th>\n",
       "      <th>stAddress1</th>\n",
       "      <th>stationName</th>\n",
       "      <th>statusKey</th>\n",
       "      <th>statusValue</th>\n",
       "      <th>totalDocks</th>\n",
       "    </tr>\n",
       "  </thead>\n",
       "  <tbody>\n",
       "    <tr>\n",
       "      <th>0</th>\n",
       "      <td>1</td>\n",
       "      <td>37</td>\n",
       "      <td>72</td>\n",
       "      <td>2015-11-03 10:35:45 AM</td>\n",
       "      <td>40.767272</td>\n",
       "      <td>-73.993929</td>\n",
       "      <td>W 52 St &amp; 11 Ave</td>\n",
       "      <td>W 52 St &amp; 11 Ave</td>\n",
       "      <td>1</td>\n",
       "      <td>In Service</td>\n",
       "      <td>39</td>\n",
       "    </tr>\n",
       "    <tr>\n",
       "      <th>1</th>\n",
       "      <td>22</td>\n",
       "      <td>11</td>\n",
       "      <td>79</td>\n",
       "      <td>2015-11-03 10:35:39 AM</td>\n",
       "      <td>40.719116</td>\n",
       "      <td>-74.006667</td>\n",
       "      <td>Franklin St &amp; W Broadway</td>\n",
       "      <td>Franklin St &amp; W Broadway</td>\n",
       "      <td>1</td>\n",
       "      <td>In Service</td>\n",
       "      <td>33</td>\n",
       "    </tr>\n",
       "  </tbody>\n",
       "</table>\n",
       "</div>"
      ],
      "text/plain": [
       "   availableBikes  availableDocks  id   lastCommunicationTime   latitude  \\\n",
       "0               1              37  72  2015-11-03 10:35:45 AM  40.767272   \n",
       "1              22              11  79  2015-11-03 10:35:39 AM  40.719116   \n",
       "\n",
       "   longitude                stAddress1               stationName  statusKey  \\\n",
       "0 -73.993929          W 52 St & 11 Ave          W 52 St & 11 Ave          1   \n",
       "1 -74.006667  Franklin St & W Broadway  Franklin St & W Broadway          1   \n",
       "\n",
       "  statusValue  totalDocks  \n",
       "0  In Service          39  \n",
       "1  In Service          33  "
      ]
     },
     "execution_count": 21,
     "metadata": {},
     "output_type": "execute_result"
    }
   ],
   "source": [
    "# create list of the one value columns:\n",
    "nyc_one_value = nyc_bike_column_counts[(nyc_bike_column_counts['size'] == 'one_only')]\n",
    "delete_list = nyc_one_value.index\n",
    "\n",
    "# drop those columns in the original dataframe:\n",
    "nyc_bike_frame = nyc_bike_frame.drop(delete_list, axis = 1)\n",
    "\n",
    "#return original dataframe with deleted columns:\n",
    "nyc_bike_frame.head(2)"
   ]
  },
  {
   "cell_type": "markdown",
   "metadata": {},
   "source": [
    "Already, we have a cleaner dataset to work with. Two other columns worth a look at this time would be the columns with 2 unique values:"
   ]
  },
  {
   "cell_type": "code",
   "execution_count": 22,
   "metadata": {
    "collapsed": false
   },
   "outputs": [
    {
     "name": "stdout",
     "output_type": "stream",
     "text": [
      "1    493\n",
      "3     19\n",
      "dtype: int64\n",
      "In Service        493\n",
      "Not In Service     19\n",
      "dtype: int64\n"
     ]
    }
   ],
   "source": [
    "print nyc_bike_frame.statusKey.value_counts()\n",
    "print nyc_bike_frame.statusValue.value_counts()"
   ]
  },
  {
   "cell_type": "markdown",
   "metadata": {},
   "source": [
    "I'm not sure what statusKey is describing, so I'll leave it for now. 'statusValue' could be important, it will stay as well."
   ]
  },
  {
   "cell_type": "markdown",
   "metadata": {},
   "source": [
    "The columns with 511<i>(subject to change depending on when script is run)</i> unique entries appear to be ID related; letting us know what station the data is referring to for that row. Latitude and Longtitude are important for location, but ID, StationName and street address are worth a quick look:"
   ]
  },
  {
   "cell_type": "code",
   "execution_count": 23,
   "metadata": {
    "collapsed": false
   },
   "outputs": [
    {
     "name": "stdout",
     "output_type": "stream",
     "text": [
      "3071    1\n",
      "3070    1\n",
      "173     1\n",
      "174     1\n",
      "195     1\n",
      "dtype: int64\n",
      "Mercer St & Bleecker St     1\n",
      "Bushwick Ave & Powers St    1\n",
      "W 45 St & 6 Ave             1\n",
      "Columbus Ave & W 72 St      1\n",
      "6 Ave & Canal St            1\n",
      "dtype: int64\n",
      "Mercer St & Bleecker St     1\n",
      "Bushwick Ave & Powers St    1\n",
      "W 45 St & 6 Ave             1\n",
      "Columbus Ave & W 72 St      1\n",
      "6 Ave & Canal St            1\n",
      "dtype: int64\n"
     ]
    }
   ],
   "source": [
    "print nyc_bike_frame['id'].value_counts().head()\n",
    "print nyc_bike_frame['stAddress1'].value_counts().head()\n",
    "print nyc_bike_frame['stationName'].value_counts().head()"
   ]
  },
  {
   "cell_type": "markdown",
   "metadata": {},
   "source": [
    "We can see that these three columns are repeating the same information (id is a code that refers to the stationName). We will keep stationName and id (could be important later) and remove the address:"
   ]
  },
  {
   "cell_type": "code",
   "execution_count": 24,
   "metadata": {
    "collapsed": false
   },
   "outputs": [
    {
     "data": {
      "text/html": [
       "<div>\n",
       "<table border=\"1\" class=\"dataframe\">\n",
       "  <thead>\n",
       "    <tr style=\"text-align: right;\">\n",
       "      <th></th>\n",
       "      <th>availableBikes</th>\n",
       "      <th>availableDocks</th>\n",
       "      <th>id</th>\n",
       "      <th>lastCommunicationTime</th>\n",
       "      <th>latitude</th>\n",
       "      <th>longitude</th>\n",
       "      <th>stationName</th>\n",
       "      <th>statusKey</th>\n",
       "      <th>statusValue</th>\n",
       "      <th>totalDocks</th>\n",
       "    </tr>\n",
       "  </thead>\n",
       "  <tbody>\n",
       "    <tr>\n",
       "      <th>0</th>\n",
       "      <td>1</td>\n",
       "      <td>37</td>\n",
       "      <td>72</td>\n",
       "      <td>2015-11-03 10:35:45 AM</td>\n",
       "      <td>40.767272</td>\n",
       "      <td>-73.993929</td>\n",
       "      <td>W 52 St &amp; 11 Ave</td>\n",
       "      <td>1</td>\n",
       "      <td>In Service</td>\n",
       "      <td>39</td>\n",
       "    </tr>\n",
       "    <tr>\n",
       "      <th>1</th>\n",
       "      <td>22</td>\n",
       "      <td>11</td>\n",
       "      <td>79</td>\n",
       "      <td>2015-11-03 10:35:39 AM</td>\n",
       "      <td>40.719116</td>\n",
       "      <td>-74.006667</td>\n",
       "      <td>Franklin St &amp; W Broadway</td>\n",
       "      <td>1</td>\n",
       "      <td>In Service</td>\n",
       "      <td>33</td>\n",
       "    </tr>\n",
       "  </tbody>\n",
       "</table>\n",
       "</div>"
      ],
      "text/plain": [
       "   availableBikes  availableDocks  id   lastCommunicationTime   latitude  \\\n",
       "0               1              37  72  2015-11-03 10:35:45 AM  40.767272   \n",
       "1              22              11  79  2015-11-03 10:35:39 AM  40.719116   \n",
       "\n",
       "   longitude               stationName  statusKey statusValue  totalDocks  \n",
       "0 -73.993929          W 52 St & 11 Ave          1  In Service          39  \n",
       "1 -74.006667  Franklin St & W Broadway          1  In Service          33  "
      ]
     },
     "execution_count": 24,
     "metadata": {},
     "output_type": "execute_result"
    }
   ],
   "source": [
    "nyc_bike_frame = nyc_bike_frame.drop(['stAddress1'], axis=1)\n",
    "nyc_bike_frame.head(2)"
   ]
  },
  {
   "cell_type": "markdown",
   "metadata": {},
   "source": [
    "We have now a much cleaner and more meaningful dataset with the unncessary columns removed. We will decide later if 'statusKey' is required. "
   ]
  },
  {
   "cell_type": "markdown",
   "metadata": {},
   "source": [
    "<b>2. What is the mean number of bikes in a dock? What is the median? How does this change if we remove the stations that aren't in service?</b>"
   ]
  },
  {
   "cell_type": "code",
   "execution_count": 25,
   "metadata": {
    "collapsed": false
   },
   "outputs": [
    {
     "name": "stdout",
     "output_type": "stream",
     "text": [
      "Available Bike Mean (all stations):  11.33984375\n",
      "Available Bike Median (all stations):  5.0\n",
      "Number of Stations Included:  512\n",
      "\n",
      "Available Bike Mean (In Service stations):  11.7768762677\n",
      "Available Bike Median (In Service stations):  6.0\n",
      "Number of Stations Included:  493\n"
     ]
    }
   ],
   "source": [
    "# Assuming mean and median number of bikes in a dock refers to the number of availableBikes.\n",
    "nyc_bike_mean = nyc_bike_frame['availableBikes'].mean()\n",
    "nyc_bike_median = nyc_bike_frame['availableBikes'].median()\n",
    "\n",
    "print 'Available Bike Mean (all stations): ', nyc_bike_mean\n",
    "print 'Available Bike Median (all stations): ',nyc_bike_median\n",
    "print 'Number of Stations Included: ', len(nyc_bike_frame)\n",
    "print ''\n",
    "\n",
    "# Remove stations not in service:\n",
    "nyc_bike_frame_inService = nyc_bike_frame[(nyc_bike_frame['statusValue'] == 'In Service')]\n",
    "\n",
    "nyc_bike_inService_mean = nyc_bike_frame_inService['availableBikes'].mean()\n",
    "nyc_bike_inService_median = nyc_bike_frame_inService['availableBikes'].median()\n",
    "\n",
    "print 'Available Bike Mean (In Service stations): ', nyc_bike_inService_mean\n",
    "print 'Available Bike Median (In Service stations): ',nyc_bike_inService_median\n",
    "print 'Number of Stations Included: ', len(nyc_bike_frame_inService)"
   ]
  },
  {
   "cell_type": "markdown",
   "metadata": {},
   "source": [
    "The mean and median do not change significantly if you remove out of service stations. "
   ]
  },
  {
   "cell_type": "markdown",
   "metadata": {},
   "source": [
    "<b>Note: Here is an alternate way of calculating mean and median without having to create a new dataframe. You would add a simple conditional (a series of boolean, or True and False, values) to filter on the DataFrame (only the rows for the True values are in the result):</b>"
   ]
  },
  {
   "cell_type": "code",
   "execution_count": 26,
   "metadata": {
    "collapsed": false
   },
   "outputs": [
    {
     "name": "stdout",
     "output_type": "stream",
     "text": [
      "11.7768762677\n",
      "11.7768762677\n"
     ]
    }
   ],
   "source": [
    "condition = (nyc_bike_frame['statusValue'] == 'In Service')\n",
    "print nyc_bike_frame[condition]['availableBikes'].mean()\n",
    "\n",
    "# We can put the condition right into the statement making it one line:\n",
    "print nyc_bike_frame[nyc_bike_frame['statusValue'] == 'In Service']['availableBikes'].mean()"
   ]
  },
  {
   "cell_type": "markdown",
   "metadata": {},
   "source": [
    "<b>This method is prefered over the original method. It's cleaner and easier to implement.</b>"
   ]
  },
  {
   "cell_type": "markdown",
   "metadata": {},
   "source": [
    "## Storing Data in SQLite"
   ]
  },
  {
   "cell_type": "markdown",
   "metadata": {},
   "source": [
    "While often code can be developed iteratively (meaning you create code by making small changes that build on each other), designing a database requires more thoughtful planning, even one as simple as a SQLite database. We know now the structure of the data, which is important for creating the schema we'll be using in SQLite.\n",
    "\n",
    "After going through the data more, you'll find that not every field seems to be used. Often this is because developers envision functionality that isn't yet built. In this case, no station has a value in the \"landMark\" field and only two have an entry in the \"location\" field. Someone likely envisoned these providing more information that was actually necessary when the system was activated but may, in the future, carry important information.\n",
    "\n",
    "<b>Note:</b> In some cases, JSON files will only include the attributes of an instance for which there is a value. In this case, if there isn't a landmark, the attribute landMark may not be present in order to minimize the size of the file.\n",
    "\n",
    "Most of these values don't change over time. The only fields likely to change are the availableBikes, availableDocks, statusValue, and the statusKey. In this case, since our goal is to record the number of bikes available every minute for an hour across all of New York City, we're primarily interested in the number of available bikes, but we want to keep all this reference information as well.\n",
    "\n",
    "In order to capture both the changing values and the static reference information, we're going to create a reference table that tells us the information that remains static and a table that collects the changing values.\n",
    "\n",
    "Our first step is to create a reference table that stores the information that remains static with the station ID (id) number as the key value.\n",
    "\n",
    "In this case, we'll be storing these values in our reference table:\n",
    "\n",
    "![](files/nycbike5.jpg)\n",
    "\n",
    "Since the number of available docks and available bikes should equal the total docks, we only need to store one of these numbers, in this case, the available bikes. The available docks should be the total docks - the available bikes, but this is a case where we need to be clear about our assumptions and test them if necessary.   \n",
    "<b>Comment:</b> In this case, our above assumption fails; there are stations where the available bikes plus the available docks does not add up to the total docks. Perhaps there are docks that are in need of repair and are thus, unavailable as a dock. However, we do not know why these numbers are not adding up correctly."
   ]
  },
  {
   "cell_type": "markdown",
   "metadata": {},
   "source": [
    "### Create SQL database"
   ]
  },
  {
   "cell_type": "markdown",
   "metadata": {},
   "source": [
    "The SQL statement we'll be using to create the reference table looks like this:\n",
    "\n",
    "![](files/nycbike6.jpg)\n",
    "\n",
    "<b>Note:</b> My database will be slightly different since I cleaned the data originally differently. The concept remains identical. "
   ]
  },
  {
   "cell_type": "code",
   "execution_count": 27,
   "metadata": {
    "collapsed": true
   },
   "outputs": [],
   "source": [
    "# Create the table to store the data:\n",
    "import sqlite3 as lite"
   ]
  },
  {
   "cell_type": "code",
   "execution_count": 28,
   "metadata": {
    "collapsed": false
   },
   "outputs": [],
   "source": [
    "con = lite.connect('citi_bike.db') #this creates an empty sqlite database\n",
    "cur = con.cursor() #once connected to the database, we create a cursor object to perform SQL commands"
   ]
  },
  {
   "cell_type": "code",
   "execution_count": 29,
   "metadata": {
    "collapsed": false
   },
   "outputs": [
    {
     "data": {
      "text/html": [
       "<div>\n",
       "<table border=\"1\" class=\"dataframe\">\n",
       "  <thead>\n",
       "    <tr style=\"text-align: right;\">\n",
       "      <th></th>\n",
       "      <th>availableBikes</th>\n",
       "      <th>availableDocks</th>\n",
       "      <th>id</th>\n",
       "      <th>lastCommunicationTime</th>\n",
       "      <th>latitude</th>\n",
       "      <th>longitude</th>\n",
       "      <th>stationName</th>\n",
       "      <th>statusKey</th>\n",
       "      <th>statusValue</th>\n",
       "      <th>totalDocks</th>\n",
       "    </tr>\n",
       "  </thead>\n",
       "  <tbody>\n",
       "    <tr>\n",
       "      <th>0</th>\n",
       "      <td>1</td>\n",
       "      <td>37</td>\n",
       "      <td>72</td>\n",
       "      <td>2015-11-03 10:35:45 AM</td>\n",
       "      <td>40.767272</td>\n",
       "      <td>-73.993929</td>\n",
       "      <td>W 52 St &amp; 11 Ave</td>\n",
       "      <td>1</td>\n",
       "      <td>In Service</td>\n",
       "      <td>39</td>\n",
       "    </tr>\n",
       "  </tbody>\n",
       "</table>\n",
       "</div>"
      ],
      "text/plain": [
       "   availableBikes  availableDocks  id   lastCommunicationTime   latitude  \\\n",
       "0               1              37  72  2015-11-03 10:35:45 AM  40.767272   \n",
       "\n",
       "   longitude       stationName  statusKey statusValue  totalDocks  \n",
       "0 -73.993929  W 52 St & 11 Ave          1  In Service          39  "
      ]
     },
     "execution_count": 29,
     "metadata": {},
     "output_type": "execute_result"
    }
   ],
   "source": [
    "#recall dataframe using to create sql database:\n",
    "nyc_bike_frame.head(1)"
   ]
  },
  {
   "cell_type": "code",
   "execution_count": 30,
   "metadata": {
    "collapsed": true
   },
   "outputs": [],
   "source": [
    "#create table columns with datatypes\n",
    "with con:\n",
    "    cur.execute('CREATE TABLE citibike_reference( \\\n",
    "    id INT PRIMARY KEY, \\\n",
    "    totalDocks INT, \\\n",
    "    longitude NUMERIC, \\\n",
    "    stationName TEXT, \\\n",
    "    latitude NUMERIC)')"
   ]
  },
  {
   "cell_type": "markdown",
   "metadata": {},
   "source": [
    "We use the <u>'with'</u> keyword as a context manager. At the end of the indented code block, the transaction will commit (be saved) to the database. It's the same result as using con.commit() but generally using 'with' is cleaner and more readable."
   ]
  },
  {
   "cell_type": "code",
   "execution_count": 31,
   "metadata": {
    "collapsed": false
   },
   "outputs": [],
   "source": [
    "# Populate the table with our nyc_bike_frame:\n",
    "sql = 'INSERT INTO citibike_reference (id,totalDocks,longitude,stationName,latitude) VALUES (?,?,?,?,?)'\n",
    "# the number of columns you are going to insert need to match the number of '?' in the VALUES\n",
    "\n",
    "#for loop to populate values in the database\n",
    "with con:\n",
    "    for station in nyc_bike.json()['stationBeanList']: #recall that we need to run the nyc_bike frame (original dataframe)\n",
    "        #id,totalDocks,longitude,stationName,latitude\n",
    "        cur.execute(sql,(station['id'],station['totalDocks'],station['longitude'],station['stationName'],station['latitude']))"
   ]
  },
  {
   "cell_type": "markdown",
   "metadata": {},
   "source": [
    "The type of SQL query we're using in this case is called a \"parameterized query\", with ? standing in for values, which we reference in the cur.execute() function. <b>Notice the list of values has to match up otherwise values could be entered into the wrong field.</b> Verification this didn't happen is important to ensure this didn't happen. In most cases, it's better to drop the table and start again rather than try to fix the problem."
   ]
  },
  {
   "cell_type": "markdown",
   "metadata": {},
   "source": [
    "<b>Note:</b> To check to see if our database is being populated correctly we will load the database and verify it's correct:"
   ]
  },
  {
   "cell_type": "code",
   "execution_count": 32,
   "metadata": {
    "collapsed": false
   },
   "outputs": [
    {
     "name": "stdout",
     "output_type": "stream",
     "text": [
      "    id  totalDocks  longitude                    stationName   latitude\n",
      "0   72          39 -73.993929               W 52 St & 11 Ave  40.767272\n",
      "1   79          33 -74.006667       Franklin St & W Broadway  40.719116\n",
      "2   82          27 -74.000165         St James Pl & Pearl St  40.711174\n",
      "3   83          62 -73.976323  Atlantic Ave & Fort Greene Pl  40.683826\n",
      "4  116          39 -74.001497                W 17 St & 8 Ave  40.741776\n"
     ]
    }
   ],
   "source": [
    "print pd.read_sql_query('SELECT * FROM citibike_reference', con).head()\n",
    "# 'SELECT *' will bring the entire table, 'con' at the end references the connection to the database. "
   ]
  },
  {
   "cell_type": "markdown",
   "metadata": {},
   "source": [
    "Our database is being populated correctly. <b>Verified.</b> "
   ]
  },
  {
   "cell_type": "markdown",
   "metadata": {},
   "source": [
    "To get multiple readings by minute, the availablebikes table is going to need to be a little different. In this case, the station ID (id) is going to be the column name, but since the column name can't start with a number, you'll need to put a character in front of the number (\"\")."
   ]
  },
  {
   "cell_type": "code",
   "execution_count": 33,
   "metadata": {
    "collapsed": false
   },
   "outputs": [
    {
     "name": "stdout",
     "output_type": "stream",
     "text": [
      "['_72 INT', '_79 INT', '_82 INT', '_83 INT', '_116 INT']\n",
      "512\n"
     ]
    }
   ],
   "source": [
    "#extract the 'id' column from the DataFrame and put them into a list:\n",
    "station_ids = nyc_bike_frame['id'].tolist() \n",
    "\n",
    "#add the '_' to the station name and also add the data type for SQLite\n",
    "station_ids = ['_' + str(x) + ' INT' for x in station_ids]\n",
    "\n",
    "print station_ids[:5] \n",
    "print len(station_ids)"
   ]
  },
  {
   "cell_type": "markdown",
   "metadata": {},
   "source": [
    "Create new SQLite database 'available_bikes':"
   ]
  },
  {
   "cell_type": "code",
   "execution_count": 34,
   "metadata": {
    "collapsed": true
   },
   "outputs": [],
   "source": [
    "#in this case, we're concatentating the string and joining all the station ids (now with '_' and 'INT' added)\n",
    "with con:\n",
    "    cur.execute('CREATE TABLE available_bikes (execution_time INT,' + ', '.join(station_ids) + ');')\n",
    "    \n",
    "# The syntax: + ', '.join(station_ids) has a space after the original comma because the station ids before the join look like\n",
    "# '_72 INT', '_79 INT', etc. so we need a space after the comma so the code joins the station ids correctly. \n",
    "\n",
    "# The final addition; ');' closes the syntax so the code runs properly, SQL requires ';' to know the code has ended"
   ]
  },
  {
   "cell_type": "code",
   "execution_count": 35,
   "metadata": {
    "collapsed": false
   },
   "outputs": [
    {
     "data": {
      "text/html": [
       "<div>\n",
       "<table border=\"1\" class=\"dataframe\">\n",
       "  <thead>\n",
       "    <tr style=\"text-align: right;\">\n",
       "      <th></th>\n",
       "      <th>execution_time</th>\n",
       "      <th>_72</th>\n",
       "      <th>_79</th>\n",
       "      <th>_82</th>\n",
       "      <th>_83</th>\n",
       "      <th>_116</th>\n",
       "      <th>_119</th>\n",
       "      <th>_120</th>\n",
       "      <th>_127</th>\n",
       "      <th>_128</th>\n",
       "      <th>...</th>\n",
       "      <th>_3226</th>\n",
       "      <th>_3229</th>\n",
       "      <th>_3230</th>\n",
       "      <th>_3231</th>\n",
       "      <th>_3232</th>\n",
       "      <th>_3233</th>\n",
       "      <th>_3234</th>\n",
       "      <th>_3235</th>\n",
       "      <th>_3236</th>\n",
       "      <th>_3237</th>\n",
       "    </tr>\n",
       "  </thead>\n",
       "  <tbody>\n",
       "  </tbody>\n",
       "</table>\n",
       "<p>0 rows × 513 columns</p>\n",
       "</div>"
      ],
      "text/plain": [
       "Empty DataFrame\n",
       "Columns: [execution_time, _72, _79, _82, _83, _116, _119, _120, _127, _128, _137, _143, _144, _146, _147, _150, _151, _152, _153, _157, _160, _161, _164, _167, _168, _173, _174, _195, _212, _216, _217, _218, _223, _224, _225, _228, _229, _232, _233, _236, _237, _238, _239, _241, _242, _243, _244, _245, _247, _248, _249, _250, _251, _252, _253, _254, _257, _258, _259, _260, _261, _262, _263, _264, _265, _266, _267, _268, _270, _274, _275, _276, _278, _279, _280, _281, _282, _284, _285, _289, _290, _291, _293, _294, _295, _296, _297, _298, _300, _301, _302, _303, _304, _305, _306, _307, _308, _309, _310, _311, ...]\n",
       "Index: []\n",
       "\n",
       "[0 rows x 513 columns]"
      ]
     },
     "execution_count": 35,
     "metadata": {},
     "output_type": "execute_result"
    }
   ],
   "source": [
    "#see created database:\n",
    "pd.read_sql_query('SELECT * FROM available_bikes', con)"
   ]
  },
  {
   "cell_type": "markdown",
   "metadata": {},
   "source": [
    "<b>Comment:</b> Not sure exactly how this one is working - need clarification; specifically on: (execution_time INT, \" +  \", \".join(station_ids) + \");\")   \n",
    "<b>Update:</b> Here, we are doing the following:   \n",
    "1. We’re creating a table and hard-coding the first column to be an integer.   \n",
    "2. Then we’re adding to that string \", \".join(station_ids), which is an easy way to concatenate strings in a list. For clarity,  x.join(y) uses x as a separator to connect all the elements in y together. For example, '-'.join([1, 2, 3]) becomes 1-2-3. In our case, ', '.join(['_72 INT', '_79 INT', ...]) becomes '_72 INT, _79 INT, ...'    \n",
    "3. The final line, after adding on the close paren, is 'CREATE TABLE available_bikes (execution_time INT, _72 INT, _79 INT, ...);'"
   ]
  },
  {
   "cell_type": "markdown",
   "metadata": {},
   "source": [
    "Populate new database with our values for available bikes. First we need some packages to deal with dates and time:"
   ]
  },
  {
   "cell_type": "code",
   "execution_count": 36,
   "metadata": {
    "collapsed": true
   },
   "outputs": [],
   "source": [
    "import time # a package with datetime objects\n",
    "from dateutil.parser import parse # a package for parsing a string into a Python datetime object\n",
    "import collections\n",
    "import datetime #required for code below"
   ]
  },
  {
   "cell_type": "code",
   "execution_count": 37,
   "metadata": {
    "collapsed": false
   },
   "outputs": [
    {
     "name": "stdout",
     "output_type": "stream",
     "text": [
      "2015-11-03 10:36:09\n"
     ]
    }
   ],
   "source": [
    "#take the string from our original database (nyc_bike) in the executionTime column and parse it into a Python datetime object:\n",
    "exec_time = parse(nyc_bike.json()['executionTime'])\n",
    "print exec_time"
   ]
  },
  {
   "cell_type": "markdown",
   "metadata": {},
   "source": [
    "As you saw briefly in the lesson on time-series analysis, Python has a datetime object which stores datetime values. This object has attributes for year, month, day, hour, minute, second, microseconds, and timezone. In this case, we're creating a basic naive datetime object without specifying timezone."
   ]
  },
  {
   "cell_type": "code",
   "execution_count": 38,
   "metadata": {
    "collapsed": false
   },
   "outputs": [],
   "source": [
    "# We create an entry for the execution time by inserting it into the database:\n",
    "with con:    \n",
    "    cur.execute('INSERT INTO available_bikes (execution_time) VALUES (?)', [exec_time.strftime('%Y-%m-%dT%H:%M:%S')],)\n",
    "\n",
    "# function strftime() formats the time."
   ]
  },
  {
   "cell_type": "code",
   "execution_count": 39,
   "metadata": {
    "collapsed": false
   },
   "outputs": [
    {
     "name": "stdout",
     "output_type": "stream",
     "text": [
      "        execution_time   _72   _79   _82   _83  _116  _119  _120  _127  _128  \\\n",
      "0  2015-11-03T10:36:09  None  None  None  None  None  None  None  None  None   \n",
      "\n",
      "   ...  _3226 _3229 _3230 _3231 _3232 _3233 _3234 _3235 _3236 _3237  \n",
      "0  ...    NaN   NaN   NaN   NaN   NaN   NaN   NaN   NaN   NaN   NaN  \n",
      "\n",
      "[1 rows x 513 columns]\n"
     ]
    }
   ],
   "source": [
    "print pd.read_sql_query('SELECT * FROM available_bikes', con)"
   ]
  },
  {
   "cell_type": "markdown",
   "metadata": {
    "collapsed": false
   },
   "source": [
    "Then we iterate through the stations in the \"stationBeanList\":"
   ]
  },
  {
   "cell_type": "code",
   "execution_count": 40,
   "metadata": {
    "collapsed": false
   },
   "outputs": [
    {
     "data": {
      "text/plain": [
       "defaultdict(int, {})"
      ]
     },
     "execution_count": 40,
     "metadata": {},
     "output_type": "execute_result"
    }
   ],
   "source": [
    "id_bikes = collections.defaultdict(int) #defaultdict to store available bikes by station\n",
    "id_bikes"
   ]
  },
  {
   "cell_type": "markdown",
   "metadata": {},
   "source": [
    "<b>Comment:</b> Do not understand how this default dict works and how I was supposed to know to create it using collections. Read the instructions several times over and see no reference to it. Will need to understand this part better.  \n",
    "\n",
    "My current understanding is that this dictionary is set up with datatype 'int' for the key and then a dict for the values associated with that key. When we loop through the station list, each station (recorded as an INT) will be the key and the available bikes at that station will be the values associated with that key. \n",
    "\n",
    "<b>Update:</b> Suppose you have a dictionary 'my_dict' that you were using to accumulate other values. In a loop, you might write:\n",
    "\n",
    "![](files/nycbike7.jpg)\n",
    "        \n",
    "If, however, your dictionary is empty, the first time it attempts to modify one of the values, you’ll get a KeyError.   \n",
    "When we write <i>x += y</i>, the computer actually runs <i>x = x + y</i> (most of the time, but this can be manually overridden). Thus, in the case of our empty dictionary, we have:   \n",
    "my_dict[key] = my_dict[key] + value   \n",
    "If the dictionary is empty, or is missing a particular key, it can’t resolve my_dict[key]. To correct this, you could initialize all the elements before you run the loop, but this requires you to know all the keys in advance, which you might not if you have a large set of data. The other option is to simply stop the loop when you notice my_dict is missing a key, initialize the key, and then resume the loop. This is exactly what defaultdict does—if it sees you trying to access a key that isn’t in the dictionary, it gives you a default value of the data type when you created it. The material introduces them in section 1.1.4, but doesn’t explain what they are and doesn’t use them again until section 3.1.4."
   ]
  },
  {
   "cell_type": "code",
   "execution_count": 41,
   "metadata": {
    "collapsed": false
   },
   "outputs": [],
   "source": [
    "#loop through the stations in the station list and add them to a dictionary where the station ID is the key and the number\n",
    "#of available bikes is the associated value\n",
    "for station in nyc_bike.json()['stationBeanList']: #recall that we need to run the nyc_bike frame (original dataframe)\n",
    "    id_bikes[station['id']] = station['availableBikes']\n",
    "    \n",
    "#iterate through the defaultdict to update the values in the database\n",
    "with con:\n",
    "    for k, v in id_bikes.iteritems(): #k = key (station ID), v = values (available bikes)\n",
    "        cur.execute('UPDATE available_bikes SET _' + str(k) + '=' + str(v) + \\\n",
    "                    ' WHERE execution_time = ?;', [exec_time.strftime('%Y-%m-%dT%H:%M:%S')] )"
   ]
  },
  {
   "cell_type": "markdown",
   "metadata": {},
   "source": [
    "<b>Comment:</b> Very confused with the above statements. I don't understand why certain characters have been placed into the code when there have been no mention as to why they are there. Will need to go through this step by step for to understand this sufficiently.   \n",
    "\n",
    "<b>Update:</b> This is happening because you overlooked one of the parameters after correcting what I pointed out in my last email. Compare these two lines:   \n",
    "\n",
    "![](files/nycbike8.jpg)\n",
    "\n",
    "You accidentally left <i>+ ';'</i> at the end, after a comma, by itself, so python was attempting to evaluate it. Because you only have something on one side of the +, it’s being used as a unary operator (rather than its usual use as a binary operator), and so Python complains that the type str (i.e., your ;) can’t be used with the unary operator. <b>Also note that I added an extra space before WHERE, because otherwise str(v) + 'WHERE ...' would become, for example, '12WHERE ...'</b>"
   ]
  },
  {
   "cell_type": "code",
   "execution_count": 43,
   "metadata": {
    "collapsed": false
   },
   "outputs": [
    {
     "name": "stdout",
     "output_type": "stream",
     "text": [
      "        execution_time  _72  _79  _82  _83  _116  _119  _120  _127  _128  \\\n",
      "0  2015-11-03T10:36:09    1   22   17   15     8     3     3    30     0   \n",
      "\n",
      "   ...    _3226  _3229  _3230  _3231  _3232  _3233  _3234  _3235  _3236  _3237  \n",
      "0  ...        1      0      0     29      4     36     45     28      0      9  \n",
      "\n",
      "[1 rows x 513 columns]\n"
     ]
    }
   ],
   "source": [
    "print pd.read_sql_query('SELECT * FROM available_bikes', con)"
   ]
  },
  {
   "cell_type": "markdown",
   "metadata": {
    "collapsed": false
   },
   "source": [
    "<b>Note:</b> If you have data in your available_bikes table and want to delete it, you can do that by running the query:   \n",
    "<i>\"DELETE FROM available_bikes\".</i> <b>This will remove all rows in the table.</b>"
   ]
  },
  {
   "cell_type": "code",
   "execution_count": 44,
   "metadata": {
    "collapsed": false
   },
   "outputs": [
    {
     "name": "stdout",
     "output_type": "stream",
     "text": [
      "Empty DataFrame\n",
      "Columns: [execution_time, _72, _79, _82, _83, _116, _119, _120, _127, _128, _137, _143, _144, _146, _147, _150, _151, _152, _153, _157, _160, _161, _164, _167, _168, _173, _174, _195, _212, _216, _217, _218, _223, _224, _225, _228, _229, _232, _233, _236, _237, _238, _239, _241, _242, _243, _244, _245, _247, _248, _249, _250, _251, _252, _253, _254, _257, _258, _259, _260, _261, _262, _263, _264, _265, _266, _267, _268, _270, _274, _275, _276, _278, _279, _280, _281, _282, _284, _285, _289, _290, _291, _293, _294, _295, _296, _297, _298, _300, _301, _302, _303, _304, _305, _306, _307, _308, _309, _310, _311, ...]\n",
      "Index: []\n",
      "\n",
      "[0 rows x 513 columns]\n"
     ]
    }
   ],
   "source": [
    "with con:\n",
    "    cur.execute('DELETE FROM available_bikes')\n",
    "    \n",
    "print pd.read_sql_query('SELECT * FROM available_bikes', con)"
   ]
  },
  {
   "cell_type": "markdown",
   "metadata": {},
   "source": [
    "<b>Update Above Code to Run for One Hour to Collect City Bike Data:</b>"
   ]
  },
  {
   "cell_type": "markdown",
   "metadata": {},
   "source": [
    "The below code will run stand alone and return a complete database of available bikes every minute for each station. "
   ]
  },
  {
   "cell_type": "code",
   "execution_count": 45,
   "metadata": {
    "collapsed": true
   },
   "outputs": [],
   "source": [
    "con = lite.connect('citi_bike.db')\n",
    "cur = con.cursor()\n",
    "\n",
    "for i in range(60):\n",
    "    nyc_bike = requests.get('http://www.citibikenyc.com/stations/json')\n",
    "    exec_time = parse(nyc_bike.json()['executionTime'])\n",
    "\n",
    "    with con:\n",
    "        cur.execute('INSERT INTO available_bikes (execution_time) VALUES (?)', [exec_time.strftime('%Y-%m-%dT%H:%M:%S')],)\n",
    "\n",
    "    id_bikes = collections.defaultdict(int)\n",
    "    for station in nyc_bike.json()['stationBeanList']:\n",
    "        id_bikes[station['id']] = station['availableBikes']\n",
    "\n",
    "    with con:\n",
    "        for k, v in id_bikes.iteritems(): #k = key (station ID), v = values (available bikes)\n",
    "            cur.execute('UPDATE available_bikes SET _' + str(k) + '=' + str(v) + \\\n",
    "                        ' WHERE execution_time = ?;', [exec_time.strftime('%Y-%m-%dT%H:%M:%S')] )\n",
    "\n",
    "    time.sleep(60)\n",
    "\n",
    "con.close() #close the database connection when done"
   ]
  },
  {
   "cell_type": "code",
   "execution_count": 47,
   "metadata": {
    "collapsed": false
   },
   "outputs": [
    {
     "name": "stdout",
     "output_type": "stream",
     "text": [
      "         execution_time  _72  _79  _82  _83  _116  _119  _120  _127  _128  \\\n",
      "0   2015-11-03T11:29:55    1   23   15   17     9     0     4    25     0   \n",
      "1   2015-11-03T11:31:01    2   23   15   17     9     0     4    25     0   \n",
      "2   2015-11-03T11:31:57    2   22   15   17     9     0     4    26     0   \n",
      "3   2015-11-03T11:32:52    2   22   15   17     9     0     4    26     0   \n",
      "4   2015-11-03T11:33:59    2   22   15   17     9     0     4    26     0   \n",
      "5   2015-11-03T11:34:54    3   22   15   17     9     0     4    26     0   \n",
      "6   2015-11-03T11:36:11    3   22   15   17     8     0     4    24     0   \n",
      "7   2015-11-03T11:37:07    4   22   15   17     8     0     5    24     0   \n",
      "8   2015-11-03T11:38:13    4   22   15   17     8     0     5    24     0   \n",
      "9   2015-11-03T11:39:09    4   22   15   16     7     0     5    24     0   \n",
      "10  2015-11-03T11:40:15    4   22   15   16     7     0     5    24     0   \n",
      "11  2015-11-03T11:41:10    4   22   15   16     7     0     5    24     0   \n",
      "12  2015-11-03T11:42:06    4   22   15   16     7     0     5    24     0   \n",
      "13  2015-11-03T11:43:12    4   23   15   16     7     0     5    25     0   \n",
      "14  2015-11-03T11:44:07    3   23   15   16     7     0     5    25     0   \n",
      "15  2015-11-03T11:45:14    3   22   15   16     7     0     5    24     0   \n",
      "16  2015-11-03T11:46:09    3   22   15   16     7     0     5    23     0   \n",
      "17  2015-11-03T11:47:16    3   23   15   17     7     0     5    24     0   \n",
      "18  2015-11-03T11:48:11    3   23   15   17     7     0     5    23     0   \n",
      "19  2015-11-03T11:49:06    3   23   15   17     7     0     5    22     0   \n",
      "20  2015-11-03T11:50:13    3   23   15   17     7     0     5    22     0   \n",
      "21  2015-11-03T11:51:08    3   23   15   17     8     0     5    22     0   \n",
      "22  2015-11-03T11:52:15    3   23   15   17     9     0     4    22     0   \n",
      "23  2015-11-03T11:53:10    3   23   15   17    10     0     4    22     0   \n",
      "24  2015-11-03T11:54:06    3   23   15   17    10     0     4    23     0   \n",
      "25  2015-11-03T11:55:12    3   23   15   17    10     0     4    23     0   \n",
      "26  2015-11-03T11:56:08    3   23   15   17    10     0     4    23     0   \n",
      "27  2015-11-03T11:57:14    3   23   14   17    11     0     4    22     0   \n",
      "28  2015-11-03T11:58:10    3   23   14   17    11     0     4    22     0   \n",
      "29  2015-11-03T11:59:05    3   23   14   17    11     0     4    22     0   \n",
      "30  2015-11-03T12:00:12    3   23   14   17    11     0     4    22     0   \n",
      "31  2015-11-03T12:01:07    3   23   14   17    11     0     4    22     0   \n",
      "32  2015-11-03T12:02:14    3   23   14   17    11     0     4    23     0   \n",
      "33  2015-11-03T12:03:09    3   23   14   17    11     0     4    23     0   \n",
      "34  2015-11-03T12:04:15    3   24   14   17    11     0     4    23     0   \n",
      "35  2015-11-03T12:05:11    2   24   14   17    10     0     4    23     0   \n",
      "36  2015-11-03T12:06:06    2   23   14   17    10     0     4    24     0   \n",
      "37  2015-11-03T12:07:13    1   23   14   17    10     0     4    24     0   \n",
      "38  2015-11-03T12:08:08    1   23   14   17    10     0     4    24     0   \n",
      "39  2015-11-03T12:09:15    1   23   14   17    10     0     4    24     0   \n",
      "40  2015-11-03T12:10:21    1   23   14   17    10     0     4    26     0   \n",
      "41  2015-11-03T12:11:27    1   23   14   17    10     0     4    26     0   \n",
      "42  2015-11-03T12:12:23    1   24   14   16    10     0     4    26     0   \n",
      "43  2015-11-03T12:13:29    1   23   14   16    10     0     4    24     0   \n",
      "44  2015-11-03T12:14:24    1   23   14   16    10     0     4    24     0   \n",
      "45  2015-11-03T12:15:20    1   23   14   16    10     0     4    24     0   \n",
      "46  2015-11-03T12:16:27    1   23   14   16    10     0     3    25     0   \n",
      "47  2015-11-03T12:17:22    1   23   14   16    10     0     3    25     0   \n",
      "48  2015-11-03T12:18:29    1   23   14   16     9     0     3    25     0   \n",
      "49  2015-11-03T12:19:24    1   23   14   16     9     0     3    25     0   \n",
      "50  2015-11-03T12:20:31    1   23   15   16     8     0     3    25     0   \n",
      "51  2015-11-03T12:21:26    1   23   15   16     9     0     3    25     0   \n",
      "52  2015-11-03T12:22:21    1   23   15   16     8     0     3    23     0   \n",
      "53  2015-11-03T12:23:28    2   23   15   16     9     0     3    24     0   \n",
      "54  2015-11-03T12:24:23    2   23   15   16     9     0     3    23     0   \n",
      "55  2015-11-03T12:25:29    2   23   14   16     9     0     3    22     0   \n",
      "56  2015-11-03T12:26:25    2   23   14   16    10     0     3    20     0   \n",
      "57  2015-11-03T12:27:20    2   23   14   15    11     0     3    19     0   \n",
      "58  2015-11-03T12:28:27    2   22   14   15    10     0     3    19     0   \n",
      "59  2015-11-03T12:29:22    2   22   14   15    10     0     3    18     0   \n",
      "\n",
      "    ...    _3226  _3229  _3230  _3231  _3232  _3233  _3234  _3235  _3236  \\\n",
      "0   ...        2      0      1     32      4     35     49     28      0   \n",
      "1   ...        2      0      1     32      4     35     49     28      0   \n",
      "2   ...        2      0      1     32      4     35     49     28      0   \n",
      "3   ...        2      0      1     32      4     35     49     28      0   \n",
      "4   ...        1      0      1     32      4     35     49     28      0   \n",
      "5   ...        0      0      1     32      4     35     48     28      0   \n",
      "6   ...        0      0      1     32      4     35     48     28      0   \n",
      "7   ...        0      0      1     32      4     35     48     28      0   \n",
      "8   ...        0      0      1     32      4     35     48     28      0   \n",
      "9   ...        0      0      1     32      4     35     48     28      0   \n",
      "10  ...        0      0      0     32      4     35     48     28      0   \n",
      "11  ...        0      0      0     32      4     36     48     28      0   \n",
      "12  ...        0      0      0     32      4     36     48     28      0   \n",
      "13  ...        0      0      0     32      4     36     49     27      0   \n",
      "14  ...        0      0      0     32      4     36     49     28      0   \n",
      "15  ...        0      0      0     32      4     35     47     28      0   \n",
      "16  ...        0      0      0     32      4     35     47     27      0   \n",
      "17  ...        0      0      0     32      4     35     47     27      0   \n",
      "18  ...        0      0      0     32      4     35     47     27      0   \n",
      "19  ...        0      0      0     32      4     35     47     27      0   \n",
      "20  ...        0      0      0     31      4     35     48     27      0   \n",
      "21  ...        0      0      0     31      4     35     49     27      0   \n",
      "22  ...        0      0      0     31      4     35     49     27      0   \n",
      "23  ...        0      0      0     31      4     35     49     28      0   \n",
      "24  ...        0      0      0     31      4     35     49     28      0   \n",
      "25  ...        0      0      0     31      4     34     49     28      0   \n",
      "26  ...        0      0      0     31      4     35     49     28      0   \n",
      "27  ...        0      0      0     31      4     36     49     28      0   \n",
      "28  ...        0      0      0     31      4     36     49     28      0   \n",
      "29  ...        0      0      0     31      4     36     49     28      0   \n",
      "30  ...        0      0      0     31      4     36     49     28      0   \n",
      "31  ...        0      0      0     31      4     36     49     28      0   \n",
      "32  ...        0      0      0     31      4     36     49     28      0   \n",
      "33  ...        1      0      0     31      4     36     50     28      0   \n",
      "34  ...        1      0      0     31      5     36     50     28      0   \n",
      "35  ...        1      0      0     31      5     36     49     28      0   \n",
      "36  ...        1      0      0     31      5     36     48     27      0   \n",
      "37  ...        1      0      0     31      5     36     48     28      0   \n",
      "38  ...        1      0      0     31      5     36     48     28      0   \n",
      "39  ...        1      0      0     31      5     36     48     28      0   \n",
      "40  ...        1      0      0     31      5     36     48     28      0   \n",
      "41  ...        1      0      0     30      5     36     48     28      0   \n",
      "42  ...        1      0      0     30      5     36     48     28      0   \n",
      "43  ...        0      0      0     30      5     36     48     28      0   \n",
      "44  ...        0      0      0     30      5     35     47     28      0   \n",
      "45  ...        0      0      0     30      5     35     48     28      0   \n",
      "46  ...        0      0      0     30      5     34     48     28      0   \n",
      "47  ...        0      0      0     31      5     34     48     28      0   \n",
      "48  ...        0      0      0     31      5     34     48     28      0   \n",
      "49  ...        0      0      0     31      5     33     48     28      0   \n",
      "50  ...        0      0      0     31      5     33     48     28      0   \n",
      "51  ...        0      0      0     31      5     33     48     27      0   \n",
      "52  ...        0      0      0     31      5     32     48     27      0   \n",
      "53  ...        0      0      0     31      5     31     48     27      0   \n",
      "54  ...        0      0      0     31      5     31     48     27      0   \n",
      "55  ...        0      0      0     31      5     32     48     27      0   \n",
      "56  ...        0      0      0     31      5     33     48     27      0   \n",
      "57  ...        0      0      0     31      5     34     49     27      0   \n",
      "58  ...        0      0      0     32      5     34     49     27      0   \n",
      "59  ...        0      0      0     32      5     34     49     27      0   \n",
      "\n",
      "    _3237  \n",
      "0      10  \n",
      "1      10  \n",
      "2      10  \n",
      "3      10  \n",
      "4      10  \n",
      "5      10  \n",
      "6      10  \n",
      "7      10  \n",
      "8      10  \n",
      "9      10  \n",
      "10     10  \n",
      "11     10  \n",
      "12     10  \n",
      "13     10  \n",
      "14     10  \n",
      "15     10  \n",
      "16     10  \n",
      "17     10  \n",
      "18     10  \n",
      "19     10  \n",
      "20     10  \n",
      "21     10  \n",
      "22     10  \n",
      "23     10  \n",
      "24     10  \n",
      "25     10  \n",
      "26     10  \n",
      "27     10  \n",
      "28     10  \n",
      "29      9  \n",
      "30      9  \n",
      "31      9  \n",
      "32      9  \n",
      "33      9  \n",
      "34      9  \n",
      "35      9  \n",
      "36      9  \n",
      "37      9  \n",
      "38      9  \n",
      "39      9  \n",
      "40      9  \n",
      "41      9  \n",
      "42      9  \n",
      "43      9  \n",
      "44      9  \n",
      "45      9  \n",
      "46      9  \n",
      "47      9  \n",
      "48      9  \n",
      "49      9  \n",
      "50      9  \n",
      "51      9  \n",
      "52      9  \n",
      "53      9  \n",
      "54      8  \n",
      "55      8  \n",
      "56      8  \n",
      "57      8  \n",
      "58      8  \n",
      "59      8  \n",
      "\n",
      "[60 rows x 513 columns]\n"
     ]
    }
   ],
   "source": [
    "#ensure data loaded correctly:\n",
    "con = lite.connect('citi_bike.db')\n",
    "print pd.read_sql_query('SELECT * FROM available_bikes', con)"
   ]
  },
  {
   "cell_type": "markdown",
   "metadata": {},
   "source": [
    "## Analyzing the Result"
   ]
  },
  {
   "cell_type": "markdown",
   "metadata": {},
   "source": [
    "Now the analysis: Load the data into a pandas DataFrame by first setting up access to the SQLite database:"
   ]
  },
  {
   "cell_type": "code",
   "execution_count": 48,
   "metadata": {
    "collapsed": true
   },
   "outputs": [],
   "source": [
    "con = lite.connect('citi_bike.db') #if connection hasn't already been made or if the connection has been closed above\n",
    "cur = con.cursor() #if necessary; not already done."
   ]
  },
  {
   "cell_type": "code",
   "execution_count": 49,
   "metadata": {
    "collapsed": false
   },
   "outputs": [
    {
     "data": {
      "text/html": [
       "<div>\n",
       "<table border=\"1\" class=\"dataframe\">\n",
       "  <thead>\n",
       "    <tr style=\"text-align: right;\">\n",
       "      <th></th>\n",
       "      <th>_72</th>\n",
       "      <th>_79</th>\n",
       "      <th>_82</th>\n",
       "      <th>_83</th>\n",
       "      <th>_116</th>\n",
       "      <th>_119</th>\n",
       "      <th>_120</th>\n",
       "      <th>_127</th>\n",
       "      <th>_128</th>\n",
       "      <th>_137</th>\n",
       "      <th>...</th>\n",
       "      <th>_3226</th>\n",
       "      <th>_3229</th>\n",
       "      <th>_3230</th>\n",
       "      <th>_3231</th>\n",
       "      <th>_3232</th>\n",
       "      <th>_3233</th>\n",
       "      <th>_3234</th>\n",
       "      <th>_3235</th>\n",
       "      <th>_3236</th>\n",
       "      <th>_3237</th>\n",
       "    </tr>\n",
       "    <tr>\n",
       "      <th>execution_time</th>\n",
       "      <th></th>\n",
       "      <th></th>\n",
       "      <th></th>\n",
       "      <th></th>\n",
       "      <th></th>\n",
       "      <th></th>\n",
       "      <th></th>\n",
       "      <th></th>\n",
       "      <th></th>\n",
       "      <th></th>\n",
       "      <th></th>\n",
       "      <th></th>\n",
       "      <th></th>\n",
       "      <th></th>\n",
       "      <th></th>\n",
       "      <th></th>\n",
       "      <th></th>\n",
       "      <th></th>\n",
       "      <th></th>\n",
       "      <th></th>\n",
       "      <th></th>\n",
       "    </tr>\n",
       "  </thead>\n",
       "  <tbody>\n",
       "    <tr>\n",
       "      <th>2015-11-03T11:29:55</th>\n",
       "      <td>1</td>\n",
       "      <td>23</td>\n",
       "      <td>15</td>\n",
       "      <td>17</td>\n",
       "      <td>9</td>\n",
       "      <td>0</td>\n",
       "      <td>4</td>\n",
       "      <td>25</td>\n",
       "      <td>0</td>\n",
       "      <td>43</td>\n",
       "      <td>...</td>\n",
       "      <td>2</td>\n",
       "      <td>0</td>\n",
       "      <td>1</td>\n",
       "      <td>32</td>\n",
       "      <td>4</td>\n",
       "      <td>35</td>\n",
       "      <td>49</td>\n",
       "      <td>28</td>\n",
       "      <td>0</td>\n",
       "      <td>10</td>\n",
       "    </tr>\n",
       "    <tr>\n",
       "      <th>2015-11-03T11:31:01</th>\n",
       "      <td>2</td>\n",
       "      <td>23</td>\n",
       "      <td>15</td>\n",
       "      <td>17</td>\n",
       "      <td>9</td>\n",
       "      <td>0</td>\n",
       "      <td>4</td>\n",
       "      <td>25</td>\n",
       "      <td>0</td>\n",
       "      <td>42</td>\n",
       "      <td>...</td>\n",
       "      <td>2</td>\n",
       "      <td>0</td>\n",
       "      <td>1</td>\n",
       "      <td>32</td>\n",
       "      <td>4</td>\n",
       "      <td>35</td>\n",
       "      <td>49</td>\n",
       "      <td>28</td>\n",
       "      <td>0</td>\n",
       "      <td>10</td>\n",
       "    </tr>\n",
       "    <tr>\n",
       "      <th>2015-11-03T11:31:57</th>\n",
       "      <td>2</td>\n",
       "      <td>22</td>\n",
       "      <td>15</td>\n",
       "      <td>17</td>\n",
       "      <td>9</td>\n",
       "      <td>0</td>\n",
       "      <td>4</td>\n",
       "      <td>26</td>\n",
       "      <td>0</td>\n",
       "      <td>42</td>\n",
       "      <td>...</td>\n",
       "      <td>2</td>\n",
       "      <td>0</td>\n",
       "      <td>1</td>\n",
       "      <td>32</td>\n",
       "      <td>4</td>\n",
       "      <td>35</td>\n",
       "      <td>49</td>\n",
       "      <td>28</td>\n",
       "      <td>0</td>\n",
       "      <td>10</td>\n",
       "    </tr>\n",
       "    <tr>\n",
       "      <th>2015-11-03T11:32:52</th>\n",
       "      <td>2</td>\n",
       "      <td>22</td>\n",
       "      <td>15</td>\n",
       "      <td>17</td>\n",
       "      <td>9</td>\n",
       "      <td>0</td>\n",
       "      <td>4</td>\n",
       "      <td>26</td>\n",
       "      <td>0</td>\n",
       "      <td>42</td>\n",
       "      <td>...</td>\n",
       "      <td>2</td>\n",
       "      <td>0</td>\n",
       "      <td>1</td>\n",
       "      <td>32</td>\n",
       "      <td>4</td>\n",
       "      <td>35</td>\n",
       "      <td>49</td>\n",
       "      <td>28</td>\n",
       "      <td>0</td>\n",
       "      <td>10</td>\n",
       "    </tr>\n",
       "    <tr>\n",
       "      <th>2015-11-03T11:33:59</th>\n",
       "      <td>2</td>\n",
       "      <td>22</td>\n",
       "      <td>15</td>\n",
       "      <td>17</td>\n",
       "      <td>9</td>\n",
       "      <td>0</td>\n",
       "      <td>4</td>\n",
       "      <td>26</td>\n",
       "      <td>0</td>\n",
       "      <td>42</td>\n",
       "      <td>...</td>\n",
       "      <td>1</td>\n",
       "      <td>0</td>\n",
       "      <td>1</td>\n",
       "      <td>32</td>\n",
       "      <td>4</td>\n",
       "      <td>35</td>\n",
       "      <td>49</td>\n",
       "      <td>28</td>\n",
       "      <td>0</td>\n",
       "      <td>10</td>\n",
       "    </tr>\n",
       "  </tbody>\n",
       "</table>\n",
       "<p>5 rows × 512 columns</p>\n",
       "</div>"
      ],
      "text/plain": [
       "                     _72  _79  _82  _83  _116  _119  _120  _127  _128  _137  \\\n",
       "execution_time                                                                \n",
       "2015-11-03T11:29:55    1   23   15   17     9     0     4    25     0    43   \n",
       "2015-11-03T11:31:01    2   23   15   17     9     0     4    25     0    42   \n",
       "2015-11-03T11:31:57    2   22   15   17     9     0     4    26     0    42   \n",
       "2015-11-03T11:32:52    2   22   15   17     9     0     4    26     0    42   \n",
       "2015-11-03T11:33:59    2   22   15   17     9     0     4    26     0    42   \n",
       "\n",
       "                     ...    _3226  _3229  _3230  _3231  _3232  _3233  _3234  \\\n",
       "execution_time       ...                                                      \n",
       "2015-11-03T11:29:55  ...        2      0      1     32      4     35     49   \n",
       "2015-11-03T11:31:01  ...        2      0      1     32      4     35     49   \n",
       "2015-11-03T11:31:57  ...        2      0      1     32      4     35     49   \n",
       "2015-11-03T11:32:52  ...        2      0      1     32      4     35     49   \n",
       "2015-11-03T11:33:59  ...        1      0      1     32      4     35     49   \n",
       "\n",
       "                     _3235  _3236  _3237  \n",
       "execution_time                            \n",
       "2015-11-03T11:29:55     28      0     10  \n",
       "2015-11-03T11:31:01     28      0     10  \n",
       "2015-11-03T11:31:57     28      0     10  \n",
       "2015-11-03T11:32:52     28      0     10  \n",
       "2015-11-03T11:33:59     28      0     10  \n",
       "\n",
       "[5 rows x 512 columns]"
      ]
     },
     "execution_count": 49,
     "metadata": {},
     "output_type": "execute_result"
    }
   ],
   "source": [
    "#read the database into a dataframe:\n",
    "nycBike_frame = pd.read_sql_query(\"SELECT * FROM available_bikes ORDER BY execution_time\",con,index_col='execution_time')\n",
    "nycBike_frame.head()"
   ]
  },
  {
   "cell_type": "markdown",
   "metadata": {},
   "source": [
    "<b>Note:</b> Notice above the SQL query is embedded in the function and the index column for the DataFrame is set to the value of the execution time."
   ]
  },
  {
   "cell_type": "markdown",
   "metadata": {},
   "source": [
    "## Designing an Algorithm"
   ]
  },
  {
   "cell_type": "markdown",
   "metadata": {},
   "source": [
    "Remember back to section 1.1.5 where you had to create algorithms to bake a cake and second to print out the Fibonacci sequence. Before writing the code, we created an outline in plain English to which we could conform our code. This is kinda like a specification or a spec of our algorithm: a simple, human-readable explanation of what the code should do.\n",
    "\n",
    "Now, you need to create an algorithm for collecting the difference between two values. Before you continue on, write out a way to collect and store the change for each station every minute. This change needs to be a running total; changing each minute. You can write out your solution in English or pseudocode. Write it as if you had to give this algorithm to another programmer that knows nothing about this problem, and they have to write the code from just your spec.\n",
    "\n",
    "As a data scientist, you'll be figuring out new ways of answering problems and there won't always be a tutorial to follow. You'll need to think through problems and come up with solutions. Try and do that now before following the tutorial below."
   ]
  },
  {
   "cell_type": "markdown",
   "metadata": {},
   "source": [
    "<b>Pseudocode:</b>   \n",
    "1. Create empty dictionary with (eventually) key as station id (int datatype) and values as the total change in availble bikes over one hour.\n",
    "2. create loop that goes through each column and:   \n",
    "    * calculates the change in value (absolute number) each minute \n",
    "    * adds that change to the running total for that station\n",
    "    * appends the total change to the dict with station id as the key and total change as the value"
   ]
  },
  {
   "cell_type": "markdown",
   "metadata": {},
   "source": [
    "<b>Actual Code:</b>"
   ]
  },
  {
   "cell_type": "code",
   "execution_count": 50,
   "metadata": {
    "collapsed": false
   },
   "outputs": [
    {
     "data": {
      "text/plain": [
       "defaultdict(int, {})"
      ]
     },
     "execution_count": 50,
     "metadata": {},
     "output_type": "execute_result"
    }
   ],
   "source": [
    "#create empty dictionary:\n",
    "nyc_bike_dict = collections.defaultdict(int)\n",
    "nyc_bike_dict"
   ]
  },
  {
   "cell_type": "code",
   "execution_count": 60,
   "metadata": {
    "collapsed": true
   },
   "outputs": [],
   "source": [
    "#create loop:\n",
    "for col in nycBike_frame.columns:\n",
    "    station_vals = nycBike_frame[col].tolist()\n",
    "    station_id = col[1:] \n",
    "    station_change = 0 \n",
    "    for k,v in enumerate(station_vals):\n",
    "        if k < len(station_vals) - 1:\n",
    "            station_change += abs(station_vals[k] - station_vals[k+1])                \n",
    "    nyc_bike_dict[int(station_id)] = station_change"
   ]
  },
  {
   "cell_type": "markdown",
   "metadata": {},
   "source": [
    "<b>Explanation of what's happening line by line in the above code:</b>\n",
    "\n",
    "<i><b>1.</b> for col in nycBike_frame.columns:</i>   \n",
    "For each column in the dataframe, do the following instructions:   \n",
    "\n",
    "<i><b>2.</b> station_vals = nycBike_frame[col].tolist()</i>   \n",
    "Turn the column into a list. <b>COMMENT:</b> Why is this important? As opposed to leaving it in a pandas column?\n",
    "\n",
    "<i><b>3.</b> station_id = col[1:]</i>   \n",
    "Trim the \"_\" from the column header so only the station_id number remains, we want the dict key to be int form of the station_id\n",
    "\n",
    "<i><b>4.</b> station_change = 0</i>   \n",
    "Default change value in available bikes, we want each station to start with a running total of 0, it resets for each new column\n",
    "\n",
    "<i><b>5.</b> for k,v in enumerate(station_vals):</i>   \n",
    "The enumerate() function returns not only the item in the list but also the index of the item. This allows us to find the value (with index of k) just after it in a sequence (k + 1). For clarity, 'k' is the index and 'v' is the value associated with that index. This function will run through the entire list, referencing the index and associated value. \n",
    "    \n",
    "<i><b>6.</b> if k < len(station_vals) - 1:</i>   \n",
    "In enumerate, the index will begin at 0 (k=0), so as long as the index is less than the length of the list(-1 to accomodate for pos 0) do the following instructions. Since we know the list is going to have 60 entries in this case, the loop will run 60 times.\n",
    "\n",
    "<i><b>7.</b> station_change += abs(station_vals[k] - station_vals[k+1])</i>   \n",
    "For each minute, the change (originaly set to 0) will be the value at index k - the value at index k+1. For example, if k = 0, the value at index k(0) is 40 and the value at index k+1(1) is 32 this returns 8 and would be added to the running total. In this case, the station_change would become 8 (0+8) and 8 would be the new running total. Whatever the next change was would be added to 8 and would become the new running total. \n",
    "\n",
    "<i><b>8.</b> nyc_bike_dict[int(station_id)] = station_change</i>  \n",
    "First, convert the station id to integer to match the datatype of the empty dict. Append to the dictionary the station id in INT form as the key with the value being the total running change in available bikes (station_change) that occured over the 60 minutes. "
   ]
  },
  {
   "cell_type": "markdown",
   "metadata": {},
   "source": [
    "<b>Finding the station with the max change:</b> At this point, the values are in the dictionary keyed on the station ID. We need to create a function that returns the station with the max change."
   ]
  },
  {
   "cell_type": "code",
   "execution_count": 87,
   "metadata": {
    "collapsed": true
   },
   "outputs": [],
   "source": [
    "def key_with_max_value(dictionary):\n",
    "    #create lists of the keys and values:\n",
    "    values = list(dictionary.values())\n",
    "    keys = list(dictionary.keys())\n",
    "    #putting these into lists will allow us to search for the max value while allowing us to index that position in the keys list\n",
    "    \n",
    "    #return key with max value:\n",
    "    return keys[values.index(max(values))]"
   ]
  },
  {
   "cell_type": "markdown",
   "metadata": {},
   "source": [
    "<b>How the return function works above:</b>   \n",
    "We are taking the keys list and indexing it, the code inside 'values.index(max(values))' is a position that holds the highest value. That position corresponds to a position inside the keys list that is the station_id for the highest changed value. \n",
    "\n",
    "<b>For clarity:</b>    \n",
    "<b>1. max(values)</b>, returns '59', the highest value from the dictionary   \n",
    "<b>2. values.index(max(values))</b>, returns '167', the position in the values list that corresponds to the '59'    \n",
    "<b>3. keys[167]</b>, returns '387', the station_id that corresponds to the '59',the station with the highest change\n",
    "\n",
    "This works because when converting the keys and values from the dictionary to lists, it keeps the key / value order in place."
   ]
  },
  {
   "cell_type": "markdown",
   "metadata": {},
   "source": [
    "<b>Run the function:</b>"
   ]
  },
  {
   "cell_type": "code",
   "execution_count": 89,
   "metadata": {
    "collapsed": false
   },
   "outputs": [
    {
     "name": "stdout",
     "output_type": "stream",
     "text": [
      "387\n"
     ]
    }
   ],
   "source": [
    "max_station_id = key_with_max_value(nyc_bike_dict)\n",
    "print max_station_id"
   ]
  },
  {
   "cell_type": "markdown",
   "metadata": {},
   "source": [
    "From here, query the reference table for the important information about the most active station:"
   ]
  },
  {
   "cell_type": "code",
   "execution_count": 92,
   "metadata": {
    "collapsed": false
   },
   "outputs": [
    {
     "data": {
      "text/plain": [
       "(387, u'Centre St & Chambers St', 40.71273266, -74.0046073)"
      ]
     },
     "execution_count": 92,
     "metadata": {},
     "output_type": "execute_result"
    }
   ],
   "source": [
    "#query sqlite for reference information\n",
    "cur.execute('SELECT id, stationname, latitude, longitude FROM citibike_reference WHERE id = ?', (max_station_id,))\n",
    "data = cur.fetchone() #returns only one row of data that matches the above query\n",
    "data"
   ]
  },
  {
   "cell_type": "code",
   "execution_count": 109,
   "metadata": {
    "collapsed": false
   },
   "outputs": [
    {
     "name": "stdout",
     "output_type": "stream",
     "text": [
      "The most active station is station id 387 at Centre St & Chambers St, latitude: 40.71273266 and longitude: -74.0046073\n",
      "with 59 bicycles coming and going in the hour between 2015-11-03T11:29:55 and 2015-11-03T12:29:22\n"
     ]
    }
   ],
   "source": [
    "#Print statements for clarity:\n",
    "print 'The most active station is station id %s at %s, latitude: %s and longitude: %s' % data\n",
    "print 'with ' + str(nyc_bike_dict[max_station_id]) + ' bicycles coming and going in the hour between ' + \\\n",
    "nycBike_frame.index[0] + ' and ' + nycBike_frame.index[-1] \n"
   ]
  },
  {
   "cell_type": "markdown",
   "metadata": {},
   "source": [
    "<b>Note:</b> This will just print out the first station in the list that has the max value. You should visually inspect the data to make sure this is the case:"
   ]
  },
  {
   "cell_type": "code",
   "execution_count": 110,
   "metadata": {
    "collapsed": false
   },
   "outputs": [
    {
     "data": {
      "image/png": "[encoded data removed]",
      "text/plain": [
       "<matplotlib.figure.Figure at 0xe048a90>"
      ]
     },
     "metadata": {},
     "output_type": "display_data"
    }
   ],
   "source": [
    "plt.bar(nyc_bike_dict.keys(), nyc_bike_dict.values())\n",
    "plt.show()"
   ]
  },
  {
   "cell_type": "markdown",
   "metadata": {},
   "source": [
    "Although we can't visually ensure that station 387 is the one with the 59, it certainly appears to be in the right spot. "
   ]
  },
  {
   "cell_type": "markdown",
   "metadata": {},
   "source": [
    "<b>Summary:</b>\n",
    "You've downloaded a file from the Internet, processed it in Python, profiled the data with statistical analysis and visual inspection, stored the data in a database, and analyzed the data to find the answer to a meaningful problem (which station has the most activity). In the following lessons, you'll repeat this process with data from different sources and different problems but the fundamental process is the same:\n",
    "\n",
    "1. Acquire   \n",
    "2. Clean   \n",
    "3. Profile   \n",
    "4. Store   \n",
    "5. Analyze   \n",
    "6. Visualize   "
   ]
  },
  {
   "cell_type": "code",
   "execution_count": null,
   "metadata": {
    "collapsed": true
   },
   "outputs": [],
   "source": []
  }
 ],
 "metadata": {
  "kernelspec": {
   "display_name": "Python 2",
   "language": "python",
   "name": "python2"
  },
  "language_info": {
   "codemirror_mode": {
    "name": "ipython",
    "version": 2
   },
   "file_extension": ".py",
   "mimetype": "text/x-python",
   "name": "python",
   "nbconvert_exporter": "python",
   "pygments_lexer": "ipython2",
   "version": "2.7.6"
  }
 },
 "nbformat": 4,
 "nbformat_minor": 0
}
