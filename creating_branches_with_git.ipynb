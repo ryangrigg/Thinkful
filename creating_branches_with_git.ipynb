{
 "cells": [
  {
   "cell_type": "markdown",
   "metadata": {},
   "source": [
    "## Introduction to Branching in Git"
   ]
  },
  {
   "cell_type": "markdown",
   "metadata": {},
   "source": [
    "Let's go back to our original 'unit_1_programming_python.ipynb'. We're going to change it slightly. To start out, let's create a branch. Type:   \n",
    "<i>git checkout -b test_merge</i> on the git command line.\n",
    "\n",
    "This command tells Git to create a new branch (-b) called test_merge and switch to using that branch for commits.   \n",
    "<b>Note:</b> You can switch back and forth between branches while you're working. Type <i>git checkout 'branch_name'</i> where 'branch_name' is the branch you want to checkout (note there is no -b, that's only when creating a new branch). You can do this when you want to switch between different branches or back to master. If you have uncommitted changes, Git will prompt you to commit those changes before switching. Otherwise, they'll be lost."
   ]
  },
  {
   "cell_type": "markdown",
   "metadata": {},
   "source": [
    "<b>Change Made:</b> Added some text to the original 'unit_1_programming_python.ipynb'"
   ]
  },
  {
   "cell_type": "markdown",
   "metadata": {},
   "source": [
    "Save the file and then go to your command line and type:   \n",
    "<i>git commit -am 'Testing Branch Nov 3'</i>     \n",
    "<b>Note:</b> Remember the -a tells Git to add all changes to previously committed files and saves us having to add them explicitly with git add ... like we did when we first committed the file. The -m tells Git to take the following text and insert it as a commit message. Without the -m we'll be prompted to add our commit message in the system default (usually VIM). If you get in that situation, here's a list of VIM commands (http://www.radford.edu/~mhtay/CPSC120/VIM_Editor_Commands.htm) to write your message and then exit the program. You can also add Sublime Text or your other text editor by following these instructions (https://help.github.com/articles/associating-text-editors-with-git/)."
   ]
  },
  {
   "cell_type": "markdown",
   "metadata": {},
   "source": [
    "Push the changes to the remote server:   \n",
    "<i>git push --set-upstream origin test_merge</i>   \n",
    "<b>Note:</b> If you weren't prompted before to set your push.default behavior, you may be at this point. We recommend following the directions to set the default behavior to simple by typing:   \n",
    "<i>git config --global push.default simple</i>   \n",
    "You can read more about this change in this Stack Overflow question (http://stackoverflow.com/questions/13148066/warning-push-default-is-unset-its-implicit-value-is-changing-in-git-2-0) or go directly to the Git documentation (http://git-scm.com/docs/git-config.html)."
   ]
  },
  {
   "cell_type": "markdown",
   "metadata": {},
   "source": [
    "The git push tells our local Git to push to the remote server; in this case, the one on Github. --set-upstream tells Git to set the remote server to test_merge based on origin. If you forget, don't worry. When you type git push without having the upstream set, Git will prompt you with the following error:\n",
    "\n",
    "![](files/gitbranch1.jpg)\n",
    "\n",
    "At this point, you've made your change in your branch locally and pushed the change to Github. Now we want to merge the changes together. We can do this on the command line, but it's easier to do this on Github.\n",
    "\n",
    "Navigate to your repository on Github. If you're recently pushed the change, you should see a banner with the name of the branch and a green button saying \"Compare & pull request.\"\n",
    "\n",
    "![](files/gitbranch2.jpg)\n",
    "\n",
    "A \"pull request\" is a request to pull the code you've created into the master branch. Think of it like the children coming home to show their parents what they've been doing all day. Clicking the button takes you to another page where you can see the changes that have been made. Github will also tell you if it can automatically merge the changes.   \n",
    "<b>Note:</b> In most cases, Git and Github can automatically merge changes. In those cases when it can't, you will be prompted to select the changes you want to keep from the two branches (master and the one you're trying to merge into master) and then need to commit those changes and then merge. This will need to happen on the command line but Github walks you through the necessary steps if it can't merge it for you (so no worries!).\n"
   ]
  },
  {
   "cell_type": "markdown",
   "metadata": {},
   "source": [
    "After clicking 'Compare & pull request' on Github, we'll see:\n",
    "\n",
    "![](files/gitbranch3.jpg)\n",
    "\n",
    "In our case, the changes can be automatically merged, so make any notes you want in the comment box, click the green \"Create pull request\" button on the right-hand side, and on the next page, click the green \"Merge pull request\", confirm the merge, and you are done.\n",
    "\n",
    "![](files/gitbranch4.jpg)\n",
    "\n",
    "<b>Note:</b> Github gives you the option of deleting your branch after it's been merged. This is a good idea if the purpose of the branch was to work on a single feature or set of features. If you're going to be doing more work in the branch, then you can keep the branch around and re-merge it as many times as you'd like, keeping your master branch clean and your branch full of all the neat things you're working on.\n",
    "\n",
    "![](files/gitbranch5.jpg)"
   ]
  },
  {
   "cell_type": "markdown",
   "metadata": {},
   "source": [
    "The master branch on your local machine still has the old file. Switch back to it by typing:   \n",
    "<i>git checkout master</i>   \n",
    "<i>git pull</i> \n",
    "\n",
    "The result should look like this (structure only, as files differ):\n",
    "\n",
    "![](files/gitbranch6.jpg)"
   ]
  },
  {
   "cell_type": "markdown",
   "metadata": {
    "collapsed": true
   },
   "source": [
    "## To Summarize:"
   ]
  },
  {
   "cell_type": "markdown",
   "metadata": {},
   "source": [
    "Branching is an important way to leverage Git for code development, allowing you to keep a clean master branch that stays operational while you work on new features and attempt code changes in other branches, merging your changes back in when they've been properly tested. The basic Git commands are:   \n",
    "\n",
    "<i>git checkout -b <branch_name> </i> to create a new branch and then   \n",
    "<i>git push --set-upstream origin <branch_name> </i> when you're ready to push your changes to the remote server.\n",
    "\n",
    "You can merge on the command line, but it's best to follow the sequence on Github so it can handle the automatic merge and walk you through any issues you may have. For more information, checkout the Git documentation on branching (http://git-scm.com/book/en/v1/Git-Branching). Going forward, it's your option whether you want to branch and merge your code, but it's a good habit to get into as you start building more complex scripts."
   ]
  },
  {
   "cell_type": "code",
   "execution_count": null,
   "metadata": {
    "collapsed": true
   },
   "outputs": [],
   "source": []
  }
 ],
 "metadata": {
  "kernelspec": {
   "display_name": "Python 2",
   "language": "python",
   "name": "python2"
  },
  "language_info": {
   "codemirror_mode": {
    "name": "ipython",
    "version": 2
   },
   "file_extension": ".py",
   "mimetype": "text/x-python",
   "name": "python",
   "nbconvert_exporter": "python",
   "pygments_lexer": "ipython2",
   "version": "2.7.6"
  }
 },
 "nbformat": 4,
 "nbformat_minor": 0
}
