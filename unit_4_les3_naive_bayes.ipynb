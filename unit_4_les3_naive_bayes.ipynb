{
 "cells": [
  {
   "cell_type": "code",
   "execution_count": 1,
   "metadata": {
    "collapsed": true
   },
   "outputs": [],
   "source": [
    "import pandas as pd\n",
    "import statsmodels.api as sm\n",
    "import statsmodels.formula.api as smf #needed for models in this script\n",
    "import pylab as pl\n",
    "import matplotlib.pyplot as plt\n",
    "import numpy as np\n",
    "from scipy import stats"
   ]
  },
  {
   "cell_type": "code",
   "execution_count": 2,
   "metadata": {
    "collapsed": true
   },
   "outputs": [],
   "source": [
    "pd.set_option('html', True) #see the dataframe in a more user friendly manner\n",
    "%matplotlib inline"
   ]
  },
  {
   "cell_type": "markdown",
   "metadata": {},
   "source": [
    "## Naive Bayes Classification Overview"
   ]
  },
  {
   "cell_type": "markdown",
   "metadata": {},
   "source": [
    "The probabilistic model of Naive Bayes classifiers is based on Bayes’ Theorem, while the adjective “naive” comes from the assumption that the features in the data are mutually independent. (In other words, the features in our data aren't like Barack Obama being elected President and Joe Biden being elected Vice President.) More often than not, the features in the data aren't mutually independent, but Naive Bayes classifiers still perform well, and they perform especially well on small sample sizes, which is one of their main advantages. In this lesson, we'll look at the probability model of the Naive Bayes classifier and apply the concept to construct a classifier.\n",
    "\n",
    "Very simply, a Naive Bayes classifier will take an observation, compute the Bayesian probability of each possible hypothesis, and select the hypothesis with the highest probability (the Maximum A Posteriori (MAP) hypothesis) to classify the observation."
   ]
  },
  {
   "cell_type": "markdown",
   "metadata": {},
   "source": [
    "## Data Cleaning and Exploration"
   ]
  },
  {
   "cell_type": "markdown",
   "metadata": {},
   "source": [
    "We're going to use a dataset of ideal versus actual weight to classify gender. You can download the csv file here: https://www.dropbox.com/s/hg0tqy6saqeoq0j/ideal_weight.csv?dl=0\n",
    "\n",
    "* Remove the single quotes from the column names.\n",
    "* Remove the single quotes from the \"sex\" column.\n",
    "* Plot the distributions of actual weight and ideal weight."
   ]
  },
  {
   "cell_type": "code",
   "execution_count": 4,
   "metadata": {
    "collapsed": false
   },
   "outputs": [
    {
     "data": {
      "text/html": [
       "<div>\n",
       "<table border=\"1\" class=\"dataframe\">\n",
       "  <thead>\n",
       "    <tr style=\"text-align: right;\">\n",
       "      <th></th>\n",
       "      <th>'id'</th>\n",
       "      <th>'sex'</th>\n",
       "      <th>'actual'</th>\n",
       "      <th>'ideal'</th>\n",
       "      <th>'diff'</th>\n",
       "    </tr>\n",
       "  </thead>\n",
       "  <tbody>\n",
       "    <tr>\n",
       "      <th>0</th>\n",
       "      <td>0</td>\n",
       "      <td>'Male'</td>\n",
       "      <td>215</td>\n",
       "      <td>190</td>\n",
       "      <td>25</td>\n",
       "    </tr>\n",
       "    <tr>\n",
       "      <th>1</th>\n",
       "      <td>1</td>\n",
       "      <td>'Female'</td>\n",
       "      <td>155</td>\n",
       "      <td>135</td>\n",
       "      <td>20</td>\n",
       "    </tr>\n",
       "  </tbody>\n",
       "</table>\n",
       "</div>"
      ],
      "text/plain": [
       "   'id'     'sex'  'actual'  'ideal'  'diff'\n",
       "0     0    'Male'       215      190      25\n",
       "1     1  'Female'       155      135      20"
      ]
     },
     "execution_count": 4,
     "metadata": {},
     "output_type": "execute_result"
    }
   ],
   "source": [
    "#read in data:\n",
    "weight_frame = pd.read_csv('ideal_weight.csv')\n",
    "weight_frame.head(2)"
   ]
  },
  {
   "cell_type": "code",
   "execution_count": 9,
   "metadata": {
    "collapsed": false
   },
   "outputs": [
    {
     "data": {
      "text/html": [
       "<div>\n",
       "<table border=\"1\" class=\"dataframe\">\n",
       "  <thead>\n",
       "    <tr style=\"text-align: right;\">\n",
       "      <th></th>\n",
       "      <th>id</th>\n",
       "      <th>sex</th>\n",
       "      <th>actual</th>\n",
       "      <th>ideal</th>\n",
       "      <th>diff</th>\n",
       "    </tr>\n",
       "  </thead>\n",
       "  <tbody>\n",
       "    <tr>\n",
       "      <th>0</th>\n",
       "      <td>0</td>\n",
       "      <td>Male</td>\n",
       "      <td>215</td>\n",
       "      <td>190</td>\n",
       "      <td>25</td>\n",
       "    </tr>\n",
       "    <tr>\n",
       "      <th>1</th>\n",
       "      <td>1</td>\n",
       "      <td>Female</td>\n",
       "      <td>155</td>\n",
       "      <td>135</td>\n",
       "      <td>20</td>\n",
       "    </tr>\n",
       "  </tbody>\n",
       "</table>\n",
       "</div>"
      ],
      "text/plain": [
       "   id     sex  actual  ideal  diff\n",
       "0   0    Male     215    190    25\n",
       "1   1  Female     155    135    20"
      ]
     },
     "execution_count": 9,
     "metadata": {},
     "output_type": "execute_result"
    }
   ],
   "source": [
    "weight_frame.rename(columns=lambda x: x.replace(\"'\", \"\"), inplace=True) #Remove the single quotes from the column names\n",
    "weight_frame['sex'] = weight_frame['sex'].apply(lambda x: x.strip(\"'\")) #Remove the single quotes from the \"sex\" column.\n",
    "weight_frame.head(2)"
   ]
  },
  {
   "cell_type": "markdown",
   "metadata": {},
   "source": [
    "Distribution of actual weight vs. ideal weight:"
   ]
  },
  {
   "cell_type": "code",
   "execution_count": 22,
   "metadata": {
    "collapsed": false
   },
   "outputs": [
    {
     "data": {
      "image/png": "[encoded data removed]",
      "text/plain": [
       "<matplotlib.figure.Figure at 0x196829b0>"
      ]
     },
     "metadata": {},
     "output_type": "display_data"
    }
   ],
   "source": [
    "plt.figure(figsize=(12,7))\n",
    "plt.hist(weight_frame['actual'], color='green', label='Actual')\n",
    "plt.hist(weight_frame['ideal'],color='blue', alpha=0.75, label='Ideal')\n",
    "plt.title(\"Actual vs. Ideal Weights\", fontsize=14)\n",
    "plt.xlabel(\"Weight\", fontsize=12)\n",
    "plt.ylabel(\"Count\", fontsize=12)\n",
    "plt.legend()\n",
    "plt.show()"
   ]
  },
  {
   "cell_type": "markdown",
   "metadata": {},
   "source": [
    "Plot the distributions of difference in weight:"
   ]
  },
  {
   "cell_type": "code",
   "execution_count": 24,
   "metadata": {
    "collapsed": false
   },
   "outputs": [
    {
     "data": {
      "image/png": "[encoded data removed]",
      "text/plain": [
       "<matplotlib.figure.Figure at 0x196b8fd0>"
      ]
     },
     "metadata": {},
     "output_type": "display_data"
    }
   ],
   "source": [
    "plt.figure(figsize=(12,7))\n",
    "plt.hist(weight_frame['diff'], color='red', bins = 12, alpha=0.8)\n",
    "plt.title(\"Difference between Actual and Ideal Weights\", fontsize=14)\n",
    "plt.xlabel(\"Difference in Weight\", fontsize=12)\n",
    "plt.ylabel(\"Count\", fontsize=12)\n",
    "plt.show()"
   ]
  },
  {
   "cell_type": "markdown",
   "metadata": {},
   "source": [
    "* Map \"sex\" to a categorical variable.\n",
    "* Are there more women or men in the dataset?"
   ]
  },
  {
   "cell_type": "code",
   "execution_count": 25,
   "metadata": {
    "collapsed": false
   },
   "outputs": [
    {
     "name": "stdout",
     "output_type": "stream",
     "text": [
      "id         int64\n",
      "sex       object\n",
      "actual     int64\n",
      "ideal      int64\n",
      "diff       int64\n",
      "dtype: object\n",
      "\n",
      "id           int64\n",
      "sex       category\n",
      "actual       int64\n",
      "ideal        int64\n",
      "diff         int64\n",
      "dtype: object\n"
     ]
    }
   ],
   "source": [
    "print weight_frame.dtypes\n",
    "print ''\n",
    "weight_frame['sex'] = weight_frame['sex'].astype('category')\n",
    "print weight_frame.dtypes"
   ]
  },
  {
   "cell_type": "code",
   "execution_count": 26,
   "metadata": {
    "collapsed": false
   },
   "outputs": [
    {
     "data": {
      "text/plain": [
       "Female    119\n",
       "Male       63\n",
       "dtype: int64"
      ]
     },
     "execution_count": 26,
     "metadata": {},
     "output_type": "execute_result"
    }
   ],
   "source": [
    "weight_frame.sex.value_counts()"
   ]
  },
  {
   "cell_type": "markdown",
   "metadata": {},
   "source": [
    "## Naive Bayes Analysis"
   ]
  },
  {
   "cell_type": "markdown",
   "metadata": {},
   "source": [
    "We're going to use the <b>sklearn.naive_bayes.GaussianNB</b> (http://scikit-learn.org/stable/modules/generated/sklearn.naive_bayes.GaussianNB.html#sklearn.naive_bayes.GaussianNB) to build our classifier of gender. A Gaussian Naive Bayes classifier assumes that the likelihood of the features is assumed to be Gaussian.\n",
    "\n",
    "* Fit a Naive Bayes classifier of sex to actual weight, ideal weight, and diff.\n",
    "* How many points were mislabeled? How many points were there in the dataset, total?\n",
    "* Predict the sex for an actual weight of 145, an ideal weight of 160, and a diff of -15.\n",
    "* Predict the sex for an actual weight of 160, an ideal weight of 145, and a diff of 15."
   ]
  },
  {
   "cell_type": "code",
   "execution_count": null,
   "metadata": {
    "collapsed": true
   },
   "outputs": [],
   "source": []
  }
 ],
 "metadata": {
  "kernelspec": {
   "display_name": "Python 2",
   "language": "python",
   "name": "python2"
  },
  "language_info": {
   "codemirror_mode": {
    "name": "ipython",
    "version": 2
   },
   "file_extension": ".py",
   "mimetype": "text/x-python",
   "name": "python",
   "nbconvert_exporter": "python",
   "pygments_lexer": "ipython2",
   "version": "2.7.10"
  }
 },
 "nbformat": 4,
 "nbformat_minor": 0
}
