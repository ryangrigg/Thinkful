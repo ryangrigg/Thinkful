{
 "cells": [
  {
   "cell_type": "code",
   "execution_count": 1,
   "metadata": {
    "collapsed": true
   },
   "outputs": [],
   "source": [
    "import pandas as pd\n",
    "import statsmodels.api as sm\n",
    "import statsmodels.formula.api as smf #needed for models in this script\n",
    "import pylab as pl\n",
    "import matplotlib.pyplot as plt\n",
    "import numpy as np\n",
    "from scipy import stats"
   ]
  },
  {
   "cell_type": "code",
   "execution_count": 2,
   "metadata": {
    "collapsed": true
   },
   "outputs": [],
   "source": [
    "pd.set_option('html', True) #see the dataframe in a more user friendly manner\n",
    "%matplotlib inline"
   ]
  },
  {
   "cell_type": "markdown",
   "metadata": {},
   "source": [
    "## Naive Bayes Classification Overview"
   ]
  },
  {
   "cell_type": "markdown",
   "metadata": {},
   "source": [
    "The probabilistic model of Naive Bayes classifiers is based on Bayes’ Theorem, while the adjective “naive” comes from the assumption that the features in the data are mutually independent. (In other words, the features in our data aren't like Barack Obama being elected President and Joe Biden being elected Vice President.) More often than not, the features in the data aren't mutually independent, but Naive Bayes classifiers still perform well, and they perform especially well on small sample sizes, which is one of their main advantages. In this lesson, we'll look at the probability model of the Naive Bayes classifier and apply the concept to construct a classifier.\n",
    "\n",
    "Very simply, a Naive Bayes classifier will take an observation, compute the Bayesian probability of each possible hypothesis, and select the hypothesis with the highest probability (the Maximum A Posteriori (MAP) hypothesis) to classify the observation."
   ]
  },
  {
   "cell_type": "markdown",
   "metadata": {},
   "source": [
    "## Data Cleaning and Exploration"
   ]
  },
  {
   "cell_type": "markdown",
   "metadata": {},
   "source": [
    "We're going to use a dataset of ideal versus actual weight to classify gender. You can download the csv file here: https://www.dropbox.com/s/hg0tqy6saqeoq0j/ideal_weight.csv?dl=0"
   ]
  },
  {
   "cell_type": "code",
   "execution_count": null,
   "metadata": {
    "collapsed": true
   },
   "outputs": [],
   "source": []
  }
 ],
 "metadata": {
  "kernelspec": {
   "display_name": "Python 2",
   "language": "python",
   "name": "python2"
  },
  "language_info": {
   "codemirror_mode": {
    "name": "ipython",
    "version": 2
   },
   "file_extension": ".py",
   "mimetype": "text/x-python",
   "name": "python",
   "nbconvert_exporter": "python",
   "pygments_lexer": "ipython2",
   "version": "2.7.6"
  }
 },
 "nbformat": 4,
 "nbformat_minor": 0
}
