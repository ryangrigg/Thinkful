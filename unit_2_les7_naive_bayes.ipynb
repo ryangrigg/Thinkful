{
 "cells": [
  {
   "cell_type": "code",
   "execution_count": 1,
   "metadata": {
    "collapsed": true
   },
   "outputs": [],
   "source": [
    "import pandas as pd\n",
    "import statsmodels.api as sm\n",
    "import statsmodels.formula.api as smf #needed for models in this script\n",
    "import pylab as pl\n",
    "import matplotlib.pyplot as plt\n",
    "import numpy as np\n",
    "from scipy import stats"
   ]
  },
  {
   "cell_type": "code",
   "execution_count": 2,
   "metadata": {
    "collapsed": true
   },
   "outputs": [],
   "source": [
    "pd.set_option('html', True) #see the dataframe in a more user friendly manner\n",
    "%matplotlib inline"
   ]
  },
  {
   "cell_type": "markdown",
   "metadata": {},
   "source": [
    "## Naive Bayes Overview"
   ]
  },
  {
   "cell_type": "markdown",
   "metadata": {},
   "source": [
    "Bayesian Probabilities\n",
    "\n",
    "The Bayesian notion of probability can be expressed as follows:\n",
    "\n",
    "posterior probability = (conditional probability x prior probability) / evidence\n",
    "\n",
    "The posterior probability is basically the probability that an observation belongs to some class based on its observed feature values. To give an example: What is the probability that a person has diabetes given a pre-breakfast blood glucose measurement of x and a post-breakfast blood glucose measurement of y? In the Naive Bayes model, classifications are made based on the most probable hypothesis.\n",
    "\n",
    "Bayesian inference introduces an additional prior probability (or just prior) that can be interpreted as prior belief or a priori knowledge. Priors describe the general probability of encountering a particular class. For example, we might say that the prior probability that a person is male versus female is 0.5. We can obtain these class priors by consulting domain experts, or estimate them from data. (If you're estimating class priors from training data, it's important that your sample is drawn i.i.d. (independent and identically distributed) from a representative sample of the population.)\n",
    "\n",
    "Good video to watch: https://www.youtube.com/watch?v=BLcgeLALLnc"
   ]
  },
  {
   "cell_type": "markdown",
   "metadata": {},
   "source": [
    "## Working Through a Story Problem"
   ]
  },
  {
   "cell_type": "markdown",
   "metadata": {},
   "source": [
    "Problem:\n",
    "\n",
    "100 out of 10,000 women at age forty who participate in routine screening have breast cancer. 80 of every 100 women with breast cancer will get a positive mammogram. 950 out of 9,900 women without breast cancer will also get a positive mammogram. If 10,000 women in this age group undergo a routine screening, about what fraction of women with positive mammograms will actually have breast cancer?"
   ]
  },
  {
   "cell_type": "markdown",
   "metadata": {},
   "source": [
    "Correct Answer:\n",
    "\n",
    "7.8%, obtained as follows: Out of 10,000 women, 100 have breast cancer; 80 of those 100 have positive mammograms. From the same 10,000 women, 9,900 will not have breast cancer and of those 9,900 women, 950 will also have positive mammograms. This makes the total number of women with positive mammograms 950 + 80 or 1,030. Of those 1,030 women with positive mammograms, 80 will have cancer. Expressed as a proportion, this is 80/1,030 or 0.07767 or 7.8%."
   ]
  },
  {
   "cell_type": "markdown",
   "metadata": {},
   "source": [
    "### Step by Step"
   ]
  },
  {
   "cell_type": "markdown",
   "metadata": {},
   "source": [
    "To put it another way, before the mammogram, the 10,000 women can be divided into <b>two groups:</b>\n",
    "    \n",
    "<b>Group 1:</b> 100 women with breast cancer   \n",
    "<b>Group 2:</b>  9,900 women without breast cancer\n",
    "\n",
    "Summing these two groups gives a total of 10,000 patients, confirming that none have been lost in the math."
   ]
  },
  {
   "cell_type": "markdown",
   "metadata": {},
   "source": [
    "After the mammogram, the women can be divided into <b>four groups:</b>\n",
    "\n",
    "<b>Group A:</b> 80 women with breast cancer, and a positive mammogram.    \n",
    "<b>Group B:</b> 20 women with breast cancer, and a negative mammogram.   \n",
    "<b>Group C:</b> 950 women without breast cancer, and a positive mammogram.   \n",
    "<b>Group D:</b> 8,950 women without breast cancer, and a negative mammogram.\n",
    "\n",
    "As you can check, the sum of all four groups is still 10,000. The sum of groups A and B, the groups with breast cancer, corresponds to group 1; and the sum of groups C and D, the groups without breast cancer, corresponds to group 2; so administering a mammogram does not actually change the number of women with breast cancer. The proportion of the cancer patients (A + B) within the complete set of patients (A + B + C + D) is the same as the 1% prior chance that a woman has cancer: (80 + 20) / (80 + 20 + 950 + 8950) = 100 / 10000 = 1%."
   ]
  },
  {
   "cell_type": "markdown",
   "metadata": {},
   "source": [
    "The proportion of cancer patients with positive results, within the group of all patients with positive results, <b>is the proportion of (A) within (A + C):</b>\n",
    "\n",
    "i)   80 / (80 + 950)     \n",
    "ii)  80 / 1030    \n",
    "iii) 0.0776699 or 7.8%   \n",
    "\n",
    "If you administer a mammogram to 10,000 patients, then out of the 1030 with positive mammograms, 80 of those positive-mammogram patients will have cancer. This is the correct answer, the answer a doctor should give a positive-mammogram patient if she asks about the chance she has breast cancer; if thirteen patients ask this question, roughly 1 out of those 13 will have cancer.\n",
    "\n",
    "The <b>most common mistake</b> is to ignore the original fraction of women with breast cancer and the fraction of women without breast cancer who receive false positives, and focus only on the fraction of women with breast cancer who get positive results. It's a mistake to assume that if around 80% of women with breast cancer have positive mammograms, then the probability of a woman with a positive mammogram having breast cancer must be around 80%."
   ]
  },
  {
   "cell_type": "markdown",
   "metadata": {},
   "source": [
    "Figuring out the final answer always requires all three pieces of information:\n",
    "\n",
    "i)   the percentage of women with breast cancer   \n",
    "ii)  the percentage of women without breast cancer who receive false positives   \n",
    "iii) the percentage of women with breast cancer who receive (correct) positives.\n",
    "\n",
    "To see that the final answer always depends on the original fraction of women with breast cancer, consider an alternate universe in which only one woman out of a million has breast cancer. Even if mammogram in this world detects breast cancer in 8 out of 10 cases, while returning a false positive on a woman without breast cancer in only 1 out of 10 cases, there will still be a hundred thousand false positives for every real case of cancer detected. The original probability that a woman has cancer is so extremely low that, although a positive result on the mammogram does increase the estimated probability, the probability isn't increased to certainty or even \"a noticeable chance\"; the probability goes from 1:1,000,000 to 1:100,000.\n",
    "\n",
    "Similarly, in an alternate universe where only one out of a million women does not have breast cancer, a positive result on the patient's mammogram obviously doesn't mean that she has an 80% chance of having breast cancer! If this were the case her estimated probability of having cancer would have been revised drastically downward after she got a positive result on her mammogram---an 80% chance of having cancer is a lot less than 99.9999%! If you administer mammograms to ten million women in this world, around eight million women with breast cancer will get correct positive results, while one woman without breast cancer will get false positive results. Thus, if you got a positive mammogram in this alternate universe, your chance of having cancer would go from 99.9999% up to 99.999987%. That is, your chance of being healthy would go from 1:1,000,000 down to 1:8,000,000.\n",
    "\n",
    "These two extreme examples help demonstrate that the mammogram result doesn't replace your old information about the patient's chance of having cancer; the mammogram slides the estimated probability in the direction of the result. A positive result slides the original probability upward; a negative result slides the probability downward. For example, in the original problem where 1% of the women have cancer, 80% of women with cancer get positive mammograms, and 9.6% of women without cancer get positive mammograms, a positive result on the mammogram slides the 1% chance upward to 7.8%."
   ]
  },
  {
   "cell_type": "markdown",
   "metadata": {},
   "source": [
    "The original proportion of patients with breast cancer is known as the <b>prior probability.</b> The chance that a patient with breast cancer gets a positive mammogram, and the chance that a patient without breast cancer gets a positive mammogram, are known as the two <b>conditional probabilities.</b>   \n",
    "Collectively, this initial information is known as the priors. The final answer---the estimated probability that a patient has breast cancer, given that we know she has a positive result on her mammogram---is known as the revised probability or the <b>posterior probability.</b>"
   ]
  },
  {
   "cell_type": "code",
   "execution_count": null,
   "metadata": {
    "collapsed": true
   },
   "outputs": [],
   "source": []
  },
  {
   "cell_type": "code",
   "execution_count": null,
   "metadata": {
    "collapsed": true
   },
   "outputs": [],
   "source": []
  },
  {
   "cell_type": "code",
   "execution_count": null,
   "metadata": {
    "collapsed": true
   },
   "outputs": [],
   "source": []
  },
  {
   "cell_type": "code",
   "execution_count": null,
   "metadata": {
    "collapsed": true
   },
   "outputs": [],
   "source": []
  },
  {
   "cell_type": "code",
   "execution_count": null,
   "metadata": {
    "collapsed": true
   },
   "outputs": [],
   "source": []
  }
 ],
 "metadata": {
  "kernelspec": {
   "display_name": "Python 2",
   "language": "python",
   "name": "python2"
  },
  "language_info": {
   "codemirror_mode": {
    "name": "ipython",
    "version": 2
   },
   "file_extension": ".py",
   "mimetype": "text/x-python",
   "name": "python",
   "nbconvert_exporter": "python",
   "pygments_lexer": "ipython2",
   "version": "2.7.6"
  }
 },
 "nbformat": 4,
 "nbformat_minor": 0
}
