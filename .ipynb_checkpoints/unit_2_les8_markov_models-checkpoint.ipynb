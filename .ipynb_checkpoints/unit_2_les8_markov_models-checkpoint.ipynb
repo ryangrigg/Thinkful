{
 "cells": [
  {
   "cell_type": "code",
   "execution_count": 1,
   "metadata": {
    "collapsed": true
   },
   "outputs": [],
   "source": [
    "import pandas as pd\n",
    "import statsmodels.api as sm\n",
    "import statsmodels.formula.api as smf #needed for models in this script\n",
    "import pylab as pl\n",
    "import matplotlib.pyplot as plt\n",
    "import numpy as np\n",
    "from scipy import stats"
   ]
  },
  {
   "cell_type": "code",
   "execution_count": 2,
   "metadata": {
    "collapsed": true
   },
   "outputs": [],
   "source": [
    "pd.set_option('html', True) #see the dataframe in a more user friendly manner\n",
    "%matplotlib inline"
   ]
  },
  {
   "cell_type": "markdown",
   "metadata": {},
   "source": [
    "## Markov Process"
   ]
  },
  {
   "cell_type": "markdown",
   "metadata": {},
   "source": [
    "A Markov process is one whose present state is influenced only by the state of the immediately prior to the present state.The present state in turn has a number of possible outcome states, whose relative likelihood may be different from other possible states. The assumption that it doesn't matter what step number we are in is an assumption of time homogeneity. In other words, the present state is all that matters about the past. This is the key Markov assumption/property."
   ]
  },
  {
   "cell_type": "markdown",
   "metadata": {},
   "source": [
    "## Overview of Markov Models"
   ]
  },
  {
   "cell_type": "markdown",
   "metadata": {},
   "source": [
    "With Markov processes, we are interested in transitions from one state to another that are determined by random processes (say, for example, leaving and entering a queue). The transition probability is defined as the probability that the next state will equal some state n, given that the current state is state m. The transition probabilities for any given state have to sum up to one.\n",
    "\n",
    "It is pretty helpful to think of Markov chains visually. The graph below is a basic example:\n",
    "\n",
    "![](files/mm1.jpg)\n",
    "\n",
    "In the example above, there are two states: rainy and sunny. The transition probability from rainy to sunny is .6, where as the transition probability from sunny to rainy is .7. Note that there is a transition probaibility from rainy to rainy is not 0. Also, the transitions of probabilities of each state adds up to 1."
   ]
  },
  {
   "cell_type": "markdown",
   "metadata": {},
   "source": [
    "It also helps to think of Markov processes as a square matrix, where the row number corresponds to the state number at some time and the column number corresponds to the state in the next time period. The entries in the matrix are the transition probabilities from the current state to the next state. As an example, we can code the example graph into a matrix."
   ]
  },
  {
   "cell_type": "code",
   "execution_count": 3,
   "metadata": {
    "collapsed": false
   },
   "outputs": [
    {
     "data": {
      "text/html": [
       "<div>\n",
       "<table border=\"1\" class=\"dataframe\">\n",
       "  <thead>\n",
       "    <tr style=\"text-align: right;\">\n",
       "      <th></th>\n",
       "      <th>rainy</th>\n",
       "      <th>sunny</th>\n",
       "    </tr>\n",
       "  </thead>\n",
       "  <tbody>\n",
       "    <tr>\n",
       "      <th>rainy</th>\n",
       "      <td>0.4</td>\n",
       "      <td>0.6</td>\n",
       "    </tr>\n",
       "    <tr>\n",
       "      <th>sunny</th>\n",
       "      <td>0.7</td>\n",
       "      <td>0.3</td>\n",
       "    </tr>\n",
       "  </tbody>\n",
       "</table>\n",
       "</div>"
      ],
      "text/plain": [
       "       rainy  sunny\n",
       "rainy    0.4    0.6\n",
       "sunny    0.7    0.3"
      ]
     },
     "execution_count": 3,
     "metadata": {},
     "output_type": "execute_result"
    }
   ],
   "source": [
    "markov_1 = pd.DataFrame({'rainy': [.4, .7],'sunny': [.6, .3]}, index=[\"rainy\", \"sunny\"])\n",
    "markov_1"
   ]
  },
  {
   "cell_type": "markdown",
   "metadata": {},
   "source": [
    "To see the transition probability of a rainy day to a sunny one, we go to the row corresponding to \"rainy\" and the column corresponding to \"sunny\". The answer should match the graph."
   ]
  },
  {
   "cell_type": "markdown",
   "metadata": {},
   "source": [
    "The matrix setup makes it easy to calculate the transition probabilities after multiple transitions - simply raise the transition matrix A to the nth(the number of transitions) power. (For a review of matrix multiplication: https://www.khanacademy.org/math/algebra2/alg2-matrices/matrix-multiplication-alg2/v/multiplying-a-matrix-by-a-matrix)"
   ]
  },
  {
   "cell_type": "code",
   "execution_count": 6,
   "metadata": {
    "collapsed": false
   },
   "outputs": [
    {
     "name": "stdout",
     "output_type": "stream",
     "text": [
      "       rainy  sunny\n",
      "rainy   0.58   0.42\n",
      "sunny   0.49   0.51\n"
     ]
    }
   ],
   "source": [
    "# for two transitions:\n",
    "print markov_1.dot(markov_1) # '.dot' function for matrix multiplication "
   ]
  },
  {
   "cell_type": "markdown",
   "metadata": {},
   "source": [
    "From the above results, we can see that the chance of it raining two steps (or transitions) after it was sunny is .49. For large numbers of steps or transitions, the Markov chain can enter a state of states with stable probabilities regardless of the initial starting point. This set of probabilities for each state is known as the steady state.\n",
    "\n",
    "For certain Markov states, states or nodes can be recurrent or transient. Transient states mean that there are transitions that will permanently lead away from the initial state and so the long-term probability of that state occurring is 0. Recurrent states are one which will always have some change of coming back to the original state. A recurrent class is a set of recurrent states communicating between only each other."
   ]
  },
  {
   "cell_type": "markdown",
   "metadata": {},
   "source": [
    "### Step by Step Explanation"
   ]
  },
  {
   "cell_type": "code",
   "execution_count": 26,
   "metadata": {
    "collapsed": false
   },
   "outputs": [
    {
     "name": "stdout",
     "output_type": "stream",
     "text": [
      "Original Probabilities\n",
      "       rainy  sunny\n",
      "rainy    0.4    0.6\n",
      "sunny    0.7    0.3\n"
     ]
    }
   ],
   "source": [
    "print 'Original Probabilities'\n",
    "print markov_1"
   ]
  },
  {
   "cell_type": "markdown",
   "metadata": {},
   "source": [
    "In this example, the p (probability) of a rainy day occuring after a raining day is 40%, the (p) of a sunny day after a \n",
    "rainy day is 60%, the (p) of a rainy day after a sunny day is 70% and the (p) of a sunny day following a sunny day is 30%."
   ]
  },
  {
   "cell_type": "markdown",
   "metadata": {},
   "source": [
    "<b>Transitions:</b> We need to pick what happened on day 0 to begin looking at transitions and how proabilities change given the current state. For the below transitions; let's assume day 0 was sunny."
   ]
  },
  {
   "cell_type": "code",
   "execution_count": 72,
   "metadata": {
    "collapsed": false
   },
   "outputs": [
    {
     "name": "stdout",
     "output_type": "stream",
     "text": [
      "Predicting Day 1 Weather; zero transition:\n",
      "       rainy  sunny\n",
      "rainy    0.4    0.6\n",
      "sunny    0.7    0.3\n"
     ]
    }
   ],
   "source": [
    "# Zero Transition\n",
    "print 'Predicting Day 1 Weather; zero transition:'\n",
    "print markov_1"
   ]
  },
  {
   "cell_type": "markdown",
   "metadata": {},
   "source": [
    "This is easy, since we know on day 0 it was sunny, day 1 will have a 70% chance of raining and a 30% chance of being sunny. We can ignore the top row since the previous day was not rainy."
   ]
  },
  {
   "cell_type": "code",
   "execution_count": 73,
   "metadata": {
    "collapsed": false
   },
   "outputs": [
    {
     "name": "stdout",
     "output_type": "stream",
     "text": [
      "Predicting Day 2 Weather; one transition:\n",
      "       rainy  sunny\n",
      "rainy   0.58   0.42\n",
      "sunny   0.49   0.51\n"
     ]
    }
   ],
   "source": [
    "# One Transitions\n",
    "print 'Predicting Day 2 Weather; one transition:'\n",
    "print markov_1.dot(markov_1)"
   ]
  },
  {
   "cell_type": "markdown",
   "metadata": {},
   "source": [
    "On day 2 there is a 49% chance it will rain when day 0 was sunny. Again, we ignore the rainy row as we didn't start in that state."
   ]
  },
  {
   "cell_type": "code",
   "execution_count": 74,
   "metadata": {
    "collapsed": false
   },
   "outputs": [
    {
     "name": "stdout",
     "output_type": "stream",
     "text": [
      "Predicting Day 3 Weather; two transitions:\n",
      "       rainy  sunny\n",
      "rainy  0.526  0.474\n",
      "sunny  0.553  0.447\n"
     ]
    }
   ],
   "source": [
    "# Two Transitions\n",
    "print 'Predicting Day 3 Weather; two transitions:'\n",
    "print markov_1.dot(markov_1).dot(markov_1)"
   ]
  },
  {
   "cell_type": "markdown",
   "metadata": {},
   "source": [
    "On day 3 there is a 55.3% chance it will rain when day 0 was sunny. "
   ]
  },
  {
   "cell_type": "code",
   "execution_count": 75,
   "metadata": {
    "collapsed": false
   },
   "outputs": [
    {
     "name": "stdout",
     "output_type": "stream",
     "text": [
      "Predicting Day 4 Weather; three transitions:\n",
      "        rainy   sunny\n",
      "rainy  0.5422  0.4578\n",
      "sunny  0.5341  0.4659\n"
     ]
    }
   ],
   "source": [
    "# Three Transitions\n",
    "print 'Predicting Day 4 Weather; three transitions:'\n",
    "print markov_1.dot(markov_1).dot(markov_1).dot(markov_1)"
   ]
  },
  {
   "cell_type": "markdown",
   "metadata": {},
   "source": [
    "On day 4 there is a 53.41% chance it will rain when day 0 was sunny. "
   ]
  },
  {
   "cell_type": "code",
   "execution_count": null,
   "metadata": {
    "collapsed": true
   },
   "outputs": [],
   "source": []
  },
  {
   "cell_type": "code",
   "execution_count": null,
   "metadata": {
    "collapsed": true
   },
   "outputs": [],
   "source": []
  },
  {
   "cell_type": "markdown",
   "metadata": {},
   "source": [
    "## More Complicated Example: Car Rental Company"
   ]
  },
  {
   "cell_type": "markdown",
   "metadata": {},
   "source": [
    "Example taken from: http://aix1.uottawa.ca/~jkhoury/markov.htm"
   ]
  },
  {
   "cell_type": "markdown",
   "metadata": {},
   "source": [
    "Suppose a car rental agency has three locations in Ottawa: Downtown location (labeled A), East end location (labeled B) and a West end location (labeled C). The agency has a group of delivery drivers to serve all three locations. The agency's statistician has determined the following:\n",
    "\n",
    "<b>1.</b> Of the calls to the Downtown location, 30% are delivered in Downtown area, 30% are delivered in the East end, and 40% are delivered in the West end.  \n",
    "<b>2.</b> Of the calls to the East end location, 40% are delivered in Downtown area, 40% are delivered in the East end, and 20% are delivered in the West end.  \n",
    "<b>3.</b> Of the calls to the West end location, 50% are delivered in Downtown area, 30% are delivered in the East end, and 20% are delivered in the West end.\n",
    "\n",
    "After making a delivery, a driver goes to the nearest location to make the next delivery. This way, the location of a specific driver is determined only by his or her previous location.\n",
    "\n",
    "We model this problem with the following matrix:"
   ]
  },
  {
   "cell_type": "code",
   "execution_count": 58,
   "metadata": {
    "collapsed": false
   },
   "outputs": [
    {
     "data": {
      "text/html": [
       "<div>\n",
       "<table border=\"1\" class=\"dataframe\">\n",
       "  <thead>\n",
       "    <tr style=\"text-align: right;\">\n",
       "      <th></th>\n",
       "      <th>A</th>\n",
       "      <th>B</th>\n",
       "      <th>C</th>\n",
       "    </tr>\n",
       "  </thead>\n",
       "  <tbody>\n",
       "    <tr>\n",
       "      <th>A</th>\n",
       "      <td>0.3</td>\n",
       "      <td>0.4</td>\n",
       "      <td>0.5</td>\n",
       "    </tr>\n",
       "    <tr>\n",
       "      <th>B</th>\n",
       "      <td>0.3</td>\n",
       "      <td>0.4</td>\n",
       "      <td>0.3</td>\n",
       "    </tr>\n",
       "    <tr>\n",
       "      <th>C</th>\n",
       "      <td>0.4</td>\n",
       "      <td>0.2</td>\n",
       "      <td>0.2</td>\n",
       "    </tr>\n",
       "  </tbody>\n",
       "</table>\n",
       "</div>"
      ],
      "text/plain": [
       "     A    B    C\n",
       "A  0.3  0.4  0.5\n",
       "B  0.3  0.4  0.3\n",
       "C  0.4  0.2  0.2"
      ]
     },
     "execution_count": 58,
     "metadata": {},
     "output_type": "execute_result"
    }
   ],
   "source": [
    "car_rental = pd.DataFrame({'A':[.3,.3,.4],'B':[.4,.4,.2],'C':[.5,.3,.2]}, index=['A','B','C'])\n",
    "car_rental"
   ]
  },
  {
   "cell_type": "markdown",
   "metadata": {},
   "source": [
    "'car_rental' is called the transition matrix of the above system. In our example, a state is the location of a particular driver in the system at a particular time. The entry S_ji in the above matrix represents the probability of transition from the state corresponding to i to the state corresponding to j. (e.g. the state corresponding to 2 is B)\n",
    "\n",
    "To make matters simple, let's assume that it takes each delivery person the same amount of time (say 15 minutes) to make a delivery, and then to get to their next location. According to the statistician's data, after 15 minutes, of the drivers that began in A, 30% will again be in A, 30% will be in B, and 40% will be in C. <b>Since all drivers are in one of those three locations after their delivery, each column sums to 1.</b> Because we are dealing with probabilities, each entry must be between 0 and 1, inclusive. <u>The most important fact that lets us model this situation as a Markov chain is that the next location for delivery depends only on the current location, not previous history.</u> It is also true that our matrix of probabilities does not change during the time we are observing."
   ]
  },
  {
   "cell_type": "markdown",
   "metadata": {},
   "source": [
    "<b>Now, let’s start with a simple question: If you begin at location C, what is the probability (say, P) that you will be in area B after 2 deliveries?</b> \n",
    "\n",
    "Think about how you can get to B in two steps. We can go from:  \n",
    "* C to C, then from C to B; denoted as: P(CC)P(CB)\n",
    "* C to B, then from B to B; denoted as: P(CB)P(BB)\n",
    "* C to A, then from A to B; denoted as: P(CA)P(AB)\n",
    "\n",
    "To figure out P, let P(XY) denote the probability of going from X to Y in one delivery (where X,Y can be A,B or C). If two (or more) independent events must both (all) happen, to obtain the probability of them both (all) happening, we multiply their probabilities together. To obtain the probability of either (any) happening, we add the probabilities of those events together.\n",
    "\n",
    "For this question (probability that a delivery person goes from C to B in 2 deliveries), the probability can be written as:  \n",
    "P = P(CC)P(CB) + P(CB)P(BB) + P(CA)P(AB)   \n",
    "P =  (.2)(.3)  +   (.3)(.4) +   (.5)(.3)     \n",
    "P =   0.06     +     0.12   +     0.15   \n",
    "P = 0.33 or 33%\n",
    "\n",
    "This tells us that if we begin at location C, we have a 33% chance of being in location B after 2 deliveries."
   ]
  },
  {
   "cell_type": "markdown",
   "metadata": {},
   "source": [
    "<b>Let's try this for another pair. If we begin at location B, what is the probability of being at location B after 2 deliveries?</b>\n",
    "\n",
    "P = P(BC)P(CB) + P(BB)P(BB) + P(BA)P(AB)   \n",
    "P = (.2)(.3) + (.4)(.4) + (.4)(.3)   \n",
    "P = 0.06 + 0.16 + 0.12   \n",
    "P = 0.34 or 34%\n",
    "\n",
    "It wasn't so bad calculating where you would be after 2 deliveries, but if you need to know where you will be after 5, or 15 deliveries, that could take a LONG time. There must be an easier way. Look carefully at where these numbers come from. As you might suspect, they are the result of matrix multiplication.   \n",
    "\n",
    "Going from C to B in 2 deliveries is the same as taking the inner product of row 2 and column 3. Going from B to B in 2 deliveries is the same as taking the inner product of row 2 and column 2. If you multiply T by T, the (2,3) and (2,2) entries are respectively, the same answers that you got for these two questions above. Multiplying using the '.dot' function allows us to see all of the possibilities in the matrix:"
   ]
  },
  {
   "cell_type": "code",
   "execution_count": 60,
   "metadata": {
    "collapsed": false
   },
   "outputs": [
    {
     "name": "stdout",
     "output_type": "stream",
     "text": [
      "      A     B     C\n",
      "A  0.41  0.38  0.37\n",
      "B  0.33  0.34  0.33\n",
      "C  0.26  0.28  0.30\n"
     ]
    }
   ],
   "source": [
    "# One Transition Matrix\n",
    "print car_rental.dot(car_rental)"
   ]
  },
  {
   "cell_type": "markdown",
   "metadata": {},
   "source": [
    "You will notice that the elements on each column still add to 1 and each element is between 0 and 1, inclusive. Since we are modeling our problem with a Markov chain, this is essential. This matrix indicates the probabilities of going from location i to location j in exactly 2 deliveries. Ex - Starting in position B, after 2 deliveries there is a 38% chance we'll be in position A.\n",
    "\n",
    "Now that we have this matrix, it should be easier to find where we will be after 3 deliveries. We will let p(AB) represent the probability of going from A to B in 2 deliveries. Let's find the probability of going from C to B in 3 deliveries:\n",
    "\n",
    "P = p(CA)P(AB) + p(CB)P(BB) + p(CC)P(CB)   \n",
    "P = (.37)(.3) + (.33)(.4) + (.3)(.3)   \n",
    "P = .333 or 33.3%   \n",
    "\n",
    "You will see that this probability is the inner product of row 2 of the 'One Transition Matrix' above and column 3 of the original matrix. Therefore, if we multiply 'One Transition Matrix' by the original matrix, we will get the probability matrix for 3 deliveries:"
   ]
  },
  {
   "cell_type": "code",
   "execution_count": 63,
   "metadata": {
    "collapsed": false
   },
   "outputs": [
    {
     "name": "stdout",
     "output_type": "stream",
     "text": [
      "       A      B      C\n",
      "A  0.385  0.390  0.393\n",
      "B  0.333  0.334  0.333\n",
      "C  0.282  0.276  0.274\n"
     ]
    }
   ],
   "source": [
    "# Two Transition Matrix:\n",
    "print car_rental.dot(car_rental).dot(car_rental) #probably a better way for this syntax"
   ]
  },
  {
   "cell_type": "markdown",
   "metadata": {},
   "source": [
    "We can find the matrix of probabilities for 4, 5 or more deliveries. Notice that the elements on each column still add to 1. Therefore, it is important that you do not round your answers. Keep as many decimal places as possible to retain accuracy."
   ]
  },
  {
   "cell_type": "code",
   "execution_count": 64,
   "metadata": {
    "collapsed": false
   },
   "outputs": [
    {
     "name": "stdout",
     "output_type": "stream",
     "text": [
      "        A       B       C\n",
      "A  0.3897  0.3886  0.3881\n",
      "B  0.3333  0.3334  0.3333\n",
      "C  0.2770  0.2780  0.2786\n",
      "\n",
      "         A        B        C\n",
      "A  0.38873  0.38894  0.38905\n",
      "B  0.33333  0.33334  0.33333\n",
      "C  0.27794  0.27772  0.27762\n",
      "\n",
      "          A         B         C\n",
      "A  0.388921  0.388878  0.388857\n",
      "B  0.333333  0.333334  0.333333\n",
      "C  0.277746  0.277788  0.277810\n"
     ]
    }
   ],
   "source": [
    "# Three Transition Matrix:\n",
    "print car_rental.dot(car_rental).dot(car_rental).dot(car_rental)\n",
    "print ''\n",
    "#Four Transition Matrix:\n",
    "print car_rental.dot(car_rental).dot(car_rental).dot(car_rental).dot(car_rental)\n",
    "print ''\n",
    "#Five Transition Matrix:\n",
    "print car_rental.dot(car_rental).dot(car_rental).dot(car_rental).dot(car_rental).dot(car_rental)"
   ]
  },
  {
   "cell_type": "markdown",
   "metadata": {},
   "source": [
    "What do you notice about these matrices as we take into account more and more deliveries? The numbers in each row seems to be converging to a particular number. <b>Think about what this tells us about our long-term probabilities. This tells us that after a large number of deliveries, it no longer matters which location we were in when we started.</b> At the end of the week, we have (approximately) a 38.9% Chance of being at location A, a 33.3% chance of being at location B, and a 27.8% chance of being in location C. This convergence will happen with most of the transition matrices that we consider."
   ]
  },
  {
   "cell_type": "markdown",
   "metadata": {},
   "source": [
    "## Challenge"
   ]
  },
  {
   "cell_type": "markdown",
   "metadata": {},
   "source": [
    "Translate the Markov chain below to a matrix.\n",
    "\n",
    "![](files/mm2.jpg)\n",
    "\n",
    "What are the transition probabilities after 1 transition?  \n",
    "What are the transition probabilities after 2 transitions? After 5? After 10? What are the steady state probabilities?"
   ]
  },
  {
   "cell_type": "code",
   "execution_count": 70,
   "metadata": {
    "collapsed": false
   },
   "outputs": [
    {
     "data": {
      "text/html": [
       "<div>\n",
       "<table border=\"1\" class=\"dataframe\">\n",
       "  <thead>\n",
       "    <tr style=\"text-align: right;\">\n",
       "      <th></th>\n",
       "      <th>Bear</th>\n",
       "      <th>Bull</th>\n",
       "      <th>Stagnant</th>\n",
       "    </tr>\n",
       "  </thead>\n",
       "  <tbody>\n",
       "    <tr>\n",
       "      <th>Bull</th>\n",
       "      <td>0.15</td>\n",
       "      <td>0.900</td>\n",
       "      <td>0.25</td>\n",
       "    </tr>\n",
       "    <tr>\n",
       "      <th>Bear</th>\n",
       "      <td>0.80</td>\n",
       "      <td>0.075</td>\n",
       "      <td>0.25</td>\n",
       "    </tr>\n",
       "    <tr>\n",
       "      <th>Stagnant</th>\n",
       "      <td>0.05</td>\n",
       "      <td>0.025</td>\n",
       "      <td>0.50</td>\n",
       "    </tr>\n",
       "  </tbody>\n",
       "</table>\n",
       "</div>"
      ],
      "text/plain": [
       "          Bear   Bull  Stagnant\n",
       "Bull      0.15  0.900      0.25\n",
       "Bear      0.80  0.075      0.25\n",
       "Stagnant  0.05  0.025      0.50"
      ]
     },
     "execution_count": 70,
     "metadata": {},
     "output_type": "execute_result"
    }
   ],
   "source": [
    "# Translate to Matrix:\n",
    "\n",
    "stock_model = pd.DataFrame({'Bull':[.9,.075,.025],'Bear':[.15,.8,.05],'Stagnant':[.25,.25,.5]}, index=['Bull','Bear','Stagnant'])\n",
    "stock_model"
   ]
  },
  {
   "cell_type": "code",
   "execution_count": 89,
   "metadata": {
    "collapsed": false
   },
   "outputs": [
    {
     "name": "stdout",
     "output_type": "stream",
     "text": [
      "Transition Probabilities after 1 transition:\n",
      "             Bear     Bull  Stagnant\n",
      "Bull      0.26750  0.82750   0.38750\n",
      "Bear      0.66375  0.13375   0.34375\n",
      "Stagnant  0.06875  0.03875   0.26875\n",
      "\n",
      "Transition Probabilities after 2 transitions:\n",
      "             Bear     Bull  Stagnant\n",
      "Bull      0.35750  0.77450   0.46750\n",
      "Bear      0.56825  0.17875   0.37125\n",
      "Stagnant  0.07425  0.04675   0.16125\n",
      "\n",
      "Transition Probabilities after 5 transitions:\n",
      "              Bear      Bull  Stagnant\n",
      "Bull      0.514745  0.685609  0.570185\n",
      "Bear      0.414377  0.257373  0.354392\n",
      "Stagnant  0.070879  0.057019  0.075423\n",
      "\n",
      "Transition Probabilities after 10 transitions:\n",
      "              Bear      Bull  Stagnant\n",
      "Bull      0.600221  0.638559  0.613311\n",
      "Bear      0.335175  0.300110  0.323019\n",
      "Stagnant  0.064604  0.061331  0.063669\n",
      "\n",
      "Transition Probabilities after 20 transitions:\n",
      "              Bear      Bull  Stagnant\n",
      "Bull      0.623756  0.625680  0.624416\n",
      "Bear      0.313637  0.311878  0.313034\n",
      "Stagnant  0.062607  0.062442  0.062550\n",
      "\n",
      "Transition Probabilities after 40 transitions:\n",
      "              Bear      Bull  Stagnant\n",
      "Bull      0.624997  0.625002  0.624999\n",
      "Bear      0.312503  0.312498  0.312501\n",
      "Stagnant  0.062500  0.062500  0.062500\n"
     ]
    }
   ],
   "source": [
    "print 'Transition Probabilities after 1 transition:'\n",
    "print stock_model.dot(stock_model)\n",
    "print ''\n",
    "\n",
    "print 'Transition Probabilities after 2 transitions:'\n",
    "print stock_model.dot(stock_model).dot(stock_model)\n",
    "print ''\n",
    "\n",
    "print 'Transition Probabilities after 5 transitions:'\n",
    "print stock_model.dot(stock_model).dot(stock_model).dot(stock_model).dot(stock_model).dot(stock_model)\n",
    "print ''\n",
    "\n",
    "print 'Transition Probabilities after 10 transitions:'\n",
    "print stock_model.dot(stock_model).dot(stock_model).dot(stock_model).dot(stock_model).dot(stock_model) \\\n",
    ".dot(stock_model).dot(stock_model).dot(stock_model).dot(stock_model).dot(stock_model)\n",
    "print ''\n",
    "\n",
    "print 'Transition Probabilities after 20 transitions:'\n",
    "print stock_model.dot(stock_model).dot(stock_model).dot(stock_model).dot(stock_model).dot(stock_model) \\\n",
    ".dot(stock_model).dot(stock_model).dot(stock_model).dot(stock_model).dot(stock_model) \\\n",
    ".dot(stock_model).dot(stock_model).dot(stock_model).dot(stock_model).dot(stock_model) \\\n",
    ".dot(stock_model).dot(stock_model).dot(stock_model).dot(stock_model).dot(stock_model)\n",
    "print ''\n",
    "\n",
    "print 'Transition Probabilities after 40 transitions:'\n",
    "print stock_model.dot(stock_model).dot(stock_model).dot(stock_model).dot(stock_model).dot(stock_model) \\\n",
    ".dot(stock_model).dot(stock_model).dot(stock_model).dot(stock_model).dot(stock_model) \\\n",
    ".dot(stock_model).dot(stock_model).dot(stock_model).dot(stock_model).dot(stock_model) \\\n",
    ".dot(stock_model).dot(stock_model).dot(stock_model).dot(stock_model).dot(stock_model) \\\n",
    ".dot(stock_model).dot(stock_model).dot(stock_model).dot(stock_model).dot(stock_model) \\\n",
    ".dot(stock_model).dot(stock_model).dot(stock_model).dot(stock_model).dot(stock_model) \\\n",
    ".dot(stock_model).dot(stock_model).dot(stock_model).dot(stock_model).dot(stock_model) \\\n",
    ".dot(stock_model).dot(stock_model).dot(stock_model).dot(stock_model).dot(stock_model)"
   ]
  },
  {
   "cell_type": "markdown",
   "metadata": {},
   "source": [
    "The Steady State Probabilities reflect the probabilites after 40 transitions above. "
   ]
  },
  {
   "cell_type": "code",
   "execution_count": null,
   "metadata": {
    "collapsed": false
   },
   "outputs": [],
   "source": []
  },
  {
   "cell_type": "code",
   "execution_count": null,
   "metadata": {
    "collapsed": true
   },
   "outputs": [],
   "source": []
  },
  {
   "cell_type": "code",
   "execution_count": null,
   "metadata": {
    "collapsed": true
   },
   "outputs": [],
   "source": []
  }
 ],
 "metadata": {
  "kernelspec": {
   "display_name": "Python 2",
   "language": "python",
   "name": "python2"
  },
  "language_info": {
   "codemirror_mode": {
    "name": "ipython",
    "version": 2
   },
   "file_extension": ".py",
   "mimetype": "text/x-python",
   "name": "python",
   "nbconvert_exporter": "python",
   "pygments_lexer": "ipython2",
   "version": "2.7.6"
  }
 },
 "nbformat": 4,
 "nbformat_minor": 0
}
