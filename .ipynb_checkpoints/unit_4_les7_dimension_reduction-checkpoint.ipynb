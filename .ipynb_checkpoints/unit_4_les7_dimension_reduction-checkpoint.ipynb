{
 "cells": [
  {
   "cell_type": "code",
   "execution_count": 1,
   "metadata": {
    "collapsed": true
   },
   "outputs": [],
   "source": [
    "import pandas as pd\n",
    "import statsmodels.api as sm\n",
    "import statsmodels.formula.api as smf #needed for models in this script\n",
    "import pylab as pl\n",
    "import matplotlib.pyplot as plt\n",
    "import numpy as np\n",
    "from scipy import stats"
   ]
  },
  {
   "cell_type": "code",
   "execution_count": 2,
   "metadata": {
    "collapsed": true
   },
   "outputs": [],
   "source": [
    "pd.set_option('html', True) #see the dataframe in a more user friendly manner\n",
    "%matplotlib inline"
   ]
  },
  {
   "cell_type": "markdown",
   "metadata": {},
   "source": [
    "## Dimensionality Reduction"
   ]
  },
  {
   "cell_type": "markdown",
   "metadata": {},
   "source": [
    "As datasets get bigger, as the number of variables grows, we'll need \"heavier\" techniques to determine what variables and what points should be included in our analyses.\n",
    "\n",
    "In this lesson, we're going to explore dimensionality reduction, which is the process of reducing the number of random variables under consideration. It's a way of paring down a dataset to what's important."
   ]
  },
  {
   "cell_type": "markdown",
   "metadata": {},
   "source": [
    "## Overview"
   ]
  },
  {
   "cell_type": "markdown",
   "metadata": {},
   "source": [
    "We're going to cover two topics in this lesson: <b>data dimensionality reduction</b> and <b>data preprocessing</b>. Dimensionality reduction aims to produce a compact low-dimensional \"encoding\" of a high-dimensional data set, while data preprocessing aims to simplify, reduce and clean data for subsequent training.\n",
    "\n",
    "To motivate our discussion, we will examine the aptly named <b>curse of dimensionality.</b> Suppose our data consists of 1000 datapoints uniformly distributed in a unit cube, and that we wish to apply 10-Nearest-Neighbors on this dataset. In 2 dimensions (2 independent variables), on average we must go a distance of sqrt(10/1000)=.1 to find 10 points (i.e. capturing 1% of the volume of this cube). As we increase the number of independent variables, the average distance between points in a neighborhood “blows up”; with just 10 dimensions we must go a distance of (10/1000)^(1/10) = .954 to capture 10 points. In other words, our neighborhood already contains 95% of the total possible volume with just 10 datapoints, and it is no longer informative.\n",
    "\n",
    "![](files/dimr1.jpg)\n",
    "\n",
    "In addition to the example above, here are some other situations in which we'd want to reduce the dimensionality of our data:\n",
    "\n",
    "* If the data contain redundancy (multiple features encode the same information)\n",
    "* To eliminate features that are redundant and extract those which are more central to the phenomenon we are trying to learn,\n",
    "* If the data contain irrelevent or noisy features that could negatively impact a learning algorithm's performance\n",
    "* To more effectively visualize relationships between features\n",
    "* To address computational resource constraints\n",
    "\n",
    "In this lesson we're going to study two techniques for reducing the dimensionality of data in different ways:\n",
    "\n",
    "1. <b>feature transform:</b> determines the dependencies between features and finds a new set of feature vectors with lower dimensionality (because it captures multiple original feature vectors in one) while also preserving the characteristics of the original feature vectors.\n",
    "2. <b>feature selection:</b> determines the relevant features for a given learning problem. Instead of creating a new feature set through transformations, feature selection simply subsets the feature set based on some criteria of relevance.\n",
    "\n",
    "Principal Component Analysis (PCA) is the most basic and most common feature transform used in feature extraction and dimensionality reduction. It is easy to train, and has additional functionalities like noise reduction.\n",
    "\n",
    "PCA is an unsupervised learning process. For supervised learning, not only do we want to preserve the variances across features in the data, we also want to preserve the relationships between features and labels. Linear Discriminant Analysis (LDA) takes the labeling into account (essentially considering it as an additional feature vector).\n",
    "\n",
    "* Review the sklearn PCA example with Iris Dataset: http://scikit-learn.org/stable/auto_examples/decomposition/plot_pca_iris.html\n",
    "* Review the sklearn Comparison of LDA and PCA 2D Projection of Iris Dataset: http://scikit-learn.org/stable/auto_examples/decomposition/plot_pca_vs_lda.html"
   ]
  },
  {
   "cell_type": "code",
   "execution_count": 3,
   "metadata": {
    "collapsed": false
   },
   "outputs": [
    {
     "data": {
      "text/html": [
       "<div>\n",
       "<table border=\"1\" class=\"dataframe\">\n",
       "  <thead>\n",
       "    <tr style=\"text-align: right;\">\n",
       "      <th></th>\n",
       "      <th>sepal_len</th>\n",
       "      <th>sepal_width</th>\n",
       "      <th>petal_len</th>\n",
       "      <th>petal_width</th>\n",
       "      <th>class</th>\n",
       "    </tr>\n",
       "  </thead>\n",
       "  <tbody>\n",
       "    <tr>\n",
       "      <th>0</th>\n",
       "      <td>5.1</td>\n",
       "      <td>3.5</td>\n",
       "      <td>1.4</td>\n",
       "      <td>0.2</td>\n",
       "      <td>Iris-setosa</td>\n",
       "    </tr>\n",
       "    <tr>\n",
       "      <th>1</th>\n",
       "      <td>4.9</td>\n",
       "      <td>3.0</td>\n",
       "      <td>1.4</td>\n",
       "      <td>0.2</td>\n",
       "      <td>Iris-setosa</td>\n",
       "    </tr>\n",
       "    <tr>\n",
       "      <th>2</th>\n",
       "      <td>4.7</td>\n",
       "      <td>3.2</td>\n",
       "      <td>1.3</td>\n",
       "      <td>0.2</td>\n",
       "      <td>Iris-setosa</td>\n",
       "    </tr>\n",
       "    <tr>\n",
       "      <th>3</th>\n",
       "      <td>4.6</td>\n",
       "      <td>3.1</td>\n",
       "      <td>1.5</td>\n",
       "      <td>0.2</td>\n",
       "      <td>Iris-setosa</td>\n",
       "    </tr>\n",
       "    <tr>\n",
       "      <th>4</th>\n",
       "      <td>5.0</td>\n",
       "      <td>3.6</td>\n",
       "      <td>1.4</td>\n",
       "      <td>0.2</td>\n",
       "      <td>Iris-setosa</td>\n",
       "    </tr>\n",
       "  </tbody>\n",
       "</table>\n",
       "</div>"
      ],
      "text/plain": [
       "   sepal_len  sepal_width  petal_len  petal_width        class\n",
       "0        5.1          3.5        1.4          0.2  Iris-setosa\n",
       "1        4.9          3.0        1.4          0.2  Iris-setosa\n",
       "2        4.7          3.2        1.3          0.2  Iris-setosa\n",
       "3        4.6          3.1        1.5          0.2  Iris-setosa\n",
       "4        5.0          3.6        1.4          0.2  Iris-setosa"
      ]
     },
     "execution_count": 3,
     "metadata": {},
     "output_type": "execute_result"
    }
   ],
   "source": [
    "#read in iris data:\n",
    "iris_data = pd.read_csv('iris.data.txt', header=None, sep = ',')\n",
    "iris_data.columns = ['sepal_len', 'sepal_width', 'petal_len', 'petal_width', 'class']\n",
    "iris_data.head()"
   ]
  },
  {
   "cell_type": "code",
   "execution_count": 4,
   "metadata": {
    "collapsed": true
   },
   "outputs": [],
   "source": [
    "import matplotlib.colors as colors\n",
    "import matplotlib.cm as cmx"
   ]
  },
  {
   "cell_type": "code",
   "execution_count": 5,
   "metadata": {
    "collapsed": true
   },
   "outputs": [],
   "source": [
    "def column_scatter(dataframe,column1,column2,class_column):\n",
    "    \n",
    "    #scatterplot:\n",
    "    plt.figure(figsize=(10, 7))\n",
    "\n",
    "    #data:\n",
    "    features = dataframe[[column1, column2]]\n",
    "    target = dataframe[class_column]\n",
    "\n",
    "    # Get unique names of species\n",
    "    uniq = list(set(target))\n",
    "\n",
    "    # Set the color map to match the number of species\n",
    "    z = range(1,len(uniq))\n",
    "    hot = plt.get_cmap('gist_heat')\n",
    "    cNorm  = colors.Normalize(vmin=0, vmax=len(uniq))\n",
    "    scalarMap = cmx.ScalarMappable(norm=cNorm, cmap=hot)\n",
    "\n",
    "    # Plot each species\n",
    "    for i in range(len(uniq)):\n",
    "        indx = target == uniq[i]\n",
    "        plt.scatter(features.ix[:, 0][indx], features.ix[:, 1][indx], s=45 , color=scalarMap.to_rgba(i), label=uniq[i])\n",
    "        #s=30; size of dots in the graph\n",
    "\n",
    "    #set limits for the axis:\n",
    "    x_min, x_max = features.ix[:, 0].min() - .25, features.ix[:, 0].max() + .25 #min/max for sepal length\n",
    "    y_min, y_max = features.ix[:, 1].min() - .25, features.ix[:, 1].max() + .25 #min/max for sepal width\n",
    "\n",
    "    #set labels:\n",
    "    plt.xlabel(column1, fontsize = 12)\n",
    "    plt.ylabel(column2, fontsize = 12)\n",
    "    plt.title('Class based on ' + column1 + ' vs. ' + column2, fontsize=14)\n",
    "    plt.xlim(x_min, x_max)\n",
    "    plt.ylim(y_min, y_max)\n",
    "\n",
    "    plt.legend(title='Cluster', loc='best')\n",
    "    plt.grid()\n",
    "    plt.show"
   ]
  },
  {
   "cell_type": "code",
   "execution_count": 6,
   "metadata": {
    "collapsed": false
   },
   "outputs": [
    {
     "data": {
      "image/png": "[encoded data removed]",
      "text/plain": [
       "<matplotlib.figure.Figure at 0x2314550>"
      ]
     },
     "metadata": {},
     "output_type": "display_data"
    }
   ],
   "source": [
    "column_scatter(iris_data,'sepal_len','petal_len','class')"
   ]
  },
  {
   "cell_type": "markdown",
   "metadata": {},
   "source": [
    "## PCA (Principal Component Analysis)"
   ]
  },
  {
   "cell_type": "markdown",
   "metadata": {},
   "source": [
    "For this assignment, we're going to perform PCA on the Iris Dataset we used earlier in this unit, and see how our k-means algorithm performs on the decomposed data compared to how it performs on the raw data. To gain a better undestanding of PCA, refer to: (http://sebastianraschka.com/Articles/2015_pca_in_3_steps.html)\n",
    "\n",
    "* Perform PCA on the Iris Dataset.\n",
    "* Plot the PCA sample. How does it compare to the original plot?\n",
    "* Retrain the k-nearest neighbors algorithm from Lesson 5 on the decomposed dataset.\n",
    "* Compare the performance on the decomposed dataset to the performance on the raw dataset. Does anything stand out?"
   ]
  },
  {
   "cell_type": "code",
   "execution_count": null,
   "metadata": {
    "collapsed": true
   },
   "outputs": [],
   "source": [
    "************* TO COMPLETE *********************"
   ]
  },
  {
   "cell_type": "markdown",
   "metadata": {},
   "source": [
    "## LDA (Linear Discriminant Analysis)"
   ]
  },
  {
   "cell_type": "markdown",
   "metadata": {},
   "source": [
    "For this assignment, we're going to perform LDA on the Iris Dataset we used earlier in this unit, and see how our k-NN algorithm performs on the decomposed data compared to how it performs on the raw data. To gain a better undestanding of LDA, refer to: (http://sebastianraschka.com/Articles/2014_python_lda.html)\n",
    "\n",
    "* Perform LDA on the Iris Dataset.\n",
    "* Plot the LDA sample. How does it compare to the original plot?\n",
    "* Retrain the k-means algorithm from Lesson 4 on the decomposed dataset.\n",
    "* Compare the performance on the decomposed dataset to the performance on the raw dataset. Does anything stand out? Did you get the same class prediction?"
   ]
  },
  {
   "cell_type": "code",
   "execution_count": null,
   "metadata": {
    "collapsed": true
   },
   "outputs": [],
   "source": [
    "************* TO COMPLETE *********************"
   ]
  }
 ],
 "metadata": {
  "kernelspec": {
   "display_name": "Python 2",
   "language": "python",
   "name": "python2"
  },
  "language_info": {
   "codemirror_mode": {
    "name": "ipython",
    "version": 2
   },
   "file_extension": ".py",
   "mimetype": "text/x-python",
   "name": "python",
   "nbconvert_exporter": "python",
   "pygments_lexer": "ipython2",
   "version": "2.7.6"
  }
 },
 "nbformat": 4,
 "nbformat_minor": 0
}
