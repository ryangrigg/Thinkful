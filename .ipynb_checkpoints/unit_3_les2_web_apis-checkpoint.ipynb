{
 "cells": [
  {
   "cell_type": "code",
   "execution_count": 1,
   "metadata": {
    "collapsed": true
   },
   "outputs": [],
   "source": [
    "import pandas as pd\n",
    "import statsmodels.api as sm\n",
    "import statsmodels.formula.api as smf #needed for models in this script\n",
    "import pylab as pl\n",
    "import matplotlib.pyplot as plt\n",
    "import numpy as np\n",
    "from scipy import stats"
   ]
  },
  {
   "cell_type": "code",
   "execution_count": 2,
   "metadata": {
    "collapsed": true
   },
   "outputs": [],
   "source": [
    "pd.set_option('html', True) #see the dataframe in a more user friendly manner\n",
    "%matplotlib inline"
   ]
  },
  {
   "cell_type": "markdown",
   "metadata": {},
   "source": [
    "## Overview of Web APIs"
   ]
  },
  {
   "cell_type": "markdown",
   "metadata": {},
   "source": [
    "An application programmer interface (API) is an interface that allows two computer systems to easily exchange information. A client requests information from a server, the server processes the request, and sends a response to the client. The request can be to access data matching a particular criteria, in which case the response will contain the data requested. The request can also be to add data to the server's system. In this case, the response is a simple indication whether the data was successfully added.\n",
    "\n",
    "You can think of this like a fast food window. You pull up and make a request at the window. You don't need to know what happens in the kitchen (and probably don't want to know). What you requested is delivered to you, and you go about your business. The same is true for an API.Most APIs use a standard URL string to carry the information necessary for the request. This usually involves:\n",
    "\n",
    "* a service endpoint\n",
    "* query parameters\n",
    "* authentication tokens\n",
    "\n",
    "Each API uses a different service endpoint. This will usually be the base URL for the request. Some APIs may only offer a single service, while others may offer many, requiring you to specify the service you wish to query. For example, the service endpoint for the Twitter search is \"https://api.twitter.com/1.1/search/tweets.json\". The first part (\"https://api.twitter.com/\") specifies the URL to access the service. The next part \"1.1\" specifies the API version being used. The service (\"search\") is indicated next, as is the target (\"tweets\"), and the desired return time (\"json\").\n",
    "\n",
    "Query parameters usually begin at the end of the service endpoint and start with a \"?\". Parameters could include a particular user or term to be searched. It could also include a location. For example, given a area, you can search for tweets that were posted at or near that point. In the Foursquare API, that would look like this: \"https://api.foursquare.com/v2/venues/search?intent=browse&v=20140625&ll=40.7021015456,-74.0122357117&radius=100&limit=50\". In this case, the service endpoint for the venue search service is \"https://api.foursquare.com/v2/venues/search\". The parameters include:\n",
    "\n",
    "* \"intent=browse\" - indicating we're browsing the venues for a given area\n",
    "* \"v=20140625\" - indicating the version of the API we're intending to use\n",
    "* \"ll=40.7021015456,-74.0122357117\" - indicating the location we want to query around\n",
    "* \"radius=100\" - indicating the radius around the point we want to query\n",
    "* \"limit=50\" - indicating the number of results to display (in most cases, there is a preset max number that can be returned per query)\n",
    "\n",
    "Some APIs have a parameter known as \"offset\" that allow you to page through results. In this case, after we get the first 50 results, we can set the offset to 50 so we get the next 50 results from the service.\n",
    "\n",
    "Notice how the parameters are combined together using the ampersand (\"&\"). While this tends to be the preferred method for combining search parameters, always check the documentation and find examples in order to construct your own API calls. You may need to prototype the calls in your text editor and run them in your browser before you run them in your code. This allows you to fix minor formatting errors.\n",
    "\n",
    "Authentication tokens identify the application accessing the service. In some cases, the token is just a simple identifier so the service knows which user is accessing the system. In other cases, there is a more robust authentication system with multiple authentication tokens to not only identify the user but secure access to the system on that users behalf. Many APIs are free, but some, especially those run by commercial services, charge a fee for access. In some cases, this is based on usage or a flat fee for access.\n",
    "\n",
    "In the following lesson, you will practice registering for access tokens, composing an API request, and submitting the API request with Python. Often the API requests can be complex and the responses full of information that needs to be parsed. While you can parse the data in a text editor, Python is far more powerful a tool and for making multiple requests, the ability to script tasks and run them in loop, makes the operation far easier than handling the requests by hand. Adding in the storage component in SQLite makes the task even easier.\n",
    "\n",
    "Good Overview of APIs: https://zapier.com/learn/apis/"
   ]
  },
  {
   "cell_type": "markdown",
   "metadata": {},
   "source": [
    "## Acquiring Weather Data from an API"
   ]
  },
  {
   "cell_type": "markdown",
   "metadata": {},
   "source": [
    "For this assignment, we're going to be collecting the max temperature in 5 major cities in the US over the course of a month and find out which city experienced the largest temperature swings.\n",
    "\n",
    "The five cities I picked to use are:   \n",
    "\n",
    "* Austin,TX,30.303936,-97.754355\n",
    "* Boston,MA,42.331960,-71.020173\n",
    "* Miami,FL,25.775163,-80.208615\n",
    "* Phoenix,AZ,33.572154,-112.090132\n",
    "* Seattle,WA,47.620499,-122.350876\n",
    "\n",
    "How you store the cities and locations is up to you, but a dictionary will allow you to store the values in a way that keeps them associated together:"
   ]
  },
  {
   "cell_type": "code",
   "execution_count": 3,
   "metadata": {
    "collapsed": false
   },
   "outputs": [
    {
     "data": {
      "text/plain": [
       "{'Austin': '30.303936,-97.754355',\n",
       " 'Boston': '42.331960,-71.020173',\n",
       " 'Miami': '25.775163,-80.208615',\n",
       " 'Phoenix': '33.572154,-112.090132',\n",
       " 'Seattle': '47.620499,-122.350876'}"
      ]
     },
     "execution_count": 3,
     "metadata": {},
     "output_type": "execute_result"
    }
   ],
   "source": [
    "# create dictionary:\n",
    "cities = {'Austin':'30.303936,-97.754355',\n",
    "          'Boston':'42.331960,-71.020173',\n",
    "          'Miami':'25.775163,-80.208615',\n",
    "          'Phoenix':'33.572154,-112.090132',\n",
    "         'Seattle':'47.620499,-122.350876'}\n",
    "\n",
    "cities"
   ]
  },
  {
   "cell_type": "markdown",
   "metadata": {},
   "source": [
    "<b>Note:</b> Storing the locations in a string will allow you to easily insert them into your API request."
   ]
  },
  {
   "cell_type": "markdown",
   "metadata": {},
   "source": [
    "## Getting Started"
   ]
  },
  {
   "cell_type": "markdown",
   "metadata": {},
   "source": [
    "We'll be using the forecast.io API to get weather data. This API powers the Dark Sky mobile app and offers an easy to use interface. There are a number of weather APIs available online, including one from the National Oceanic and Atmospheric Adminstration (NOAA), but this one is by far the easiest to access and use. Like some commercial APIs, there are an initial number of free queries (in this case 1000 a day) before the service charges your account ($1 for the next 10,000). The assignment can be completed using the free service and you won't have to supply a credit card if you don't want to.\n",
    "\n",
    "We're going to be querying an API using Python. To start off with, you'll need to get keys. Go to the registration page (https://developer.forecast.io/register) and request the keys. You should assign the API key to a variable in your code so you can use it in your request.\n",
    "\n",
    "As every API is different, it's important to look over the API documentation (https://developer.forecast.io/docs/v2). This will give you the format and parameters for your queries.\n",
    "\n",
    "Note the URL pattern for the API call:\n",
    "\n",
    "![](files/weather1.jpg)\n",
    "\n",
    "Note the format for time (https://developer.forecast.io/docs/v2#time_call), either Unix time or the format \"YYYY-MM-DDThh:mm:ss\"."
   ]
  },
  {
   "cell_type": "markdown",
   "metadata": {},
   "source": [
    "## Challenge"
   ]
  },
  {
   "cell_type": "markdown",
   "metadata": {},
   "source": [
    "<b>1.</b> Build the API call by combining the string elements in Python for your first city. You can use the datetime.datetime.now() function from the datetime package for the current datetime. You can use the datetime.timedelta() function to subtract or add time to a date. In this case, we'll be subtracting 30 days from the current date to get our start date and then iterating through until the present day. We do that like this start_date = datetime.datetime.now() - datetime.timedelta(days=30). This will subtract 30 days from the current day."
   ]
  },
  {
   "cell_type": "code",
   "execution_count": 4,
   "metadata": {
    "collapsed": false
   },
   "outputs": [
    {
     "data": {
      "text/plain": [
       "'30.303936,-97.754355'"
      ]
     },
     "execution_count": 4,
     "metadata": {},
     "output_type": "execute_result"
    }
   ],
   "source": [
    "cities['Austin']"
   ]
  },
  {
   "cell_type": "code",
   "execution_count": 5,
   "metadata": {
    "collapsed": true
   },
   "outputs": [],
   "source": [
    "import datetime\n",
    "import time"
   ]
  },
  {
   "cell_type": "markdown",
   "metadata": {},
   "source": [
    "Formating Time for API CALL:\n",
    "* [YYYY]-[MM]-[DD]T[HH]:[MM]:[SS] (ex: 2013-05-06T12:00:00-0400)"
   ]
  },
  {
   "cell_type": "code",
   "execution_count": 6,
   "metadata": {
    "collapsed": false
   },
   "outputs": [],
   "source": [
    "api_key = '20643adc99f908dd1da0d3696eac75d8'\n",
    "\n",
    "current_time = datetime.datetime.now()\n",
    "sub_days = datetime.timedelta(days=30)\n",
    "\n",
    "#create API call:\n",
    "api_call = 'https://api.forecast.io/forecast/'+api_key+'/'+cities['Austin']+','+(current_time - sub_days).strftime('%Y-%m-%dT%H:%M:%S')"
   ]
  },
  {
   "cell_type": "code",
   "execution_count": 7,
   "metadata": {
    "collapsed": false
   },
   "outputs": [
    {
     "name": "stdout",
     "output_type": "stream",
     "text": [
      "https://api.forecast.io/forecast/20643adc99f908dd1da0d3696eac75d8/30.303936,-97.754355,2015-10-03T10:00:18\n"
     ]
    }
   ],
   "source": [
    "print api_call"
   ]
  },
  {
   "cell_type": "markdown",
   "metadata": {},
   "source": [
    "<b>2.</b> Test the call for your first city and make sure you have it formatted properly. You can start by just printing out the URL and pasting it into your browser before you use the requests package to do the call for you. This can help you troubleshoot any errors (though you can use the text and status_code attributes to also troubleshoot any errors)   \n",
    "<b>3.</b> Once you have the URL formatted properly, issue the request from your code and inspect the result. How many levels does the data have? Which field do we want to save to get the daily maximum temperature?"
   ]
  },
  {
   "cell_type": "code",
   "execution_count": 8,
   "metadata": {
    "collapsed": true
   },
   "outputs": [],
   "source": [
    "import requests"
   ]
  },
  {
   "cell_type": "code",
   "execution_count": 9,
   "metadata": {
    "collapsed": true
   },
   "outputs": [],
   "source": [
    "weather_test = requests.get(api_call)"
   ]
  },
  {
   "cell_type": "code",
   "execution_count": 10,
   "metadata": {
    "collapsed": false
   },
   "outputs": [
    {
     "data": {
      "text/plain": [
       "{u'currently': {u'apparentTemperature': 69.51,\n",
       "  u'cloudCover': 0,\n",
       "  u'dewPoint': 44.05,\n",
       "  u'humidity': 0.4,\n",
       "  u'icon': u'clear-day',\n",
       "  u'precipIntensity': 0,\n",
       "  u'precipProbability': 0,\n",
       "  u'pressure': 1013.61,\n",
       "  u'summary': u'Clear',\n",
       "  u'temperature': 69.51,\n",
       "  u'time': 1443884418,\n",
       "  u'visibility': 10,\n",
       "  u'windBearing': 82,\n",
       "  u'windSpeed': 6.49},\n",
       " u'daily': {u'data': [{u'apparentTemperatureMax': 81.78,\n",
       "    u'apparentTemperatureMaxTime': 1443906000,\n",
       "    u'apparentTemperatureMin': 58.38,\n",
       "    u'apparentTemperatureMinTime': 1443877200,\n",
       "    u'cloudCover': 0.02,\n",
       "    u'dewPoint': 43.42,\n",
       "    u'humidity': 0.39,\n",
       "    u'icon': u'clear-day',\n",
       "    u'moonPhase': 0.71,\n",
       "    u'precipIntensity': 0,\n",
       "    u'precipIntensityMax': 0,\n",
       "    u'precipProbability': 0,\n",
       "    u'pressure': 1011.69,\n",
       "    u'summary': u'Clear throughout the day.',\n",
       "    u'sunriseTime': 1443875201,\n",
       "    u'sunsetTime': 1443917754,\n",
       "    u'temperatureMax': 84.51,\n",
       "    u'temperatureMaxTime': 1443906000,\n",
       "    u'temperatureMin': 58.38,\n",
       "    u'temperatureMinTime': 1443877200,\n",
       "    u'time': 1443848400,\n",
       "    u'visibility': 10,\n",
       "    u'windBearing': 48,\n",
       "    u'windSpeed': 4}]},\n",
       " u'flags': {u'isd-stations': [u'720542-99999',\n",
       "   u'720648-99999',\n",
       "   u'722540-13904',\n",
       "   u'722544-13958',\n",
       "   u'722547-53942'],\n",
       "  u'sources': [u'isd'],\n",
       "  u'units': u'us'},\n",
       " u'hourly': {u'data': [{u'apparentTemperature': 70.54,\n",
       "    u'cloudCover': 0,\n",
       "    u'dewPoint': 41.58,\n",
       "    u'humidity': 0.35,\n",
       "    u'icon': u'clear-night',\n",
       "    u'precipIntensity': 0,\n",
       "    u'precipProbability': 0,\n",
       "    u'pressure': 1012.78,\n",
       "    u'summary': u'Clear',\n",
       "    u'temperature': 70.54,\n",
       "    u'time': 1443848400,\n",
       "    u'visibility': 10,\n",
       "    u'windBearing': 40,\n",
       "    u'windSpeed': 5.46},\n",
       "   {u'apparentTemperature': 66.74,\n",
       "    u'cloudCover': 0,\n",
       "    u'dewPoint': 43.18,\n",
       "    u'humidity': 0.42,\n",
       "    u'icon': u'clear-night',\n",
       "    u'precipIntensity': 0,\n",
       "    u'precipProbability': 0,\n",
       "    u'pressure': 1012.99,\n",
       "    u'summary': u'Clear',\n",
       "    u'temperature': 66.74,\n",
       "    u'time': 1443852000,\n",
       "    u'visibility': 10,\n",
       "    u'windBearing': 29,\n",
       "    u'windSpeed': 3},\n",
       "   {u'apparentTemperature': 65.5,\n",
       "    u'cloudCover': 0.03,\n",
       "    u'dewPoint': 42.86,\n",
       "    u'humidity': 0.44,\n",
       "    u'icon': u'clear-night',\n",
       "    u'precipIntensity': 0,\n",
       "    u'precipProbability': 0,\n",
       "    u'pressure': 1012.21,\n",
       "    u'summary': u'Clear',\n",
       "    u'temperature': 65.5,\n",
       "    u'time': 1443855600,\n",
       "    u'visibility': 10,\n",
       "    u'windBearing': 30,\n",
       "    u'windSpeed': 3.65},\n",
       "   {u'apparentTemperature': 63.51,\n",
       "    u'cloudCover': 0,\n",
       "    u'dewPoint': 43,\n",
       "    u'humidity': 0.47,\n",
       "    u'icon': u'clear-night',\n",
       "    u'precipIntensity': 0,\n",
       "    u'precipProbability': 0,\n",
       "    u'pressure': 1012.21,\n",
       "    u'summary': u'Clear',\n",
       "    u'temperature': 63.51,\n",
       "    u'time': 1443859200,\n",
       "    u'visibility': 10,\n",
       "    u'windBearing': 24,\n",
       "    u'windSpeed': 3.24},\n",
       "   {u'apparentTemperature': 61.58,\n",
       "    u'cloudCover': 0.02,\n",
       "    u'dewPoint': 42.89,\n",
       "    u'humidity': 0.5,\n",
       "    u'icon': u'clear-night',\n",
       "    u'precipIntensity': 0,\n",
       "    u'precipProbability': 0,\n",
       "    u'pressure': 1011.99,\n",
       "    u'summary': u'Clear',\n",
       "    u'temperature': 61.58,\n",
       "    u'time': 1443862800,\n",
       "    u'visibility': 10,\n",
       "    u'windBearing': 22,\n",
       "    u'windSpeed': 3.4},\n",
       "   {u'apparentTemperature': 60.33,\n",
       "    u'cloudCover': 0.02,\n",
       "    u'dewPoint': 43.88,\n",
       "    u'humidity': 0.55,\n",
       "    u'icon': u'clear-night',\n",
       "    u'precipIntensity': 0,\n",
       "    u'precipProbability': 0,\n",
       "    u'pressure': 1011.89,\n",
       "    u'summary': u'Clear',\n",
       "    u'temperature': 60.33,\n",
       "    u'time': 1443866400,\n",
       "    u'visibility': 10,\n",
       "    u'windBearing': 24,\n",
       "    u'windSpeed': 2.9},\n",
       "   {u'apparentTemperature': 58.65,\n",
       "    u'cloudCover': 0.02,\n",
       "    u'dewPoint': 43.42,\n",
       "    u'humidity': 0.57,\n",
       "    u'icon': u'clear-night',\n",
       "    u'precipIntensity': 0,\n",
       "    u'precipProbability': 0,\n",
       "    u'pressure': 1011.81,\n",
       "    u'summary': u'Clear',\n",
       "    u'temperature': 58.65,\n",
       "    u'time': 1443870000,\n",
       "    u'visibility': 10,\n",
       "    u'windBearing': 18,\n",
       "    u'windSpeed': 3.28},\n",
       "   {u'apparentTemperature': 59.58,\n",
       "    u'cloudCover': 0.03,\n",
       "    u'dewPoint': 42.72,\n",
       "    u'humidity': 0.54,\n",
       "    u'icon': u'clear-night',\n",
       "    u'precipIntensity': 0,\n",
       "    u'precipProbability': 0,\n",
       "    u'pressure': 1012.1,\n",
       "    u'summary': u'Clear',\n",
       "    u'temperature': 59.58,\n",
       "    u'time': 1443873600,\n",
       "    u'visibility': 10,\n",
       "    u'windBearing': 19,\n",
       "    u'windSpeed': 5.04},\n",
       "   {u'apparentTemperature': 58.38,\n",
       "    u'cloudCover': 0.03,\n",
       "    u'dewPoint': 45.33,\n",
       "    u'humidity': 0.62,\n",
       "    u'icon': u'clear-day',\n",
       "    u'precipIntensity': 0,\n",
       "    u'precipProbability': 0,\n",
       "    u'pressure': 1012.7,\n",
       "    u'summary': u'Clear',\n",
       "    u'temperature': 58.38,\n",
       "    u'time': 1443877200,\n",
       "    u'visibility': 10,\n",
       "    u'windBearing': 26,\n",
       "    u'windSpeed': 6.18},\n",
       "   {u'apparentTemperature': 65.25,\n",
       "    u'cloudCover': 0,\n",
       "    u'dewPoint': 45.35,\n",
       "    u'humidity': 0.49,\n",
       "    u'icon': u'clear-day',\n",
       "    u'precipIntensity': 0,\n",
       "    u'precipProbability': 0,\n",
       "    u'pressure': 1013.19,\n",
       "    u'summary': u'Clear',\n",
       "    u'temperature': 65.25,\n",
       "    u'time': 1443880800,\n",
       "    u'visibility': 10,\n",
       "    u'windBearing': 52,\n",
       "    u'windSpeed': 6.15},\n",
       "   {u'apparentTemperature': 69.5,\n",
       "    u'cloudCover': 0,\n",
       "    u'dewPoint': 44.04,\n",
       "    u'humidity': 0.4,\n",
       "    u'icon': u'clear-day',\n",
       "    u'precipIntensity': 0,\n",
       "    u'precipProbability': 0,\n",
       "    u'pressure': 1013.61,\n",
       "    u'summary': u'Clear',\n",
       "    u'temperature': 69.5,\n",
       "    u'time': 1443884400,\n",
       "    u'visibility': 10,\n",
       "    u'windBearing': 82,\n",
       "    u'windSpeed': 6.51},\n",
       "   {u'apparentTemperature': 72.03,\n",
       "    u'cloudCover': 0.03,\n",
       "    u'dewPoint': 44.9,\n",
       "    u'humidity': 0.38,\n",
       "    u'icon': u'clear-day',\n",
       "    u'precipIntensity': 0,\n",
       "    u'precipProbability': 0,\n",
       "    u'pressure': 1013.7,\n",
       "    u'summary': u'Clear',\n",
       "    u'temperature': 72.03,\n",
       "    u'time': 1443888000,\n",
       "    u'visibility': 10,\n",
       "    u'windBearing': 110,\n",
       "    u'windSpeed': 1.36},\n",
       "   {u'apparentTemperature': 74.28,\n",
       "    u'cloudCover': 0.03,\n",
       "    u'dewPoint': 45.39,\n",
       "    u'humidity': 0.36,\n",
       "    u'icon': u'clear-day',\n",
       "    u'precipIntensity': 0,\n",
       "    u'precipProbability': 0,\n",
       "    u'pressure': 1013.18,\n",
       "    u'summary': u'Clear',\n",
       "    u'temperature': 74.28,\n",
       "    u'time': 1443891600,\n",
       "    u'visibility': 10,\n",
       "    u'windBearing': 350,\n",
       "    u'windSpeed': 1.77},\n",
       "   {u'apparentTemperature': 77.31,\n",
       "    u'cloudCover': 0.03,\n",
       "    u'dewPoint': 43.92,\n",
       "    u'humidity': 0.31,\n",
       "    u'icon': u'clear-day',\n",
       "    u'precipIntensity': 0,\n",
       "    u'precipProbability': 0,\n",
       "    u'pressure': 1012.3,\n",
       "    u'summary': u'Clear',\n",
       "    u'temperature': 77.31,\n",
       "    u'time': 1443895200,\n",
       "    u'visibility': 10,\n",
       "    u'windBearing': 104,\n",
       "    u'windSpeed': 6.59},\n",
       "   {u'apparentTemperature': 79.57,\n",
       "    u'cloudCover': 0.12,\n",
       "    u'dewPoint': 43.74,\n",
       "    u'humidity': 0.27,\n",
       "    u'icon': u'clear-day',\n",
       "    u'precipIntensity': 0,\n",
       "    u'precipProbability': 0,\n",
       "    u'pressure': 1010.89,\n",
       "    u'summary': u'Clear',\n",
       "    u'temperature': 80.95,\n",
       "    u'time': 1443898800,\n",
       "    u'visibility': 10,\n",
       "    u'windBearing': 26,\n",
       "    u'windSpeed': 2.83},\n",
       "   {u'apparentTemperature': 80.63,\n",
       "    u'cloudCover': 0.03,\n",
       "    u'dewPoint': 42.43,\n",
       "    u'humidity': 0.24,\n",
       "    u'icon': u'clear-day',\n",
       "    u'precipIntensity': 0,\n",
       "    u'precipProbability': 0,\n",
       "    u'pressure': 1009.68,\n",
       "    u'summary': u'Clear',\n",
       "    u'temperature': 82.8,\n",
       "    u'time': 1443902400,\n",
       "    u'visibility': 10,\n",
       "    u'windBearing': 50,\n",
       "    u'windSpeed': 5.73},\n",
       "   {u'apparentTemperature': 81.78,\n",
       "    u'cloudCover': 0.03,\n",
       "    u'dewPoint': 41.68,\n",
       "    u'humidity': 0.22,\n",
       "    u'icon': u'clear-day',\n",
       "    u'precipIntensity': 0,\n",
       "    u'precipProbability': 0,\n",
       "    u'pressure': 1009.27,\n",
       "    u'summary': u'Clear',\n",
       "    u'temperature': 84.51,\n",
       "    u'time': 1443906000,\n",
       "    u'visibility': 10,\n",
       "    u'windBearing': 88,\n",
       "    u'windSpeed': 7.28},\n",
       "   {u'apparentTemperature': 81.26,\n",
       "    u'cloudCover': 0,\n",
       "    u'dewPoint': 40.68,\n",
       "    u'humidity': 0.22,\n",
       "    u'icon': u'clear-day',\n",
       "    u'precipIntensity': 0,\n",
       "    u'precipProbability': 0,\n",
       "    u'pressure': 1008.98,\n",
       "    u'summary': u'Clear',\n",
       "    u'temperature': 83.85,\n",
       "    u'time': 1443909600,\n",
       "    u'visibility': 10,\n",
       "    u'windBearing': 42,\n",
       "    u'windSpeed': 5.84},\n",
       "   {u'apparentTemperature': 80.48,\n",
       "    u'cloudCover': 0,\n",
       "    u'dewPoint': 40.41,\n",
       "    u'humidity': 0.22,\n",
       "    u'icon': u'clear-day',\n",
       "    u'precipIntensity': 0,\n",
       "    u'precipProbability': 0,\n",
       "    u'pressure': 1009.37,\n",
       "    u'summary': u'Clear',\n",
       "    u'temperature': 82.72,\n",
       "    u'time': 1443913200,\n",
       "    u'visibility': 10,\n",
       "    u'windBearing': 40,\n",
       "    u'windSpeed': 5.27},\n",
       "   {u'apparentTemperature': 79.15,\n",
       "    u'cloudCover': 0,\n",
       "    u'dewPoint': 40.94,\n",
       "    u'humidity': 0.25,\n",
       "    u'icon': u'clear-day',\n",
       "    u'precipIntensity': 0,\n",
       "    u'precipProbability': 0,\n",
       "    u'pressure': 1010.1,\n",
       "    u'summary': u'Clear',\n",
       "    u'temperature': 80.52,\n",
       "    u'time': 1443916800,\n",
       "    u'visibility': 10,\n",
       "    u'windBearing': 54,\n",
       "    u'windSpeed': 3.02},\n",
       "   {u'apparentTemperature': 76.54,\n",
       "    u'cloudCover': 0,\n",
       "    u'dewPoint': 44.33,\n",
       "    u'humidity': 0.32,\n",
       "    u'icon': u'clear-night',\n",
       "    u'precipIntensity': 0,\n",
       "    u'precipProbability': 0,\n",
       "    u'pressure': 1010.69,\n",
       "    u'summary': u'Clear',\n",
       "    u'temperature': 76.54,\n",
       "    u'time': 1443920400,\n",
       "    u'visibility': 10,\n",
       "    u'windBearing': 49,\n",
       "    u'windSpeed': 3.58},\n",
       "   {u'apparentTemperature': 74.44,\n",
       "    u'cloudCover': 0.03,\n",
       "    u'dewPoint': 45.18,\n",
       "    u'humidity': 0.35,\n",
       "    u'icon': u'clear-night',\n",
       "    u'precipIntensity': 0,\n",
       "    u'precipProbability': 0,\n",
       "    u'pressure': 1011.29,\n",
       "    u'summary': u'Clear',\n",
       "    u'temperature': 74.44,\n",
       "    u'time': 1443924000,\n",
       "    u'visibility': 10,\n",
       "    u'windBearing': 51,\n",
       "    u'windSpeed': 3.22},\n",
       "   {u'apparentTemperature': 72.24,\n",
       "    u'cloudCover': 0.05,\n",
       "    u'dewPoint': 45.29,\n",
       "    u'humidity': 0.38,\n",
       "    u'icon': u'clear-night',\n",
       "    u'precipIntensity': 0,\n",
       "    u'precipProbability': 0,\n",
       "    u'pressure': 1011.68,\n",
       "    u'summary': u'Clear',\n",
       "    u'temperature': 72.24,\n",
       "    u'time': 1443927600,\n",
       "    u'visibility': 10,\n",
       "    u'windBearing': 53,\n",
       "    u'windSpeed': 5.58},\n",
       "   {u'apparentTemperature': 71.06,\n",
       "    u'cloudCover': 0.03,\n",
       "    u'dewPoint': 44.83,\n",
       "    u'humidity': 0.39,\n",
       "    u'icon': u'clear-night',\n",
       "    u'precipIntensity': 0,\n",
       "    u'precipProbability': 0,\n",
       "    u'pressure': 1012.01,\n",
       "    u'summary': u'Clear',\n",
       "    u'temperature': 71.06,\n",
       "    u'time': 1443931200,\n",
       "    u'visibility': 10,\n",
       "    u'windBearing': 52,\n",
       "    u'windSpeed': 5.55}],\n",
       "  u'icon': u'clear-day',\n",
       "  u'summary': u'Clear throughout the day.'},\n",
       " u'latitude': 30.303936,\n",
       " u'longitude': -97.754355,\n",
       " u'offset': -5,\n",
       " u'timezone': u'America/Chicago'}"
      ]
     },
     "execution_count": 10,
     "metadata": {},
     "output_type": "execute_result"
    }
   ],
   "source": [
    "weather_test.json()"
   ]
  },
  {
   "cell_type": "code",
   "execution_count": 11,
   "metadata": {
    "collapsed": false
   },
   "outputs": [
    {
     "data": {
      "text/plain": [
       "[u'hourly',\n",
       " u'currently',\n",
       " u'longitude',\n",
       " u'flags',\n",
       " u'daily',\n",
       " u'offset',\n",
       " u'latitude',\n",
       " u'timezone']"
      ]
     },
     "execution_count": 11,
     "metadata": {},
     "output_type": "execute_result"
    }
   ],
   "source": [
    "weather_test.json().keys()"
   ]
  },
  {
   "cell_type": "code",
   "execution_count": 12,
   "metadata": {
    "collapsed": false
   },
   "outputs": [
    {
     "name": "stdout",
     "output_type": "stream",
     "text": [
      "{u'apparentTemperatureMinTime': 1443877200, u'cloudCover': 0.02, u'temperatureMin': 58.38, u'summary': u'Clear throughout the day.', u'dewPoint': 43.42, u'apparentTemperatureMax': 81.78, u'temperatureMax': 84.51, u'temperatureMaxTime': 1443906000, u'windBearing': 48, u'moonPhase': 0.71, u'visibility': 10, u'sunsetTime': 1443917754, u'pressure': 1011.69, u'precipProbability': 0, u'apparentTemperatureMin': 58.38, u'precipIntensityMax': 0, u'icon': u'clear-day', u'apparentTemperatureMaxTime': 1443906000, u'humidity': 0.39, u'windSpeed': 4, u'time': 1443848400, u'precipIntensity': 0, u'sunriseTime': 1443875201, u'temperatureMinTime': 1443877200}\n"
     ]
    }
   ],
   "source": [
    "print weather_test.json()['daily']['data'][0]"
   ]
  },
  {
   "cell_type": "markdown",
   "metadata": {},
   "source": [
    "Save the daily max temperature in the 'daily' field, 'temperatureMax'"
   ]
  },
  {
   "cell_type": "markdown",
   "metadata": {},
   "source": [
    "<b>4.</b> Based on the data sample, create the table in a SQLite database called \"weather.db\"."
   ]
  },
  {
   "cell_type": "code",
   "execution_count": 13,
   "metadata": {
    "collapsed": false
   },
   "outputs": [],
   "source": [
    "import sqlite3 as lite\n",
    "\n",
    "con = lite.connect('weather.db')\n",
    "cur = con.cursor()"
   ]
  },
  {
   "cell_type": "markdown",
   "metadata": {},
   "source": [
    "Create table in 'weather.db':   \n",
    "<b>Note:</b> I found the instructions very unclear in this lesson. I've finally figured it out by moving ahead in the lesson to determine I'm only supposed to create a table with one variable from within 'daily'. I assumed (incorrectly) that I was supposed to be capturing more data in the database for each city. "
   ]
  },
  {
   "cell_type": "code",
   "execution_count": 14,
   "metadata": {
    "collapsed": false
   },
   "outputs": [],
   "source": [
    "with con:\n",
    "    cur.execute('CREATE TABLE daily_max_temp (\\\n",
    "    day TIMESTAMP, Austin REAL, Boston REAL, Miami REAL, Phoenix REAL, Seattle REAL)')"
   ]
  },
  {
   "cell_type": "code",
   "execution_count": 15,
   "metadata": {
    "collapsed": false
   },
   "outputs": [
    {
     "name": "stdout",
     "output_type": "stream",
     "text": [
      "Empty DataFrame\n",
      "Columns: [day, Austin, Boston, Miami, Phoenix, Seattle]\n",
      "Index: []\n"
     ]
    }
   ],
   "source": [
    "print pd.read_sql_query('SELECT * FROM daily_max_temp', con)\n",
    "# 'SELECT *' will bring the entire table, 'con' at the end references the connection to the database. "
   ]
  },
  {
   "cell_type": "markdown",
   "metadata": {},
   "source": [
    "<b>5.</b>Write a script that takes each city and queries every day for the past 30 days (Hint: You can use the datetime.timedelta(days=1) to increment the value by day).  \n",
    "<b>6.</b> Save the max temperature values to the table, keyed on the date. You can leave the date in Unix time or convert to a string."
   ]
  },
  {
   "cell_type": "markdown",
   "metadata": {},
   "source": [
    "In SQL, a row has to be inserted before it can be updated. In order to keep the code clean, we're going to iterate through the values in the range and insert them into the database without any other values:"
   ]
  },
  {
   "cell_type": "code",
   "execution_count": 16,
   "metadata": {
    "collapsed": true
   },
   "outputs": [],
   "source": [
    "query_date = current_time - sub_days # as above; returns 30 days. "
   ]
  },
  {
   "cell_type": "code",
   "execution_count": 17,
   "metadata": {
    "collapsed": false
   },
   "outputs": [],
   "source": [
    "with con:\n",
    "    while query_date < current_time:\n",
    "        cur.execute('INSERT INTO daily_max_temp(day) VALUES (?)', [query_date.strftime('%Y-%m-%dT%H:%M:%S')],)\n",
    "        query_date += datetime.timedelta(days=1)"
   ]
  },
  {
   "cell_type": "code",
   "execution_count": 35,
   "metadata": {
    "collapsed": false
   },
   "outputs": [
    {
     "name": "stdout",
     "output_type": "stream",
     "text": [
      "                   day  Austin  Boston  Miami  Phoenix  Seattle\n",
      "0  2015-10-03T10:00:18   84.51   54.13  86.96    90.44    63.79\n",
      "1  2015-10-04T10:00:18   85.71   54.28  85.97    91.96    66.70\n",
      "2  2015-10-05T10:00:18   83.36   59.01  84.50    83.09    67.12\n",
      "3  2015-10-06T10:00:18   88.46   63.11  84.04    77.91    63.84\n",
      "4  2015-10-07T10:00:18   89.90   69.85  84.26    80.83    61.02\n"
     ]
    }
   ],
   "source": [
    "print pd.read_sql_query('SELECT * FROM daily_max_temp', con).head()"
   ]
  },
  {
   "cell_type": "markdown",
   "metadata": {},
   "source": [
    "Now we can loop through our cities and query the API:"
   ]
  },
  {
   "cell_type": "code",
   "execution_count": 33,
   "metadata": {
    "collapsed": false
   },
   "outputs": [
    {
     "name": "stdout",
     "output_type": "stream",
     "text": [
      "2015-10-03 10:00:18.135000\n",
      "2015-10-03 10:00:18.135000\n",
      "2015-10-03 10:00:18.135000\n",
      "2015-10-03 10:00:18.135000\n",
      "2015-10-03 10:00:18.135000\n"
     ]
    }
   ],
   "source": [
    "for k,v in cities.iteritems(): #for each city and corresponding co-ordinates(lat & long) in the dict:\n",
    "    url = 'https://api.forecast.io/forecast/'+api_key\n",
    "    \n",
    "    query_date = current_time - sub_days # as above; returns 30 days.\n",
    "    \n",
    "    while query_date < current_time:\n",
    "        #query for the value\n",
    "        r = requests.get(url + '/' + v + ',' + query_date.strftime('%Y-%m-%dT%H:%M:%S'))\n",
    "\n",
    "        with con:\n",
    "            #insert the temperature max to the database\n",
    "            cur.execute('UPDATE daily_max_temp SET ' + str(k) + ' = ? WHERE day = ?', \\\n",
    "                        (r.json()['daily']['data'][0]['temperatureMax'], query_date.strftime('%Y-%m-%dT%H:%M:%S'),))\n",
    "\n",
    "        #increment query_date to the next day for next operation of loop\n",
    "        query_date += datetime.timedelta(days=1) #increment query_date to the next day\n",
    "\n",
    "\n",
    "#con.close() # a good practice to close connection to database"
   ]
  },
  {
   "cell_type": "code",
   "execution_count": 34,
   "metadata": {
    "collapsed": false
   },
   "outputs": [
    {
     "name": "stdout",
     "output_type": "stream",
     "text": [
      "                    day  Austin  Boston  Miami  Phoenix  Seattle\n",
      "0   2015-10-03T10:00:18   84.51   54.13  86.96    90.44    63.79\n",
      "1   2015-10-04T10:00:18   85.71   54.28  85.97    91.96    66.70\n",
      "2   2015-10-05T10:00:18   83.36   59.01  84.50    83.09    67.12\n",
      "3   2015-10-06T10:00:18   88.46   63.11  84.04    77.91    63.84\n",
      "4   2015-10-07T10:00:18   89.90   69.85  84.26    80.83    61.02\n",
      "5   2015-10-08T10:00:18   88.65   61.23  84.99    89.76    64.51\n",
      "6   2015-10-09T10:00:18   86.07   69.74  85.51    93.06    66.51\n",
      "7   2015-10-10T10:00:18   89.30   61.41  87.51    91.90    68.12\n",
      "8   2015-10-11T10:00:18   94.35   67.86  84.93    95.28    63.37\n",
      "9   2015-10-12T10:00:18   98.37   74.63  85.38    93.82    64.42\n",
      "10  2015-10-13T10:00:18   92.63   70.16  84.51    96.13    59.80\n",
      "11  2015-10-14T10:00:18   95.15   66.31  86.29    97.90    58.67\n",
      "12  2015-10-15T10:00:18   93.49   60.58  85.10    94.99    63.94\n",
      "13  2015-10-16T10:00:18   89.61   60.24  82.48    93.35    63.63\n",
      "14  2015-10-17T10:00:18   86.49   54.52  82.83    85.88    61.06\n",
      "15  2015-10-18T10:00:18   82.84   44.92  83.04    88.22    59.71\n",
      "16  2015-10-19T10:00:18   84.44   47.64  80.77    83.02    62.86\n",
      "17  2015-10-20T10:00:18   84.40   63.52  81.37    74.01    62.79\n",
      "18  2015-10-21T10:00:18   84.91   57.27  81.90    73.56    60.86\n",
      "19  2015-10-22T10:00:18   80.25   69.52  82.14    76.61    59.47\n",
      "20  2015-10-23T10:00:18   80.05   59.05  81.10    81.36    56.80\n",
      "21  2015-10-24T10:00:18   74.31   48.22  81.64    86.96    56.88\n",
      "22  2015-10-25T10:00:18   62.42   60.46  81.83    85.43    63.49\n",
      "23  2015-10-26T10:00:18   75.57   51.81  81.45    86.90    56.31\n",
      "24  2015-10-27T10:00:18   81.21   54.30  83.24    85.97    60.01\n",
      "25  2015-10-28T10:00:18   79.39   60.71  81.18    83.50    56.60\n",
      "26  2015-10-29T10:00:18   79.37   71.64  84.16    78.77    60.22\n",
      "27  2015-10-30T10:00:18   74.92   58.66  84.40    77.31    64.12\n",
      "28  2015-10-31T10:00:18   74.33   52.72  83.76    80.22    59.93\n",
      "29  2015-11-01T10:00:18   72.67   59.66  85.01    82.19    54.21\n"
     ]
    }
   ],
   "source": [
    "print pd.read_sql_query('SELECT * FROM daily_max_temp', con)"
   ]
  },
  {
   "cell_type": "markdown",
   "metadata": {},
   "source": [
    "Now we have a database with the temperature information we want for 5 U.S. cities. "
   ]
  },
  {
   "cell_type": "markdown",
   "metadata": {},
   "source": [
    "## Analyzing Temperature Data"
   ]
  },
  {
   "cell_type": "markdown",
   "metadata": {},
   "source": [
    "Just as you did with the Citi Bike data, go through the the sequence of temperature readings and calculate the change between days and find the greatest range in high temperatures in the month you measured. Which city had the greatest variation? What is the distribution of the difference? Does the result surprise you? Why or why not?"
   ]
  },
  {
   "cell_type": "code",
   "execution_count": 38,
   "metadata": {
    "collapsed": false
   },
   "outputs": [
    {
     "data": {
      "text/html": [
       "<div>\n",
       "<table border=\"1\" class=\"dataframe\">\n",
       "  <thead>\n",
       "    <tr style=\"text-align: right;\">\n",
       "      <th></th>\n",
       "      <th>day</th>\n",
       "      <th>Austin</th>\n",
       "      <th>Boston</th>\n",
       "      <th>Miami</th>\n",
       "      <th>Phoenix</th>\n",
       "      <th>Seattle</th>\n",
       "    </tr>\n",
       "  </thead>\n",
       "  <tbody>\n",
       "    <tr>\n",
       "      <th>0</th>\n",
       "      <td>2015-10-03T10:00:18</td>\n",
       "      <td>84.51</td>\n",
       "      <td>54.13</td>\n",
       "      <td>86.96</td>\n",
       "      <td>90.44</td>\n",
       "      <td>63.79</td>\n",
       "    </tr>\n",
       "    <tr>\n",
       "      <th>1</th>\n",
       "      <td>2015-10-04T10:00:18</td>\n",
       "      <td>85.71</td>\n",
       "      <td>54.28</td>\n",
       "      <td>85.97</td>\n",
       "      <td>91.96</td>\n",
       "      <td>66.70</td>\n",
       "    </tr>\n",
       "    <tr>\n",
       "      <th>2</th>\n",
       "      <td>2015-10-05T10:00:18</td>\n",
       "      <td>83.36</td>\n",
       "      <td>59.01</td>\n",
       "      <td>84.50</td>\n",
       "      <td>83.09</td>\n",
       "      <td>67.12</td>\n",
       "    </tr>\n",
       "    <tr>\n",
       "      <th>3</th>\n",
       "      <td>2015-10-06T10:00:18</td>\n",
       "      <td>88.46</td>\n",
       "      <td>63.11</td>\n",
       "      <td>84.04</td>\n",
       "      <td>77.91</td>\n",
       "      <td>63.84</td>\n",
       "    </tr>\n",
       "    <tr>\n",
       "      <th>4</th>\n",
       "      <td>2015-10-07T10:00:18</td>\n",
       "      <td>89.90</td>\n",
       "      <td>69.85</td>\n",
       "      <td>84.26</td>\n",
       "      <td>80.83</td>\n",
       "      <td>61.02</td>\n",
       "    </tr>\n",
       "  </tbody>\n",
       "</table>\n",
       "</div>"
      ],
      "text/plain": [
       "                   day  Austin  Boston  Miami  Phoenix  Seattle\n",
       "0  2015-10-03T10:00:18   84.51   54.13  86.96    90.44    63.79\n",
       "1  2015-10-04T10:00:18   85.71   54.28  85.97    91.96    66.70\n",
       "2  2015-10-05T10:00:18   83.36   59.01  84.50    83.09    67.12\n",
       "3  2015-10-06T10:00:18   88.46   63.11  84.04    77.91    63.84\n",
       "4  2015-10-07T10:00:18   89.90   69.85  84.26    80.83    61.02"
      ]
     },
     "execution_count": 38,
     "metadata": {},
     "output_type": "execute_result"
    }
   ],
   "source": [
    "# turn database into a dataframe:\n",
    "weather_frame = pd.read_sql_query('SELECT * FROM daily_max_temp', con)\n",
    "weather_frame.head()"
   ]
  },
  {
   "cell_type": "code",
   "execution_count": 39,
   "metadata": {
    "collapsed": false
   },
   "outputs": [
    {
     "data": {
      "text/html": [
       "<div>\n",
       "<table border=\"1\" class=\"dataframe\">\n",
       "  <thead>\n",
       "    <tr style=\"text-align: right;\">\n",
       "      <th></th>\n",
       "      <th>0</th>\n",
       "      <th>1</th>\n",
       "      <th>2</th>\n",
       "      <th>3</th>\n",
       "      <th>4</th>\n",
       "      <th>5</th>\n",
       "      <th>6</th>\n",
       "      <th>7</th>\n",
       "      <th>8</th>\n",
       "      <th>9</th>\n",
       "      <th>...</th>\n",
       "      <th>20</th>\n",
       "      <th>21</th>\n",
       "      <th>22</th>\n",
       "      <th>23</th>\n",
       "      <th>24</th>\n",
       "      <th>25</th>\n",
       "      <th>26</th>\n",
       "      <th>27</th>\n",
       "      <th>28</th>\n",
       "      <th>29</th>\n",
       "    </tr>\n",
       "  </thead>\n",
       "  <tbody>\n",
       "    <tr>\n",
       "      <th>day</th>\n",
       "      <td>2015-10-03T10:00:18</td>\n",
       "      <td>2015-10-04T10:00:18</td>\n",
       "      <td>2015-10-05T10:00:18</td>\n",
       "      <td>2015-10-06T10:00:18</td>\n",
       "      <td>2015-10-07T10:00:18</td>\n",
       "      <td>2015-10-08T10:00:18</td>\n",
       "      <td>2015-10-09T10:00:18</td>\n",
       "      <td>2015-10-10T10:00:18</td>\n",
       "      <td>2015-10-11T10:00:18</td>\n",
       "      <td>2015-10-12T10:00:18</td>\n",
       "      <td>...</td>\n",
       "      <td>2015-10-23T10:00:18</td>\n",
       "      <td>2015-10-24T10:00:18</td>\n",
       "      <td>2015-10-25T10:00:18</td>\n",
       "      <td>2015-10-26T10:00:18</td>\n",
       "      <td>2015-10-27T10:00:18</td>\n",
       "      <td>2015-10-28T10:00:18</td>\n",
       "      <td>2015-10-29T10:00:18</td>\n",
       "      <td>2015-10-30T10:00:18</td>\n",
       "      <td>2015-10-31T10:00:18</td>\n",
       "      <td>2015-11-01T10:00:18</td>\n",
       "    </tr>\n",
       "    <tr>\n",
       "      <th>Austin</th>\n",
       "      <td>84.51</td>\n",
       "      <td>85.71</td>\n",
       "      <td>83.36</td>\n",
       "      <td>88.46</td>\n",
       "      <td>89.9</td>\n",
       "      <td>88.65</td>\n",
       "      <td>86.07</td>\n",
       "      <td>89.3</td>\n",
       "      <td>94.35</td>\n",
       "      <td>98.37</td>\n",
       "      <td>...</td>\n",
       "      <td>80.05</td>\n",
       "      <td>74.31</td>\n",
       "      <td>62.42</td>\n",
       "      <td>75.57</td>\n",
       "      <td>81.21</td>\n",
       "      <td>79.39</td>\n",
       "      <td>79.37</td>\n",
       "      <td>74.92</td>\n",
       "      <td>74.33</td>\n",
       "      <td>72.67</td>\n",
       "    </tr>\n",
       "    <tr>\n",
       "      <th>Boston</th>\n",
       "      <td>54.13</td>\n",
       "      <td>54.28</td>\n",
       "      <td>59.01</td>\n",
       "      <td>63.11</td>\n",
       "      <td>69.85</td>\n",
       "      <td>61.23</td>\n",
       "      <td>69.74</td>\n",
       "      <td>61.41</td>\n",
       "      <td>67.86</td>\n",
       "      <td>74.63</td>\n",
       "      <td>...</td>\n",
       "      <td>59.05</td>\n",
       "      <td>48.22</td>\n",
       "      <td>60.46</td>\n",
       "      <td>51.81</td>\n",
       "      <td>54.3</td>\n",
       "      <td>60.71</td>\n",
       "      <td>71.64</td>\n",
       "      <td>58.66</td>\n",
       "      <td>52.72</td>\n",
       "      <td>59.66</td>\n",
       "    </tr>\n",
       "    <tr>\n",
       "      <th>Miami</th>\n",
       "      <td>86.96</td>\n",
       "      <td>85.97</td>\n",
       "      <td>84.5</td>\n",
       "      <td>84.04</td>\n",
       "      <td>84.26</td>\n",
       "      <td>84.99</td>\n",
       "      <td>85.51</td>\n",
       "      <td>87.51</td>\n",
       "      <td>84.93</td>\n",
       "      <td>85.38</td>\n",
       "      <td>...</td>\n",
       "      <td>81.1</td>\n",
       "      <td>81.64</td>\n",
       "      <td>81.83</td>\n",
       "      <td>81.45</td>\n",
       "      <td>83.24</td>\n",
       "      <td>81.18</td>\n",
       "      <td>84.16</td>\n",
       "      <td>84.4</td>\n",
       "      <td>83.76</td>\n",
       "      <td>85.01</td>\n",
       "    </tr>\n",
       "    <tr>\n",
       "      <th>Phoenix</th>\n",
       "      <td>90.44</td>\n",
       "      <td>91.96</td>\n",
       "      <td>83.09</td>\n",
       "      <td>77.91</td>\n",
       "      <td>80.83</td>\n",
       "      <td>89.76</td>\n",
       "      <td>93.06</td>\n",
       "      <td>91.9</td>\n",
       "      <td>95.28</td>\n",
       "      <td>93.82</td>\n",
       "      <td>...</td>\n",
       "      <td>81.36</td>\n",
       "      <td>86.96</td>\n",
       "      <td>85.43</td>\n",
       "      <td>86.9</td>\n",
       "      <td>85.97</td>\n",
       "      <td>83.5</td>\n",
       "      <td>78.77</td>\n",
       "      <td>77.31</td>\n",
       "      <td>80.22</td>\n",
       "      <td>82.19</td>\n",
       "    </tr>\n",
       "  </tbody>\n",
       "</table>\n",
       "<p>5 rows × 30 columns</p>\n",
       "</div>"
      ],
      "text/plain": [
       "                          0                    1                    2   \\\n",
       "day      2015-10-03T10:00:18  2015-10-04T10:00:18  2015-10-05T10:00:18   \n",
       "Austin                 84.51                85.71                83.36   \n",
       "Boston                 54.13                54.28                59.01   \n",
       "Miami                  86.96                85.97                 84.5   \n",
       "Phoenix                90.44                91.96                83.09   \n",
       "\n",
       "                          3                    4                    5   \\\n",
       "day      2015-10-06T10:00:18  2015-10-07T10:00:18  2015-10-08T10:00:18   \n",
       "Austin                 88.46                 89.9                88.65   \n",
       "Boston                 63.11                69.85                61.23   \n",
       "Miami                  84.04                84.26                84.99   \n",
       "Phoenix                77.91                80.83                89.76   \n",
       "\n",
       "                          6                    7                    8   \\\n",
       "day      2015-10-09T10:00:18  2015-10-10T10:00:18  2015-10-11T10:00:18   \n",
       "Austin                 86.07                 89.3                94.35   \n",
       "Boston                 69.74                61.41                67.86   \n",
       "Miami                  85.51                87.51                84.93   \n",
       "Phoenix                93.06                 91.9                95.28   \n",
       "\n",
       "                          9          ...                            20  \\\n",
       "day      2015-10-12T10:00:18         ...           2015-10-23T10:00:18   \n",
       "Austin                 98.37         ...                         80.05   \n",
       "Boston                 74.63         ...                         59.05   \n",
       "Miami                  85.38         ...                          81.1   \n",
       "Phoenix                93.82         ...                         81.36   \n",
       "\n",
       "                          21                   22                   23  \\\n",
       "day      2015-10-24T10:00:18  2015-10-25T10:00:18  2015-10-26T10:00:18   \n",
       "Austin                 74.31                62.42                75.57   \n",
       "Boston                 48.22                60.46                51.81   \n",
       "Miami                  81.64                81.83                81.45   \n",
       "Phoenix                86.96                85.43                 86.9   \n",
       "\n",
       "                          24                   25                   26  \\\n",
       "day      2015-10-27T10:00:18  2015-10-28T10:00:18  2015-10-29T10:00:18   \n",
       "Austin                 81.21                79.39                79.37   \n",
       "Boston                  54.3                60.71                71.64   \n",
       "Miami                  83.24                81.18                84.16   \n",
       "Phoenix                85.97                 83.5                78.77   \n",
       "\n",
       "                          27                   28                   29  \n",
       "day      2015-10-30T10:00:18  2015-10-31T10:00:18  2015-11-01T10:00:18  \n",
       "Austin                 74.92                74.33                72.67  \n",
       "Boston                 58.66                52.72                59.66  \n",
       "Miami                   84.4                83.76                85.01  \n",
       "Phoenix                77.31                80.22                82.19  \n",
       "\n",
       "[5 rows x 30 columns]"
      ]
     },
     "execution_count": 39,
     "metadata": {},
     "output_type": "execute_result"
    }
   ],
   "source": [
    "# Transpose the dataframe:\n",
    "weather_frame = weather_frame.T\n",
    "weather_frame.head()"
   ]
  },
  {
   "cell_type": "code",
   "execution_count": 47,
   "metadata": {
    "collapsed": false
   },
   "outputs": [
    {
     "data": {
      "text/html": [
       "<div>\n",
       "<table border=\"1\" class=\"dataframe\">\n",
       "  <thead>\n",
       "    <tr style=\"text-align: right;\">\n",
       "      <th>day</th>\n",
       "      <th>2015-10-03T10:00:18</th>\n",
       "      <th>2015-10-04T10:00:18</th>\n",
       "      <th>2015-10-05T10:00:18</th>\n",
       "      <th>2015-10-06T10:00:18</th>\n",
       "      <th>2015-10-07T10:00:18</th>\n",
       "      <th>2015-10-08T10:00:18</th>\n",
       "      <th>2015-10-09T10:00:18</th>\n",
       "      <th>2015-10-10T10:00:18</th>\n",
       "      <th>2015-10-11T10:00:18</th>\n",
       "      <th>2015-10-12T10:00:18</th>\n",
       "      <th>...</th>\n",
       "      <th>2015-10-24T10:00:18</th>\n",
       "      <th>2015-10-25T10:00:18</th>\n",
       "      <th>2015-10-26T10:00:18</th>\n",
       "      <th>2015-10-27T10:00:18</th>\n",
       "      <th>2015-10-28T10:00:18</th>\n",
       "      <th>2015-10-29T10:00:18</th>\n",
       "      <th>2015-10-30T10:00:18</th>\n",
       "      <th>2015-10-31T10:00:18</th>\n",
       "      <th>2015-11-01T10:00:18</th>\n",
       "      <th>range</th>\n",
       "    </tr>\n",
       "  </thead>\n",
       "  <tbody>\n",
       "    <tr>\n",
       "      <th>Austin</th>\n",
       "      <td>84.51</td>\n",
       "      <td>85.71</td>\n",
       "      <td>83.36</td>\n",
       "      <td>88.46</td>\n",
       "      <td>89.9</td>\n",
       "      <td>88.65</td>\n",
       "      <td>86.07</td>\n",
       "      <td>89.3</td>\n",
       "      <td>94.35</td>\n",
       "      <td>98.37</td>\n",
       "      <td>...</td>\n",
       "      <td>74.31</td>\n",
       "      <td>62.42</td>\n",
       "      <td>75.57</td>\n",
       "      <td>81.21</td>\n",
       "      <td>79.39</td>\n",
       "      <td>79.37</td>\n",
       "      <td>74.92</td>\n",
       "      <td>74.33</td>\n",
       "      <td>72.67</td>\n",
       "      <td>35.95</td>\n",
       "    </tr>\n",
       "  </tbody>\n",
       "</table>\n",
       "<p>1 rows × 31 columns</p>\n",
       "</div>"
      ],
      "text/plain": [
       "day    2015-10-03T10:00:18 2015-10-04T10:00:18 2015-10-05T10:00:18  \\\n",
       "Austin               84.51               85.71               83.36   \n",
       "\n",
       "day    2015-10-06T10:00:18 2015-10-07T10:00:18 2015-10-08T10:00:18  \\\n",
       "Austin               88.46                89.9               88.65   \n",
       "\n",
       "day    2015-10-09T10:00:18 2015-10-10T10:00:18 2015-10-11T10:00:18  \\\n",
       "Austin               86.07                89.3               94.35   \n",
       "\n",
       "day    2015-10-12T10:00:18  ...   2015-10-24T10:00:18 2015-10-25T10:00:18  \\\n",
       "Austin               98.37  ...                 74.31               62.42   \n",
       "\n",
       "day    2015-10-26T10:00:18 2015-10-27T10:00:18 2015-10-28T10:00:18  \\\n",
       "Austin               75.57               81.21               79.39   \n",
       "\n",
       "day    2015-10-29T10:00:18 2015-10-30T10:00:18 2015-10-31T10:00:18  \\\n",
       "Austin               79.37               74.92               74.33   \n",
       "\n",
       "day    2015-11-01T10:00:18  range  \n",
       "Austin               72.67  35.95  \n",
       "\n",
       "[1 rows x 31 columns]"
      ]
     },
     "execution_count": 47,
     "metadata": {},
     "output_type": "execute_result"
    }
   ],
   "source": [
    "# Replace column headers with corresponding days\n",
    "weather_frame.columns = weather_frame.iloc[0]\n",
    "\n",
    "#drop the day row:\n",
    "weather_frame = weather_frame.drop('day', axis=0)\n",
    "\n",
    "weather_frame.head(1)"
   ]
  },
  {
   "cell_type": "markdown",
   "metadata": {},
   "source": [
    "<b>1.</b> Calculate the change between days and find the greatest range in high temperatures in the month you measured. Which city had the greatest variation?"
   ]
  },
  {
   "cell_type": "code",
   "execution_count": 48,
   "metadata": {
    "collapsed": false
   },
   "outputs": [
    {
     "data": {
      "text/html": [
       "<div>\n",
       "<table border=\"1\" class=\"dataframe\">\n",
       "  <thead>\n",
       "    <tr style=\"text-align: right;\">\n",
       "      <th>day</th>\n",
       "      <th>2015-10-03T10:00:18</th>\n",
       "      <th>2015-10-04T10:00:18</th>\n",
       "      <th>2015-10-05T10:00:18</th>\n",
       "      <th>2015-10-06T10:00:18</th>\n",
       "      <th>2015-10-07T10:00:18</th>\n",
       "      <th>2015-10-08T10:00:18</th>\n",
       "      <th>2015-10-09T10:00:18</th>\n",
       "      <th>2015-10-10T10:00:18</th>\n",
       "      <th>2015-10-11T10:00:18</th>\n",
       "      <th>2015-10-12T10:00:18</th>\n",
       "      <th>...</th>\n",
       "      <th>2015-10-24T10:00:18</th>\n",
       "      <th>2015-10-25T10:00:18</th>\n",
       "      <th>2015-10-26T10:00:18</th>\n",
       "      <th>2015-10-27T10:00:18</th>\n",
       "      <th>2015-10-28T10:00:18</th>\n",
       "      <th>2015-10-29T10:00:18</th>\n",
       "      <th>2015-10-30T10:00:18</th>\n",
       "      <th>2015-10-31T10:00:18</th>\n",
       "      <th>2015-11-01T10:00:18</th>\n",
       "      <th>range</th>\n",
       "    </tr>\n",
       "  </thead>\n",
       "  <tbody>\n",
       "    <tr>\n",
       "      <th>Austin</th>\n",
       "      <td>84.51</td>\n",
       "      <td>85.71</td>\n",
       "      <td>83.36</td>\n",
       "      <td>88.46</td>\n",
       "      <td>89.9</td>\n",
       "      <td>88.65</td>\n",
       "      <td>86.07</td>\n",
       "      <td>89.3</td>\n",
       "      <td>94.35</td>\n",
       "      <td>98.37</td>\n",
       "      <td>...</td>\n",
       "      <td>74.31</td>\n",
       "      <td>62.42</td>\n",
       "      <td>75.57</td>\n",
       "      <td>81.21</td>\n",
       "      <td>79.39</td>\n",
       "      <td>79.37</td>\n",
       "      <td>74.92</td>\n",
       "      <td>74.33</td>\n",
       "      <td>72.67</td>\n",
       "      <td>35.95</td>\n",
       "    </tr>\n",
       "    <tr>\n",
       "      <th>Boston</th>\n",
       "      <td>54.13</td>\n",
       "      <td>54.28</td>\n",
       "      <td>59.01</td>\n",
       "      <td>63.11</td>\n",
       "      <td>69.85</td>\n",
       "      <td>61.23</td>\n",
       "      <td>69.74</td>\n",
       "      <td>61.41</td>\n",
       "      <td>67.86</td>\n",
       "      <td>74.63</td>\n",
       "      <td>...</td>\n",
       "      <td>48.22</td>\n",
       "      <td>60.46</td>\n",
       "      <td>51.81</td>\n",
       "      <td>54.3</td>\n",
       "      <td>60.71</td>\n",
       "      <td>71.64</td>\n",
       "      <td>58.66</td>\n",
       "      <td>52.72</td>\n",
       "      <td>59.66</td>\n",
       "      <td>29.71</td>\n",
       "    </tr>\n",
       "    <tr>\n",
       "      <th>Miami</th>\n",
       "      <td>86.96</td>\n",
       "      <td>85.97</td>\n",
       "      <td>84.5</td>\n",
       "      <td>84.04</td>\n",
       "      <td>84.26</td>\n",
       "      <td>84.99</td>\n",
       "      <td>85.51</td>\n",
       "      <td>87.51</td>\n",
       "      <td>84.93</td>\n",
       "      <td>85.38</td>\n",
       "      <td>...</td>\n",
       "      <td>81.64</td>\n",
       "      <td>81.83</td>\n",
       "      <td>81.45</td>\n",
       "      <td>83.24</td>\n",
       "      <td>81.18</td>\n",
       "      <td>84.16</td>\n",
       "      <td>84.4</td>\n",
       "      <td>83.76</td>\n",
       "      <td>85.01</td>\n",
       "      <td>6.74</td>\n",
       "    </tr>\n",
       "    <tr>\n",
       "      <th>Phoenix</th>\n",
       "      <td>90.44</td>\n",
       "      <td>91.96</td>\n",
       "      <td>83.09</td>\n",
       "      <td>77.91</td>\n",
       "      <td>80.83</td>\n",
       "      <td>89.76</td>\n",
       "      <td>93.06</td>\n",
       "      <td>91.9</td>\n",
       "      <td>95.28</td>\n",
       "      <td>93.82</td>\n",
       "      <td>...</td>\n",
       "      <td>86.96</td>\n",
       "      <td>85.43</td>\n",
       "      <td>86.9</td>\n",
       "      <td>85.97</td>\n",
       "      <td>83.5</td>\n",
       "      <td>78.77</td>\n",
       "      <td>77.31</td>\n",
       "      <td>80.22</td>\n",
       "      <td>82.19</td>\n",
       "      <td>24.34</td>\n",
       "    </tr>\n",
       "    <tr>\n",
       "      <th>Seattle</th>\n",
       "      <td>63.79</td>\n",
       "      <td>66.7</td>\n",
       "      <td>67.12</td>\n",
       "      <td>63.84</td>\n",
       "      <td>61.02</td>\n",
       "      <td>64.51</td>\n",
       "      <td>66.51</td>\n",
       "      <td>68.12</td>\n",
       "      <td>63.37</td>\n",
       "      <td>64.42</td>\n",
       "      <td>...</td>\n",
       "      <td>56.88</td>\n",
       "      <td>63.49</td>\n",
       "      <td>56.31</td>\n",
       "      <td>60.01</td>\n",
       "      <td>56.6</td>\n",
       "      <td>60.22</td>\n",
       "      <td>64.12</td>\n",
       "      <td>59.93</td>\n",
       "      <td>54.21</td>\n",
       "      <td>13.91</td>\n",
       "    </tr>\n",
       "  </tbody>\n",
       "</table>\n",
       "<p>5 rows × 31 columns</p>\n",
       "</div>"
      ],
      "text/plain": [
       "day     2015-10-03T10:00:18 2015-10-04T10:00:18 2015-10-05T10:00:18  \\\n",
       "Austin                84.51               85.71               83.36   \n",
       "Boston                54.13               54.28               59.01   \n",
       "Miami                 86.96               85.97                84.5   \n",
       "Phoenix               90.44               91.96               83.09   \n",
       "Seattle               63.79                66.7               67.12   \n",
       "\n",
       "day     2015-10-06T10:00:18 2015-10-07T10:00:18 2015-10-08T10:00:18  \\\n",
       "Austin                88.46                89.9               88.65   \n",
       "Boston                63.11               69.85               61.23   \n",
       "Miami                 84.04               84.26               84.99   \n",
       "Phoenix               77.91               80.83               89.76   \n",
       "Seattle               63.84               61.02               64.51   \n",
       "\n",
       "day     2015-10-09T10:00:18 2015-10-10T10:00:18 2015-10-11T10:00:18  \\\n",
       "Austin                86.07                89.3               94.35   \n",
       "Boston                69.74               61.41               67.86   \n",
       "Miami                 85.51               87.51               84.93   \n",
       "Phoenix               93.06                91.9               95.28   \n",
       "Seattle               66.51               68.12               63.37   \n",
       "\n",
       "day     2015-10-12T10:00:18  ...   2015-10-24T10:00:18 2015-10-25T10:00:18  \\\n",
       "Austin                98.37  ...                 74.31               62.42   \n",
       "Boston                74.63  ...                 48.22               60.46   \n",
       "Miami                 85.38  ...                 81.64               81.83   \n",
       "Phoenix               93.82  ...                 86.96               85.43   \n",
       "Seattle               64.42  ...                 56.88               63.49   \n",
       "\n",
       "day     2015-10-26T10:00:18 2015-10-27T10:00:18 2015-10-28T10:00:18  \\\n",
       "Austin                75.57               81.21               79.39   \n",
       "Boston                51.81                54.3               60.71   \n",
       "Miami                 81.45               83.24               81.18   \n",
       "Phoenix                86.9               85.97                83.5   \n",
       "Seattle               56.31               60.01                56.6   \n",
       "\n",
       "day     2015-10-29T10:00:18 2015-10-30T10:00:18 2015-10-31T10:00:18  \\\n",
       "Austin                79.37               74.92               74.33   \n",
       "Boston                71.64               58.66               52.72   \n",
       "Miami                 84.16                84.4               83.76   \n",
       "Phoenix               78.77               77.31               80.22   \n",
       "Seattle               60.22               64.12               59.93   \n",
       "\n",
       "day     2015-11-01T10:00:18  range  \n",
       "Austin                72.67  35.95  \n",
       "Boston                59.66  29.71  \n",
       "Miami                 85.01   6.74  \n",
       "Phoenix               82.19  24.34  \n",
       "Seattle               54.21  13.91  \n",
       "\n",
       "[5 rows x 31 columns]"
      ]
     },
     "execution_count": 48,
     "metadata": {},
     "output_type": "execute_result"
    }
   ],
   "source": [
    "weather_frame['range'] = (weather_frame.max(axis=1) - weather_frame.min(axis=1))\n",
    "weather_frame"
   ]
  },
  {
   "cell_type": "markdown",
   "metadata": {},
   "source": [
    "The city with the greatest variation was Austin, with a range of 35.95 degress over the month. "
   ]
  },
  {
   "cell_type": "markdown",
   "metadata": {},
   "source": [
    "<b>2.</b> What is the distribution of the difference? "
   ]
  },
  {
   "cell_type": "code",
   "execution_count": 53,
   "metadata": {
    "collapsed": false
   },
   "outputs": [
    {
     "data": {
      "image/png": "[encoded data removed]",
      "text/plain": [
       "<matplotlib.figure.Figure at 0xe184710>"
      ]
     },
     "metadata": {},
     "output_type": "display_data"
    }
   ],
   "source": [
    "weather_frame['range'].hist()\n",
    "plt.show()"
   ]
  },
  {
   "cell_type": "code",
   "execution_count": null,
   "metadata": {
    "collapsed": true
   },
   "outputs": [],
   "source": []
  }
 ],
 "metadata": {
  "kernelspec": {
   "display_name": "Python 2",
   "language": "python",
   "name": "python2"
  },
  "language_info": {
   "codemirror_mode": {
    "name": "ipython",
    "version": 2
   },
   "file_extension": ".py",
   "mimetype": "text/x-python",
   "name": "python",
   "nbconvert_exporter": "python",
   "pygments_lexer": "ipython2",
   "version": "2.7.6"
  }
 },
 "nbformat": 4,
 "nbformat_minor": 0
}
