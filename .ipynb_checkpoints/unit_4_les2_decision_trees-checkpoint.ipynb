{
 "cells": [
  {
   "cell_type": "code",
   "execution_count": 1,
   "metadata": {
    "collapsed": true
   },
   "outputs": [],
   "source": [
    "import pandas as pd\n",
    "import statsmodels.api as sm\n",
    "import statsmodels.formula.api as smf #needed for models in this script\n",
    "import pylab as pl\n",
    "import matplotlib.pyplot as plt\n",
    "import numpy as np\n",
    "from scipy import stats"
   ]
  },
  {
   "cell_type": "code",
   "execution_count": 2,
   "metadata": {
    "collapsed": true
   },
   "outputs": [],
   "source": [
    "pd.set_option('html', True) #see the dataframe in a more user friendly manner\n",
    "%matplotlib inline"
   ]
  },
  {
   "cell_type": "markdown",
   "metadata": {},
   "source": [
    "## Decision Trees Overview"
   ]
  },
  {
   "cell_type": "markdown",
   "metadata": {},
   "source": [
    "Consider a pool of college applicants. The average SAT score for admission has historically been 2,200, and the average GPA 4.9. We are given the application info on 1,000 applicants and asked to create a model that will allow us to predict students most likely to be admitted. How do we go about doing this?\n",
    "\n",
    "One approach would be to first divide the applicants into those that have SAT score over 2,200 and then call this the \"more likely\" group. Then we could split this group further by GPA based on whether their GPA is less than or equal to 4.9 or over 4.9. We call the latter subgroup \"most likely\" and the former a \"high maybe\". Then we do the same thing to the group with SAT scores below 2,200 calling the high GPA subgroup a \"maybe\", and the low GPA subgroup a \"probably not\".\n",
    "\n",
    "The following is an example of how the decision tree looks for this problem.\n",
    "\n",
    "![](files/dtree1.jpg)\n",
    "\n",
    "1. What do you think would happen if we split on GPA first and then SAT scores---would we get the same groupings? (i.e. what is the best way to split?)\n",
    "2. What if we used more criteria such as essay evaluation scores, extra curriculars, awards and distinctions in sports etc? (i.e. how many attributes should we use to create splits, and what are the most significant attributes?)\n",
    "3. We were given averages, but what about the spread, what about outliers? (i.e. how does the distribution of attributes affect misclassification?)\n",
    "\n",
    "A <u>decision tree</u> uses the intrinsic structure of the data to make these splits. Decision trees are commonly used in operations research, specifically in decision analysis, to help identify a strategy most likely to reach a goal. In machine learning, decision trees are commonly used to help identify features, and specific values of those features, that are most likely to result in a target value. If the target value is categorical, the model is a classification tree; if the target value is continuous, the model is a regression tree.\n",
    "\n",
    "In this lesson, we're going to focus on classification trees."
   ]
  },
  {
   "cell_type": "code",
   "execution_count": null,
   "metadata": {
    "collapsed": true
   },
   "outputs": [],
   "source": []
  }
 ],
 "metadata": {
  "kernelspec": {
   "display_name": "Python 2",
   "language": "python",
   "name": "python2"
  },
  "language_info": {
   "codemirror_mode": {
    "name": "ipython",
    "version": 2
   },
   "file_extension": ".py",
   "mimetype": "text/x-python",
   "name": "python",
   "nbconvert_exporter": "python",
   "pygments_lexer": "ipython2",
   "version": "2.7.10"
  }
 },
 "nbformat": 4,
 "nbformat_minor": 0
}
