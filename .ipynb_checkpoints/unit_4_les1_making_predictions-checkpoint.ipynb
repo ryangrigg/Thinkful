{
 "cells": [
  {
   "cell_type": "code",
   "execution_count": 1,
   "metadata": {
    "collapsed": true
   },
   "outputs": [],
   "source": [
    "import pandas as pd\n",
    "import statsmodels.api as sm\n",
    "import statsmodels.formula.api as smf #needed for models in this script\n",
    "import pylab as pl\n",
    "import matplotlib.pyplot as plt\n",
    "import numpy as np\n",
    "from scipy import stats"
   ]
  },
  {
   "cell_type": "code",
   "execution_count": 2,
   "metadata": {
    "collapsed": true
   },
   "outputs": [],
   "source": [
    "pd.set_option('html', True) #see the dataframe in a more user friendly manner\n",
    "%matplotlib inline"
   ]
  },
  {
   "cell_type": "markdown",
   "metadata": {},
   "source": [
    "## Classification, Regression and Prediction Overview"
   ]
  },
  {
   "cell_type": "markdown",
   "metadata": {
    "collapsed": true
   },
   "source": [
    "After we've cleaned our data and become familiar with it, we have a dataset with a bunch of observations that have attributes x1...xn, and Y. Our goal, then, is to develop a model to predict Y for a given observation. Depending on what we're trying to predict, we can either attempt to classify a given observation, or perform a regression on a particular observation.\n",
    "\n",
    "In statistics, regression is a measure of the relationship between the mean value of one variable with the corresponding value or values of another variable or other variables. Classification is the process of determining the category or class that an observation belongs to.\n",
    "\n",
    "Both regression and classification comes under the domain of Supervised Learning. In supervised learning, the learning process has a \"goal\" - to predict the missing variable Y. Y is also called the target variable.\n",
    "\n",
    "Supervised learning includes the following steps:\n",
    "\n",
    "1. Process and generate the initial data set for modeling. The data set should be large enough. It will contain both the predictor variables (x1..xn) and the target variable Y.\n",
    "\n",
    "2. Split the data into training and testing sets. The split needs to be performed in such a way that both the sets contain the same patterns of data. For example, if the initial data set has 100 observations, with the predictor value being 60 \"Y\" and 40 \"N\" in these observations, the individual training and testing sets should also have the Y and N in the same ratio of 3:2. Splitting is usually done through random selection. Typically, the training set will have 70% of the records in the initial data set.\n",
    "\n",
    "3. Build a model based on the training data set.\n",
    "\n",
    "4. Test the model using the test data set. We use the model to predict the value of Y in each of the test records. Then compare the predicted value with the actual value of Y (remember, the test data set also has the value of Y for all records). This gives an indication of the accuracy of the prediction model built.\n",
    "\n",
    "5. Fine tune the model using cross-validation (http://scikit-learn.org/stable/modules/cross_validation.html). Try different algorithms and parameters. Repeat the process until the accuracy reaches an acceptable level.\n",
    "\n",
    "6. Predict unknown data. Use the model built on new data (where Y is not known) to predict Y.\n",
    "\n",
    "The level of accuracy required is dependent upon the problem being solved and the limitations of the dataset we're working with. You'll need to use good judgement to avoid both under- and overfitting your model."
   ]
  },
  {
   "cell_type": "markdown",
   "metadata": {},
   "source": [
    "### Classification"
   ]
  },
  {
   "cell_type": "markdown",
   "metadata": {},
   "source": [
    "Classification, in machine learning and statistics, is the process of identifying the category or class that an observation belongs to. For example, determining if an email is spam or not spam is a classification process, as is determining if a patient has a disease or not.\n",
    "\n",
    "Classification is a supervised learning technique that uses a training set of observations with categorical class labels - \"spam\" or \"not spam\", or \"diabetes\" or \"no diabetes\" - to create a classification model based on the attributes of each observation, and each observation's class label, to predict the class label of new observations. Classifiers are evaluated on whether or not they produce the correct class label for an observation.\n",
    "\n",
    "Classification is often split up into binary classification and multiclass classification. In binary classification, we're trying to determine which one of two classes an observation belongs to: spam or not spam, diabetes or no diabetes, 1 or 0. In multiclass classification, we're trying to determine which one of n classes an observation belongs to. Many classification methods have been developed specifically for binary classification, and multiclass classification often requires the combined use of multiple binary classifiers.\n",
    "\n",
    "Again, classification is a supervised learning technique; to perform classification, we need to have a dataset with correct class labels for training. When correct class labels are not available, the corresponding unsupervised learning technique we can use is clustering, which is the topic of the next lesson. Classification and clustering are both techniques used in the more general problem of pattern recognition."
   ]
  },
  {
   "cell_type": "markdown",
   "metadata": {},
   "source": [
    "### Regression"
   ]
  },
  {
   "cell_type": "markdown",
   "metadata": {},
   "source": [
    "Regression is similar to classification in that a model is constructed. This model is used to predict an unknown or missing value Y. The key difference is that while classification models discrete categorical class labels, regression models continuous values. In addition, unlike classification, regression gives ordered values. In regression, we evaluate our model based on how close the predicted value is to the actual value of an observation.\n",
    "\n",
    "Regression is concerned with constructing a model of the relationship between the dependent variable Y and the independent variable(s) x1...xn. The relationship can take many forms. For instance, the relationship we explored in Unit 1 took the form of a line.\n",
    "\n",
    "We used logistic regression in Unit 1 to answer a yes/no question, which should indicate to you that we were performing a classification. On the other hand, it has \"regression\" in the name, which clearly indicates that we were performing a regression. Let's dive into this.\n",
    "\n",
    "For each observation, logistic regression will produce an expected value in terms of a probability. When we're predicting a binary or otherwise categorical outcome, this makes things tricky. This is because regression models generate fitted values that lie some where along a continuous 0—1 scale (e.g., p = 0.68), whereas the actual values of the dependent variable are dichotomous (for all observations, y = 1 or y = 0).\n",
    "\n",
    "Recall that, in order to get a yes/no prediction out of our logistic regression model, we had to determine a probability threshold above which we were confident that the answer was \"yes\" and below which we were confident the answer was \"no\". The threshold we picked was 0.70. By setting this threshold, we wrestled a regression technique into a classifiaction technique. Our model produced continuous values of p, and we converted those continuous values into discrete values using a threshold.\n",
    "\n",
    "There's a very good discussion of these problems in The Separation Plot: A New Visual Method for Evaluating the Fit of Binary Models (http://onlinelibrary.wiley.com/doi/10.1111/j.1540-5907.2011.00525.x/abstract)."
   ]
  },
  {
   "cell_type": "markdown",
   "metadata": {},
   "source": [
    "### Fitting and Overfitting"
   ]
  },
  {
   "cell_type": "markdown",
   "metadata": {},
   "source": [
    "Recall the steps to building a supervised learning model above. Let's dive in to the process of building and evaluating supervised model (steps 2, 3, and 4).\n",
    "\n",
    "Building a model (also called training or fitting) boils down to optimizing a set of parameters on the training set. For instance, in the case of linear regression, we assume a linear relationship between our features and our response variable, and learn the coefficients of the model from our training set. This occurs through minimizing our squared error loss function:\n",
    "\n",
    "![](files/mp1.jpg)\n",
    "\n",
    "With respect to each beta parameter (i.e. taking the partial derivatives and setting them to zero). Although the functional form and parameters can be very complex in other machine learning methods, this idea of learning parameters from a training set applies universally to supervised learning algorithms.\n",
    "\n",
    "Now, why is it necessary to split our data into a training set and a testing set? Why can't we evaluate our model on the same data we used to train it? Simply put, if we evaluate the model on the same data we trained on, we will have a very optimistic view of our models performance because it was optimized directly on that data. In order to get a good estimate of our models performance on new data, we must separate the data we train on from the data we evaluate the model on.\n",
    "\n",
    "Similarly to how we need to isolate training and testing data, we also need to be careful we don't fit our model too closely to our training data. When we learn our training data too closely, this is called over-fitting, and it is critical to be aware of this problem in any modeling task. Two very common way in which a model overfits is when we chose an overly complex model or when we have small amounts of data. Let's take a look at an example:\n",
    "\n",
    "Suppose we wanted to use a linear regression with a predict our response with a single feature <b>X</b>. The form of our fitted line would be:\n",
    "\n",
    "![](files/mp2.jpg)\n",
    "\n",
    "Where beta_0 is the intercept. We could make this simple model more complex by adding polynomial terms of X, such as:\n",
    "\n",
    "![](files/mp3.jpg)\n",
    "or\n",
    "![](files/mp4.jpg)\n",
    "\n",
    "As we increase the number of polynomial terms, we would fit the training data more and more closely:\n",
    "\n",
    "![](files/mp5.jpg)\n",
    "\n",
    "As we fit our training set more closely, our training performance will increase (as you can see, the cubic curve fits the black datapoints more closely than the linear red curve). However, it is likely that we are overfitting to our training set, and that using the cubic curve to predict new data will perform more poorly than the simple model."
   ]
  },
  {
   "cell_type": "markdown",
   "metadata": {},
   "source": [
    "<b>Challenge:</b> Use the following code to generate a toy regression dataset, and split the data into 70% training and 30% testing data. Using mean squared error as a metric, compare the performance of different polynomial curves in the training set and in the testing set. "
   ]
  },
  {
   "cell_type": "code",
   "execution_count": 3,
   "metadata": {
    "collapsed": false
   },
   "outputs": [],
   "source": [
    "# Set seed for reproducible results\n",
    "np.random.seed(414)\n",
    "\n",
    "# Gen toy data\n",
    "X = np.linspace(0, 15, 1000)\n",
    "y = 3 * np.sin(X) + np.random.normal(1 + X, .2, 1000)\n",
    "\n",
    "train_X, train_y = X[:700], y[:700]\n",
    "test_X, test_y = X[700:], y[700:]\n",
    "\n",
    "train_df = pd.DataFrame({'X': train_X, 'y': train_y})\n",
    "test_df = pd.DataFrame({'X': test_X, 'y': test_y})\n",
    "\n",
    "# Linear Fit\n",
    "poly_1 = smf.ols(formula='y ~ 1 + X', data=train_df).fit()\n",
    "\n",
    "# Quadratic Fit\n",
    "poly_1 = smf.ols(formula='y ~ 1 + X + I(X**2)', data=train_df).fit()"
   ]
  },
  {
   "cell_type": "markdown",
   "metadata": {},
   "source": [
    "<b>Comment:</b> You are just thrown into the above again without any real explanation of what's happening. Clearer instructions are needed here. \n",
    "\n",
    "<b>Good Source for Regression Example:</b> http://mpastell.com/2013/04/19/python_regression/"
   ]
  },
  {
   "cell_type": "code",
   "execution_count": 4,
   "metadata": {
    "collapsed": false
   },
   "outputs": [
    {
     "data": {
      "text/html": [
       "<div>\n",
       "<table border=\"1\" class=\"dataframe\">\n",
       "  <thead>\n",
       "    <tr style=\"text-align: right;\">\n",
       "      <th></th>\n",
       "      <th>X</th>\n",
       "      <th>y</th>\n",
       "    </tr>\n",
       "  </thead>\n",
       "  <tbody>\n",
       "    <tr>\n",
       "      <th>200</th>\n",
       "      <td>3.003003</td>\n",
       "      <td>4.733169</td>\n",
       "    </tr>\n",
       "    <tr>\n",
       "      <th>201</th>\n",
       "      <td>3.018018</td>\n",
       "      <td>4.088467</td>\n",
       "    </tr>\n",
       "    <tr>\n",
       "      <th>202</th>\n",
       "      <td>3.033033</td>\n",
       "      <td>4.262989</td>\n",
       "    </tr>\n",
       "    <tr>\n",
       "      <th>203</th>\n",
       "      <td>3.048048</td>\n",
       "      <td>4.493961</td>\n",
       "    </tr>\n",
       "    <tr>\n",
       "      <th>204</th>\n",
       "      <td>3.063063</td>\n",
       "      <td>4.190500</td>\n",
       "    </tr>\n",
       "  </tbody>\n",
       "</table>\n",
       "</div>"
      ],
      "text/plain": [
       "            X         y\n",
       "200  3.003003  4.733169\n",
       "201  3.018018  4.088467\n",
       "202  3.033033  4.262989\n",
       "203  3.048048  4.493961\n",
       "204  3.063063  4.190500"
      ]
     },
     "execution_count": 4,
     "metadata": {},
     "output_type": "execute_result"
    }
   ],
   "source": [
    "# look at training data:\n",
    "train_df[200:205]"
   ]
  },
  {
   "cell_type": "code",
   "execution_count": 13,
   "metadata": {
    "collapsed": false
   },
   "outputs": [
    {
     "name": "stdout",
     "output_type": "stream",
     "text": [
      "LinregressResult(slope=0.88959868921793483, intercept=1.9959164051825233, rvalue=0.80145415979305212, pvalue=5.5150833785106581e-158, stderr=0.025126369356965293)\n",
      "\n",
      "Linear Model\n",
      "                            OLS Regression Results                            \n",
      "==============================================================================\n",
      "Dep. Variable:                      y   R-squared:                       0.642\n",
      "Model:                            OLS   Adj. R-squared:                  0.642\n",
      "Method:                 Least Squares   F-statistic:                     1254.\n",
      "Date:                Mon, 09 Nov 2015   Prob (F-statistic):          5.52e-158\n",
      "Time:                        11:15:21   Log-Likelihood:                -1483.4\n",
      "No. Observations:                 700   AIC:                             2971.\n",
      "Df Residuals:                     698   BIC:                             2980.\n",
      "Df Model:                           1                                         \n",
      "Covariance Type:            nonrobust                                         \n",
      "==============================================================================\n",
      "                 coef    std err          t      P>|t|      [95.0% Conf. Int.]\n",
      "------------------------------------------------------------------------------\n",
      "Intercept      1.9959      0.152     13.104      0.000         1.697     2.295\n",
      "X              0.8896      0.025     35.405      0.000         0.840     0.939\n",
      "==============================================================================\n",
      "Omnibus:                      701.108   Durbin-Watson:                   0.020\n",
      "Prob(Omnibus):                  0.000   Jarque-Bera (JB):               52.980\n",
      "Skew:                          -0.259   Prob(JB):                     3.13e-12\n",
      "Kurtosis:                       1.756   Cond. No.                         12.4\n",
      "==============================================================================\n",
      "\n",
      "Warnings:\n",
      "[1] Standard Errors assume that the covariance matrix of the errors is correctly specified.\n",
      "\n",
      "X^2 Model\n",
      "                            OLS Regression Results                            \n",
      "==============================================================================\n",
      "Dep. Variable:                      y   R-squared:                       0.666\n",
      "Model:                            OLS   Adj. R-squared:                  0.665\n",
      "Method:                 Least Squares   F-statistic:                     694.4\n",
      "Date:                Mon, 09 Nov 2015   Prob (F-statistic):          1.25e-166\n",
      "Time:                        11:15:21   Log-Likelihood:                -1459.6\n",
      "No. Observations:                 700   AIC:                             2925.\n",
      "Df Residuals:                     697   BIC:                             2939.\n",
      "Df Model:                           2                                         \n",
      "Covariance Type:            nonrobust                                         \n",
      "==============================================================================\n",
      "                 coef    std err          t      P>|t|      [95.0% Conf. Int.]\n",
      "------------------------------------------------------------------------------\n",
      "Intercept      3.1458      0.221     14.261      0.000         2.713     3.579\n",
      "X              0.2313      0.097      2.382      0.017         0.041     0.422\n",
      "I(X ** 2)      0.0627      0.009      7.004      0.000         0.045     0.080\n",
      "==============================================================================\n",
      "Omnibus:                     1210.467   Durbin-Watson:                   0.022\n",
      "Prob(Omnibus):                  0.000   Jarque-Bera (JB):               49.911\n",
      "Skew:                          -0.091   Prob(JB):                     1.45e-11\n",
      "Kurtosis:                       1.705   Cond. No.                         160.\n",
      "==============================================================================\n",
      "\n",
      "Warnings:\n",
      "[1] Standard Errors assume that the covariance matrix of the errors is correctly specified.\n",
      "\n",
      "X^3 Model\n",
      "                            OLS Regression Results                            \n",
      "==============================================================================\n",
      "Dep. Variable:                      y   R-squared:                       0.731\n",
      "Model:                            OLS   Adj. R-squared:                  0.730\n",
      "Method:                 Least Squares   F-statistic:                     631.2\n",
      "Date:                Mon, 09 Nov 2015   Prob (F-statistic):          4.74e-198\n",
      "Time:                        11:15:21   Log-Likelihood:                -1383.4\n",
      "No. Observations:                 700   AIC:                             2775.\n",
      "Df Residuals:                     696   BIC:                             2793.\n",
      "Df Model:                           3                                         \n",
      "Covariance Type:            nonrobust                                         \n",
      "==============================================================================\n",
      "                 coef    std err          t      P>|t|      [95.0% Conf. Int.]\n",
      "------------------------------------------------------------------------------\n",
      "Intercept      5.4049      0.263     20.527      0.000         4.888     5.922\n",
      "X             -2.3609      0.217    -10.859      0.000        -2.788    -1.934\n",
      "I(X ** 2)      0.6806      0.048     14.133      0.000         0.586     0.775\n",
      "I(X ** 3)     -0.0392      0.003    -13.013      0.000        -0.045    -0.033\n",
      "==============================================================================\n",
      "Omnibus:                      235.432   Durbin-Watson:                   0.027\n",
      "Prob(Omnibus):                  0.000   Jarque-Bera (JB):               38.208\n",
      "Skew:                          -0.179   Prob(JB):                     5.05e-09\n",
      "Kurtosis:                       1.913   Cond. No.                     2.22e+03\n",
      "==============================================================================\n",
      "\n",
      "Warnings:\n",
      "[1] Standard Errors assume that the covariance matrix of the errors is correctly specified.\n",
      "[2] The condition number is large, 2.22e+03. This might indicate that there are\n",
      "strong multicollinearity or other numerical problems.\n",
      "\n",
      "X^$ Model\n",
      "                            OLS Regression Results                            \n",
      "==============================================================================\n",
      "Dep. Variable:                      y   R-squared:                       0.935\n",
      "Model:                            OLS   Adj. R-squared:                  0.935\n",
      "Method:                 Least Squares   F-statistic:                     2494.\n",
      "Date:                Mon, 09 Nov 2015   Prob (F-statistic):               0.00\n",
      "Time:                        11:15:21   Log-Likelihood:                -887.20\n",
      "No. Observations:                 700   AIC:                             1784.\n",
      "Df Residuals:                     695   BIC:                             1807.\n",
      "Df Model:                           4                                         \n",
      "Covariance Type:            nonrobust                                         \n",
      "==============================================================================\n",
      "                 coef    std err          t      P>|t|      [95.0% Conf. Int.]\n",
      "------------------------------------------------------------------------------\n",
      "Intercept      0.9102      0.162      5.632      0.000         0.593     1.228\n",
      "X              6.2595      0.214     29.294      0.000         5.840     6.679\n",
      "I(X ** 2)     -3.0216      0.083    -36.458      0.000        -3.184    -2.859\n",
      "I(X ** 3)      0.5097      0.012     42.947      0.000         0.486     0.533\n",
      "I(X ** 4)     -0.0262      0.001    -46.621      0.000        -0.027    -0.025\n",
      "==============================================================================\n",
      "Omnibus:                       13.452   Durbin-Watson:                   0.111\n",
      "Prob(Omnibus):                  0.001   Jarque-Bera (JB):               13.942\n",
      "Skew:                           0.345   Prob(JB):                     0.000939\n",
      "Kurtosis:                       2.966   Cond. No.                     3.39e+04\n",
      "==============================================================================\n",
      "\n",
      "Warnings:\n",
      "[1] Standard Errors assume that the covariance matrix of the errors is correctly specified.\n",
      "[2] The condition number is large, 3.39e+04. This might indicate that there are\n",
      "strong multicollinearity or other numerical problems.\n"
     ]
    }
   ],
   "source": [
    "x_train = train_df['X']\n",
    "y_train = train_df['y']\n",
    "\n",
    "#Using Scipy\n",
    "regression_train_scipy = stats.linregress(x_train, y_train)\n",
    "print regression_train_scipy\n",
    "print ''\n",
    "\n",
    "#Using provided formula:\n",
    "linear = smf.ols(formula='y ~ 1 + X', data=train_df).fit()\n",
    "print 'Linear Model'\n",
    "print linear.summary()\n",
    "print''\n",
    "\n",
    "#Using provided quadratic fit:\n",
    "x2 = smf.ols(formula='y ~ 1 + X + I(X**2)', data=train_df).fit()\n",
    "print 'X^2 Model'\n",
    "print x2.summary()\n",
    "print''\n",
    "#More polynomial lines:\n",
    "x3 = smf.ols(formula='y ~ 1 + X + I(X**2) + I(X**3)', data=train_df).fit()\n",
    "print 'X^3 Model'\n",
    "print x3.summary()\n",
    "print''\n",
    "x4 = smf.ols(formula='y ~ 1 + X + I(X**2) + I(X**3) + I(X**4)', data=train_df).fit()\n",
    "print 'X^$ Model'\n",
    "print x4.summary()"
   ]
  },
  {
   "cell_type": "markdown",
   "metadata": {},
   "source": [
    "### Visualize Data:"
   ]
  },
  {
   "cell_type": "code",
   "execution_count": 17,
   "metadata": {
    "collapsed": false
   },
   "outputs": [
    {
     "data": {
      "image/png": "[encoded data removed]",
      "text/plain": [
       "<matplotlib.figure.Figure at 0x1041d1d0>"
      ]
     },
     "metadata": {},
     "output_type": "display_data"
    }
   ],
   "source": [
    "plt.plot(x_train, y_train, 'ro')\n",
    "plt.plot(x_train, linear.fittedvalues, 'black', lw = 2)\n",
    "plt.plot(x_train, x2.fittedvalues, 'blue', lw = 2)\n",
    "plt.plot(x_train, x3.fittedvalues, 'green', lw = 2)\n",
    "plt.plot(x_train, x4.fittedvalues, 'orange', lw = 3)\n",
    "\n",
    "plt.legend(['Data', 'linear', 'X^2', 'X^3', 'X^4'],bbox_to_anchor=(1.05, 1), loc=2, borderaxespad=0.)\n",
    "\n",
    "plt.xlabel('x_train')\n",
    "plt.ylabel('y_train')\n",
    "plt.title('Toy Regression Data')\n",
    "plt.show()"
   ]
  },
  {
   "cell_type": "markdown",
   "metadata": {
    "collapsed": false
   },
   "source": [
    "<b>Comment:</b> It would be great to walk through exactly how these lines are changing to confirm I understand correctly. "
   ]
  },
  {
   "cell_type": "markdown",
   "metadata": {
    "collapsed": true
   },
   "source": [
    "<b>Apply Formulas to Test Data:</b>"
   ]
  },
  {
   "cell_type": "code",
   "execution_count": 19,
   "metadata": {
    "collapsed": false
   },
   "outputs": [
    {
     "name": "stdout",
     "output_type": "stream",
     "text": [
      "LinregressResult(slope=2.7143928214910069, intercept=-20.676209586637903, rvalue=0.97852324626976395, pvalue=1.9588067857442914e-206, stderr=0.03312442253607125)\n",
      "\n",
      "Linear Model\n",
      "                            OLS Regression Results                            \n",
      "==============================================================================\n",
      "Dep. Variable:                      y   R-squared:                       0.958\n",
      "Model:                            OLS   Adj. R-squared:                  0.957\n",
      "Method:                 Least Squares   F-statistic:                     6715.\n",
      "Date:                Mon, 09 Nov 2015   Prob (F-statistic):          1.96e-206\n",
      "Time:                        14:25:10   Log-Likelihood:                -336.79\n",
      "No. Observations:                 300   AIC:                             677.6\n",
      "Df Residuals:                     298   BIC:                             685.0\n",
      "Df Model:                           1                                         \n",
      "Covariance Type:            nonrobust                                         \n",
      "==============================================================================\n",
      "                 coef    std err          t      P>|t|      [95.0% Conf. Int.]\n",
      "------------------------------------------------------------------------------\n",
      "Intercept    -20.6762      0.425    -48.684      0.000       -21.512   -19.840\n",
      "X              2.7144      0.033     81.945      0.000         2.649     2.780\n",
      "==============================================================================\n",
      "Omnibus:                        8.165   Durbin-Watson:                   0.159\n",
      "Prob(Omnibus):                  0.017   Jarque-Bera (JB):                7.788\n",
      "Skew:                          -0.346   Prob(JB):                       0.0204\n",
      "Kurtosis:                       2.622   Cond. No.                         127.\n",
      "==============================================================================\n",
      "\n",
      "Warnings:\n",
      "[1] Standard Errors assume that the covariance matrix of the errors is correctly specified.\n",
      "\n",
      "X^2 Model\n",
      "                            OLS Regression Results                            \n",
      "==============================================================================\n",
      "Dep. Variable:                      y   R-squared:                       0.964\n",
      "Model:                            OLS   Adj. R-squared:                  0.964\n",
      "Method:                 Least Squares   F-statistic:                     3954.\n",
      "Date:                Mon, 09 Nov 2015   Prob (F-statistic):          9.17e-215\n",
      "Time:                        14:25:10   Log-Likelihood:                -312.73\n",
      "No. Observations:                 300   AIC:                             631.5\n",
      "Df Residuals:                     297   BIC:                             642.6\n",
      "Df Model:                           2                                         \n",
      "Covariance Type:            nonrobust                                         \n",
      "==============================================================================\n",
      "                 coef    std err          t      P>|t|      [95.0% Conf. Int.]\n",
      "------------------------------------------------------------------------------\n",
      "Intercept    -51.1460      4.258    -12.013      0.000       -59.525   -42.767\n",
      "X              7.5422      0.672     11.217      0.000         6.219     8.865\n",
      "I(X ** 2)     -0.1892      0.026     -7.187      0.000        -0.241    -0.137\n",
      "==============================================================================\n",
      "Omnibus:                       18.441   Durbin-Watson:                   0.187\n",
      "Prob(Omnibus):                  0.000   Jarque-Bera (JB):                7.757\n",
      "Skew:                           0.115   Prob(JB):                       0.0207\n",
      "Kurtosis:                       2.247   Cond. No.                     1.82e+04\n",
      "==============================================================================\n",
      "\n",
      "Warnings:\n",
      "[1] Standard Errors assume that the covariance matrix of the errors is correctly specified.\n",
      "[2] The condition number is large, 1.82e+04. This might indicate that there are\n",
      "strong multicollinearity or other numerical problems.\n",
      "\n",
      "X^3 Model\n",
      "                            OLS Regression Results                            \n",
      "==============================================================================\n",
      "Dep. Variable:                      y   R-squared:                       0.996\n",
      "Model:                            OLS   Adj. R-squared:                  0.996\n",
      "Method:                 Least Squares   F-statistic:                 2.792e+04\n",
      "Date:                Mon, 09 Nov 2015   Prob (F-statistic):               0.00\n",
      "Time:                        14:25:10   Log-Likelihood:                 36.782\n",
      "No. Observations:                 300   AIC:                            -65.56\n",
      "Df Residuals:                     296   BIC:                            -50.75\n",
      "Df Model:                           3                                         \n",
      "Covariance Type:            nonrobust                                         \n",
      "==============================================================================\n",
      "                 coef    std err          t      P>|t|      [95.0% Conf. Int.]\n",
      "------------------------------------------------------------------------------\n",
      "Intercept    717.6355     14.729     48.721      0.000       688.648   746.623\n",
      "X           -175.5710      3.500    -50.159      0.000      -182.460  -168.682\n",
      "I(X ** 2)     14.2567      0.276     51.698      0.000        13.714    14.799\n",
      "I(X ** 3)     -0.3775      0.007    -52.408      0.000        -0.392    -0.363\n",
      "==============================================================================\n",
      "Omnibus:                        1.821   Durbin-Watson:                   1.904\n",
      "Prob(Omnibus):                  0.402   Jarque-Bera (JB):                1.828\n",
      "Skew:                          -0.134   Prob(JB):                        0.401\n",
      "Kurtosis:                       2.727   Cond. No.                     2.73e+06\n",
      "==============================================================================\n",
      "\n",
      "Warnings:\n",
      "[1] Standard Errors assume that the covariance matrix of the errors is correctly specified.\n",
      "[2] The condition number is large, 2.73e+06. This might indicate that there are\n",
      "strong multicollinearity or other numerical problems.\n",
      "\n",
      "X^$ Model\n",
      "                            OLS Regression Results                            \n",
      "==============================================================================\n",
      "Dep. Variable:                      y   R-squared:                       0.997\n",
      "Model:                            OLS   Adj. R-squared:                  0.997\n",
      "Method:                 Least Squares   F-statistic:                 2.176e+04\n",
      "Date:                Mon, 09 Nov 2015   Prob (F-statistic):               0.00\n",
      "Time:                        14:25:10   Log-Likelihood:                 43.020\n",
      "No. Observations:                 300   AIC:                            -76.04\n",
      "Df Residuals:                     295   BIC:                            -57.52\n",
      "Df Model:                           4                                         \n",
      "Covariance Type:            nonrobust                                         \n",
      "==============================================================================\n",
      "                 coef    std err          t      P>|t|      [95.0% Conf. Int.]\n",
      "------------------------------------------------------------------------------\n",
      "Intercept   1285.4615    161.088      7.980      0.000       968.435  1602.488\n",
      "X           -356.0683     51.115     -6.966      0.000      -456.664  -255.473\n",
      "I(X ** 2)     35.6746      6.058      5.889      0.000        23.753    47.596\n",
      "I(X ** 3)     -1.5020      0.318     -4.726      0.000        -2.127    -0.877\n",
      "I(X ** 4)      0.0220      0.006      3.539      0.000         0.010     0.034\n",
      "==============================================================================\n",
      "Omnibus:                        2.346   Durbin-Watson:                   1.985\n",
      "Prob(Omnibus):                  0.310   Jarque-Bera (JB):                2.278\n",
      "Skew:                          -0.153   Prob(JB):                        0.320\n",
      "Kurtosis:                       2.702   Cond. No.                     4.20e+08\n",
      "==============================================================================\n",
      "\n",
      "Warnings:\n",
      "[1] Standard Errors assume that the covariance matrix of the errors is correctly specified.\n",
      "[2] The condition number is large, 4.2e+08. This might indicate that there are\n",
      "strong multicollinearity or other numerical problems.\n"
     ]
    }
   ],
   "source": [
    "x_test = test_df['X']\n",
    "y_test = test_df['y']\n",
    "\n",
    "#Using Scipy\n",
    "T_regression_train_scipy = stats.linregress(x_test, y_test)\n",
    "print T_regression_train_scipy\n",
    "print ''\n",
    "\n",
    "#Using provided formula:\n",
    "T_linear = smf.ols(formula='y ~ 1 + X', data=test_df).fit()\n",
    "print 'Linear Model'\n",
    "print T_linear.summary()\n",
    "print''\n",
    "\n",
    "#Using provided quadratic fit:\n",
    "T_x2 = smf.ols(formula='y ~ 1 + X + I(X**2)', data=test_df).fit()\n",
    "print 'X^2 Model'\n",
    "print T_x2.summary()\n",
    "print''\n",
    "#More polynomial lines:\n",
    "T_x3 = smf.ols(formula='y ~ 1 + X + I(X**2) + I(X**3)', data=test_df).fit()\n",
    "print 'X^3 Model'\n",
    "print T_x3.summary()\n",
    "print''\n",
    "T_x4 = smf.ols(formula='y ~ 1 + X + I(X**2) + I(X**3) + I(X**4)', data=test_df).fit()\n",
    "print 'X^$ Model'\n",
    "print T_x4.summary()"
   ]
  },
  {
   "cell_type": "code",
   "execution_count": 20,
   "metadata": {
    "collapsed": false
   },
   "outputs": [
    {
     "data": {
      "image/png": "[encoded data removed]",
      "text/plain": [
       "<matplotlib.figure.Figure at 0xc6f5f28>"
      ]
     },
     "metadata": {},
     "output_type": "display_data"
    }
   ],
   "source": [
    "plt.plot(x_test, y_test, 'ro')\n",
    "plt.plot(x_test, T_linear.fittedvalues, 'black', lw = 2)\n",
    "plt.plot(x_test, T_x2.fittedvalues, 'blue', lw = 2)\n",
    "plt.plot(x_test, T_x3.fittedvalues, 'green', lw = 2)\n",
    "plt.plot(x_test, T_x4.fittedvalues, 'orange', lw = 3)\n",
    "\n",
    "plt.legend(['Data', 'linear', 'X^2', 'X^3', 'X^4'],bbox_to_anchor=(1.05, 1), loc=2, borderaxespad=0.)\n",
    "\n",
    "plt.xlabel('x_test')\n",
    "plt.ylabel('y_test')\n",
    "plt.title('Toy Regression Data')\n",
    "plt.show()"
   ]
  },
  {
   "cell_type": "markdown",
   "metadata": {},
   "source": [
    "<b>Comment:</b> Will need to go over these models for better understanding. "
   ]
  },
  {
   "cell_type": "markdown",
   "metadata": {},
   "source": [
    "## Metrics and Cross Validation"
   ]
  },
  {
   "cell_type": "markdown",
   "metadata": {},
   "source": [
    "When building a supervised model, it's important to have a clear idea of how you will evaluate its performance. As we've discussed, one crucial part of evaluation is to separate your training and testing set to avoid overfitting. Once we have done this, it's time to decide exactly what metric we will use to evaluate our model. Metrics differ between regression and classification models.\n",
    "\n",
    "<b>Regression:</b>\n",
    "\n",
    "1. <u>Mean Squared Error:</u> Mean square error between our predicted outcomes, and the true response in our test set.   \n",
    "2. <u>Mean Absolute Error:</u> Mean absolute error between our predicted outcomes, and the true response in our test set.   \n",
    "3. <u>R-Squared:</u> Coefficient of determination from regression score function.\n",
    "\n",
    "<b>Classification:</b>\n",
    "\n",
    "1. <u>Accuracy:</u> The percentage of data points labeled correctly by the model.   \n",
    "2. <u>Precision:</u> The ratio of (true positives / (true_positives + true_negatives)). The precision is intuitively the ability of the classifier not to label as positive a sample that is negative.   \n",
    "3. <u>Recall:</u> The ratio of (true_positives / (true_positives + false_negatives)). The recall is intuitively the ability of the classifier to find all the positive samples.   \n",
    "\n",
    "A typical work flow while building a model is to split your data, build your model, and then choose a metric to evaluate it.\n",
    "For instance, suppose we wanted to build a classifier to predict whether or not an individual had cancer. In this scenario, the harm of incorrectly predicting that some one does not have cancer who actually does is far worse than predicting that a healthy person has cancer. Thus, we want to minimize our false negatives, and might choose recall as our metric.\n",
    "\n",
    "It is often desirable to use <b>cross validation</b> to get a further estimate of your models performance. In cross validation, we take our training set, and iterative split it into folds of subtraining and sub_testing data (I've added the sub prefix to avoid confusion between the original train/test split we performed). We train our model on the sub_train folds, and evaluate it on the sub_test fold. The basic approach is this:\n",
    "\n",
    "1. The training set is split into k smaller sets (the value of k will give the name of the cross validation approach; for example, if k=10, we are implementing 10-fold cross validation).\n",
    "2. The model is trained on k - 1 of these smaller sets.\n",
    "3. The resulting model is validated on the remaining set.\n",
    "\n",
    "The score of the model for each of the training sets is then aggregated to produce a final score. Scikit-learn gives great examples of cross validation (http://scikit-learn.org/stable/modules/cross_validation.html#cross-validation-iterators)."
   ]
  },
  {
   "cell_type": "markdown",
   "metadata": {},
   "source": [
    "## Challenge"
   ]
  },
  {
   "cell_type": "markdown",
   "metadata": {},
   "source": [
    "1. Take the loan data and process it as you did previously to build your linear regression model.\n",
    "2. Break the data-set into 10 segments following the example provided in KFold (above link). \n",
    "3. Compute each of the performance metric (MAE, MSE or R2) for all the folds. The average would be the performance of your model.\n",
    "4. Comment on each of the performance metric you obtained."
   ]
  },
  {
   "cell_type": "code",
   "execution_count": 58,
   "metadata": {
    "collapsed": true
   },
   "outputs": [],
   "source": [
    "np.set_printoptions(suppress=True) #suppress scientific notation for easier reading"
   ]
  },
  {
   "cell_type": "code",
   "execution_count": 22,
   "metadata": {
    "collapsed": false
   },
   "outputs": [
    {
     "data": {
      "text/html": [
       "<div>\n",
       "<table border=\"1\" class=\"dataframe\">\n",
       "  <thead>\n",
       "    <tr style=\"text-align: right;\">\n",
       "      <th></th>\n",
       "      <th>Amount.Requested</th>\n",
       "      <th>Amount.Funded.By.Investors</th>\n",
       "      <th>Interest.Rate</th>\n",
       "      <th>Loan.Length</th>\n",
       "      <th>Loan.Purpose</th>\n",
       "      <th>Debt.To.Income.Ratio</th>\n",
       "      <th>State</th>\n",
       "      <th>Home.Ownership</th>\n",
       "      <th>Monthly.Income</th>\n",
       "      <th>FICO.Range</th>\n",
       "      <th>Open.CREDIT.Lines</th>\n",
       "      <th>Revolving.CREDIT.Balance</th>\n",
       "      <th>Inquiries.in.the.Last.6.Months</th>\n",
       "      <th>Employment.Length</th>\n",
       "      <th>FICO.Score</th>\n",
       "    </tr>\n",
       "  </thead>\n",
       "  <tbody>\n",
       "    <tr>\n",
       "      <th>0</th>\n",
       "      <td>20000</td>\n",
       "      <td>20000</td>\n",
       "      <td>0.089</td>\n",
       "      <td>36</td>\n",
       "      <td>debt_consolidation</td>\n",
       "      <td>14.90%</td>\n",
       "      <td>SC</td>\n",
       "      <td>MORTGAGE</td>\n",
       "      <td>6541.67</td>\n",
       "      <td>735-739</td>\n",
       "      <td>14</td>\n",
       "      <td>14272</td>\n",
       "      <td>2</td>\n",
       "      <td>&lt; 1 year</td>\n",
       "      <td>735</td>\n",
       "    </tr>\n",
       "    <tr>\n",
       "      <th>1</th>\n",
       "      <td>19200</td>\n",
       "      <td>19200</td>\n",
       "      <td>0.121</td>\n",
       "      <td>36</td>\n",
       "      <td>debt_consolidation</td>\n",
       "      <td>28.36%</td>\n",
       "      <td>TX</td>\n",
       "      <td>MORTGAGE</td>\n",
       "      <td>4583.33</td>\n",
       "      <td>715-719</td>\n",
       "      <td>12</td>\n",
       "      <td>11140</td>\n",
       "      <td>1</td>\n",
       "      <td>2 years</td>\n",
       "      <td>715</td>\n",
       "    </tr>\n",
       "    <tr>\n",
       "      <th>2</th>\n",
       "      <td>35000</td>\n",
       "      <td>35000</td>\n",
       "      <td>0.220</td>\n",
       "      <td>60</td>\n",
       "      <td>debt_consolidation</td>\n",
       "      <td>23.81%</td>\n",
       "      <td>CA</td>\n",
       "      <td>MORTGAGE</td>\n",
       "      <td>11500.00</td>\n",
       "      <td>690-694</td>\n",
       "      <td>14</td>\n",
       "      <td>21977</td>\n",
       "      <td>1</td>\n",
       "      <td>2 years</td>\n",
       "      <td>690</td>\n",
       "    </tr>\n",
       "    <tr>\n",
       "      <th>3</th>\n",
       "      <td>10000</td>\n",
       "      <td>9975</td>\n",
       "      <td>0.100</td>\n",
       "      <td>36</td>\n",
       "      <td>debt_consolidation</td>\n",
       "      <td>14.30%</td>\n",
       "      <td>KS</td>\n",
       "      <td>MORTGAGE</td>\n",
       "      <td>3833.33</td>\n",
       "      <td>695-699</td>\n",
       "      <td>10</td>\n",
       "      <td>9346</td>\n",
       "      <td>0</td>\n",
       "      <td>5 years</td>\n",
       "      <td>695</td>\n",
       "    </tr>\n",
       "    <tr>\n",
       "      <th>4</th>\n",
       "      <td>12000</td>\n",
       "      <td>12000</td>\n",
       "      <td>0.117</td>\n",
       "      <td>36</td>\n",
       "      <td>credit_card</td>\n",
       "      <td>18.78%</td>\n",
       "      <td>NJ</td>\n",
       "      <td>RENT</td>\n",
       "      <td>3195.00</td>\n",
       "      <td>695-699</td>\n",
       "      <td>11</td>\n",
       "      <td>14469</td>\n",
       "      <td>0</td>\n",
       "      <td>9 years</td>\n",
       "      <td>695</td>\n",
       "    </tr>\n",
       "  </tbody>\n",
       "</table>\n",
       "</div>"
      ],
      "text/plain": [
       "   Amount.Requested  Amount.Funded.By.Investors  Interest.Rate  Loan.Length  \\\n",
       "0             20000                       20000          0.089           36   \n",
       "1             19200                       19200          0.121           36   \n",
       "2             35000                       35000          0.220           60   \n",
       "3             10000                        9975          0.100           36   \n",
       "4             12000                       12000          0.117           36   \n",
       "\n",
       "         Loan.Purpose Debt.To.Income.Ratio State Home.Ownership  \\\n",
       "0  debt_consolidation               14.90%    SC       MORTGAGE   \n",
       "1  debt_consolidation               28.36%    TX       MORTGAGE   \n",
       "2  debt_consolidation               23.81%    CA       MORTGAGE   \n",
       "3  debt_consolidation               14.30%    KS       MORTGAGE   \n",
       "4         credit_card               18.78%    NJ           RENT   \n",
       "\n",
       "   Monthly.Income FICO.Range  Open.CREDIT.Lines  Revolving.CREDIT.Balance  \\\n",
       "0         6541.67    735-739                 14                     14272   \n",
       "1         4583.33    715-719                 12                     11140   \n",
       "2        11500.00    690-694                 14                     21977   \n",
       "3         3833.33    695-699                 10                      9346   \n",
       "4         3195.00    695-699                 11                     14469   \n",
       "\n",
       "   Inquiries.in.the.Last.6.Months Employment.Length  FICO.Score  \n",
       "0                               2          < 1 year         735  \n",
       "1                               1           2 years         715  \n",
       "2                               1           2 years         690  \n",
       "3                               0           5 years         695  \n",
       "4                               0           9 years         695  "
      ]
     },
     "execution_count": 22,
     "metadata": {},
     "output_type": "execute_result"
    }
   ],
   "source": [
    "#load loansdata:\n",
    "loansData = pd.read_csv('loansData_clean.csv')\n",
    "loansData.head()"
   ]
  },
  {
   "cell_type": "markdown",
   "metadata": {},
   "source": [
    "<b>Original Regression Model:</b>"
   ]
  },
  {
   "cell_type": "code",
   "execution_count": 61,
   "metadata": {
    "collapsed": false
   },
   "outputs": [
    {
     "name": "stdout",
     "output_type": "stream",
     "text": [
      "                            OLS Regression Results                            \n",
      "==============================================================================\n",
      "Dep. Variable:          Interest.Rate   R-squared:                       0.657\n",
      "Model:                            OLS   Adj. R-squared:                  0.656\n",
      "Method:                 Least Squares   F-statistic:                     2387.\n",
      "Date:                Mon, 09 Nov 2015   Prob (F-statistic):               0.00\n",
      "Time:                        18:35:10   Log-Likelihood:                 5724.4\n",
      "No. Observations:                2500   AIC:                        -1.144e+04\n",
      "Df Residuals:                    2497   BIC:                        -1.143e+04\n",
      "Df Model:                           2                                         \n",
      "Covariance Type:            nonrobust                                         \n",
      "====================================================================================\n",
      "                       coef    std err          t      P>|t|      [95.0% Conf. Int.]\n",
      "------------------------------------------------------------------------------------\n",
      "const                0.7295      0.010     73.712      0.000         0.710     0.749\n",
      "FICO.Score          -0.0009   1.41e-05    -63.018      0.000        -0.001    -0.001\n",
      "Amount.Requested   2.11e-06   6.31e-08     33.433      0.000      1.99e-06  2.23e-06\n",
      "==============================================================================\n",
      "Omnibus:                       69.933   Durbin-Watson:                   1.979\n",
      "Prob(Omnibus):                  0.000   Jarque-Bera (JB):               78.273\n",
      "Skew:                           0.381   Prob(JB):                     1.01e-17\n",
      "Kurtosis:                       3.413   Cond. No.                     2.96e+05\n",
      "==============================================================================\n",
      "\n",
      "Warnings:\n",
      "[1] Standard Errors assume that the covariance matrix of the errors is correctly specified.\n",
      "[2] The condition number is large, 2.96e+05. This might indicate that there are\n",
      "strong multicollinearity or other numerical problems.\n",
      "\n",
      "const               0.729521\n",
      "FICO.Score         -0.000885\n",
      "Amount.Requested    0.000002\n",
      "dtype: float64\n"
     ]
    }
   ],
   "source": [
    "loan_data = loansData[['FICO.Score', 'Amount.Requested']] #independant variables\n",
    "loan_target = loansData['Interest.Rate'] #what we are trying to predict\n",
    "\n",
    "#create model:\n",
    "data_X = sm.add_constant(loan_data)\n",
    "loan_model = sm.OLS(loan_target, data_X)\n",
    "loan_fitted = loan_model.fit()\n",
    "\n",
    "#show summary:\n",
    "print loan_fitted.summary()\n",
    "print ''\n",
    "#Get the fitted coefficients from the results:\n",
    "print loan_fitted.params"
   ]
  },
  {
   "cell_type": "markdown",
   "metadata": {},
   "source": [
    "<b>Introduce Cross-Validation:</b>"
   ]
  },
  {
   "cell_type": "markdown",
   "metadata": {},
   "source": [
    "KFold divides all the samples in k groups of samples, called folds (if k = n, this is equivalent to the Leave One Out strategy), of equal sizes (if possible). The prediction function is learned using k - 1 folds, and the fold left out is used for test.\n",
    "\n",
    "<b>Using Kfold, break the data into 10 segments:</b>"
   ]
  },
  {
   "cell_type": "code",
   "execution_count": 42,
   "metadata": {
    "collapsed": false
   },
   "outputs": [],
   "source": [
    "from sklearn.cross_validation import KFold\n",
    "from sklearn import cross_validation"
   ]
  },
  {
   "cell_type": "code",
   "execution_count": 62,
   "metadata": {
    "collapsed": false
   },
   "outputs": [
    {
     "name": "stdout",
     "output_type": "stream",
     "text": [
      "Train: [0 1 2 3 4 5 6 7 8 9]\n",
      "Test: [22 29 45 48 49 59 61 72 90 96]\n",
      "\n",
      "Train: [ 0  2  3  4  5  6  7  8  9 10]\n",
      "Test: [  1  18  20  62  65 103 123 129 130 142]\n",
      "\n",
      "Train: [0 1 2 3 4 5 6 7 8 9]\n",
      "Test: [12 13 14 17 19 34 46 53 60 98]\n",
      "\n",
      "Train: [0 1 2 3 4 5 6 7 8 9]\n",
      "Test: [10 21 24 28 32 38 63 74 75 77]\n",
      "\n",
      "Train: [ 0  1  3  4  5  7  9 10 11 12]\n",
      "Test: [ 2  6  8 16 23 43 52 56 66 76]\n",
      "\n",
      "Train: [ 0  1  2  3  4  6  7  8 10 11]\n",
      "Test: [ 5  9 30 36 39 51 64 83 85 95]\n",
      "\n",
      "Train: [ 1  2  4  5  6  7  8  9 10 11]\n",
      "Test: [ 0  3 27 31 41 42 57 58 69 86]\n",
      "\n",
      "Train: [ 0  1  2  3  5  6  7  8  9 10]\n",
      "Test: [  4  25  33  35  37  47  67 107 113 120]\n",
      "\n",
      "Train: [ 0  1  2  3  4  5  6  8  9 10]\n",
      "Test: [ 7 11 15 50 68 81 87 89 91 93]\n",
      "\n",
      "Train: [0 1 2 3 4 5 6 7 8 9]\n",
      "Test: [26 40 44 54 55 70 71 73 78 88]\n",
      "\n"
     ]
    }
   ],
   "source": [
    "loan_CV = KFold(len(loansData), n_folds=10, shuffle=True) \n",
    "for train, test in loan_CV:\n",
    "    print 'Train:', train[:10]\n",
    "    print 'Test:', test[:10]\n",
    "    print ''"
   ]
  },
  {
   "cell_type": "markdown",
   "metadata": {},
   "source": [
    "<b>A few notes about the above method:</b>\n",
    "\n",
    "1. The first argument above is the # of samples we want to deal with. Since we’re doing KFCV (KFold Cross Validation) over our entire dataset, we set it to the length of x: len(loansData)\n",
    "2. The second argument is the # of folds; 10 is often used: n_folds=10\n",
    "3. The third argument , shuffle, means that KFCV will mix around the data (as you’ll see above), meaning the generated test data won’t be necessarily 0, 1, 2, 3, etc. Although shuffle allows you to throw in some randomness, you don’t want to set shuffle to true for some datasets. For example, if you’re working with the well-known iris dataset where samples 1-50 are from one kind of flower and samples from 50 on are for another kind of flower, you don’t necessarily want to mix up samples 1-50 and 50+.\n",
    "\n",
    "<b>Additional Comment:</b> What is showing above are the index positions for the rows that will be in each fold. For clarity, in fold 1, training data will consist of the values for the Fico Score and Amount Requested at index position [0,1,2,3, etc] and the testing data will be the values for the Interest Rate at index position [22,29,45,38, etc]"
   ]
  },
  {
   "cell_type": "code",
   "execution_count": null,
   "metadata": {
    "collapsed": false
   },
   "outputs": [],
   "source": []
  },
  {
   "cell_type": "code",
   "execution_count": null,
   "metadata": {
    "collapsed": false
   },
   "outputs": [],
   "source": []
  },
  {
   "cell_type": "code",
   "execution_count": null,
   "metadata": {
    "collapsed": true
   },
   "outputs": [],
   "source": []
  },
  {
   "cell_type": "code",
   "execution_count": null,
   "metadata": {
    "collapsed": false
   },
   "outputs": [],
   "source": []
  },
  {
   "cell_type": "code",
   "execution_count": null,
   "metadata": {
    "collapsed": false
   },
   "outputs": [],
   "source": []
  },
  {
   "cell_type": "code",
   "execution_count": null,
   "metadata": {
    "collapsed": false
   },
   "outputs": [],
   "source": [
    "\n",
    "    \n",
    "    target = np.matrix(loan_target.iloc[train]).transpose()\n",
    "    data1 = np.matrix(loan_amount.iloc[train]).transpose()\n",
    "    data2 = np.matrix(fico_score.iloc[train]).transpose()\n",
    "    stacked_data = np.column_stack([data1,data2])\n",
    "    data_X = sm.add_constant(stacked_data)\n",
    "    data_model = sm.OLS(target, data_X)\n",
    "    model_fitted = data_model.fit()\n",
    "    \n",
    "    print model_fitted.summary()"
   ]
  },
  {
   "cell_type": "code",
   "execution_count": null,
   "metadata": {
    "collapsed": true
   },
   "outputs": [],
   "source": []
  },
  {
   "cell_type": "code",
   "execution_count": null,
   "metadata": {
    "collapsed": true
   },
   "outputs": [],
   "source": []
  },
  {
   "cell_type": "code",
   "execution_count": null,
   "metadata": {
    "collapsed": true
   },
   "outputs": [],
   "source": []
  },
  {
   "cell_type": "code",
   "execution_count": null,
   "metadata": {
    "collapsed": true
   },
   "outputs": [],
   "source": []
  },
  {
   "cell_type": "code",
   "execution_count": null,
   "metadata": {
    "collapsed": true
   },
   "outputs": [],
   "source": []
  },
  {
   "cell_type": "code",
   "execution_count": null,
   "metadata": {
    "collapsed": false
   },
   "outputs": [],
   "source": []
  },
  {
   "cell_type": "code",
   "execution_count": null,
   "metadata": {
    "collapsed": true
   },
   "outputs": [],
   "source": []
  },
  {
   "cell_type": "code",
   "execution_count": null,
   "metadata": {
    "collapsed": true
   },
   "outputs": [],
   "source": []
  },
  {
   "cell_type": "code",
   "execution_count": null,
   "metadata": {
    "collapsed": true
   },
   "outputs": [],
   "source": []
  },
  {
   "cell_type": "code",
   "execution_count": null,
   "metadata": {
    "collapsed": false
   },
   "outputs": [],
   "source": []
  },
  {
   "cell_type": "code",
   "execution_count": null,
   "metadata": {
    "collapsed": true
   },
   "outputs": [],
   "source": []
  }
 ],
 "metadata": {
  "kernelspec": {
   "display_name": "Python 2",
   "language": "python",
   "name": "python2"
  },
  "language_info": {
   "codemirror_mode": {
    "name": "ipython",
    "version": 2
   },
   "file_extension": ".py",
   "mimetype": "text/x-python",
   "name": "python",
   "nbconvert_exporter": "python",
   "pygments_lexer": "ipython2",
   "version": "2.7.6"
  }
 },
 "nbformat": 4,
 "nbformat_minor": 0
}
