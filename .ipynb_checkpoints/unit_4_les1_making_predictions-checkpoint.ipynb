{
 "cells": [
  {
   "cell_type": "code",
   "execution_count": 2,
   "metadata": {
    "collapsed": true
   },
   "outputs": [],
   "source": [
    "import pandas as pd\n",
    "import statsmodels.api as sm\n",
    "import statsmodels.formula.api as smf #needed for models in this script\n",
    "import pylab as pl\n",
    "import matplotlib.pyplot as plt\n",
    "import numpy as np\n",
    "from scipy import stats"
   ]
  },
  {
   "cell_type": "code",
   "execution_count": 3,
   "metadata": {
    "collapsed": true
   },
   "outputs": [],
   "source": [
    "pd.set_option('html', True) #see the dataframe in a more user friendly manner\n",
    "%matplotlib inline"
   ]
  },
  {
   "cell_type": "markdown",
   "metadata": {},
   "source": [
    "## Classification, Regression and Prediction Overview"
   ]
  },
  {
   "cell_type": "markdown",
   "metadata": {
    "collapsed": true
   },
   "source": [
    "After we've cleaned our data and become familiar with it, we have a dataset with a bunch of observations that have attributes x1...xn, and Y. Our goal, then, is to develop a model to predict Y for a given observation. Depending on what we're trying to predict, we can either attempt to classify a given observation, or perform a regression on a particular observation.\n",
    "\n",
    "In statistics, regression is a measure of the relationship between the mean value of one variable with the corresponding value or values of another variable or other variables. Classification is the process of determining the category or class that an observation belongs to.\n",
    "\n",
    "Both regression and classification comes under the domain of Supervised Learning. In supervised learning, the learning process has a \"goal\" - to predict the missing variable Y. Y is also called the target variable.\n",
    "\n",
    "Supervised learning includes the following steps:\n",
    "\n",
    "1. Process and generate the initial data set for modeling. The data set should be large enough. It will contain both the predictor variables (x1..xn) and the target variable Y.\n",
    "\n",
    "2. Split the data into training and testing sets. The split needs to be performed in such a way that both the sets contain the same patterns of data. For example, if the initial data set has 100 observations, with the predictor value being 60 \"Y\" and 40 \"N\" in these observations, the individual training and testing sets should also have the Y and N in the same ratio of 3:2. Splitting is usually done through random selection. Typically, the training set will have 70% of the records in the initial data set.\n",
    "\n",
    "3. Build a model based on the training data set.\n",
    "\n",
    "4. Test the model using the test data set. We use the model to predict the value of Y in each of the test records. Then compare the predicted value with the actual value of Y (remember, the test data set also has the value of Y for all records). This gives an indication of the accuracy of the prediction model built.\n",
    "\n",
    "5. Fine tune the model using cross-validation (http://scikit-learn.org/stable/modules/cross_validation.html). Try different algorithms and parameters. Repeat the process until the accuracy reaches an acceptable level.\n",
    "\n",
    "6. Predict unknown data. Use the model built on new data (where Y is not known) to predict Y.\n",
    "\n",
    "The level of accuracy required is dependent upon the problem being solved and the limitations of the dataset we're working with. You'll need to use good judgement to avoid both under- and overfitting your model."
   ]
  },
  {
   "cell_type": "markdown",
   "metadata": {},
   "source": [
    "### Classification"
   ]
  },
  {
   "cell_type": "markdown",
   "metadata": {},
   "source": [
    "Classification, in machine learning and statistics, is the process of identifying the category or class that an observation belongs to. For example, determining if an email is spam or not spam is a classification process, as is determining if a patient has a disease or not.\n",
    "\n",
    "Classification is a supervised learning technique that uses a training set of observations with categorical class labels - \"spam\" or \"not spam\", or \"diabetes\" or \"no diabetes\" - to create a classification model based on the attributes of each observation, and each observation's class label, to predict the class label of new observations. Classifiers are evaluated on whether or not they produce the correct class label for an observation.\n",
    "\n",
    "Classification is often split up into binary classification and multiclass classification. In binary classification, we're trying to determine which one of two classes an observation belongs to: spam or not spam, diabetes or no diabetes, 1 or 0. In multiclass classification, we're trying to determine which one of n classes an observation belongs to. Many classification methods have been developed specifically for binary classification, and multiclass classification often requires the combined use of multiple binary classifiers.\n",
    "\n",
    "Again, classification is a supervised learning technique; to perform classification, we need to have a dataset with correct class labels for training. When correct class labels are not available, the corresponding unsupervised learning technique we can use is clustering, which is the topic of the next lesson. Classification and clustering are both techniques used in the more general problem of pattern recognition."
   ]
  },
  {
   "cell_type": "markdown",
   "metadata": {},
   "source": [
    "### Regression"
   ]
  },
  {
   "cell_type": "markdown",
   "metadata": {},
   "source": [
    "Regression is similar to classification in that a model is constructed. This model is used to predict an unknown or missing value Y. The key difference is that while classification models discrete categorical class labels, regression models continuous values. In addition, unlike classification, regression gives ordered values. In regression, we evaluate our model based on how close the predicted value is to the actual value of an observation.\n",
    "\n",
    "Regression is concerned with constructing a model of the relationship between the dependent variable Y and the independent variable(s) x1...xn. The relationship can take many forms. For instance, the relationship we explored in Unit 1 took the form of a line.\n",
    "\n",
    "We used logistic regression in Unit 1 to answer a yes/no question, which should indicate to you that we were performing a classification. On the other hand, it has \"regression\" in the name, which clearly indicates that we were performing a regression. Let's dive into this.\n",
    "\n",
    "For each observation, logistic regression will produce an expected value in terms of a probability. When we're predicting a binary or otherwise categorical outcome, this makes things tricky. This is because regression models generate fitted values that lie some where along a continuous 0—1 scale (e.g., p = 0.68), whereas the actual values of the dependent variable are dichotomous (for all observations, y = 1 or y = 0).\n",
    "\n",
    "Recall that, in order to get a yes/no prediction out of our logistic regression model, we had to determine a probability threshold above which we were confident that the answer was \"yes\" and below which we were confident the answer was \"no\". The threshold we picked was 0.70. By setting this threshold, we wrestled a regression technique into a classifiaction technique. Our model produced continuous values of p, and we converted those continuous values into discrete values using a threshold.\n",
    "\n",
    "There's a very good discussion of these problems in The Separation Plot: A New Visual Method for Evaluating the Fit of Binary Models (http://onlinelibrary.wiley.com/doi/10.1111/j.1540-5907.2011.00525.x/abstract)."
   ]
  },
  {
   "cell_type": "markdown",
   "metadata": {},
   "source": [
    "### Fitting and Overfitting"
   ]
  },
  {
   "cell_type": "markdown",
   "metadata": {},
   "source": [
    "Recall the steps to building a supervised learning model above. Let's dive in to the process of building and evaluating supervised model (steps 2, 3, and 4).\n",
    "\n",
    "Building a model (also called training or fitting) boils down to optimizing a set of parameters on the training set. For instance, in the case of linear regression, we assume a linear relationship between our features and our response variable, and learn the coefficients of the model from our training set. This occurs through minimizing our squared error loss function:\n",
    "\n",
    "![](files/mp1.jpg)\n",
    "\n",
    "With respect to each beta parameter (i.e. taking the partial derivatives and setting them to zero). Although the functional form and parameters can be very complex in other machine learning methods, this idea of learning parameters from a training set applies universally to supervised learning algorithms.\n",
    "\n",
    "Now, why is it necessary to split our data into a training set and a testing set? Why can't we evaluate our model on the same data we used to train it? Simply put, if we evaluate the model on the same data we trained on, we will have a very optimistic view of our models performance because it was optimized directly on that data. In order to get a good estimate of our models performance on new data, we must separate the data we train on from the data we evaluate the model on.\n",
    "\n",
    "Similarly to how we need to isolate training and testing data, we also need to be careful we don't fit our model too closely to our training data. When we learn our training data too closely, this is called over-fitting, and it is critical to be aware of this problem in any modeling task. Two very common way in which a model overfits is when we chose an overly complex model or when we have small amounts of data. Let's take a look at an example:\n",
    "\n",
    "Suppose we wanted to use a linear regression with a predict our response with a single feature <b>X</b>. The form of our fitted line would be:\n",
    "\n",
    "![](files/mp2.jpg)\n",
    "\n",
    "Where beta_0 is the intercept. We could make this simple model more complex by adding polynomial terms of X, such as:\n",
    "\n",
    "![](files/mp3.jpg)\n",
    "or\n",
    "![](files/mp4.jpg)\n",
    "\n",
    "As we increase the number of polynomial terms, we would fit the training data more and more closely:\n",
    "\n",
    "![](files/mp5.jpg)\n",
    "\n",
    "As we fit our training set more closely, our training performance will increase (as you can see, the cubic curve fits the black datapoints more closely than the linear red curve). However, it is likely that we are overfitting to our training set, and that using the cubic curve to predict new data will perform more poorly than the simple model."
   ]
  },
  {
   "cell_type": "markdown",
   "metadata": {},
   "source": [
    "<b>Challenge:</b> Use the following code to generate a toy regression dataset, and split the data into 70% training and 30% testing data. Using mean squared error as a metric, compare the performance of different polynomial curves in the training set and in the testing set. "
   ]
  },
  {
   "cell_type": "code",
   "execution_count": 4,
   "metadata": {
    "collapsed": false
   },
   "outputs": [],
   "source": [
    "# Set seed for reproducible results\n",
    "np.random.seed(414)\n",
    "\n",
    "# Gen toy data\n",
    "X = np.linspace(0, 15, 1000)\n",
    "y = 3 * np.sin(X) + np.random.normal(1 + X, .2, 1000)\n",
    "\n",
    "train_X, train_y = X[:700], y[:700]\n",
    "test_X, test_y = X[700:], y[700:]\n",
    "\n",
    "train_df = pd.DataFrame({'X': train_X, 'y': train_y})\n",
    "test_df = pd.DataFrame({'X': test_X, 'y': test_y})\n",
    "\n",
    "# Linear Fit\n",
    "poly_1 = smf.ols(formula='y ~ 1 + X', data=train_df).fit()\n",
    "\n",
    "# Quadratic Fit\n",
    "poly_1 = smf.ols(formula='y ~ 1 + X + I(X**2)', data=train_df).fit()"
   ]
  },
  {
   "cell_type": "markdown",
   "metadata": {},
   "source": [
    "<b>Comment:</b> You are just thrown into the above again without any real explanation of what's happening. Clearer instructions are needed here. \n",
    "\n",
    "<b>Good Source for Regression Example:</b> http://mpastell.com/2013/04/19/python_regression/"
   ]
  },
  {
   "cell_type": "code",
   "execution_count": 29,
   "metadata": {
    "collapsed": false
   },
   "outputs": [
    {
     "data": {
      "text/html": [
       "<div>\n",
       "<table border=\"1\" class=\"dataframe\">\n",
       "  <thead>\n",
       "    <tr style=\"text-align: right;\">\n",
       "      <th></th>\n",
       "      <th>X</th>\n",
       "      <th>y</th>\n",
       "    </tr>\n",
       "  </thead>\n",
       "  <tbody>\n",
       "    <tr>\n",
       "      <th>200</th>\n",
       "      <td>3.003003</td>\n",
       "      <td>4.733169</td>\n",
       "    </tr>\n",
       "    <tr>\n",
       "      <th>201</th>\n",
       "      <td>3.018018</td>\n",
       "      <td>4.088467</td>\n",
       "    </tr>\n",
       "    <tr>\n",
       "      <th>202</th>\n",
       "      <td>3.033033</td>\n",
       "      <td>4.262989</td>\n",
       "    </tr>\n",
       "    <tr>\n",
       "      <th>203</th>\n",
       "      <td>3.048048</td>\n",
       "      <td>4.493961</td>\n",
       "    </tr>\n",
       "    <tr>\n",
       "      <th>204</th>\n",
       "      <td>3.063063</td>\n",
       "      <td>4.190500</td>\n",
       "    </tr>\n",
       "  </tbody>\n",
       "</table>\n",
       "</div>"
      ],
      "text/plain": [
       "            X         y\n",
       "200  3.003003  4.733169\n",
       "201  3.018018  4.088467\n",
       "202  3.033033  4.262989\n",
       "203  3.048048  4.493961\n",
       "204  3.063063  4.190500"
      ]
     },
     "execution_count": 29,
     "metadata": {},
     "output_type": "execute_result"
    }
   ],
   "source": [
    "# look at training data:\n",
    "train_df[200:205]"
   ]
  },
  {
   "cell_type": "code",
   "execution_count": 62,
   "metadata": {
    "collapsed": false
   },
   "outputs": [
    {
     "name": "stdout",
     "output_type": "stream",
     "text": [
      "LinregressResult(slope=0.88959868921793483, intercept=1.9959164051825233, rvalue=0.80145415979305212, pvalue=5.5150833785106581e-158, stderr=0.025126369356965293)\n",
      "\n",
      "                            OLS Regression Results                            \n",
      "==============================================================================\n",
      "Dep. Variable:                      y   R-squared:                       0.642\n",
      "Model:                            OLS   Adj. R-squared:                  0.642\n",
      "Method:                 Least Squares   F-statistic:                     1254.\n",
      "Date:                Fri, 06 Nov 2015   Prob (F-statistic):          5.52e-158\n",
      "Time:                        17:55:52   Log-Likelihood:                -1483.4\n",
      "No. Observations:                 700   AIC:                             2971.\n",
      "Df Residuals:                     698   BIC:                             2980.\n",
      "Df Model:                           1                                         \n",
      "Covariance Type:            nonrobust                                         \n",
      "==============================================================================\n",
      "                 coef    std err          t      P>|t|      [95.0% Conf. Int.]\n",
      "------------------------------------------------------------------------------\n",
      "Intercept      1.9959      0.152     13.104      0.000         1.697     2.295\n",
      "X              0.8896      0.025     35.405      0.000         0.840     0.939\n",
      "==============================================================================\n",
      "Omnibus:                      701.108   Durbin-Watson:                   0.020\n",
      "Prob(Omnibus):                  0.000   Jarque-Bera (JB):               52.980\n",
      "Skew:                          -0.259   Prob(JB):                     3.13e-12\n",
      "Kurtosis:                       1.756   Cond. No.                         12.4\n",
      "==============================================================================\n",
      "\n",
      "Warnings:\n",
      "[1] Standard Errors assume that the covariance matrix of the errors is correctly specified.\n",
      "\n",
      "                            OLS Regression Results                            \n",
      "==============================================================================\n",
      "Dep. Variable:                      y   R-squared:                       0.666\n",
      "Model:                            OLS   Adj. R-squared:                  0.665\n",
      "Method:                 Least Squares   F-statistic:                     694.4\n",
      "Date:                Fri, 06 Nov 2015   Prob (F-statistic):          1.25e-166\n",
      "Time:                        17:55:52   Log-Likelihood:                -1459.6\n",
      "No. Observations:                 700   AIC:                             2925.\n",
      "Df Residuals:                     697   BIC:                             2939.\n",
      "Df Model:                           2                                         \n",
      "Covariance Type:            nonrobust                                         \n",
      "==============================================================================\n",
      "                 coef    std err          t      P>|t|      [95.0% Conf. Int.]\n",
      "------------------------------------------------------------------------------\n",
      "Intercept      3.1458      0.221     14.261      0.000         2.713     3.579\n",
      "X              0.2313      0.097      2.382      0.017         0.041     0.422\n",
      "I(X ** 2)      0.0627      0.009      7.004      0.000         0.045     0.080\n",
      "==============================================================================\n",
      "Omnibus:                     1210.467   Durbin-Watson:                   0.022\n",
      "Prob(Omnibus):                  0.000   Jarque-Bera (JB):               49.911\n",
      "Skew:                          -0.091   Prob(JB):                     1.45e-11\n",
      "Kurtosis:                       1.705   Cond. No.                         160.\n",
      "==============================================================================\n",
      "\n",
      "Warnings:\n",
      "[1] Standard Errors assume that the covariance matrix of the errors is correctly specified.\n"
     ]
    }
   ],
   "source": [
    "x_train = train_df['X']\n",
    "y_train = train_df['y']\n",
    "\n",
    "#Using Scipy\n",
    "regression_train_scipy = stats.linregress(x_train, y_train)\n",
    "print regression_train_scipy\n",
    "print ''\n",
    "\n",
    "#Using provided formula:\n",
    "poly_1 = smf.ols(formula='y ~ 1 + X', data=train_df).fit()\n",
    "print poly_1.summary()\n",
    "print''\n",
    "\n",
    "#Using provided quadratic fit:\n",
    "poly_quad = smf.ols(formula='y ~ 1 + X + I(X**2)', data=train_df).fit()\n",
    "print poly_quad.summary()\n",
    "\n",
    "#More polynomial lines:\n"
   ]
  },
  {
   "cell_type": "markdown",
   "metadata": {},
   "source": [
    "### Visualize Data:"
   ]
  },
  {
   "cell_type": "code",
   "execution_count": 63,
   "metadata": {
    "collapsed": false
   },
   "outputs": [
    {
     "data": {
      "image/png": "[encoded data removed]",
      "text/plain": [
       "<matplotlib.figure.Figure at 0x105dde48>"
      ]
     },
     "metadata": {},
     "output_type": "display_data"
    }
   ],
   "source": [
    "plt.plot(x_train, y_train, 'ro')\n",
    "plt.plot(x_train, poly_1.fittedvalues, 'black')\n",
    "plt.plot(x_train, poly_quad.fittedvalues, 'blue')\n",
    "\n",
    "plt.legend(['Data', 'linear model', 'quadratic model'],bbox_to_anchor=(1.05, 1), loc=2, borderaxespad=0.)\n",
    "\n",
    "plt.xlabel('x_train')\n",
    "plt.ylabel('y_train')\n",
    "plt.title('Toy Regression Data')\n",
    "plt.show()"
   ]
  },
  {
   "cell_type": "code",
   "execution_count": null,
   "metadata": {
    "collapsed": false
   },
   "outputs": [],
   "source": []
  },
  {
   "cell_type": "code",
   "execution_count": null,
   "metadata": {
    "collapsed": true
   },
   "outputs": [],
   "source": []
  }
 ],
 "metadata": {
  "kernelspec": {
   "display_name": "Python 2",
   "language": "python",
   "name": "python2"
  },
  "language_info": {
   "codemirror_mode": {
    "name": "ipython",
    "version": 2
   },
   "file_extension": ".py",
   "mimetype": "text/x-python",
   "name": "python",
   "nbconvert_exporter": "python",
   "pygments_lexer": "ipython2",
   "version": "2.7.6"
  }
 },
 "nbformat": 4,
 "nbformat_minor": 0
}
