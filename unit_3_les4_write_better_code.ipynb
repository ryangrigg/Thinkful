{
 "cells": [
  {
   "cell_type": "code",
   "execution_count": 1,
   "metadata": {
    "collapsed": true
   },
   "outputs": [],
   "source": [
    "import pandas as pd\n",
    "import statsmodels.api as sm\n",
    "import statsmodels.formula.api as smf #needed for models in this script\n",
    "import pylab as pl\n",
    "import matplotlib.pyplot as plt\n",
    "import numpy as np\n",
    "from scipy import stats"
   ]
  },
  {
   "cell_type": "code",
   "execution_count": 2,
   "metadata": {
    "collapsed": true
   },
   "outputs": [],
   "source": [
    "pd.set_option('html', True) #see the dataframe in a more user friendly manner\n",
    "%matplotlib inline"
   ]
  },
  {
   "cell_type": "markdown",
   "metadata": {},
   "source": [
    "## Map and Filter vs. List Comprehensions"
   ]
  },
  {
   "cell_type": "markdown",
   "metadata": {},
   "source": [
    "As you saw in the lesson on linear regression, map() and filter() can be very useful functions, but when we can also replace them with list comprehensions. In some cases functions can be a little faster than list comprehensions, but in general, they are less readable.\n",
    "\n",
    "Which of the following is more readable? This:"
   ]
  },
  {
   "cell_type": "code",
   "execution_count": 3,
   "metadata": {
    "collapsed": false
   },
   "outputs": [
    {
     "data": {
      "text/plain": [
       "[0, 1, 4, 9, 16, 25, 36, 49, 64, 81]"
      ]
     },
     "execution_count": 3,
     "metadata": {},
     "output_type": "execute_result"
    }
   ],
   "source": [
    "map(lambda x: x**2, xrange(10))"
   ]
  },
  {
   "cell_type": "markdown",
   "metadata": {},
   "source": [
    "or this?"
   ]
  },
  {
   "cell_type": "code",
   "execution_count": 4,
   "metadata": {
    "collapsed": false
   },
   "outputs": [
    {
     "data": {
      "text/plain": [
       "[0, 1, 4, 9, 16, 25, 36, 49, 64, 81]"
      ]
     },
     "execution_count": 4,
     "metadata": {},
     "output_type": "execute_result"
    }
   ],
   "source": [
    "[x**2 for x in xrange(10)]"
   ]
  },
  {
   "cell_type": "markdown",
   "metadata": {},
   "source": [
    "<b>I would lean towards more use of list comprehensions.</b>"
   ]
  },
  {
   "cell_type": "markdown",
   "metadata": {},
   "source": [
    "## Use Generators Instead of List Comprehensions Where Possible"
   ]
  },
  {
   "cell_type": "markdown",
   "metadata": {},
   "source": [
    "Streamline your code: Frequently people new to Python overly rely on list comprehensions and don't learn how to use generator expressions to streamline their code. Imagine you were taking something similar to the above code and then putting it into a dictionary."
   ]
  },
  {
   "cell_type": "code",
   "execution_count": 6,
   "metadata": {
    "collapsed": false
   },
   "outputs": [
    {
     "name": "stdout",
     "output_type": "stream",
     "text": [
      "[(0, 0), (1, 1), (2, 4), (3, 9), (4, 16), (5, 25), (6, 36), (7, 49), (8, 64), (9, 81)]\n",
      "\n",
      "{0: 0, 1: 1, 2: 4, 3: 9, 4: 16, 5: 25, 6: 36, 7: 49, 8: 64, 9: 81}\n"
     ]
    }
   ],
   "source": [
    "x_to_x_squared = [(x, x**2) for x in xrange(10)]\n",
    "map_x_to_x_squared = dict(x_to_x_squared)\n",
    "\n",
    "print x_to_x_squared\n",
    "print ''\n",
    "print map_x_to_x_squared"
   ]
  },
  {
   "cell_type": "markdown",
   "metadata": {},
   "source": [
    "But if you immediately dump the list into the dict and then don't use the list any further, you've wasted memory and processing cycles creating that intermediate object. This might be useful if you want to inspect the result of your code as you're developing it. But now you can tweak (refactor) your code to make it a generator expression instead of a list:"
   ]
  },
  {
   "cell_type": "code",
   "execution_count": 7,
   "metadata": {
    "collapsed": false
   },
   "outputs": [
    {
     "name": "stdout",
     "output_type": "stream",
     "text": [
      "<generator object <genexpr> at 0x000000000C4B77E0>\n",
      "\n",
      "{0: 0, 1: 1, 2: 4, 3: 9, 4: 16, 5: 25, 6: 36, 7: 49, 8: 64, 9: 81}\n"
     ]
    }
   ],
   "source": [
    "x_to_x_squared = ((x, x**2) for x in xrange(10))\n",
    "map_x_to_x_squared = dict(x_to_x_squared)\n",
    "\n",
    "print x_to_x_squared\n",
    "print ''\n",
    "print map_x_to_x_squared"
   ]
  },
  {
   "cell_type": "markdown",
   "metadata": {},
   "source": [
    "Notice the only change we made was making the square brackets (\"[]\") into parentheses. Now your x_to_x_squared is a generator object that yields each element one at a time until finished to the calling function, in this case dict(). Most generators and iterators work this way. We still have our mapping and don't have to create an intermediate list, resulting in a more efficient use of both time and space."
   ]
  },
  {
   "cell_type": "markdown",
   "metadata": {},
   "source": [
    "## Keep your code DRY (\"Don't Repeat Yourself\")"
   ]
  },
  {
   "cell_type": "markdown",
   "metadata": {},
   "source": [
    "Don't Repeat Yourself doesn't mean that you won't rewrite things. What it does mean is that you shouldn't write things that are supposed to be the same thing everywhere. If you are, for example, writing strings that are supposed to be the same everywhere, you probably need a constant value to reference instead.\n",
    "\n",
    "If you are doing the same operation repeatedly, it's probably a good idea to abstract that into a function. In both cases, you can implement changes, whether to the string value or the function operation, in a single place rather than searching through your code to replace every instance where that string or operation exists."
   ]
  },
  {
   "cell_type": "markdown",
   "metadata": {},
   "source": [
    "## Decorators"
   ]
  },
  {
   "cell_type": "markdown",
   "metadata": {},
   "source": [
    "Decorators are just functions that take another function as an argument, wraping the functionality of the first function around the second. This alters (\"decorates\") the original function and dynamically alters how the function operates. This mixing of functionality can be used to keep your code DRY by implementing different implementations of the function for different situations, but preserving the basic operation it accomplishes.\n",
    "\n",
    "<b>This is a more advanced topic but one that will help you write compact, efficient, and reusable code.</b>"
   ]
  },
  {
   "cell_type": "code",
   "execution_count": null,
   "metadata": {
    "collapsed": true
   },
   "outputs": [],
   "source": []
  }
 ],
 "metadata": {
  "kernelspec": {
   "display_name": "Python 2",
   "language": "python",
   "name": "python2"
  },
  "language_info": {
   "codemirror_mode": {
    "name": "ipython",
    "version": 2
   },
   "file_extension": ".py",
   "mimetype": "text/x-python",
   "name": "python",
   "nbconvert_exporter": "python",
   "pygments_lexer": "ipython2",
   "version": "2.7.6"
  }
 },
 "nbformat": 4,
 "nbformat_minor": 0
}
