{
 "cells": [
  {
   "cell_type": "code",
   "execution_count": 1,
   "metadata": {
    "collapsed": true
   },
   "outputs": [],
   "source": [
    "import pandas as pd\n",
    "import statsmodels.api as sm\n",
    "import statsmodels.formula.api as smf #needed for models in this script\n",
    "import pylab as pl\n",
    "import matplotlib.pyplot as plt\n",
    "import numpy as np\n",
    "from scipy import stats"
   ]
  },
  {
   "cell_type": "code",
   "execution_count": 2,
   "metadata": {
    "collapsed": true
   },
   "outputs": [],
   "source": [
    "pd.set_option('html', True) #see the dataframe in a more user friendly manner\n",
    "%matplotlib inline"
   ]
  },
  {
   "cell_type": "markdown",
   "metadata": {},
   "source": [
    "## Explanation of Multivariate Analysis"
   ]
  },
  {
   "cell_type": "markdown",
   "metadata": {},
   "source": [
    "In multivariate analysis, we again test the coefficients for their significance to understand the relationship between them and \"y\". Adding new variables can increase the number of issues one has to juggle to produce a model.\n",
    "\n",
    "The first issue is that with many variables, it often becomes difficult to visualize all the possible relationships. With a single \"y\" and a single \"x\", we can plot the two using a standard two-dimensional plot and try to visually gauge the strength of their relationship. This process can be extended to multiple variables—you can plot all your possible explanatory variables and then pick the one with the strongest visual correlation with \"y\". If you wanted to, you could take the residuals of this regression you created and then try to plot the remaining explanatory variables against these residuals and add the variable to the original equation. This process can be repeated for many steps. Some more formal techniques, like stepwise regressions, extend this intuition in a more rigorous way, iteractively adding (or subtracting) a single variable that has the most explanatory power in the current version of the model.\n",
    "\n",
    "Producing graphs over and over again is obviously tedious and it may not be a terribly effective technique without serious modifications. Rather than relying on visual plots, we often start with a correlation matrix that is a square matrix with the correlations of all candidate variables. A correlation matrix not only shows which variables have the strongest relationship with the response variable, but it can show which variables have a strong relationship with each other, a concept that is important in multivariable linear models. For those who still want a visual analysis, there are lattice graphs that combine 2-dimensional correlation plots into a single compact graph.\n",
    "\n",
    "The process of deciding which variables to add to a model is often shaped by the goal of the modeling process. If the goal is simply to boost the R-squared (it shouldn't be), then adding as many variables as possible will do the trick. Adding extra variables will never subtract from R-squared, so most novice modelers will often make the mistake of throwing in as much data as they can get their hands on in order to boost the R-squared measure of the model.\n",
    "\n",
    "The problem with this approach is that it exposes to model to overfitting. Overfitting a model involves fitting a model so tightly to the existing data that the model sacrifices accuracy when it encounters new data. This is a prevalent issue when trying to forecast data; overfitting a model to the current batch of data makes it a worse predictor when it is used to predict results not used to fit the original model. To get around this issue, formal modeling techniques use a penalty like Akaike's Information Criterion (AIC) or the Bayesian Information Criterion (BIC) which handicap a model's fit based on the number of parameters used.\n",
    "\n",
    "Another issue with adding variables to a model is the notion of collinearity. Collinearity occurs when the explanatory variables of a model are related to one another. While this relationship may not affect the overall accuracy of the model, it makes it hard to interpret the impact of individual variables on the response variable, often a key goal of modeling. For example, if one were modeling fuel efficiency, one may try to incorporate weight and size (length and width) of the car into the model. Both of these variables when modeled individually would have a strong relationship with efficiency. However, when thrown into the same model, because they are closely related (bigger cars tend to weigh more) will likely affect the measures of significance of the coefficients. It often happens that when adding a new variable to a model in which all variables are significant, some of these old variables will become insignificant. The reason for this is that the new variable was linearly related to some of the old variables.\n",
    "\n",
    "When adding new variables, keep in mind that new variables may not only be linearly related to the explanatory variable. It is often important to try various transformations (log, power) of the explanatory variable to improve a model. Also, two explanatory variables actually multiply the effects of one another, not just add to them. This multiplicative effect is known as interaction.\n",
    "\n",
    "Finally, when creating a model with even one factor, it may not be clear if the explanatory factor is having a direct impact on the response variable or operating through a confounding factor. An example of this is using brand preference for a phone to determine voting preferences. The type of phone one owns is not likely to influence voting patterns, but the social-economic status and location (both confounding factors) of a customer may influence phone choice as well as voting decisions.\n",
    "\n",
    "For more information on this topic, watch the lectures on multiple regression (https://www.youtube.com/watch?v=eLpfEml4Vak) and interpreting regression models (https://www.youtube.com/watch?v=7rJ7EkB_gTM&list=UUsF1NvsObHQ33-alJ_RuBIw&index=47) lectures by Jason Delaney."
   ]
  },
  {
   "cell_type": "markdown",
   "metadata": {},
   "source": [
    "## Multiple Regression Using Statsmodels"
   ]
  },
  {
   "cell_type": "markdown",
   "metadata": {},
   "source": [
    "Notebook to Follow: http://nbviewer.ipython.org/urls/s3.amazonaws.com/datarobotblog/notebooks/multiple_regression_in_python.ipynb#appendix\n",
    "\n",
    "In Ordinary Least Squares Regression with a single variable we described the relationship between the predictor and the response with a straight line. In the case of multiple regression we extend this idea by fitting a p-dimensional hyperplane to our p predictors. \n",
    "We can show this for two predictor variables in a three dimensional plot. In the following example we will use the advertising dataset which consists of the sales of products and their advertising budget in three different media TV, radio, newspaper."
   ]
  },
  {
   "cell_type": "code",
   "execution_count": 3,
   "metadata": {
    "collapsed": false
   },
   "outputs": [
    {
     "data": {
      "text/html": [
       "<div>\n",
       "<table border=\"1\" class=\"dataframe\">\n",
       "  <thead>\n",
       "    <tr style=\"text-align: right;\">\n",
       "      <th></th>\n",
       "      <th>TV</th>\n",
       "      <th>Radio</th>\n",
       "      <th>Newspaper</th>\n",
       "      <th>Sales</th>\n",
       "    </tr>\n",
       "  </thead>\n",
       "  <tbody>\n",
       "    <tr>\n",
       "      <th>1</th>\n",
       "      <td>230.1</td>\n",
       "      <td>37.8</td>\n",
       "      <td>69.2</td>\n",
       "      <td>22.1</td>\n",
       "    </tr>\n",
       "    <tr>\n",
       "      <th>2</th>\n",
       "      <td>44.5</td>\n",
       "      <td>39.3</td>\n",
       "      <td>45.1</td>\n",
       "      <td>10.4</td>\n",
       "    </tr>\n",
       "    <tr>\n",
       "      <th>3</th>\n",
       "      <td>17.2</td>\n",
       "      <td>45.9</td>\n",
       "      <td>69.3</td>\n",
       "      <td>9.3</td>\n",
       "    </tr>\n",
       "    <tr>\n",
       "      <th>4</th>\n",
       "      <td>151.5</td>\n",
       "      <td>41.3</td>\n",
       "      <td>58.5</td>\n",
       "      <td>18.5</td>\n",
       "    </tr>\n",
       "    <tr>\n",
       "      <th>5</th>\n",
       "      <td>180.8</td>\n",
       "      <td>10.8</td>\n",
       "      <td>58.4</td>\n",
       "      <td>12.9</td>\n",
       "    </tr>\n",
       "  </tbody>\n",
       "</table>\n",
       "</div>"
      ],
      "text/plain": [
       "      TV  Radio  Newspaper  Sales\n",
       "1  230.1   37.8       69.2   22.1\n",
       "2   44.5   39.3       45.1   10.4\n",
       "3   17.2   45.9       69.3    9.3\n",
       "4  151.5   41.3       58.5   18.5\n",
       "5  180.8   10.8       58.4   12.9"
      ]
     },
     "execution_count": 3,
     "metadata": {},
     "output_type": "execute_result"
    }
   ],
   "source": [
    "df_adv = pd.read_csv('http://www-bcf.usc.edu/~gareth/ISL/Advertising.csv', index_col=0)\n",
    "df_adv.head()"
   ]
  },
  {
   "cell_type": "markdown",
   "metadata": {},
   "source": [
    "The multiple regression model describes the response as a weighted sum of the predictors:\n",
    "\n",
    "Sales=β0+β1×TV+β2×Radio\n",
    "\n",
    "This model can be visualized as a 2-d plane in 3-d space:"
   ]
  },
  {
   "cell_type": "code",
   "execution_count": 8,
   "metadata": {
    "collapsed": false
   },
   "outputs": [
    {
     "data": {
      "image/png": "[encoded data removed]",
      "text/plain": [
       "<matplotlib.figure.Figure at 0xc6069e8>"
      ]
     },
     "metadata": {},
     "output_type": "display_data"
    }
   ],
   "source": [
    "#code to create at bottom"
   ]
  },
  {
   "cell_type": "markdown",
   "metadata": {},
   "source": [
    "The plot above shows data points above the hyperplane in white and points below the hyperplane in black. The color of the plane is determined by the corresonding predicted Sales values (blue = low, red = high). The Python code to generate the 3-d plot can be found in the appendix.\n",
    "\n",
    "Just as with the single variable case, calling est.summary will give us detailed information about the model fit. You can find a description of each of the fields in the tables below in the previous blog post here: http://www.datarobot.com/blog/ordinary-least-squares-in-python/"
   ]
  },
  {
   "cell_type": "code",
   "execution_count": 4,
   "metadata": {
    "collapsed": false
   },
   "outputs": [
    {
     "data": {
      "text/html": [
       "<table class=\"simpletable\">\n",
       "<caption>OLS Regression Results</caption>\n",
       "<tr>\n",
       "  <th>Dep. Variable:</th>          <td>Sales</td>      <th>  R-squared:         </th> <td>   0.897</td>\n",
       "</tr>\n",
       "<tr>\n",
       "  <th>Model:</th>                   <td>OLS</td>       <th>  Adj. R-squared:    </th> <td>   0.896</td>\n",
       "</tr>\n",
       "<tr>\n",
       "  <th>Method:</th>             <td>Least Squares</td>  <th>  F-statistic:       </th> <td>   859.6</td>\n",
       "</tr>\n",
       "<tr>\n",
       "  <th>Date:</th>             <td>Wed, 21 Oct 2015</td> <th>  Prob (F-statistic):</th> <td>4.83e-98</td>\n",
       "</tr>\n",
       "<tr>\n",
       "  <th>Time:</th>                 <td>12:26:53</td>     <th>  Log-Likelihood:    </th> <td> -386.20</td>\n",
       "</tr>\n",
       "<tr>\n",
       "  <th>No. Observations:</th>      <td>   200</td>      <th>  AIC:               </th> <td>   778.4</td>\n",
       "</tr>\n",
       "<tr>\n",
       "  <th>Df Residuals:</th>          <td>   197</td>      <th>  BIC:               </th> <td>   788.3</td>\n",
       "</tr>\n",
       "<tr>\n",
       "  <th>Df Model:</th>              <td>     2</td>      <th>                     </th>     <td> </td>   \n",
       "</tr>\n",
       "<tr>\n",
       "  <th>Covariance Type:</th>      <td>nonrobust</td>    <th>                     </th>     <td> </td>   \n",
       "</tr>\n",
       "</table>\n",
       "<table class=\"simpletable\">\n",
       "<tr>\n",
       "    <td></td>       <th>coef</th>     <th>std err</th>      <th>t</th>      <th>P>|t|</th> <th>[95.0% Conf. Int.]</th> \n",
       "</tr>\n",
       "<tr>\n",
       "  <th>const</th> <td>    2.9211</td> <td>    0.294</td> <td>    9.919</td> <td> 0.000</td> <td>    2.340     3.502</td>\n",
       "</tr>\n",
       "<tr>\n",
       "  <th>TV</th>    <td>    0.0458</td> <td>    0.001</td> <td>   32.909</td> <td> 0.000</td> <td>    0.043     0.048</td>\n",
       "</tr>\n",
       "<tr>\n",
       "  <th>Radio</th> <td>    0.1880</td> <td>    0.008</td> <td>   23.382</td> <td> 0.000</td> <td>    0.172     0.204</td>\n",
       "</tr>\n",
       "</table>\n",
       "<table class=\"simpletable\">\n",
       "<tr>\n",
       "  <th>Omnibus:</th>       <td>60.022</td> <th>  Durbin-Watson:     </th> <td>   2.081</td>\n",
       "</tr>\n",
       "<tr>\n",
       "  <th>Prob(Omnibus):</th> <td> 0.000</td> <th>  Jarque-Bera (JB):  </th> <td> 148.679</td>\n",
       "</tr>\n",
       "<tr>\n",
       "  <th>Skew:</th>          <td>-1.323</td> <th>  Prob(JB):          </th> <td>5.19e-33</td>\n",
       "</tr>\n",
       "<tr>\n",
       "  <th>Kurtosis:</th>      <td> 6.292</td> <th>  Cond. No.          </th> <td>    425.</td>\n",
       "</tr>\n",
       "</table>"
      ],
      "text/plain": [
       "<class 'statsmodels.iolib.summary.Summary'>\n",
       "\"\"\"\n",
       "                            OLS Regression Results                            \n",
       "==============================================================================\n",
       "Dep. Variable:                  Sales   R-squared:                       0.897\n",
       "Model:                            OLS   Adj. R-squared:                  0.896\n",
       "Method:                 Least Squares   F-statistic:                     859.6\n",
       "Date:                Wed, 21 Oct 2015   Prob (F-statistic):           4.83e-98\n",
       "Time:                        12:26:53   Log-Likelihood:                -386.20\n",
       "No. Observations:                 200   AIC:                             778.4\n",
       "Df Residuals:                     197   BIC:                             788.3\n",
       "Df Model:                           2                                         \n",
       "Covariance Type:            nonrobust                                         \n",
       "==============================================================================\n",
       "                 coef    std err          t      P>|t|      [95.0% Conf. Int.]\n",
       "------------------------------------------------------------------------------\n",
       "const          2.9211      0.294      9.919      0.000         2.340     3.502\n",
       "TV             0.0458      0.001     32.909      0.000         0.043     0.048\n",
       "Radio          0.1880      0.008     23.382      0.000         0.172     0.204\n",
       "==============================================================================\n",
       "Omnibus:                       60.022   Durbin-Watson:                   2.081\n",
       "Prob(Omnibus):                  0.000   Jarque-Bera (JB):              148.679\n",
       "Skew:                          -1.323   Prob(JB):                     5.19e-33\n",
       "Kurtosis:                       6.292   Cond. No.                         425.\n",
       "==============================================================================\n",
       "\n",
       "Warnings:\n",
       "[1] Standard Errors assume that the covariance matrix of the errors is correctly specified.\n",
       "\"\"\""
      ]
     },
     "execution_count": 4,
     "metadata": {},
     "output_type": "execute_result"
    }
   ],
   "source": [
    "X = df_adv[['TV', 'Radio']] #excluding Newspaper because it has little effect on sales when you include it; \n",
    "#better to isolate the two main drivers\n",
    "y = df_adv['Sales']\n",
    "\n",
    "## fit a OLS model with intercept on TV and Radio\n",
    "X = sm.add_constant(X)\n",
    "est = sm.OLS(y, X).fit()\n",
    "\n",
    "est.summary()"
   ]
  },
  {
   "cell_type": "markdown",
   "metadata": {},
   "source": [
    "### Handling Categorical Variables"
   ]
  },
  {
   "cell_type": "markdown",
   "metadata": {},
   "source": [
    "Often in statistical learning and data analysis we encounter variables that are not quantitative. A common example is gender or geographic region. We would like to be able to handle them naturally. Here is a sample dataset investigating chronic heart disease."
   ]
  },
  {
   "cell_type": "code",
   "execution_count": 3,
   "metadata": {
    "collapsed": false
   },
   "outputs": [
    {
     "data": {
      "text/html": [
       "<div>\n",
       "<table border=\"1\" class=\"dataframe\">\n",
       "  <thead>\n",
       "    <tr style=\"text-align: right;\">\n",
       "      <th></th>\n",
       "      <th>sbp</th>\n",
       "      <th>tobacco</th>\n",
       "      <th>ldl</th>\n",
       "      <th>adiposity</th>\n",
       "      <th>famhist</th>\n",
       "      <th>typea</th>\n",
       "      <th>obesity</th>\n",
       "      <th>alcohol</th>\n",
       "      <th>age</th>\n",
       "      <th>chd</th>\n",
       "    </tr>\n",
       "    <tr>\n",
       "      <th>row.names</th>\n",
       "      <th></th>\n",
       "      <th></th>\n",
       "      <th></th>\n",
       "      <th></th>\n",
       "      <th></th>\n",
       "      <th></th>\n",
       "      <th></th>\n",
       "      <th></th>\n",
       "      <th></th>\n",
       "      <th></th>\n",
       "    </tr>\n",
       "  </thead>\n",
       "  <tbody>\n",
       "    <tr>\n",
       "      <th>1</th>\n",
       "      <td>160</td>\n",
       "      <td>12.00</td>\n",
       "      <td>5.73</td>\n",
       "      <td>23.11</td>\n",
       "      <td>Present</td>\n",
       "      <td>49</td>\n",
       "      <td>25.30</td>\n",
       "      <td>97.20</td>\n",
       "      <td>52</td>\n",
       "      <td>1</td>\n",
       "    </tr>\n",
       "    <tr>\n",
       "      <th>2</th>\n",
       "      <td>144</td>\n",
       "      <td>0.01</td>\n",
       "      <td>4.41</td>\n",
       "      <td>28.61</td>\n",
       "      <td>Absent</td>\n",
       "      <td>55</td>\n",
       "      <td>28.87</td>\n",
       "      <td>2.06</td>\n",
       "      <td>63</td>\n",
       "      <td>1</td>\n",
       "    </tr>\n",
       "    <tr>\n",
       "      <th>3</th>\n",
       "      <td>118</td>\n",
       "      <td>0.08</td>\n",
       "      <td>3.48</td>\n",
       "      <td>32.28</td>\n",
       "      <td>Present</td>\n",
       "      <td>52</td>\n",
       "      <td>29.14</td>\n",
       "      <td>3.81</td>\n",
       "      <td>46</td>\n",
       "      <td>0</td>\n",
       "    </tr>\n",
       "    <tr>\n",
       "      <th>4</th>\n",
       "      <td>170</td>\n",
       "      <td>7.50</td>\n",
       "      <td>6.41</td>\n",
       "      <td>38.03</td>\n",
       "      <td>Present</td>\n",
       "      <td>51</td>\n",
       "      <td>31.99</td>\n",
       "      <td>24.26</td>\n",
       "      <td>58</td>\n",
       "      <td>1</td>\n",
       "    </tr>\n",
       "    <tr>\n",
       "      <th>5</th>\n",
       "      <td>134</td>\n",
       "      <td>13.60</td>\n",
       "      <td>3.50</td>\n",
       "      <td>27.78</td>\n",
       "      <td>Present</td>\n",
       "      <td>60</td>\n",
       "      <td>25.99</td>\n",
       "      <td>57.34</td>\n",
       "      <td>49</td>\n",
       "      <td>1</td>\n",
       "    </tr>\n",
       "  </tbody>\n",
       "</table>\n",
       "</div>"
      ],
      "text/plain": [
       "           sbp  tobacco   ldl  adiposity  famhist  typea  obesity  alcohol  \\\n",
       "row.names                                                                    \n",
       "1          160    12.00  5.73      23.11  Present     49    25.30    97.20   \n",
       "2          144     0.01  4.41      28.61   Absent     55    28.87     2.06   \n",
       "3          118     0.08  3.48      32.28  Present     52    29.14     3.81   \n",
       "4          170     7.50  6.41      38.03  Present     51    31.99    24.26   \n",
       "5          134    13.60  3.50      27.78  Present     60    25.99    57.34   \n",
       "\n",
       "           age  chd  \n",
       "row.names            \n",
       "1           52    1  \n",
       "2           63    1  \n",
       "3           46    0  \n",
       "4           58    1  \n",
       "5           49    1  "
      ]
     },
     "execution_count": 3,
     "metadata": {},
     "output_type": "execute_result"
    }
   ],
   "source": [
    "df = pd.read_csv('http://statweb.stanford.edu/~tibs/ElemStatLearn/datasets/SAheart.data', index_col=0)\n",
    "df.head()"
   ]
  },
  {
   "cell_type": "code",
   "execution_count": 4,
   "metadata": {
    "collapsed": false
   },
   "outputs": [
    {
     "name": "stdout",
     "output_type": "stream",
     "text": [
      "row.names\n",
      "1    1\n",
      "2    1\n",
      "3    0\n",
      "4    1\n",
      "5    1\n",
      "Name: chd, dtype: int64\n",
      "<class 'pandas.core.series.Series'>\n",
      "length:  462\n"
     ]
    }
   ],
   "source": [
    "# The dependant variable we are trying to model will be 'chd' - whether or not someone has chronic\n",
    "# heart disease so we will isolate that variable:\n",
    "chd_data = df.copy() #copy data_frame\n",
    "chd_status = chd_data.pop('chd') #pop 'chd' off and into series\n",
    "\n",
    "print chd_status.head()\n",
    "print type(chd_status)\n",
    "print 'length: ', len(chd_status)"
   ]
  },
  {
   "cell_type": "markdown",
   "metadata": {},
   "source": [
    "The variable famhist holds if the patient has a family history of coronary artery disease. The percentage of the response chd (chronic heart disease ) for patients with absent/present family history of coronary artery disease is:"
   ]
  },
  {
   "cell_type": "code",
   "execution_count": 5,
   "metadata": {
    "collapsed": false
   },
   "outputs": [
    {
     "data": {
      "text/plain": [
       "famhist\n",
       "Absent     0.237037\n",
       "Present    0.500000\n",
       "Name: chd, dtype: float64"
      ]
     },
     "execution_count": 5,
     "metadata": {},
     "output_type": "execute_result"
    }
   ],
   "source": [
    "# compute percentage of chronic heart disease based on family history of that disease (var: famhist)\n",
    "chd_status.groupby(chd_data.famhist).mean() \n",
    "# groupby famhist (Present, Absent); then look at the chd variable \n",
    "# and calculate what percentage of patients have chd for each group. \n",
    "# Below will show the steps to get to the figures:"
   ]
  },
  {
   "cell_type": "code",
   "execution_count": 6,
   "metadata": {
    "collapsed": false
   },
   "outputs": [
    {
     "name": "stdout",
     "output_type": "stream",
     "text": [
      "Absent\n",
      "0    206\n",
      "1     64\n",
      "dtype: int64\n",
      "270\n",
      "0.237037037037\n",
      "\n",
      "Present\n",
      "1    96\n",
      "0    96\n",
      "dtype: int64\n",
      "192\n",
      "0.5\n"
     ]
    }
   ],
   "source": [
    "test_chd = df[(df['famhist'] == 'Absent')]\n",
    "test_chd1 = df[(df['famhist'] == 'Present')]\n",
    "\n",
    "print 'Absent'\n",
    "print test_chd.chd.value_counts()\n",
    "print len(test_chd)\n",
    "print test_chd.chd.mean()\n",
    "print ''\n",
    "print 'Present'\n",
    "print test_chd1.chd.value_counts()\n",
    "print len(test_chd1)\n",
    "print test_chd1.chd.mean()"
   ]
  },
  {
   "cell_type": "markdown",
   "metadata": {},
   "source": [
    "What has happened is: There are 270 instances where family history showed 'Absent' for CHD. Of those 270 instances, 64 had CHD; thus 0.237 of instances. In the case where Family History showed 'Present', there were 192 instances in the data and 96 of those instances had CHD; which is 0.5 of instances. The original code: chd_status.groupby(chd_data.famhist).mean() does these calculations for us. "
   ]
  },
  {
   "cell_type": "markdown",
   "metadata": {},
   "source": [
    "These two levels (absent/present) have a natural ordering to them, so we can perform linear regression on them, after we convert them to numeric. This can be done using pd.Categorical."
   ]
  },
  {
   "cell_type": "code",
   "execution_count": 7,
   "metadata": {
    "collapsed": false
   },
   "outputs": [
    {
     "data": {
      "text/html": [
       "<div>\n",
       "<table border=\"1\" class=\"dataframe\">\n",
       "  <thead>\n",
       "    <tr style=\"text-align: right;\">\n",
       "      <th></th>\n",
       "      <th>sbp</th>\n",
       "      <th>tobacco</th>\n",
       "      <th>ldl</th>\n",
       "      <th>adiposity</th>\n",
       "      <th>famhist</th>\n",
       "      <th>typea</th>\n",
       "      <th>obesity</th>\n",
       "      <th>alcohol</th>\n",
       "      <th>age</th>\n",
       "      <th>chd</th>\n",
       "      <th>famhist_ord</th>\n",
       "    </tr>\n",
       "    <tr>\n",
       "      <th>row.names</th>\n",
       "      <th></th>\n",
       "      <th></th>\n",
       "      <th></th>\n",
       "      <th></th>\n",
       "      <th></th>\n",
       "      <th></th>\n",
       "      <th></th>\n",
       "      <th></th>\n",
       "      <th></th>\n",
       "      <th></th>\n",
       "      <th></th>\n",
       "    </tr>\n",
       "  </thead>\n",
       "  <tbody>\n",
       "    <tr>\n",
       "      <th>1</th>\n",
       "      <td>160</td>\n",
       "      <td>12.00</td>\n",
       "      <td>5.73</td>\n",
       "      <td>23.11</td>\n",
       "      <td>Present</td>\n",
       "      <td>49</td>\n",
       "      <td>25.30</td>\n",
       "      <td>97.20</td>\n",
       "      <td>52</td>\n",
       "      <td>1</td>\n",
       "      <td>1</td>\n",
       "    </tr>\n",
       "    <tr>\n",
       "      <th>2</th>\n",
       "      <td>144</td>\n",
       "      <td>0.01</td>\n",
       "      <td>4.41</td>\n",
       "      <td>28.61</td>\n",
       "      <td>Absent</td>\n",
       "      <td>55</td>\n",
       "      <td>28.87</td>\n",
       "      <td>2.06</td>\n",
       "      <td>63</td>\n",
       "      <td>1</td>\n",
       "      <td>0</td>\n",
       "    </tr>\n",
       "    <tr>\n",
       "      <th>3</th>\n",
       "      <td>118</td>\n",
       "      <td>0.08</td>\n",
       "      <td>3.48</td>\n",
       "      <td>32.28</td>\n",
       "      <td>Present</td>\n",
       "      <td>52</td>\n",
       "      <td>29.14</td>\n",
       "      <td>3.81</td>\n",
       "      <td>46</td>\n",
       "      <td>0</td>\n",
       "      <td>1</td>\n",
       "    </tr>\n",
       "    <tr>\n",
       "      <th>4</th>\n",
       "      <td>170</td>\n",
       "      <td>7.50</td>\n",
       "      <td>6.41</td>\n",
       "      <td>38.03</td>\n",
       "      <td>Present</td>\n",
       "      <td>51</td>\n",
       "      <td>31.99</td>\n",
       "      <td>24.26</td>\n",
       "      <td>58</td>\n",
       "      <td>1</td>\n",
       "      <td>1</td>\n",
       "    </tr>\n",
       "    <tr>\n",
       "      <th>5</th>\n",
       "      <td>134</td>\n",
       "      <td>13.60</td>\n",
       "      <td>3.50</td>\n",
       "      <td>27.78</td>\n",
       "      <td>Present</td>\n",
       "      <td>60</td>\n",
       "      <td>25.99</td>\n",
       "      <td>57.34</td>\n",
       "      <td>49</td>\n",
       "      <td>1</td>\n",
       "      <td>1</td>\n",
       "    </tr>\n",
       "  </tbody>\n",
       "</table>\n",
       "</div>"
      ],
      "text/plain": [
       "           sbp  tobacco   ldl  adiposity  famhist  typea  obesity  alcohol  \\\n",
       "row.names                                                                    \n",
       "1          160    12.00  5.73      23.11  Present     49    25.30    97.20   \n",
       "2          144     0.01  4.41      28.61   Absent     55    28.87     2.06   \n",
       "3          118     0.08  3.48      32.28  Present     52    29.14     3.81   \n",
       "4          170     7.50  6.41      38.03  Present     51    31.99    24.26   \n",
       "5          134    13.60  3.50      27.78  Present     60    25.99    57.34   \n",
       "\n",
       "           age  chd  famhist_ord  \n",
       "row.names                         \n",
       "1           52    1            1  \n",
       "2           63    1            0  \n",
       "3           46    0            1  \n",
       "4           58    1            1  \n",
       "5           49    1            1  "
      ]
     },
     "execution_count": 7,
     "metadata": {},
     "output_type": "execute_result"
    }
   ],
   "source": [
    "# encode df.famhist as a numeric: \n",
    "df['famhist_ord'] = pd.Categorical(df.famhist).codes\n",
    "#this creates a new column that converts 'object' datatypes into numeric codes, in this case converting\n",
    "# 'Present' to 1 and 'Absent' to 0\n",
    "df.head()"
   ]
  },
  {
   "cell_type": "code",
   "execution_count": 8,
   "metadata": {
    "collapsed": false
   },
   "outputs": [
    {
     "data": {
      "text/plain": [
       "sbp              int64\n",
       "tobacco        float64\n",
       "ldl            float64\n",
       "adiposity      float64\n",
       "famhist         object\n",
       "typea            int64\n",
       "obesity        float64\n",
       "alcohol        float64\n",
       "age              int64\n",
       "chd              int64\n",
       "famhist_ord       int8\n",
       "dtype: object"
      ]
     },
     "execution_count": 8,
     "metadata": {},
     "output_type": "execute_result"
    }
   ],
   "source": [
    "df.dtypes"
   ]
  },
  {
   "cell_type": "code",
   "execution_count": 9,
   "metadata": {
    "collapsed": false
   },
   "outputs": [
    {
     "data": {
      "text/html": [
       "<table class=\"simpletable\">\n",
       "<caption>OLS Regression Results</caption>\n",
       "<tr>\n",
       "  <th>Dep. Variable:</th>           <td>chd</td>       <th>  R-squared:         </th> <td>   0.074</td>\n",
       "</tr>\n",
       "<tr>\n",
       "  <th>Model:</th>                   <td>OLS</td>       <th>  Adj. R-squared:    </th> <td>   0.072</td>\n",
       "</tr>\n",
       "<tr>\n",
       "  <th>Method:</th>             <td>Least Squares</td>  <th>  F-statistic:       </th> <td>   36.86</td>\n",
       "</tr>\n",
       "<tr>\n",
       "  <th>Date:</th>             <td>Wed, 21 Oct 2015</td> <th>  Prob (F-statistic):</th> <td>2.66e-09</td>\n",
       "</tr>\n",
       "<tr>\n",
       "  <th>Time:</th>                 <td>18:12:02</td>     <th>  Log-Likelihood:    </th> <td> -294.59</td>\n",
       "</tr>\n",
       "<tr>\n",
       "  <th>No. Observations:</th>      <td>   462</td>      <th>  AIC:               </th> <td>   593.2</td>\n",
       "</tr>\n",
       "<tr>\n",
       "  <th>Df Residuals:</th>          <td>   460</td>      <th>  BIC:               </th> <td>   601.4</td>\n",
       "</tr>\n",
       "<tr>\n",
       "  <th>Df Model:</th>              <td>     1</td>      <th>                     </th>     <td> </td>   \n",
       "</tr>\n",
       "<tr>\n",
       "  <th>Covariance Type:</th>      <td>nonrobust</td>    <th>                     </th>     <td> </td>   \n",
       "</tr>\n",
       "</table>\n",
       "<table class=\"simpletable\">\n",
       "<tr>\n",
       "       <td></td>          <th>coef</th>     <th>std err</th>      <th>t</th>      <th>P>|t|</th> <th>[95.0% Conf. Int.]</th> \n",
       "</tr>\n",
       "<tr>\n",
       "  <th>Intercept</th>   <td>    0.2370</td> <td>    0.028</td> <td>    8.489</td> <td> 0.000</td> <td>    0.182     0.292</td>\n",
       "</tr>\n",
       "<tr>\n",
       "  <th>famhist_ord</th> <td>    0.2630</td> <td>    0.043</td> <td>    6.071</td> <td> 0.000</td> <td>    0.178     0.348</td>\n",
       "</tr>\n",
       "</table>\n",
       "<table class=\"simpletable\">\n",
       "<tr>\n",
       "  <th>Omnibus:</th>       <td>768.898</td> <th>  Durbin-Watson:     </th> <td>   1.961</td>\n",
       "</tr>\n",
       "<tr>\n",
       "  <th>Prob(Omnibus):</th> <td> 0.000</td>  <th>  Jarque-Bera (JB):  </th> <td>  58.778</td>\n",
       "</tr>\n",
       "<tr>\n",
       "  <th>Skew:</th>          <td> 0.579</td>  <th>  Prob(JB):          </th> <td>1.72e-13</td>\n",
       "</tr>\n",
       "<tr>\n",
       "  <th>Kurtosis:</th>      <td> 1.692</td>  <th>  Cond. No.          </th> <td>    2.47</td>\n",
       "</tr>\n",
       "</table>"
      ],
      "text/plain": [
       "<class 'statsmodels.iolib.summary.Summary'>\n",
       "\"\"\"\n",
       "                            OLS Regression Results                            \n",
       "==============================================================================\n",
       "Dep. Variable:                    chd   R-squared:                       0.074\n",
       "Model:                            OLS   Adj. R-squared:                  0.072\n",
       "Method:                 Least Squares   F-statistic:                     36.86\n",
       "Date:                Wed, 21 Oct 2015   Prob (F-statistic):           2.66e-09\n",
       "Time:                        18:12:02   Log-Likelihood:                -294.59\n",
       "No. Observations:                 462   AIC:                             593.2\n",
       "Df Residuals:                     460   BIC:                             601.4\n",
       "Df Model:                           1                                         \n",
       "Covariance Type:            nonrobust                                         \n",
       "===============================================================================\n",
       "                  coef    std err          t      P>|t|      [95.0% Conf. Int.]\n",
       "-------------------------------------------------------------------------------\n",
       "Intercept       0.2370      0.028      8.489      0.000         0.182     0.292\n",
       "famhist_ord     0.2630      0.043      6.071      0.000         0.178     0.348\n",
       "==============================================================================\n",
       "Omnibus:                      768.898   Durbin-Watson:                   1.961\n",
       "Prob(Omnibus):                  0.000   Jarque-Bera (JB):               58.778\n",
       "Skew:                           0.579   Prob(JB):                     1.72e-13\n",
       "Kurtosis:                       1.692   Cond. No.                         2.47\n",
       "==============================================================================\n",
       "\n",
       "Warnings:\n",
       "[1] Standard Errors assume that the covariance matrix of the errors is correctly specified.\n",
       "\"\"\""
      ]
     },
     "execution_count": 9,
     "metadata": {},
     "output_type": "execute_result"
    }
   ],
   "source": [
    "#create an OLS regression model: \n",
    "est = smf.ols(formula=\"chd ~ famhist_ord\", data=df).fit()\n",
    "est.summary()"
   ]
  },
  {
   "cell_type": "markdown",
   "metadata": {
    "collapsed": true
   },
   "source": [
    "There are several possible approaches to encode categorical values, and statsmodels has built-in support for many of them. In general these work by splitting a categorical variable into many different binary variables. The simplest way to encode categoricals is \"dummy-encoding\" which encodes a k-level categorical variable into k-1 binary variables. In statsmodels this is done easily using the C() function."
   ]
  },
  {
   "cell_type": "code",
   "execution_count": 11,
   "metadata": {
    "collapsed": false
   },
   "outputs": [],
   "source": [
    "# a utility function to only show the coeff section of summary; If wanted. \n",
    "from IPython.core.display import HTML\n",
    "def short_summary(est):\n",
    "    return HTML(est.summary().tables[1].as_html())\n",
    "\n",
    "# fit OLS on categorical\n",
    "est1 = smf.ols(formula='chd ~ C(famhist)', data=df).fit() #the C()function converts to numeric for us, as opposed to us having\n",
    "# to do it ourselves in the above example.\n",
    "short_summary(est1)"
   ]
  },
  {
   "cell_type": "code",
   "execution_count": 12,
   "metadata": {
    "collapsed": false
   },
   "outputs": [
    {
     "data": {
      "text/html": [
       "<table class=\"simpletable\">\n",
       "<tr>\n",
       "       <td></td>          <th>coef</th>     <th>std err</th>      <th>t</th>      <th>P>|t|</th> <th>[95.0% Conf. Int.]</th> \n",
       "</tr>\n",
       "<tr>\n",
       "  <th>Intercept</th>   <td>    0.2370</td> <td>    0.028</td> <td>    8.489</td> <td> 0.000</td> <td>    0.182     0.292</td>\n",
       "</tr>\n",
       "<tr>\n",
       "  <th>famhist_ord</th> <td>    0.2630</td> <td>    0.043</td> <td>    6.071</td> <td> 0.000</td> <td>    0.178     0.348</td>\n",
       "</tr>\n",
       "</table>"
      ],
      "text/plain": [
       "<IPython.core.display.HTML object>"
      ]
     },
     "execution_count": 12,
     "metadata": {},
     "output_type": "execute_result"
    }
   ],
   "source": [
    "short_summary(est)"
   ]
  },
  {
   "cell_type": "markdown",
   "metadata": {
    "collapsed": true
   },
   "source": [
    "Both methods produced identical results, as we would expect."
   ]
  },
  {
   "cell_type": "markdown",
   "metadata": {
    "collapsed": true
   },
   "source": [
    "## Interactions"
   ]
  },
  {
   "cell_type": "markdown",
   "metadata": {
    "collapsed": true
   },
   "source": [
    "Now that we have covered categorical variables, interaction terms are easier to explain."
   ]
  },
  {
   "cell_type": "code",
   "execution_count": 5,
   "metadata": {
    "collapsed": false
   },
   "outputs": [
    {
     "data": {
      "text/html": [
       "<div>\n",
       "<table border=\"1\" class=\"dataframe\">\n",
       "  <thead>\n",
       "    <tr style=\"text-align: right;\">\n",
       "      <th></th>\n",
       "      <th>plan</th>\n",
       "      <th>site</th>\n",
       "      <th>coins</th>\n",
       "      <th>tookphys</th>\n",
       "      <th>year</th>\n",
       "      <th>zper</th>\n",
       "      <th>black</th>\n",
       "      <th>income</th>\n",
       "      <th>xage</th>\n",
       "      <th>female</th>\n",
       "      <th>...</th>\n",
       "      <th>logc</th>\n",
       "      <th>fmde</th>\n",
       "      <th>hlthg</th>\n",
       "      <th>hlthf</th>\n",
       "      <th>hlthp</th>\n",
       "      <th>xghindx</th>\n",
       "      <th>linc</th>\n",
       "      <th>lnum</th>\n",
       "      <th>lnmeddol</th>\n",
       "      <th>binexp</th>\n",
       "    </tr>\n",
       "  </thead>\n",
       "  <tbody>\n",
       "    <tr>\n",
       "      <th>0</th>\n",
       "      <td>3</td>\n",
       "      <td>1</td>\n",
       "      <td>100</td>\n",
       "      <td>0</td>\n",
       "      <td>1</td>\n",
       "      <td>125024</td>\n",
       "      <td>1</td>\n",
       "      <td>13748.76</td>\n",
       "      <td>42.87748</td>\n",
       "      <td>0</td>\n",
       "      <td>...</td>\n",
       "      <td>0</td>\n",
       "      <td>0</td>\n",
       "      <td>1</td>\n",
       "      <td>0</td>\n",
       "      <td>0</td>\n",
       "      <td>65.2078</td>\n",
       "      <td>9.528776</td>\n",
       "      <td>1.386294</td>\n",
       "      <td>2.134299</td>\n",
       "      <td>1</td>\n",
       "    </tr>\n",
       "    <tr>\n",
       "      <th>1</th>\n",
       "      <td>3</td>\n",
       "      <td>1</td>\n",
       "      <td>100</td>\n",
       "      <td>0</td>\n",
       "      <td>2</td>\n",
       "      <td>125024</td>\n",
       "      <td>1</td>\n",
       "      <td>13748.76</td>\n",
       "      <td>43.87748</td>\n",
       "      <td>0</td>\n",
       "      <td>...</td>\n",
       "      <td>0</td>\n",
       "      <td>0</td>\n",
       "      <td>1</td>\n",
       "      <td>0</td>\n",
       "      <td>0</td>\n",
       "      <td>65.2078</td>\n",
       "      <td>9.528776</td>\n",
       "      <td>1.386294</td>\n",
       "      <td>4.128351</td>\n",
       "      <td>1</td>\n",
       "    </tr>\n",
       "    <tr>\n",
       "      <th>2</th>\n",
       "      <td>3</td>\n",
       "      <td>1</td>\n",
       "      <td>100</td>\n",
       "      <td>0</td>\n",
       "      <td>3</td>\n",
       "      <td>125024</td>\n",
       "      <td>1</td>\n",
       "      <td>13748.76</td>\n",
       "      <td>44.87748</td>\n",
       "      <td>0</td>\n",
       "      <td>...</td>\n",
       "      <td>0</td>\n",
       "      <td>0</td>\n",
       "      <td>1</td>\n",
       "      <td>0</td>\n",
       "      <td>0</td>\n",
       "      <td>65.2078</td>\n",
       "      <td>9.528776</td>\n",
       "      <td>1.386294</td>\n",
       "      <td>NaN</td>\n",
       "      <td>0</td>\n",
       "    </tr>\n",
       "    <tr>\n",
       "      <th>3</th>\n",
       "      <td>3</td>\n",
       "      <td>1</td>\n",
       "      <td>100</td>\n",
       "      <td>0</td>\n",
       "      <td>4</td>\n",
       "      <td>125024</td>\n",
       "      <td>1</td>\n",
       "      <td>13748.76</td>\n",
       "      <td>45.87748</td>\n",
       "      <td>0</td>\n",
       "      <td>...</td>\n",
       "      <td>0</td>\n",
       "      <td>0</td>\n",
       "      <td>1</td>\n",
       "      <td>0</td>\n",
       "      <td>0</td>\n",
       "      <td>65.2078</td>\n",
       "      <td>9.528776</td>\n",
       "      <td>1.386294</td>\n",
       "      <td>NaN</td>\n",
       "      <td>0</td>\n",
       "    </tr>\n",
       "    <tr>\n",
       "      <th>4</th>\n",
       "      <td>3</td>\n",
       "      <td>1</td>\n",
       "      <td>100</td>\n",
       "      <td>0</td>\n",
       "      <td>5</td>\n",
       "      <td>125024</td>\n",
       "      <td>1</td>\n",
       "      <td>13748.76</td>\n",
       "      <td>46.87748</td>\n",
       "      <td>0</td>\n",
       "      <td>...</td>\n",
       "      <td>0</td>\n",
       "      <td>0</td>\n",
       "      <td>1</td>\n",
       "      <td>0</td>\n",
       "      <td>0</td>\n",
       "      <td>65.2078</td>\n",
       "      <td>9.528776</td>\n",
       "      <td>1.386294</td>\n",
       "      <td>NaN</td>\n",
       "      <td>0</td>\n",
       "    </tr>\n",
       "  </tbody>\n",
       "</table>\n",
       "<p>5 rows × 45 columns</p>\n",
       "</div>"
      ],
      "text/plain": [
       "   plan  site  coins  tookphys  year    zper  black    income      xage  \\\n",
       "0     3     1    100         0     1  125024      1  13748.76  42.87748   \n",
       "1     3     1    100         0     2  125024      1  13748.76  43.87748   \n",
       "2     3     1    100         0     3  125024      1  13748.76  44.87748   \n",
       "3     3     1    100         0     4  125024      1  13748.76  45.87748   \n",
       "4     3     1    100         0     5  125024      1  13748.76  46.87748   \n",
       "\n",
       "   female   ...    logc  fmde  hlthg  hlthf  hlthp  xghindx      linc  \\\n",
       "0       0   ...       0     0      1      0      0  65.2078  9.528776   \n",
       "1       0   ...       0     0      1      0      0  65.2078  9.528776   \n",
       "2       0   ...       0     0      1      0      0  65.2078  9.528776   \n",
       "3       0   ...       0     0      1      0      0  65.2078  9.528776   \n",
       "4       0   ...       0     0      1      0      0  65.2078  9.528776   \n",
       "\n",
       "       lnum  lnmeddol  binexp  \n",
       "0  1.386294  2.134299       1  \n",
       "1  1.386294  4.128351       1  \n",
       "2  1.386294       NaN       0  \n",
       "3  1.386294       NaN       0  \n",
       "4  1.386294       NaN       0  \n",
       "\n",
       "[5 rows x 45 columns]"
      ]
     },
     "execution_count": 5,
     "metadata": {},
     "output_type": "execute_result"
    }
   ],
   "source": [
    "# We might be interested in studying the relationship between doctor visits (mdvis) \n",
    "# and both log income* and the binary variable health status (hlthp)\n",
    "\n",
    "health_data = pd.read_csv('randhie.csv')\n",
    "health_data.head()\n",
    "\n",
    "# *log income to reduce skewness "
   ]
  },
  {
   "cell_type": "code",
   "execution_count": 7,
   "metadata": {
    "collapsed": false
   },
   "outputs": [
    {
     "name": "stdout",
     "output_type": "stream",
     "text": [
      "Histogram; Income Normal\n"
     ]
    },
    {
     "data": {
      "image/png": "[encoded data removed]",
      "text/plain": [
       "<matplotlib.figure.Figure at 0x1b7812e8>"
      ]
     },
     "metadata": {},
     "output_type": "display_data"
    }
   ],
   "source": [
    "print 'Histogram; Income Normal'\n",
    "plt.hist(health_data.income, histtype='bar')\n",
    "plt.show()"
   ]
  },
  {
   "cell_type": "code",
   "execution_count": 8,
   "metadata": {
    "collapsed": false
   },
   "outputs": [
    {
     "name": "stdout",
     "output_type": "stream",
     "text": [
      "Histogram; Log Income\n"
     ]
    },
    {
     "data": {
      "image/png": "[encoded data removed]",
      "text/plain": [
       "<matplotlib.figure.Figure at 0x1b516e80>"
      ]
     },
     "metadata": {},
     "output_type": "display_data"
    }
   ],
   "source": [
    "# convert income to log:\n",
    "health_data[\"logincome\"] = np.log1p(health_data.income)\n",
    "\n",
    "print 'Histogram; Log Income'\n",
    "plt.hist(health_data.logincome, histtype='bar')\n",
    "plt.show()"
   ]
  },
  {
   "cell_type": "code",
   "execution_count": 10,
   "metadata": {
    "collapsed": false
   },
   "outputs": [
    {
     "data": {
      "text/html": [
       "<div>\n",
       "<table border=\"1\" class=\"dataframe\">\n",
       "  <thead>\n",
       "    <tr style=\"text-align: right;\">\n",
       "      <th></th>\n",
       "      <th>mdvis</th>\n",
       "      <th>logincome</th>\n",
       "      <th>hlthp</th>\n",
       "    </tr>\n",
       "  </thead>\n",
       "  <tbody>\n",
       "    <tr>\n",
       "      <th>0</th>\n",
       "      <td>0</td>\n",
       "      <td>9.528777</td>\n",
       "      <td>0</td>\n",
       "    </tr>\n",
       "    <tr>\n",
       "      <th>1</th>\n",
       "      <td>2</td>\n",
       "      <td>9.528777</td>\n",
       "      <td>0</td>\n",
       "    </tr>\n",
       "  </tbody>\n",
       "</table>\n",
       "</div>"
      ],
      "text/plain": [
       "   mdvis  logincome  hlthp\n",
       "0      0   9.528777      0\n",
       "1      2   9.528777      0"
      ]
     },
     "execution_count": 10,
     "metadata": {},
     "output_type": "execute_result"
    }
   ],
   "source": [
    "# take the columns we want to model:\n",
    "health_data = health_data.loc[:,('mdvis', 'logincome', 'hlthp')]\n",
    "health_data.head(2)"
   ]
  },
  {
   "cell_type": "code",
   "execution_count": 12,
   "metadata": {
    "collapsed": false
   },
   "outputs": [
    {
     "data": {
      "text/html": [
       "<table class=\"simpletable\">\n",
       "<tr>\n",
       "      <td></td>         <th>coef</th>     <th>std err</th>      <th>t</th>      <th>P>|t|</th> <th>[95.0% Conf. Int.]</th> \n",
       "</tr>\n",
       "<tr>\n",
       "  <th>Intercept</th> <td>    0.2725</td> <td>    0.227</td> <td>    1.200</td> <td> 0.230</td> <td>   -0.173     0.718</td>\n",
       "</tr>\n",
       "<tr>\n",
       "  <th>logincome</th> <td>    0.2916</td> <td>    0.026</td> <td>   11.310</td> <td> 0.000</td> <td>    0.241     0.342</td>\n",
       "</tr>\n",
       "<tr>\n",
       "  <th>hlthp</th>     <td>    3.2778</td> <td>    0.261</td> <td>   12.566</td> <td> 0.000</td> <td>    2.767     3.789</td>\n",
       "</tr>\n",
       "</table>"
      ],
      "text/plain": [
       "<IPython.core.display.HTML object>"
      ]
     },
     "execution_count": 12,
     "metadata": {},
     "output_type": "execute_result"
    },
    {
     "data": {
      "image/png": "[encoded data removed]",
      "text/plain": [
       "<matplotlib.figure.Figure at 0x18fb3400>"
      ]
     },
     "metadata": {},
     "output_type": "display_data"
    }
   ],
   "source": [
    "# Because hlthp is a binary variable we can visualize the linear regression model by plotting two \n",
    "# lines: one for hlthp == 0 and one for hlthp == 1.\n",
    "\n",
    "plt.scatter(health_data.logincome, health_data.mdvis, alpha=0.3)\n",
    "plt.xlabel('Log income')\n",
    "plt.ylabel('Number of visits')\n",
    "\n",
    "income_linspace = np.linspace(health_data.logincome.min(), health_data.logincome.max(), 100)\n",
    "\n",
    "est = smf.ols(formula='mdvis ~ logincome + hlthp', data=health_data).fit()\n",
    "\n",
    "plt.plot(income_linspace, est.params[0] + est.params[1] * income_linspace + est.params[2] * 0, 'r')\n",
    "plt.plot(income_linspace, est.params[0] + est.params[1] * income_linspace + est.params[2] * 1, 'g')\n",
    "short_summary(est)"
   ]
  },
  {
   "cell_type": "markdown",
   "metadata": {},
   "source": [
    "Notice that the two lines are parallel. This is because the categorical variable affects only the intercept and not the slope (which is a function of logincome)."
   ]
  },
  {
   "cell_type": "code",
   "execution_count": 14,
   "metadata": {
    "collapsed": false
   },
   "outputs": [
    {
     "data": {
      "text/html": [
       "<table class=\"simpletable\">\n",
       "<tr>\n",
       "         <td></td>            <th>coef</th>     <th>std err</th>      <th>t</th>      <th>P>|t|</th> <th>[95.0% Conf. Int.]</th> \n",
       "</tr>\n",
       "<tr>\n",
       "  <th>Intercept</th>       <td>    0.5217</td> <td>    0.234</td> <td>    2.231</td> <td> 0.026</td> <td>    0.063     0.980</td>\n",
       "</tr>\n",
       "<tr>\n",
       "  <th>hlthp</th>           <td>   -0.4991</td> <td>    0.890</td> <td>   -0.561</td> <td> 0.575</td> <td>   -2.243     1.245</td>\n",
       "</tr>\n",
       "<tr>\n",
       "  <th>logincome</th>       <td>    0.2630</td> <td>    0.027</td> <td>    9.902</td> <td> 0.000</td> <td>    0.211     0.315</td>\n",
       "</tr>\n",
       "<tr>\n",
       "  <th>hlthp:logincome</th> <td>    0.4868</td> <td>    0.110</td> <td>    4.441</td> <td> 0.000</td> <td>    0.272     0.702</td>\n",
       "</tr>\n",
       "</table>"
      ],
      "text/plain": [
       "<IPython.core.display.HTML object>"
      ]
     },
     "execution_count": 14,
     "metadata": {},
     "output_type": "execute_result"
    },
    {
     "data": {
      "image/png": "[encoded data removed]",
      "text/plain": [
       "<matplotlib.figure.Figure at 0x18bacb70>"
      ]
     },
     "metadata": {},
     "output_type": "display_data"
    }
   ],
   "source": [
    "# We can then include an interaction term to explore the effect of an interaction between the two \n",
    "# -- i.e. we let the slope be different for the two categories.\n",
    "\n",
    "plt.scatter(health_data.logincome, health_data.mdvis, alpha=0.3)\n",
    "plt.xlabel('Log income')\n",
    "plt.ylabel('Number of visits')\n",
    "\n",
    "est = smf.ols(formula='mdvis ~ hlthp * logincome', data=health_data).fit()\n",
    "\n",
    "plt.plot(income_linspace, est.params[0] + est.params[1] * 0 + est.params[2] * income_linspace + \n",
    "         est.params[3] * 0 * income_linspace, 'r')\n",
    "plt.plot(income_linspace, est.params[0] + est.params[1] * 1 + est.params[2] * income_linspace + \n",
    "         est.params[3] * 1 * income_linspace, 'g')\n",
    "\n",
    "short_summary(est)"
   ]
  },
  {
   "cell_type": "markdown",
   "metadata": {},
   "source": [
    "The * in the formula means that we want the interaction term in addition each term separately (called main-effects). If you want to include just an interaction, use : instead. This is generally avoided in analysis because it is almost always the case that, if a variable is important due to an interaction, it should have an effect by itself."
   ]
  },
  {
   "cell_type": "markdown",
   "metadata": {},
   "source": [
    "To summarize what is happening here:\n",
    "\n",
    "1) If we include the category variables without interactions we have two lines, one for hlthp == 1 and one for hlthp == 0, with all having the same slope but different intercepts.\n",
    "\n",
    "2) If we include the interactions, now each of the lines can have a different slope. This captures the effect that variation with income may be different for people who are in poor health than for people who are in better health."
   ]
  },
  {
   "cell_type": "markdown",
   "metadata": {},
   "source": [
    "## Polynomial regression"
   ]
  },
  {
   "cell_type": "markdown",
   "metadata": {},
   "source": [
    "Despite its name, linear regression can be used to fit non-linear functions. A linear regression model is linear in the model parameters, not necessarily in the predictors. If you add non-linear transformations of your predictors to the linear regression model, the model will be non-linear in the predictors.\n",
    "\n",
    "A very popular non-linear regression technique is Polynomial Regression, a technique which models the relationship between the response and the predictors as an n-th order polynomial. The higher the order of the polynomial the more \"wigglier\" functions you can fit. Using higher order polynomial comes at a price, however. First, the computational complexity of model fitting grows as the number of adaptable parameters grows. Second, more complex models have a higher risk of overfitting. Overfitting refers to a situation in which the model fits the idiosyncrasies of the training data and loses the ability to generalize from the seen to predict the unseen.\n",
    "\n",
    "To illustrate polynomial regression we will consider the Boston housing dataset. We'll look into the task to predict median house values in the Boston area using the predictor lstat, defined as the \"proportion of the adults without some high school education and proportion of male workes classified as laborers\" (see Hedonic House Prices and the Demand for Clean Air, Harrison & Rubinfeld, 1978)."
   ]
  },
  {
   "cell_type": "code",
   "execution_count": 15,
   "metadata": {
    "collapsed": false
   },
   "outputs": [
    {
     "data": {
      "text/html": [
       "<div>\n",
       "<table border=\"1\" class=\"dataframe\">\n",
       "  <thead>\n",
       "    <tr style=\"text-align: right;\">\n",
       "      <th></th>\n",
       "      <th>Unnamed: 0</th>\n",
       "      <th>crim</th>\n",
       "      <th>zn</th>\n",
       "      <th>indus</th>\n",
       "      <th>chas</th>\n",
       "      <th>nox</th>\n",
       "      <th>rm</th>\n",
       "      <th>age</th>\n",
       "      <th>dis</th>\n",
       "      <th>rad</th>\n",
       "      <th>tax</th>\n",
       "      <th>ptratio</th>\n",
       "      <th>black</th>\n",
       "      <th>lstat</th>\n",
       "      <th>medv</th>\n",
       "    </tr>\n",
       "  </thead>\n",
       "  <tbody>\n",
       "    <tr>\n",
       "      <th>0</th>\n",
       "      <td>1</td>\n",
       "      <td>0.00632</td>\n",
       "      <td>18</td>\n",
       "      <td>2.31</td>\n",
       "      <td>0</td>\n",
       "      <td>0.538</td>\n",
       "      <td>6.575</td>\n",
       "      <td>65.2</td>\n",
       "      <td>4.0900</td>\n",
       "      <td>1</td>\n",
       "      <td>296</td>\n",
       "      <td>15.3</td>\n",
       "      <td>396.90</td>\n",
       "      <td>4.98</td>\n",
       "      <td>24.0</td>\n",
       "    </tr>\n",
       "    <tr>\n",
       "      <th>1</th>\n",
       "      <td>2</td>\n",
       "      <td>0.02731</td>\n",
       "      <td>0</td>\n",
       "      <td>7.07</td>\n",
       "      <td>0</td>\n",
       "      <td>0.469</td>\n",
       "      <td>6.421</td>\n",
       "      <td>78.9</td>\n",
       "      <td>4.9671</td>\n",
       "      <td>2</td>\n",
       "      <td>242</td>\n",
       "      <td>17.8</td>\n",
       "      <td>396.90</td>\n",
       "      <td>9.14</td>\n",
       "      <td>21.6</td>\n",
       "    </tr>\n",
       "    <tr>\n",
       "      <th>2</th>\n",
       "      <td>3</td>\n",
       "      <td>0.02729</td>\n",
       "      <td>0</td>\n",
       "      <td>7.07</td>\n",
       "      <td>0</td>\n",
       "      <td>0.469</td>\n",
       "      <td>7.185</td>\n",
       "      <td>61.1</td>\n",
       "      <td>4.9671</td>\n",
       "      <td>2</td>\n",
       "      <td>242</td>\n",
       "      <td>17.8</td>\n",
       "      <td>392.83</td>\n",
       "      <td>4.03</td>\n",
       "      <td>34.7</td>\n",
       "    </tr>\n",
       "    <tr>\n",
       "      <th>3</th>\n",
       "      <td>4</td>\n",
       "      <td>0.03237</td>\n",
       "      <td>0</td>\n",
       "      <td>2.18</td>\n",
       "      <td>0</td>\n",
       "      <td>0.458</td>\n",
       "      <td>6.998</td>\n",
       "      <td>45.8</td>\n",
       "      <td>6.0622</td>\n",
       "      <td>3</td>\n",
       "      <td>222</td>\n",
       "      <td>18.7</td>\n",
       "      <td>394.63</td>\n",
       "      <td>2.94</td>\n",
       "      <td>33.4</td>\n",
       "    </tr>\n",
       "    <tr>\n",
       "      <th>4</th>\n",
       "      <td>5</td>\n",
       "      <td>0.06905</td>\n",
       "      <td>0</td>\n",
       "      <td>2.18</td>\n",
       "      <td>0</td>\n",
       "      <td>0.458</td>\n",
       "      <td>7.147</td>\n",
       "      <td>54.2</td>\n",
       "      <td>6.0622</td>\n",
       "      <td>3</td>\n",
       "      <td>222</td>\n",
       "      <td>18.7</td>\n",
       "      <td>396.90</td>\n",
       "      <td>5.33</td>\n",
       "      <td>36.2</td>\n",
       "    </tr>\n",
       "  </tbody>\n",
       "</table>\n",
       "</div>"
      ],
      "text/plain": [
       "   Unnamed: 0     crim  zn  indus  chas    nox     rm   age     dis  rad  tax  \\\n",
       "0           1  0.00632  18   2.31     0  0.538  6.575  65.2  4.0900    1  296   \n",
       "1           2  0.02731   0   7.07     0  0.469  6.421  78.9  4.9671    2  242   \n",
       "2           3  0.02729   0   7.07     0  0.469  7.185  61.1  4.9671    2  242   \n",
       "3           4  0.03237   0   2.18     0  0.458  6.998  45.8  6.0622    3  222   \n",
       "4           5  0.06905   0   2.18     0  0.458  7.147  54.2  6.0622    3  222   \n",
       "\n",
       "   ptratio   black  lstat  medv  \n",
       "0     15.3  396.90   4.98  24.0  \n",
       "1     17.8  396.90   9.14  21.6  \n",
       "2     17.8  392.83   4.03  34.7  \n",
       "3     18.7  394.63   2.94  33.4  \n",
       "4     18.7  396.90   5.33  36.2  "
      ]
     },
     "execution_count": 15,
     "metadata": {},
     "output_type": "execute_result"
    }
   ],
   "source": [
    "# load the boston housing dataset - median house values in the Boston area\n",
    "boston_data = pd.read_csv('http://vincentarelbundock.github.io/Rdatasets/csv/MASS/Boston.csv')\n",
    "boston_data.head()"
   ]
  },
  {
   "cell_type": "code",
   "execution_count": 16,
   "metadata": {
    "collapsed": false
   },
   "outputs": [
    {
     "data": {
      "text/html": [
       "<div>\n",
       "<table border=\"1\" class=\"dataframe\">\n",
       "  <thead>\n",
       "    <tr style=\"text-align: right;\">\n",
       "      <th></th>\n",
       "      <th>lstat</th>\n",
       "      <th>medv</th>\n",
       "    </tr>\n",
       "  </thead>\n",
       "  <tbody>\n",
       "    <tr>\n",
       "      <th>0</th>\n",
       "      <td>4.98</td>\n",
       "      <td>24.0</td>\n",
       "    </tr>\n",
       "    <tr>\n",
       "      <th>1</th>\n",
       "      <td>9.14</td>\n",
       "      <td>21.6</td>\n",
       "    </tr>\n",
       "  </tbody>\n",
       "</table>\n",
       "</div>"
      ],
      "text/plain": [
       "   lstat  medv\n",
       "0   4.98  24.0\n",
       "1   9.14  21.6"
      ]
     },
     "execution_count": 16,
     "metadata": {},
     "output_type": "execute_result"
    }
   ],
   "source": [
    "#isolate the variables we are interested in modelling:\n",
    "boston_data = boston_data.loc[:,('lstat', 'medv')]\n",
    "boston_data.head(2)"
   ]
  },
  {
   "cell_type": "code",
   "execution_count": 17,
   "metadata": {
    "collapsed": false
   },
   "outputs": [
    {
     "data": {
      "image/png": "[encoded data removed]",
      "text/plain": [
       "<matplotlib.figure.Figure at 0x1b807160>"
      ]
     },
     "metadata": {},
     "output_type": "display_data"
    }
   ],
   "source": [
    "# plot lstat (% lower status of the population) against median value\n",
    "plt.figure(figsize=(6 * 1.618, 6))\n",
    "plt.scatter(boston_data.lstat, boston_data.medv, s=10, alpha=0.3)\n",
    "plt.xlabel('lstat')\n",
    "plt.ylabel('medv')\n",
    "plt.show()"
   ]
  },
  {
   "cell_type": "code",
   "execution_count": 19,
   "metadata": {
    "collapsed": false
   },
   "outputs": [
    {
     "data": {
      "text/html": [
       "<div>\n",
       "<table border=\"1\" class=\"dataframe\">\n",
       "  <thead>\n",
       "    <tr style=\"text-align: right;\">\n",
       "      <th></th>\n",
       "      <th>lstat</th>\n",
       "    </tr>\n",
       "  </thead>\n",
       "  <tbody>\n",
       "    <tr>\n",
       "      <th>95</th>\n",
       "      <td>36.505758</td>\n",
       "    </tr>\n",
       "    <tr>\n",
       "      <th>96</th>\n",
       "      <td>36.871818</td>\n",
       "    </tr>\n",
       "    <tr>\n",
       "      <th>97</th>\n",
       "      <td>37.237879</td>\n",
       "    </tr>\n",
       "    <tr>\n",
       "      <th>98</th>\n",
       "      <td>37.603939</td>\n",
       "    </tr>\n",
       "    <tr>\n",
       "      <th>99</th>\n",
       "      <td>37.970000</td>\n",
       "    </tr>\n",
       "  </tbody>\n",
       "</table>\n",
       "</div>"
      ],
      "text/plain": [
       "        lstat\n",
       "95  36.505758\n",
       "96  36.871818\n",
       "97  37.237879\n",
       "98  37.603939\n",
       "99  37.970000"
      ]
     },
     "execution_count": 19,
     "metadata": {},
     "output_type": "execute_result"
    }
   ],
   "source": [
    "# points linearlyd space on lstats\n",
    "boston_x = pd.DataFrame({'lstat': np.linspace(boston_data.lstat.min(), boston_data.lstat.max(), 100)})\n",
    "boston_x.tail()"
   ]
  },
  {
   "cell_type": "code",
   "execution_count": 24,
   "metadata": {
    "collapsed": false
   },
   "outputs": [
    {
     "data": {
      "image/png": "[encoded data removed]",
      "text/plain": [
       "<matplotlib.figure.Figure at 0x1c207d30>"
      ]
     },
     "metadata": {},
     "output_type": "display_data"
    }
   ],
   "source": [
    "#Plot different order polynomials on original scatterplot:\n",
    "#repeat above graph:\n",
    "plt.figure(figsize=(6 * 1.618, 6))\n",
    "plt.scatter(boston_data.lstat, boston_data.medv, s=10, alpha=0.3)\n",
    "plt.xlabel('lstat')\n",
    "plt.ylabel('medv')\n",
    "\n",
    "# 1-st order polynomial\n",
    "poly_1 = smf.ols(formula='medv ~ 1 + lstat', data=boston_data).fit()\n",
    "plt.plot(boston_x.lstat, poly_1.predict(boston_x), 'blue', label='Poly n=1 $R^2$=%.2f' % poly_1.rsquared, \n",
    "         alpha=0.9)\n",
    "\n",
    "# 2-nd order polynomial\n",
    "poly_2 = smf.ols(formula='medv ~ 1 + lstat + I(lstat ** 2.0)', data=boston_data).fit()\n",
    "plt.plot(boston_x.lstat, poly_2.predict(boston_x), 'green', label='Poly n=2 $R^2$=%.2f' % poly_2.rsquared, \n",
    "         alpha=0.9)\n",
    "\n",
    "# 3-rd order polynomial\n",
    "poly_3 = smf.ols(formula='medv ~ 1 + lstat + I(lstat ** 2.0) + I(lstat ** 3.0)', data=boston_data).fit()\n",
    "plt.plot(boston_x.lstat, poly_3.predict(boston_x), 'red', alpha=0.9,\n",
    "         label='Poly n=3 $R^2$=%.2f' % poly_3.rsquared)\n",
    "\n",
    "plt.legend()\n",
    "plt.show()"
   ]
  },
  {
   "cell_type": "markdown",
   "metadata": {},
   "source": [
    "In the legend of the above figure, the R2 value for each of the fits is given. R2 is a measure of how well the model fits the data: a value of one means the model fits the data perfectly while a value of zero means the model fails to explain anything about the data. The fact that the R2 value is higher for the quadratic model shows that it fits the model better than the Ordinary Least Squares model. These R2 values have a major flaw, however, in that they rely exclusively on the same data that was used to train the model. Later on in this series of blog posts, we'll describe some better tools to assess models."
   ]
  },
  {
   "cell_type": "code",
   "execution_count": null,
   "metadata": {
    "collapsed": true
   },
   "outputs": [],
   "source": []
  },
  {
   "cell_type": "code",
   "execution_count": null,
   "metadata": {
    "collapsed": true
   },
   "outputs": [],
   "source": [
    "***********************************CODE TO GENERATE 3D PLOT**************************************"
   ]
  },
  {
   "cell_type": "code",
   "execution_count": null,
   "metadata": {
    "collapsed": true
   },
   "outputs": [],
   "source": [
    "# Code to Generate 3d plot at beginning:\n",
    "from mpl_toolkits.mplot3d import Axes3D\n",
    "\n",
    "X = df_adv[['TV', 'Radio']]\n",
    "y = df_adv['Sales']\n",
    "\n",
    "## fit a OLS model with intercept on TV and Radio\n",
    "X = sm.add_constant(X)\n",
    "est = sm.OLS(y, X).fit()\n",
    "\n",
    "## Create the 3d plot -- skip reading this\n",
    "# TV/Radio grid for 3d plot\n",
    "xx1, xx2 = np.meshgrid(np.linspace(X.TV.min(), X.TV.max(), 100), \n",
    "                       np.linspace(X.Radio.min(), X.Radio.max(), 100))\n",
    "# plot the hyperplane by evaluating the parameters on the grid\n",
    "Z = est.params[0] + est.params[1] * xx1 + est.params[2] * xx2\n",
    "\n",
    "# create matplotlib 3d axes\n",
    "fig = plt.figure(figsize=(12, 8))\n",
    "ax = Axes3D(fig, azim=-115, elev=15)\n",
    "\n",
    "# plot hyperplane\n",
    "surf = ax.plot_surface(xx1, xx2, Z, cmap=plt.cm.RdBu_r, alpha=0.6, linewidth=0)\n",
    "\n",
    "# plot data points - points over the HP are white, points below are black\n",
    "resid = y - est.predict(X)\n",
    "ax.scatter(X[resid >= 0].TV, X[resid >= 0].Radio, y[resid >= 0], color='black', alpha=1.0, facecolor='white')\n",
    "ax.scatter(X[resid < 0].TV, X[resid < 0].Radio, y[resid < 0], color='black', alpha=1.0)\n",
    "\n",
    "# set axis labels\n",
    "ax.set_xlabel('TV')\n",
    "ax.set_ylabel('Radio')\n",
    "ax.set_zlabel('Sales')\n",
    "\n",
    "plt.show()"
   ]
  },
  {
   "cell_type": "markdown",
   "metadata": {},
   "source": [
    "## Multivariate Analysis of Loan Data"
   ]
  },
  {
   "cell_type": "code",
   "execution_count": 3,
   "metadata": {
    "collapsed": true
   },
   "outputs": [],
   "source": [
    "#using the same dataset as before; introduce more variables into the analysis. \n",
    "# ************** NOTE ***********************\n",
    "#Instructions on Thinkful are UNCLEAR and thus, I'm moving forward with the cleaned dataset from previous lessons. "
   ]
  },
  {
   "cell_type": "code",
   "execution_count": 4,
   "metadata": {
    "collapsed": false
   },
   "outputs": [
    {
     "data": {
      "text/html": [
       "<div>\n",
       "<table border=\"1\" class=\"dataframe\">\n",
       "  <thead>\n",
       "    <tr style=\"text-align: right;\">\n",
       "      <th></th>\n",
       "      <th>Amount.Requested</th>\n",
       "      <th>Amount.Funded.By.Investors</th>\n",
       "      <th>Interest.Rate</th>\n",
       "      <th>Loan.Length</th>\n",
       "      <th>Loan.Purpose</th>\n",
       "      <th>Debt.To.Income.Ratio</th>\n",
       "      <th>State</th>\n",
       "      <th>Home.Ownership</th>\n",
       "      <th>Monthly.Income</th>\n",
       "      <th>FICO.Range</th>\n",
       "      <th>Open.CREDIT.Lines</th>\n",
       "      <th>Revolving.CREDIT.Balance</th>\n",
       "      <th>Inquiries.in.the.Last.6.Months</th>\n",
       "      <th>Employment.Length</th>\n",
       "      <th>FICO.Score</th>\n",
       "    </tr>\n",
       "  </thead>\n",
       "  <tbody>\n",
       "    <tr>\n",
       "      <th>0</th>\n",
       "      <td>20000</td>\n",
       "      <td>20000</td>\n",
       "      <td>0.089</td>\n",
       "      <td>36</td>\n",
       "      <td>debt_consolidation</td>\n",
       "      <td>14.90%</td>\n",
       "      <td>SC</td>\n",
       "      <td>MORTGAGE</td>\n",
       "      <td>6541.67</td>\n",
       "      <td>735-739</td>\n",
       "      <td>14</td>\n",
       "      <td>14272</td>\n",
       "      <td>2</td>\n",
       "      <td>&lt; 1 year</td>\n",
       "      <td>735</td>\n",
       "    </tr>\n",
       "    <tr>\n",
       "      <th>1</th>\n",
       "      <td>19200</td>\n",
       "      <td>19200</td>\n",
       "      <td>0.121</td>\n",
       "      <td>36</td>\n",
       "      <td>debt_consolidation</td>\n",
       "      <td>28.36%</td>\n",
       "      <td>TX</td>\n",
       "      <td>MORTGAGE</td>\n",
       "      <td>4583.33</td>\n",
       "      <td>715-719</td>\n",
       "      <td>12</td>\n",
       "      <td>11140</td>\n",
       "      <td>1</td>\n",
       "      <td>2 years</td>\n",
       "      <td>715</td>\n",
       "    </tr>\n",
       "    <tr>\n",
       "      <th>2</th>\n",
       "      <td>35000</td>\n",
       "      <td>35000</td>\n",
       "      <td>0.220</td>\n",
       "      <td>60</td>\n",
       "      <td>debt_consolidation</td>\n",
       "      <td>23.81%</td>\n",
       "      <td>CA</td>\n",
       "      <td>MORTGAGE</td>\n",
       "      <td>11500.00</td>\n",
       "      <td>690-694</td>\n",
       "      <td>14</td>\n",
       "      <td>21977</td>\n",
       "      <td>1</td>\n",
       "      <td>2 years</td>\n",
       "      <td>690</td>\n",
       "    </tr>\n",
       "    <tr>\n",
       "      <th>3</th>\n",
       "      <td>10000</td>\n",
       "      <td>9975</td>\n",
       "      <td>0.100</td>\n",
       "      <td>36</td>\n",
       "      <td>debt_consolidation</td>\n",
       "      <td>14.30%</td>\n",
       "      <td>KS</td>\n",
       "      <td>MORTGAGE</td>\n",
       "      <td>3833.33</td>\n",
       "      <td>695-699</td>\n",
       "      <td>10</td>\n",
       "      <td>9346</td>\n",
       "      <td>0</td>\n",
       "      <td>5 years</td>\n",
       "      <td>695</td>\n",
       "    </tr>\n",
       "    <tr>\n",
       "      <th>4</th>\n",
       "      <td>12000</td>\n",
       "      <td>12000</td>\n",
       "      <td>0.117</td>\n",
       "      <td>36</td>\n",
       "      <td>credit_card</td>\n",
       "      <td>18.78%</td>\n",
       "      <td>NJ</td>\n",
       "      <td>RENT</td>\n",
       "      <td>3195.00</td>\n",
       "      <td>695-699</td>\n",
       "      <td>11</td>\n",
       "      <td>14469</td>\n",
       "      <td>0</td>\n",
       "      <td>9 years</td>\n",
       "      <td>695</td>\n",
       "    </tr>\n",
       "  </tbody>\n",
       "</table>\n",
       "</div>"
      ],
      "text/plain": [
       "   Amount.Requested  Amount.Funded.By.Investors  Interest.Rate  Loan.Length  \\\n",
       "0             20000                       20000          0.089           36   \n",
       "1             19200                       19200          0.121           36   \n",
       "2             35000                       35000          0.220           60   \n",
       "3             10000                        9975          0.100           36   \n",
       "4             12000                       12000          0.117           36   \n",
       "\n",
       "         Loan.Purpose Debt.To.Income.Ratio State Home.Ownership  \\\n",
       "0  debt_consolidation               14.90%    SC       MORTGAGE   \n",
       "1  debt_consolidation               28.36%    TX       MORTGAGE   \n",
       "2  debt_consolidation               23.81%    CA       MORTGAGE   \n",
       "3  debt_consolidation               14.30%    KS       MORTGAGE   \n",
       "4         credit_card               18.78%    NJ           RENT   \n",
       "\n",
       "   Monthly.Income FICO.Range  Open.CREDIT.Lines  Revolving.CREDIT.Balance  \\\n",
       "0         6541.67    735-739                 14                     14272   \n",
       "1         4583.33    715-719                 12                     11140   \n",
       "2        11500.00    690-694                 14                     21977   \n",
       "3         3833.33    695-699                 10                      9346   \n",
       "4         3195.00    695-699                 11                     14469   \n",
       "\n",
       "   Inquiries.in.the.Last.6.Months Employment.Length  FICO.Score  \n",
       "0                               2          < 1 year         735  \n",
       "1                               1           2 years         715  \n",
       "2                               1           2 years         690  \n",
       "3                               0           5 years         695  \n",
       "4                               0           9 years         695  "
      ]
     },
     "execution_count": 4,
     "metadata": {},
     "output_type": "execute_result"
    }
   ],
   "source": [
    "#load cleaned data:\n",
    "loanData = pd.read_csv('loansData_clean.csv')\n",
    "loanData.head()"
   ]
  },
  {
   "cell_type": "code",
   "execution_count": 5,
   "metadata": {
    "collapsed": false
   },
   "outputs": [
    {
     "name": "stdout",
     "output_type": "stream",
     "text": [
      "31016250\n",
      "14216639.37\n",
      "326.629\n"
     ]
    }
   ],
   "source": [
    "print loanData['Amount.Requested'].sum()\n",
    "print loanData['Monthly.Income'].sum()\n",
    "print loanData['Interest.Rate'].sum()"
   ]
  },
  {
   "cell_type": "code",
   "execution_count": 6,
   "metadata": {
    "collapsed": false
   },
   "outputs": [
    {
     "data": {
      "text/html": [
       "<div>\n",
       "<table border=\"1\" class=\"dataframe\">\n",
       "  <thead>\n",
       "    <tr style=\"text-align: right;\">\n",
       "      <th></th>\n",
       "      <th>Interest.Rate</th>\n",
       "      <th>Monthly.Income</th>\n",
       "      <th>Home.Ownership</th>\n",
       "      <th>FICO.Score</th>\n",
       "      <th>Amount.Requested</th>\n",
       "    </tr>\n",
       "  </thead>\n",
       "  <tbody>\n",
       "    <tr>\n",
       "      <th>0</th>\n",
       "      <td>0.089</td>\n",
       "      <td>6541.67</td>\n",
       "      <td>MORTGAGE</td>\n",
       "      <td>735</td>\n",
       "      <td>20000</td>\n",
       "    </tr>\n",
       "    <tr>\n",
       "      <th>1</th>\n",
       "      <td>0.121</td>\n",
       "      <td>4583.33</td>\n",
       "      <td>MORTGAGE</td>\n",
       "      <td>715</td>\n",
       "      <td>19200</td>\n",
       "    </tr>\n",
       "    <tr>\n",
       "      <th>2</th>\n",
       "      <td>0.220</td>\n",
       "      <td>11500.00</td>\n",
       "      <td>MORTGAGE</td>\n",
       "      <td>690</td>\n",
       "      <td>35000</td>\n",
       "    </tr>\n",
       "    <tr>\n",
       "      <th>3</th>\n",
       "      <td>0.100</td>\n",
       "      <td>3833.33</td>\n",
       "      <td>MORTGAGE</td>\n",
       "      <td>695</td>\n",
       "      <td>10000</td>\n",
       "    </tr>\n",
       "    <tr>\n",
       "      <th>4</th>\n",
       "      <td>0.117</td>\n",
       "      <td>3195.00</td>\n",
       "      <td>RENT</td>\n",
       "      <td>695</td>\n",
       "      <td>12000</td>\n",
       "    </tr>\n",
       "  </tbody>\n",
       "</table>\n",
       "</div>"
      ],
      "text/plain": [
       "   Interest.Rate  Monthly.Income Home.Ownership  FICO.Score  Amount.Requested\n",
       "0          0.089         6541.67       MORTGAGE         735             20000\n",
       "1          0.121         4583.33       MORTGAGE         715             19200\n",
       "2          0.220        11500.00       MORTGAGE         690             35000\n",
       "3          0.100         3833.33       MORTGAGE         695             10000\n",
       "4          0.117         3195.00           RENT         695             12000"
      ]
     },
     "execution_count": 6,
     "metadata": {},
     "output_type": "execute_result"
    }
   ],
   "source": [
    "#take only the columns we are interested in (annual_inc, int_rate, home_ownership)\n",
    "loanData1 = loanData.loc[:,('Interest.Rate', 'Monthly.Income', 'Home.Ownership','FICO.Score','Amount.Requested')]\n",
    "loanData1.head()"
   ]
  },
  {
   "cell_type": "code",
   "execution_count": 7,
   "metadata": {
    "collapsed": false
   },
   "outputs": [
    {
     "data": {
      "text/plain": [
       "Interest.Rate       float64\n",
       "Monthly.Income      float64\n",
       "Home.Ownership       object\n",
       "FICO.Score            int64\n",
       "Amount.Requested      int64\n",
       "dtype: object"
      ]
     },
     "execution_count": 7,
     "metadata": {},
     "output_type": "execute_result"
    }
   ],
   "source": [
    "loanData1.dtypes"
   ]
  },
  {
   "cell_type": "code",
   "execution_count": 8,
   "metadata": {
    "collapsed": false
   },
   "outputs": [
    {
     "name": "stdout",
     "output_type": "stream",
     "text": [
      "Before:\n",
      "Interest.Rate       0\n",
      "Monthly.Income      1\n",
      "Home.Ownership      0\n",
      "FICO.Score          0\n",
      "Amount.Requested    0\n",
      "dtype: int64\n",
      "\n",
      "After:\n",
      "Interest.Rate       0\n",
      "Monthly.Income      0\n",
      "Home.Ownership      0\n",
      "FICO.Score          0\n",
      "Amount.Requested    0\n",
      "dtype: int64\n"
     ]
    }
   ],
   "source": [
    "#any nan values to clean?\n",
    "print 'Before:' \n",
    "print loanData1.isnull().sum()\n",
    "\n",
    "#drop any NAN values:\n",
    "loanData1 = loanData1.dropna()\n",
    "\n",
    "#confirmed dropped\n",
    "print ''\n",
    "print 'After:'\n",
    "print loanData1.isnull().sum()"
   ]
  },
  {
   "cell_type": "code",
   "execution_count": 9,
   "metadata": {
    "collapsed": false
   },
   "outputs": [
    {
     "data": {
      "text/plain": [
       "Interest.Rate       float64\n",
       "Monthly.Income      float64\n",
       "Home.Ownership       object\n",
       "FICO.Score            int64\n",
       "Amount.Requested      int64\n",
       "dtype: object"
      ]
     },
     "execution_count": 9,
     "metadata": {},
     "output_type": "execute_result"
    }
   ],
   "source": [
    "loanData1.dtypes"
   ]
  },
  {
   "cell_type": "code",
   "execution_count": 10,
   "metadata": {
    "collapsed": true
   },
   "outputs": [],
   "source": [
    "#create series with the columns we want in the model:\n",
    "int_rate = loanData1['Interest.Rate']\n",
    "month_inc = loanData1['Monthly.Income']\n",
    "home_status = loanData1['Home.Ownership']\n",
    "fico = loanData1['FICO.Score']\n",
    "loan_amt = loanData1['Amount.Requested']"
   ]
  },
  {
   "cell_type": "code",
   "execution_count": 11,
   "metadata": {
    "collapsed": false
   },
   "outputs": [
    {
     "name": "stdout",
     "output_type": "stream",
     "text": [
      "MORTGAGE    1148\n",
      "RENT        1146\n",
      "OWN          200\n",
      "OTHER          5\n",
      "dtype: int64\n",
      "Counter({3: 1148, 2: 1146, 4: 200, 1: 5})\n"
     ]
    }
   ],
   "source": [
    "import collections\n",
    "#convert 'home_status' to int based on value: \n",
    "# 3 for Own, 2 for Mortgage, 1 for Rent and 0 for Other\n",
    "home_status = [4 if x == 'OWN' else 3 if x == 'MORTGAGE' else 2 if x == 'RENT' else 1 if x == 'OTHER' \\\n",
    "                   else 0 for x in home_status]\n",
    "\n",
    "print loanData1['Home.Ownership'].value_counts() #see original counts\n",
    "print collections.Counter(home_status) #see new numeric counts; should match"
   ]
  },
  {
   "cell_type": "markdown",
   "metadata": {},
   "source": [
    "Convert variables into matrixes for modeling:"
   ]
  },
  {
   "cell_type": "code",
   "execution_count": 12,
   "metadata": {
    "collapsed": false
   },
   "outputs": [
    {
     "name": "stdout",
     "output_type": "stream",
     "text": [
      "[[ 0.089]\n",
      " [ 0.121]\n",
      " [ 0.22 ]\n",
      " [ 0.1  ]\n",
      " [ 0.117]]\n",
      "[[ 326.555]]\n"
     ]
    }
   ],
   "source": [
    "#dependant variable for both models:\n",
    "IntRate = np.matrix(int_rate).transpose()\n",
    "print IntRate[:5]\n",
    "print sum(IntRate)"
   ]
  },
  {
   "cell_type": "code",
   "execution_count": 13,
   "metadata": {
    "collapsed": false
   },
   "outputs": [
    {
     "name": "stdout",
     "output_type": "stream",
     "text": [
      "[[735]\n",
      " [715]\n",
      " [690]\n",
      " [695]\n",
      " [695]]\n",
      "[[1763920]]\n",
      "\n",
      "[[20000]\n",
      " [19200]\n",
      " [35000]\n",
      " [10000]\n",
      " [12000]]\n",
      "[[31011250]]\n",
      "\n",
      "[[  6541.67]\n",
      " [  4583.33]\n",
      " [ 11500.  ]\n",
      " [  3833.33]\n",
      " [  3195.  ]]\n",
      "[[ 14216639.37]]\n",
      "\n",
      "[[3]\n",
      " [3]\n",
      " [3]\n",
      " [3]\n",
      " [2]]\n",
      "[[6541]]\n",
      "\n"
     ]
    }
   ],
   "source": [
    "#independant variables:\n",
    "FICO = np.matrix(fico).transpose()\n",
    "print FICO[:5]\n",
    "print sum(FICO)\n",
    "print ''\n",
    "LoanAmount = np.matrix(loan_amt).transpose()\n",
    "print LoanAmount[:5]\n",
    "print sum(LoanAmount)\n",
    "print ''\n",
    "MonInc = np.matrix(month_inc).transpose()\n",
    "print MonInc[:5]\n",
    "print sum(MonInc)\n",
    "print ''\n",
    "HomeStatus = np.matrix(home_status).transpose()\n",
    "print HomeStatus[:5]\n",
    "print sum(HomeStatus)\n",
    "print ''"
   ]
  },
  {
   "cell_type": "markdown",
   "metadata": {},
   "source": [
    "## Model Interest Rate without Home Ownership"
   ]
  },
  {
   "cell_type": "code",
   "execution_count": 14,
   "metadata": {
    "collapsed": false
   },
   "outputs": [],
   "source": [
    "np.set_printoptions(suppress=True) #suppress scientific notation for easier reading"
   ]
  },
  {
   "cell_type": "code",
   "execution_count": 16,
   "metadata": {
    "collapsed": false
   },
   "outputs": [
    {
     "name": "stdout",
     "output_type": "stream",
     "text": [
      "[[   735.    20000.     6541.67]\n",
      " [   715.    19200.     4583.33]\n",
      " [   690.    35000.    11500.  ]\n",
      " [   695.    10000.     3833.33]\n",
      " [   695.    12000.     3195.  ]]\n",
      "\n",
      "[[  1763920.    31011250.    14216639.37]]\n"
     ]
    }
   ],
   "source": [
    "#Stack the Variables we want to use for the model:\n",
    "stacked_run1 = np.column_stack([FICO,LoanAmount,MonInc])\n",
    "print stacked_run1[:5]\n",
    "print ''\n",
    "print sum(stacked_run1)"
   ]
  },
  {
   "cell_type": "code",
   "execution_count": 17,
   "metadata": {
    "collapsed": false
   },
   "outputs": [
    {
     "data": {
      "text/html": [
       "<table class=\"simpletable\">\n",
       "<caption>OLS Regression Results</caption>\n",
       "<tr>\n",
       "  <th>Dep. Variable:</th>            <td>y</td>        <th>  R-squared:         </th>  <td>   0.660</td> \n",
       "</tr>\n",
       "<tr>\n",
       "  <th>Model:</th>                   <td>OLS</td>       <th>  Adj. R-squared:    </th>  <td>   0.659</td> \n",
       "</tr>\n",
       "<tr>\n",
       "  <th>Method:</th>             <td>Least Squares</td>  <th>  F-statistic:       </th>  <td>   1613.</td> \n",
       "</tr>\n",
       "<tr>\n",
       "  <th>Date:</th>             <td>Tue, 20 Oct 2015</td> <th>  Prob (F-statistic):</th>   <td>  0.00</td>  \n",
       "</tr>\n",
       "<tr>\n",
       "  <th>Time:</th>                 <td>15:24:01</td>     <th>  Log-Likelihood:    </th>  <td>  5734.3</td> \n",
       "</tr>\n",
       "<tr>\n",
       "  <th>No. Observations:</th>      <td>  2499</td>      <th>  AIC:               </th> <td>-1.146e+04</td>\n",
       "</tr>\n",
       "<tr>\n",
       "  <th>Df Residuals:</th>          <td>  2495</td>      <th>  BIC:               </th> <td>-1.144e+04</td>\n",
       "</tr>\n",
       "<tr>\n",
       "  <th>Df Model:</th>              <td>     3</td>      <th>                     </th>      <td> </td>    \n",
       "</tr>\n",
       "<tr>\n",
       "  <th>Covariance Type:</th>      <td>nonrobust</td>    <th>                     </th>      <td> </td>    \n",
       "</tr>\n",
       "</table>\n",
       "<table class=\"simpletable\">\n",
       "<tr>\n",
       "    <td></td>       <th>coef</th>     <th>std err</th>      <th>t</th>      <th>P>|t|</th> <th>[95.0% Conf. Int.]</th> \n",
       "</tr>\n",
       "<tr>\n",
       "  <th>const</th> <td>    0.7279</td> <td>    0.010</td> <td>   73.688</td> <td> 0.000</td> <td>    0.709     0.747</td>\n",
       "</tr>\n",
       "<tr>\n",
       "  <th>x1</th>    <td>   -0.0009</td> <td> 1.41e-05</td> <td>  -62.549</td> <td> 0.000</td> <td>   -0.001    -0.001</td>\n",
       "</tr>\n",
       "<tr>\n",
       "  <th>x2</th>    <td> 2.236e-06</td> <td>  6.8e-08</td> <td>   32.869</td> <td> 0.000</td> <td>  2.1e-06  2.37e-06</td>\n",
       "</tr>\n",
       "<tr>\n",
       "  <th>x3</th>    <td>-6.374e-07</td> <td> 1.34e-07</td> <td>   -4.741</td> <td> 0.000</td> <td>-9.01e-07 -3.74e-07</td>\n",
       "</tr>\n",
       "</table>\n",
       "<table class=\"simpletable\">\n",
       "<tr>\n",
       "  <th>Omnibus:</th>       <td>70.934</td> <th>  Durbin-Watson:     </th> <td>   1.976</td>\n",
       "</tr>\n",
       "<tr>\n",
       "  <th>Prob(Omnibus):</th> <td> 0.000</td> <th>  Jarque-Bera (JB):  </th> <td>  79.339</td>\n",
       "</tr>\n",
       "<tr>\n",
       "  <th>Skew:</th>          <td> 0.385</td> <th>  Prob(JB):          </th> <td>5.91e-18</td>\n",
       "</tr>\n",
       "<tr>\n",
       "  <th>Kurtosis:</th>      <td> 3.410</td> <th>  Cond. No.          </th> <td>3.19e+05</td>\n",
       "</tr>\n",
       "</table>"
      ],
      "text/plain": [
       "<class 'statsmodels.iolib.summary.Summary'>\n",
       "\"\"\"\n",
       "                            OLS Regression Results                            \n",
       "==============================================================================\n",
       "Dep. Variable:                      y   R-squared:                       0.660\n",
       "Model:                            OLS   Adj. R-squared:                  0.659\n",
       "Method:                 Least Squares   F-statistic:                     1613.\n",
       "Date:                Tue, 20 Oct 2015   Prob (F-statistic):               0.00\n",
       "Time:                        15:24:01   Log-Likelihood:                 5734.3\n",
       "No. Observations:                2499   AIC:                        -1.146e+04\n",
       "Df Residuals:                    2495   BIC:                        -1.144e+04\n",
       "Df Model:                           3                                         \n",
       "Covariance Type:            nonrobust                                         \n",
       "==============================================================================\n",
       "                 coef    std err          t      P>|t|      [95.0% Conf. Int.]\n",
       "------------------------------------------------------------------------------\n",
       "const          0.7279      0.010     73.688      0.000         0.709     0.747\n",
       "x1            -0.0009   1.41e-05    -62.549      0.000        -0.001    -0.001\n",
       "x2          2.236e-06    6.8e-08     32.869      0.000       2.1e-06  2.37e-06\n",
       "x3         -6.374e-07   1.34e-07     -4.741      0.000     -9.01e-07 -3.74e-07\n",
       "==============================================================================\n",
       "Omnibus:                       70.934   Durbin-Watson:                   1.976\n",
       "Prob(Omnibus):                  0.000   Jarque-Bera (JB):               79.339\n",
       "Skew:                           0.385   Prob(JB):                     5.91e-18\n",
       "Kurtosis:                       3.410   Cond. No.                     3.19e+05\n",
       "==============================================================================\n",
       "\n",
       "Warnings:\n",
       "[1] Standard Errors assume that the covariance matrix of the errors is correctly specified.\n",
       "[2] The condition number is large, 3.19e+05. This might indicate that there are\n",
       "strong multicollinearity or other numerical problems.\n",
       "\"\"\""
      ]
     },
     "execution_count": 17,
     "metadata": {},
     "output_type": "execute_result"
    }
   ],
   "source": [
    "#create model:\n",
    "run1 = sm.add_constant(stacked_run1)\n",
    "model_run1 = sm.OLS(IntRate,run1)\n",
    "run1_fitted = model_run1.fit()\n",
    "\n",
    "#show summary:\n",
    "result_run1 = run1_fitted.summary()\n",
    "result_run1"
   ]
  },
  {
   "cell_type": "code",
   "execution_count": 19,
   "metadata": {
    "collapsed": false
   },
   "outputs": [
    {
     "name": "stdout",
     "output_type": "stream",
     "text": [
      "[ 0.72792692 -0.00088032  0.00000224 -0.00000064]\n"
     ]
    }
   ],
   "source": [
    "#Get the fitted coefficients from the results:\n",
    "coeff_run1 = run1_fitted.params\n",
    "print coeff_run1"
   ]
  },
  {
   "cell_type": "markdown",
   "metadata": {},
   "source": [
    "## Model Interest Rate without Home Ownership Method 2"
   ]
  },
  {
   "cell_type": "code",
   "execution_count": 30,
   "metadata": {
    "collapsed": false
   },
   "outputs": [
    {
     "data": {
      "text/html": [
       "<table class=\"simpletable\">\n",
       "<caption>OLS Regression Results</caption>\n",
       "<tr>\n",
       "  <th>Dep. Variable:</th>      <td>Interest.Rate</td>  <th>  R-squared:         </th>  <td>   0.660</td> \n",
       "</tr>\n",
       "<tr>\n",
       "  <th>Model:</th>                   <td>OLS</td>       <th>  Adj. R-squared:    </th>  <td>   0.659</td> \n",
       "</tr>\n",
       "<tr>\n",
       "  <th>Method:</th>             <td>Least Squares</td>  <th>  F-statistic:       </th>  <td>   1613.</td> \n",
       "</tr>\n",
       "<tr>\n",
       "  <th>Date:</th>             <td>Tue, 20 Oct 2015</td> <th>  Prob (F-statistic):</th>   <td>  0.00</td>  \n",
       "</tr>\n",
       "<tr>\n",
       "  <th>Time:</th>                 <td>16:53:48</td>     <th>  Log-Likelihood:    </th>  <td>  5734.3</td> \n",
       "</tr>\n",
       "<tr>\n",
       "  <th>No. Observations:</th>      <td>  2499</td>      <th>  AIC:               </th> <td>-1.146e+04</td>\n",
       "</tr>\n",
       "<tr>\n",
       "  <th>Df Residuals:</th>          <td>  2495</td>      <th>  BIC:               </th> <td>-1.144e+04</td>\n",
       "</tr>\n",
       "<tr>\n",
       "  <th>Df Model:</th>              <td>     3</td>      <th>                     </th>      <td> </td>    \n",
       "</tr>\n",
       "<tr>\n",
       "  <th>Covariance Type:</th>      <td>nonrobust</td>    <th>                     </th>      <td> </td>    \n",
       "</tr>\n",
       "</table>\n",
       "<table class=\"simpletable\">\n",
       "<tr>\n",
       "          <td></td>            <th>coef</th>     <th>std err</th>      <th>t</th>      <th>P>|t|</th> <th>[95.0% Conf. Int.]</th> \n",
       "</tr>\n",
       "<tr>\n",
       "  <th>const</th>            <td>    0.7279</td> <td>    0.010</td> <td>   73.688</td> <td> 0.000</td> <td>    0.709     0.747</td>\n",
       "</tr>\n",
       "<tr>\n",
       "  <th>Monthly.Income</th>   <td>-6.374e-07</td> <td> 1.34e-07</td> <td>   -4.741</td> <td> 0.000</td> <td>-9.01e-07 -3.74e-07</td>\n",
       "</tr>\n",
       "<tr>\n",
       "  <th>FICO.Score</th>       <td>   -0.0009</td> <td> 1.41e-05</td> <td>  -62.549</td> <td> 0.000</td> <td>   -0.001    -0.001</td>\n",
       "</tr>\n",
       "<tr>\n",
       "  <th>Amount.Requested</th> <td> 2.236e-06</td> <td>  6.8e-08</td> <td>   32.869</td> <td> 0.000</td> <td>  2.1e-06  2.37e-06</td>\n",
       "</tr>\n",
       "</table>\n",
       "<table class=\"simpletable\">\n",
       "<tr>\n",
       "  <th>Omnibus:</th>       <td>70.934</td> <th>  Durbin-Watson:     </th> <td>   1.976</td>\n",
       "</tr>\n",
       "<tr>\n",
       "  <th>Prob(Omnibus):</th> <td> 0.000</td> <th>  Jarque-Bera (JB):  </th> <td>  79.339</td>\n",
       "</tr>\n",
       "<tr>\n",
       "  <th>Skew:</th>          <td> 0.385</td> <th>  Prob(JB):          </th> <td>5.91e-18</td>\n",
       "</tr>\n",
       "<tr>\n",
       "  <th>Kurtosis:</th>      <td> 3.410</td> <th>  Cond. No.          </th> <td>3.19e+05</td>\n",
       "</tr>\n",
       "</table>"
      ],
      "text/plain": [
       "<class 'statsmodels.iolib.summary.Summary'>\n",
       "\"\"\"\n",
       "                            OLS Regression Results                            \n",
       "==============================================================================\n",
       "Dep. Variable:          Interest.Rate   R-squared:                       0.660\n",
       "Model:                            OLS   Adj. R-squared:                  0.659\n",
       "Method:                 Least Squares   F-statistic:                     1613.\n",
       "Date:                Tue, 20 Oct 2015   Prob (F-statistic):               0.00\n",
       "Time:                        16:53:48   Log-Likelihood:                 5734.3\n",
       "No. Observations:                2499   AIC:                        -1.146e+04\n",
       "Df Residuals:                    2495   BIC:                        -1.144e+04\n",
       "Df Model:                           3                                         \n",
       "Covariance Type:            nonrobust                                         \n",
       "====================================================================================\n",
       "                       coef    std err          t      P>|t|      [95.0% Conf. Int.]\n",
       "------------------------------------------------------------------------------------\n",
       "const                0.7279      0.010     73.688      0.000         0.709     0.747\n",
       "Monthly.Income   -6.374e-07   1.34e-07     -4.741      0.000     -9.01e-07 -3.74e-07\n",
       "FICO.Score          -0.0009   1.41e-05    -62.549      0.000        -0.001    -0.001\n",
       "Amount.Requested  2.236e-06    6.8e-08     32.869      0.000       2.1e-06  2.37e-06\n",
       "==============================================================================\n",
       "Omnibus:                       70.934   Durbin-Watson:                   1.976\n",
       "Prob(Omnibus):                  0.000   Jarque-Bera (JB):               79.339\n",
       "Skew:                           0.385   Prob(JB):                     5.91e-18\n",
       "Kurtosis:                       3.410   Cond. No.                     3.19e+05\n",
       "==============================================================================\n",
       "\n",
       "Warnings:\n",
       "[1] Standard Errors assume that the covariance matrix of the errors is correctly specified.\n",
       "[2] The condition number is large, 3.19e+05. This might indicate that there are\n",
       "strong multicollinearity or other numerical problems.\n",
       "\"\"\""
      ]
     },
     "execution_count": 30,
     "metadata": {},
     "output_type": "execute_result"
    }
   ],
   "source": [
    "InD = loanData1[['Monthly.Income', 'FICO.Score', 'Amount.Requested']] #independant variables\n",
    "DeP = loanData1['Interest.Rate'] #what we are trying to predict\n",
    "\n",
    "#create model:\n",
    "run2 = sm.add_constant(InD)\n",
    "model_run2 = sm.OLS(DeP,run2)\n",
    "run2_fitted = model_run2.fit()\n",
    "\n",
    "#show summary:\n",
    "result_run2 = run2_fitted.summary()\n",
    "result_run2"
   ]
  },
  {
   "cell_type": "code",
   "execution_count": 31,
   "metadata": {
    "collapsed": false
   },
   "outputs": [
    {
     "name": "stdout",
     "output_type": "stream",
     "text": [
      "const               7.279269e-01\n",
      "Monthly.Income     -6.374493e-07\n",
      "FICO.Score         -8.803163e-04\n",
      "Amount.Requested    2.235821e-06\n",
      "dtype: float64\n"
     ]
    }
   ],
   "source": [
    "#Get the fitted coefficients from the results:\n",
    "coeff_run2 = run2_fitted.params\n",
    "print coeff_run2"
   ]
  },
  {
   "cell_type": "markdown",
   "metadata": {},
   "source": [
    "## Repeat Model with Home Ownership Included; Method 2 Style with Column call for Clarity"
   ]
  },
  {
   "cell_type": "code",
   "execution_count": null,
   "metadata": {
    "collapsed": true
   },
   "outputs": [],
   "source": [
    "#need to replace values in Home.Ownership for this method to work correctly:\n",
    "loanData1 = loanData1.replace({'Home.Ownership':{'OWN':4,'MORTGAGE':3,'RENT':2, 'OTHER':1}})\n",
    "print loanData1.head(2)\n",
    "print loanData1.dtypes"
   ]
  },
  {
   "cell_type": "code",
   "execution_count": 32,
   "metadata": {
    "collapsed": false
   },
   "outputs": [
    {
     "data": {
      "text/html": [
       "<table class=\"simpletable\">\n",
       "<caption>OLS Regression Results</caption>\n",
       "<tr>\n",
       "  <th>Dep. Variable:</th>      <td>Interest.Rate</td>  <th>  R-squared:         </th>  <td>   0.660</td> \n",
       "</tr>\n",
       "<tr>\n",
       "  <th>Model:</th>                   <td>OLS</td>       <th>  Adj. R-squared:    </th>  <td>   0.659</td> \n",
       "</tr>\n",
       "<tr>\n",
       "  <th>Method:</th>             <td>Least Squares</td>  <th>  F-statistic:       </th>  <td>   1209.</td> \n",
       "</tr>\n",
       "<tr>\n",
       "  <th>Date:</th>             <td>Tue, 20 Oct 2015</td> <th>  Prob (F-statistic):</th>   <td>  0.00</td>  \n",
       "</tr>\n",
       "<tr>\n",
       "  <th>Time:</th>                 <td>16:54:07</td>     <th>  Log-Likelihood:    </th>  <td>  5734.5</td> \n",
       "</tr>\n",
       "<tr>\n",
       "  <th>No. Observations:</th>      <td>  2499</td>      <th>  AIC:               </th> <td>-1.146e+04</td>\n",
       "</tr>\n",
       "<tr>\n",
       "  <th>Df Residuals:</th>          <td>  2494</td>      <th>  BIC:               </th> <td>-1.143e+04</td>\n",
       "</tr>\n",
       "<tr>\n",
       "  <th>Df Model:</th>              <td>     4</td>      <th>                     </th>      <td> </td>    \n",
       "</tr>\n",
       "<tr>\n",
       "  <th>Covariance Type:</th>      <td>nonrobust</td>    <th>                     </th>      <td> </td>    \n",
       "</tr>\n",
       "</table>\n",
       "<table class=\"simpletable\">\n",
       "<tr>\n",
       "          <td></td>            <th>coef</th>     <th>std err</th>      <th>t</th>      <th>P>|t|</th> <th>[95.0% Conf. Int.]</th> \n",
       "</tr>\n",
       "<tr>\n",
       "  <th>const</th>            <td>    0.7283</td> <td>    0.010</td> <td>   73.472</td> <td> 0.000</td> <td>    0.709     0.748</td>\n",
       "</tr>\n",
       "<tr>\n",
       "  <th>Monthly.Income</th>   <td>-6.328e-07</td> <td> 1.35e-07</td> <td>   -4.693</td> <td> 0.000</td> <td>-8.97e-07 -3.68e-07</td>\n",
       "</tr>\n",
       "<tr>\n",
       "  <th>FICO.Score</th>       <td>   -0.0009</td> <td> 1.42e-05</td> <td>  -62.072</td> <td> 0.000</td> <td>   -0.001    -0.001</td>\n",
       "</tr>\n",
       "<tr>\n",
       "  <th>Amount.Requested</th> <td> 2.237e-06</td> <td> 6.81e-08</td> <td>   32.849</td> <td> 0.000</td> <td>  2.1e-06  2.37e-06</td>\n",
       "</tr>\n",
       "<tr>\n",
       "  <th>Home.Ownership</th>   <td>   -0.0004</td> <td>    0.001</td> <td>   -0.469</td> <td> 0.639</td> <td>   -0.002     0.001</td>\n",
       "</tr>\n",
       "</table>\n",
       "<table class=\"simpletable\">\n",
       "<tr>\n",
       "  <th>Omnibus:</th>       <td>70.634</td> <th>  Durbin-Watson:     </th> <td>   1.976</td>\n",
       "</tr>\n",
       "<tr>\n",
       "  <th>Prob(Omnibus):</th> <td> 0.000</td> <th>  Jarque-Bera (JB):  </th> <td>  78.964</td>\n",
       "</tr>\n",
       "<tr>\n",
       "  <th>Skew:</th>          <td> 0.384</td> <th>  Prob(JB):          </th> <td>7.13e-18</td>\n",
       "</tr>\n",
       "<tr>\n",
       "  <th>Kurtosis:</th>      <td> 3.409</td> <th>  Cond. No.          </th> <td>3.20e+05</td>\n",
       "</tr>\n",
       "</table>"
      ],
      "text/plain": [
       "<class 'statsmodels.iolib.summary.Summary'>\n",
       "\"\"\"\n",
       "                            OLS Regression Results                            \n",
       "==============================================================================\n",
       "Dep. Variable:          Interest.Rate   R-squared:                       0.660\n",
       "Model:                            OLS   Adj. R-squared:                  0.659\n",
       "Method:                 Least Squares   F-statistic:                     1209.\n",
       "Date:                Tue, 20 Oct 2015   Prob (F-statistic):               0.00\n",
       "Time:                        16:54:07   Log-Likelihood:                 5734.5\n",
       "No. Observations:                2499   AIC:                        -1.146e+04\n",
       "Df Residuals:                    2494   BIC:                        -1.143e+04\n",
       "Df Model:                           4                                         \n",
       "Covariance Type:            nonrobust                                         \n",
       "====================================================================================\n",
       "                       coef    std err          t      P>|t|      [95.0% Conf. Int.]\n",
       "------------------------------------------------------------------------------------\n",
       "const                0.7283      0.010     73.472      0.000         0.709     0.748\n",
       "Monthly.Income   -6.328e-07   1.35e-07     -4.693      0.000     -8.97e-07 -3.68e-07\n",
       "FICO.Score          -0.0009   1.42e-05    -62.072      0.000        -0.001    -0.001\n",
       "Amount.Requested  2.237e-06   6.81e-08     32.849      0.000       2.1e-06  2.37e-06\n",
       "Home.Ownership      -0.0004      0.001     -0.469      0.639        -0.002     0.001\n",
       "==============================================================================\n",
       "Omnibus:                       70.634   Durbin-Watson:                   1.976\n",
       "Prob(Omnibus):                  0.000   Jarque-Bera (JB):               78.964\n",
       "Skew:                           0.384   Prob(JB):                     7.13e-18\n",
       "Kurtosis:                       3.409   Cond. No.                     3.20e+05\n",
       "==============================================================================\n",
       "\n",
       "Warnings:\n",
       "[1] Standard Errors assume that the covariance matrix of the errors is correctly specified.\n",
       "[2] The condition number is large, 3.2e+05. This might indicate that there are\n",
       "strong multicollinearity or other numerical problems.\n",
       "\"\"\""
      ]
     },
     "execution_count": 32,
     "metadata": {},
     "output_type": "execute_result"
    }
   ],
   "source": [
    "InD_home = loanData1[['Monthly.Income', 'FICO.Score', 'Amount.Requested','Home.Ownership']] #independant variables\n",
    "DeP_home = loanData1['Interest.Rate'] #what we are trying to predict\n",
    "\n",
    "#create model:\n",
    "run3 = sm.add_constant(InD_home)\n",
    "model_run3 = sm.OLS(DeP_home,run3)\n",
    "run3_fitted = model_run3.fit()\n",
    "\n",
    "#show summary:\n",
    "result_run3 = run3_fitted.summary()\n",
    "result_run3"
   ]
  },
  {
   "cell_type": "code",
   "execution_count": 33,
   "metadata": {
    "collapsed": false
   },
   "outputs": [
    {
     "name": "stdout",
     "output_type": "stream",
     "text": [
      "const               7.283037e-01\n",
      "Monthly.Income     -6.327522e-07\n",
      "FICO.Score         -8.795532e-04\n",
      "Amount.Requested    2.237332e-06\n",
      "Home.Ownership     -3.671133e-04\n",
      "dtype: float64\n"
     ]
    }
   ],
   "source": [
    "#Get the fitted coefficients from the results:\n",
    "coeff_run3 = run3_fitted.params\n",
    "print coeff_run3"
   ]
  },
  {
   "cell_type": "markdown",
   "metadata": {
    "collapsed": true
   },
   "source": [
    "## Test Models - Predict Interest Rates"
   ]
  },
  {
   "cell_type": "markdown",
   "metadata": {
    "collapsed": true
   },
   "source": [
    "Models built with the second method produce identical results and are clearer; so we'll use that style moving forward."
   ]
  },
  {
   "cell_type": "code",
   "execution_count": 34,
   "metadata": {
    "collapsed": false
   },
   "outputs": [
    {
     "data": {
      "text/html": [
       "<div>\n",
       "<table border=\"1\" class=\"dataframe\">\n",
       "  <thead>\n",
       "    <tr style=\"text-align: right;\">\n",
       "      <th></th>\n",
       "      <th>Interest.Rate</th>\n",
       "      <th>Monthly.Income</th>\n",
       "      <th>Home.Ownership</th>\n",
       "      <th>FICO.Score</th>\n",
       "      <th>Amount.Requested</th>\n",
       "    </tr>\n",
       "  </thead>\n",
       "  <tbody>\n",
       "    <tr>\n",
       "      <th>0</th>\n",
       "      <td>0.089</td>\n",
       "      <td>6541.67</td>\n",
       "      <td>3</td>\n",
       "      <td>735</td>\n",
       "      <td>20000</td>\n",
       "    </tr>\n",
       "    <tr>\n",
       "      <th>1</th>\n",
       "      <td>0.121</td>\n",
       "      <td>4583.33</td>\n",
       "      <td>3</td>\n",
       "      <td>715</td>\n",
       "      <td>19200</td>\n",
       "    </tr>\n",
       "  </tbody>\n",
       "</table>\n",
       "</div>"
      ],
      "text/plain": [
       "   Interest.Rate  Monthly.Income  Home.Ownership  FICO.Score  Amount.Requested\n",
       "0          0.089         6541.67               3         735             20000\n",
       "1          0.121         4583.33               3         715             19200"
      ]
     },
     "execution_count": 34,
     "metadata": {},
     "output_type": "execute_result"
    }
   ],
   "source": [
    "#recall dataset to use: \n",
    "loanData1.head(2)"
   ]
  },
  {
   "cell_type": "code",
   "execution_count": 35,
   "metadata": {
    "collapsed": false
   },
   "outputs": [
    {
     "name": "stdout",
     "output_type": "stream",
     "text": [
      "Model 1: Exclude Home Ownership\n",
      "const               7.279269e-01\n",
      "Monthly.Income     -6.374493e-07\n",
      "FICO.Score         -8.803163e-04\n",
      "Amount.Requested    2.235821e-06\n",
      "dtype: float64\n",
      "\n",
      "Model 2: Include Home Ownership\n",
      "const               7.283037e-01\n",
      "Monthly.Income     -6.327522e-07\n",
      "FICO.Score         -8.795532e-04\n",
      "Amount.Requested    2.237332e-06\n",
      "Home.Ownership     -3.671133e-04\n",
      "dtype: float64\n"
     ]
    }
   ],
   "source": [
    "#coefficients for the models\n",
    "print 'Model 1: Exclude Home Ownership'\n",
    "print coeff_run2\n",
    "print ''\n",
    "print 'Model 2: Include Home Ownership'\n",
    "print coeff_run3"
   ]
  },
  {
   "cell_type": "code",
   "execution_count": 38,
   "metadata": {
    "collapsed": false
   },
   "outputs": [
    {
     "data": {
      "text/html": [
       "<div>\n",
       "<table border=\"1\" class=\"dataframe\">\n",
       "  <thead>\n",
       "    <tr style=\"text-align: right;\">\n",
       "      <th></th>\n",
       "      <th>Interest.Rate</th>\n",
       "      <th>Monthly.Income</th>\n",
       "      <th>Home.Ownership</th>\n",
       "      <th>FICO.Score</th>\n",
       "      <th>Amount.Requested</th>\n",
       "      <th>Predicted.Int.EXCLUDE.Home</th>\n",
       "      <th>Predicted.Int.INCLUDE.Home</th>\n",
       "    </tr>\n",
       "  </thead>\n",
       "  <tbody>\n",
       "    <tr>\n",
       "      <th>0</th>\n",
       "      <td>0.089</td>\n",
       "      <td>6541.67</td>\n",
       "      <td>3</td>\n",
       "      <td>735</td>\n",
       "      <td>20000</td>\n",
       "      <td>0.121441</td>\n",
       "      <td>0.121338</td>\n",
       "    </tr>\n",
       "    <tr>\n",
       "      <th>1</th>\n",
       "      <td>0.121</td>\n",
       "      <td>4583.33</td>\n",
       "      <td>3</td>\n",
       "      <td>715</td>\n",
       "      <td>19200</td>\n",
       "      <td>0.138507</td>\n",
       "      <td>0.138378</td>\n",
       "    </tr>\n",
       "    <tr>\n",
       "      <th>2</th>\n",
       "      <td>0.220</td>\n",
       "      <td>11500.00</td>\n",
       "      <td>3</td>\n",
       "      <td>690</td>\n",
       "      <td>35000</td>\n",
       "      <td>0.191432</td>\n",
       "      <td>0.191341</td>\n",
       "    </tr>\n",
       "    <tr>\n",
       "      <th>3</th>\n",
       "      <td>0.100</td>\n",
       "      <td>3833.33</td>\n",
       "      <td>3</td>\n",
       "      <td>695</td>\n",
       "      <td>10000</td>\n",
       "      <td>0.136022</td>\n",
       "      <td>0.135861</td>\n",
       "    </tr>\n",
       "    <tr>\n",
       "      <th>4</th>\n",
       "      <td>0.117</td>\n",
       "      <td>3195.00</td>\n",
       "      <td>2</td>\n",
       "      <td>695</td>\n",
       "      <td>12000</td>\n",
       "      <td>0.140900</td>\n",
       "      <td>0.141106</td>\n",
       "    </tr>\n",
       "    <tr>\n",
       "      <th>5</th>\n",
       "      <td>0.153</td>\n",
       "      <td>4891.67</td>\n",
       "      <td>4</td>\n",
       "      <td>670</td>\n",
       "      <td>6000</td>\n",
       "      <td>0.148412</td>\n",
       "      <td>0.147863</td>\n",
       "    </tr>\n",
       "    <tr>\n",
       "      <th>6</th>\n",
       "      <td>0.079</td>\n",
       "      <td>2916.67</td>\n",
       "      <td>2</td>\n",
       "      <td>720</td>\n",
       "      <td>10000</td>\n",
       "      <td>0.114598</td>\n",
       "      <td>0.114819</td>\n",
       "    </tr>\n",
       "    <tr>\n",
       "      <th>7</th>\n",
       "      <td>0.171</td>\n",
       "      <td>13863.42</td>\n",
       "      <td>3</td>\n",
       "      <td>705</td>\n",
       "      <td>33500</td>\n",
       "      <td>0.173367</td>\n",
       "      <td>0.173296</td>\n",
       "    </tr>\n",
       "    <tr>\n",
       "      <th>8</th>\n",
       "      <td>0.143</td>\n",
       "      <td>3150.00</td>\n",
       "      <td>2</td>\n",
       "      <td>685</td>\n",
       "      <td>14675</td>\n",
       "      <td>0.155713</td>\n",
       "      <td>0.155915</td>\n",
       "    </tr>\n",
       "    <tr>\n",
       "      <th>9</th>\n",
       "      <td>0.069</td>\n",
       "      <td>5000.00</td>\n",
       "      <td>2</td>\n",
       "      <td>715</td>\n",
       "      <td>7000</td>\n",
       "      <td>0.110964</td>\n",
       "      <td>0.111186</td>\n",
       "    </tr>\n",
       "  </tbody>\n",
       "</table>\n",
       "</div>"
      ],
      "text/plain": [
       "   Interest.Rate  Monthly.Income  Home.Ownership  FICO.Score  \\\n",
       "0          0.089         6541.67               3         735   \n",
       "1          0.121         4583.33               3         715   \n",
       "2          0.220        11500.00               3         690   \n",
       "3          0.100         3833.33               3         695   \n",
       "4          0.117         3195.00               2         695   \n",
       "5          0.153         4891.67               4         670   \n",
       "6          0.079         2916.67               2         720   \n",
       "7          0.171        13863.42               3         705   \n",
       "8          0.143         3150.00               2         685   \n",
       "9          0.069         5000.00               2         715   \n",
       "\n",
       "   Amount.Requested  Predicted.Int.EXCLUDE.Home  Predicted.Int.INCLUDE.Home  \n",
       "0             20000                    0.121441                    0.121338  \n",
       "1             19200                    0.138507                    0.138378  \n",
       "2             35000                    0.191432                    0.191341  \n",
       "3             10000                    0.136022                    0.135861  \n",
       "4             12000                    0.140900                    0.141106  \n",
       "5              6000                    0.148412                    0.147863  \n",
       "6             10000                    0.114598                    0.114819  \n",
       "7             33500                    0.173367                    0.173296  \n",
       "8             14675                    0.155713                    0.155915  \n",
       "9              7000                    0.110964                    0.111186  "
      ]
     },
     "execution_count": 38,
     "metadata": {},
     "output_type": "execute_result"
    }
   ],
   "source": [
    "#Predict Interest Rates on our dataset:\n",
    "loanData1['Predicted.Int.EXCLUDE.Home'] = (coeff_run2[0] + (coeff_run2[1]*loanData1['Monthly.Income']) + \\\n",
    "                                                   (coeff_run2[2]*loanData1['FICO.Score']) + \\\n",
    "                                                   (coeff_run2[3]*loanData1['Amount.Requested']))\n",
    "\n",
    "loanData1['Predicted.Int.INCLUDE.Home'] = (coeff_run3[0] + (coeff_run3[1]*loanData1['Monthly.Income']) + \\\n",
    "                                                   (coeff_run3[2]*loanData1['FICO.Score']) + \\\n",
    "                                                   (coeff_run3[3]*loanData1['Amount.Requested']) + \\\n",
    "                                                   (coeff_run3[4]*loanData1['Home.Ownership'])) \n",
    "\n",
    "loanData1.head(10)"
   ]
  },
  {
   "cell_type": "code",
   "execution_count": 74,
   "metadata": {
    "collapsed": false
   },
   "outputs": [
    {
     "data": {
      "text/html": [
       "<div>\n",
       "<table border=\"1\" class=\"dataframe\">\n",
       "  <thead>\n",
       "    <tr style=\"text-align: right;\">\n",
       "      <th></th>\n",
       "      <th>Interest.Rate</th>\n",
       "      <th>Monthly.Income</th>\n",
       "      <th>Home.Ownership</th>\n",
       "      <th>FICO.Score</th>\n",
       "      <th>Amount.Requested</th>\n",
       "      <th>Predicted.Int.EXCLUDE.Home</th>\n",
       "      <th>Predicted.Int.INCLUDE.Home</th>\n",
       "      <th>excluded_diff</th>\n",
       "      <th>included_diff</th>\n",
       "      <th>excluded_diff_sq</th>\n",
       "      <th>included_diff_sq</th>\n",
       "    </tr>\n",
       "  </thead>\n",
       "  <tbody>\n",
       "    <tr>\n",
       "      <th>0</th>\n",
       "      <td>0.089</td>\n",
       "      <td>6541.67</td>\n",
       "      <td>3</td>\n",
       "      <td>735</td>\n",
       "      <td>20000</td>\n",
       "      <td>0.121441</td>\n",
       "      <td>0.121338</td>\n",
       "      <td>0.032441</td>\n",
       "      <td>0.032338</td>\n",
       "      <td>0.001052</td>\n",
       "      <td>0.001046</td>\n",
       "    </tr>\n",
       "    <tr>\n",
       "      <th>1</th>\n",
       "      <td>0.121</td>\n",
       "      <td>4583.33</td>\n",
       "      <td>3</td>\n",
       "      <td>715</td>\n",
       "      <td>19200</td>\n",
       "      <td>0.138507</td>\n",
       "      <td>0.138378</td>\n",
       "      <td>0.017507</td>\n",
       "      <td>0.017378</td>\n",
       "      <td>0.000306</td>\n",
       "      <td>0.000302</td>\n",
       "    </tr>\n",
       "    <tr>\n",
       "      <th>2</th>\n",
       "      <td>0.220</td>\n",
       "      <td>11500.00</td>\n",
       "      <td>3</td>\n",
       "      <td>690</td>\n",
       "      <td>35000</td>\n",
       "      <td>0.191432</td>\n",
       "      <td>0.191341</td>\n",
       "      <td>-0.028568</td>\n",
       "      <td>-0.028659</td>\n",
       "      <td>0.000816</td>\n",
       "      <td>0.000821</td>\n",
       "    </tr>\n",
       "    <tr>\n",
       "      <th>3</th>\n",
       "      <td>0.100</td>\n",
       "      <td>3833.33</td>\n",
       "      <td>3</td>\n",
       "      <td>695</td>\n",
       "      <td>10000</td>\n",
       "      <td>0.136022</td>\n",
       "      <td>0.135861</td>\n",
       "      <td>0.036022</td>\n",
       "      <td>0.035861</td>\n",
       "      <td>0.001298</td>\n",
       "      <td>0.001286</td>\n",
       "    </tr>\n",
       "    <tr>\n",
       "      <th>4</th>\n",
       "      <td>0.117</td>\n",
       "      <td>3195.00</td>\n",
       "      <td>2</td>\n",
       "      <td>695</td>\n",
       "      <td>12000</td>\n",
       "      <td>0.140900</td>\n",
       "      <td>0.141106</td>\n",
       "      <td>0.023900</td>\n",
       "      <td>0.024106</td>\n",
       "      <td>0.000571</td>\n",
       "      <td>0.000581</td>\n",
       "    </tr>\n",
       "    <tr>\n",
       "      <th>5</th>\n",
       "      <td>0.153</td>\n",
       "      <td>4891.67</td>\n",
       "      <td>4</td>\n",
       "      <td>670</td>\n",
       "      <td>6000</td>\n",
       "      <td>0.148412</td>\n",
       "      <td>0.147863</td>\n",
       "      <td>-0.004588</td>\n",
       "      <td>-0.005137</td>\n",
       "      <td>0.000021</td>\n",
       "      <td>0.000026</td>\n",
       "    </tr>\n",
       "    <tr>\n",
       "      <th>6</th>\n",
       "      <td>0.079</td>\n",
       "      <td>2916.67</td>\n",
       "      <td>2</td>\n",
       "      <td>720</td>\n",
       "      <td>10000</td>\n",
       "      <td>0.114598</td>\n",
       "      <td>0.114819</td>\n",
       "      <td>0.035598</td>\n",
       "      <td>0.035819</td>\n",
       "      <td>0.001267</td>\n",
       "      <td>0.001283</td>\n",
       "    </tr>\n",
       "    <tr>\n",
       "      <th>7</th>\n",
       "      <td>0.171</td>\n",
       "      <td>13863.42</td>\n",
       "      <td>3</td>\n",
       "      <td>705</td>\n",
       "      <td>33500</td>\n",
       "      <td>0.173367</td>\n",
       "      <td>0.173296</td>\n",
       "      <td>0.002367</td>\n",
       "      <td>0.002296</td>\n",
       "      <td>0.000006</td>\n",
       "      <td>0.000005</td>\n",
       "    </tr>\n",
       "    <tr>\n",
       "      <th>8</th>\n",
       "      <td>0.143</td>\n",
       "      <td>3150.00</td>\n",
       "      <td>2</td>\n",
       "      <td>685</td>\n",
       "      <td>14675</td>\n",
       "      <td>0.155713</td>\n",
       "      <td>0.155915</td>\n",
       "      <td>0.012713</td>\n",
       "      <td>0.012915</td>\n",
       "      <td>0.000162</td>\n",
       "      <td>0.000167</td>\n",
       "    </tr>\n",
       "    <tr>\n",
       "      <th>9</th>\n",
       "      <td>0.069</td>\n",
       "      <td>5000.00</td>\n",
       "      <td>2</td>\n",
       "      <td>715</td>\n",
       "      <td>7000</td>\n",
       "      <td>0.110964</td>\n",
       "      <td>0.111186</td>\n",
       "      <td>0.041964</td>\n",
       "      <td>0.042186</td>\n",
       "      <td>0.001761</td>\n",
       "      <td>0.001780</td>\n",
       "    </tr>\n",
       "  </tbody>\n",
       "</table>\n",
       "</div>"
      ],
      "text/plain": [
       "   Interest.Rate  Monthly.Income  Home.Ownership  FICO.Score  \\\n",
       "0          0.089         6541.67               3         735   \n",
       "1          0.121         4583.33               3         715   \n",
       "2          0.220        11500.00               3         690   \n",
       "3          0.100         3833.33               3         695   \n",
       "4          0.117         3195.00               2         695   \n",
       "5          0.153         4891.67               4         670   \n",
       "6          0.079         2916.67               2         720   \n",
       "7          0.171        13863.42               3         705   \n",
       "8          0.143         3150.00               2         685   \n",
       "9          0.069         5000.00               2         715   \n",
       "\n",
       "   Amount.Requested  Predicted.Int.EXCLUDE.Home  Predicted.Int.INCLUDE.Home  \\\n",
       "0             20000                    0.121441                    0.121338   \n",
       "1             19200                    0.138507                    0.138378   \n",
       "2             35000                    0.191432                    0.191341   \n",
       "3             10000                    0.136022                    0.135861   \n",
       "4             12000                    0.140900                    0.141106   \n",
       "5              6000                    0.148412                    0.147863   \n",
       "6             10000                    0.114598                    0.114819   \n",
       "7             33500                    0.173367                    0.173296   \n",
       "8             14675                    0.155713                    0.155915   \n",
       "9              7000                    0.110964                    0.111186   \n",
       "\n",
       "   excluded_diff  included_diff  excluded_diff_sq  included_diff_sq  \n",
       "0       0.032441       0.032338          0.001052          0.001046  \n",
       "1       0.017507       0.017378          0.000306          0.000302  \n",
       "2      -0.028568      -0.028659          0.000816          0.000821  \n",
       "3       0.036022       0.035861          0.001298          0.001286  \n",
       "4       0.023900       0.024106          0.000571          0.000581  \n",
       "5      -0.004588      -0.005137          0.000021          0.000026  \n",
       "6       0.035598       0.035819          0.001267          0.001283  \n",
       "7       0.002367       0.002296          0.000006          0.000005  \n",
       "8       0.012713       0.012915          0.000162          0.000167  \n",
       "9       0.041964       0.042186          0.001761          0.001780  "
      ]
     },
     "execution_count": 74,
     "metadata": {},
     "output_type": "execute_result"
    }
   ],
   "source": [
    "loanData1['excluded_diff_sq'] = (loanData1['Predicted.Int.EXCLUDE.Home'] - loanData1['Interest.Rate'])**2\n",
    "loanData1['included_diff_sq'] = (loanData1['Predicted.Int.INCLUDE.Home'] - loanData1['Interest.Rate'])**2\n",
    "\n",
    "loanData1.head(10)"
   ]
  },
  {
   "cell_type": "code",
   "execution_count": 75,
   "metadata": {
    "collapsed": false
   },
   "outputs": [
    {
     "name": "stdout",
     "output_type": "stream",
     "text": [
      "1.48655314319\n",
      "1.48642218939\n"
     ]
    }
   ],
   "source": [
    "print loanData1['excluded_diff_sq'].sum()\n",
    "print loanData1['included_diff_sq'].sum()"
   ]
  },
  {
   "cell_type": "markdown",
   "metadata": {},
   "source": [
    "From this perspective; including Home Ownership Status in the model adds nothing to the predcitive power. "
   ]
  },
  {
   "cell_type": "code",
   "execution_count": null,
   "metadata": {
    "collapsed": false
   },
   "outputs": [],
   "source": []
  },
  {
   "cell_type": "code",
   "execution_count": null,
   "metadata": {
    "collapsed": false
   },
   "outputs": [],
   "source": []
  },
  {
   "cell_type": "code",
   "execution_count": null,
   "metadata": {
    "collapsed": true
   },
   "outputs": [],
   "source": []
  }
 ],
 "metadata": {
  "kernelspec": {
   "display_name": "Python 2",
   "language": "python",
   "name": "python2"
  },
  "language_info": {
   "codemirror_mode": {
    "name": "ipython",
    "version": 2
   },
   "file_extension": ".py",
   "mimetype": "text/x-python",
   "name": "python",
   "nbconvert_exporter": "python",
   "pygments_lexer": "ipython2",
   "version": "2.7.10"
  }
 },
 "nbformat": 4,
 "nbformat_minor": 0
}
