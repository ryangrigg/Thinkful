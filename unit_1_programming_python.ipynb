{
 "cells": [
  {
   "cell_type": "markdown",
   "metadata": {},
   "source": [
    "##Admin"
   ]
  },
  {
   "cell_type": "code",
   "execution_count": 1,
   "metadata": {
    "collapsed": true
   },
   "outputs": [],
   "source": [
    "import pandas as pd\n",
    "import numpy as np\n",
    "from pandas import Series, DataFrame\n",
    "import scipy.stats as stats"
   ]
  },
  {
   "cell_type": "code",
   "execution_count": 2,
   "metadata": {
    "collapsed": true
   },
   "outputs": [],
   "source": [
    "pd.set_option('html', True)#sets the dataframe to include HTML code for visual perspective\n",
    "pd.set_option('max_columns', 5000) #max columns to show\n",
    "pd.set_option('max_rows', 300) #max rows to show\n",
    "pd.set_option('display.large_repr', 'info') #when data exceeds max rows / columns; a summary view is given\n",
    "pd.set_option('display.width', 100000) #set the width the notebook will display in characters\n",
    "pd.set_option('display.float_format', lambda x: '%.2f' % x)"
   ]
  },
  {
   "cell_type": "markdown",
   "metadata": {},
   "source": [
    "#### Lesson 1; Sub-Unit: Think Like A Coder"
   ]
  },
  {
   "cell_type": "code",
   "execution_count": 3,
   "metadata": {
    "collapsed": false
   },
   "outputs": [
    {
     "name": "stdout",
     "output_type": "stream",
     "text": [
      "Melting butter.\n",
      "Adding butter to the bowl.\n",
      "Adding sugar to the bowl.\n",
      "Mixing ['butter', 'sugar'].\n",
      "Mixing ['butter', 'sugar'].\n",
      "Mixing ['butter', 'sugar'].\n",
      "Adding eggs to the bowl.\n",
      "Adding vanilla to the bowl.\n",
      "Mixing ['butter', 'sugar', 'eggs', 'vanilla'].\n",
      "Adding cocoa to the bowl.\n",
      "Adding flour to the bowl.\n",
      "Mixing ['butter', 'sugar', 'eggs', 'vanilla', 'cocoa', 'flour'].\n",
      "Mixing ['butter', 'sugar', 'eggs', 'vanilla', 'cocoa', 'flour'].\n",
      "Mixing ['butter', 'sugar', 'eggs', 'vanilla', 'cocoa', 'flour'].\n",
      "Mixing ['butter', 'sugar', 'eggs', 'vanilla', 'cocoa', 'flour'].\n",
      "Baking ['butter', 'sugar', 'eggs', 'vanilla', 'cocoa', 'flour'] at 350.\n",
      "29 minutes of cooking remain\n",
      "Baking ['butter', 'sugar', 'eggs', 'vanilla', 'cocoa', 'flour'] at 350.\n",
      "28 minutes of cooking remain\n",
      "Baking ['butter', 'sugar', 'eggs', 'vanilla', 'cocoa', 'flour'] at 350.\n",
      "27 minutes of cooking remain\n",
      "Baking ['butter', 'sugar', 'eggs', 'vanilla', 'cocoa', 'flour'] at 350.\n",
      "26 minutes of cooking remain\n",
      "Baking ['butter', 'sugar', 'eggs', 'vanilla', 'cocoa', 'flour'] at 350.\n",
      "25 minutes of cooking remain\n",
      "Baking ['butter', 'sugar', 'eggs', 'vanilla', 'cocoa', 'flour'] at 350.\n",
      "24 minutes of cooking remain\n",
      "Baking ['butter', 'sugar', 'eggs', 'vanilla', 'cocoa', 'flour'] at 350.\n",
      "23 minutes of cooking remain\n",
      "Baking ['butter', 'sugar', 'eggs', 'vanilla', 'cocoa', 'flour'] at 350.\n",
      "22 minutes of cooking remain\n",
      "Baking ['butter', 'sugar', 'eggs', 'vanilla', 'cocoa', 'flour'] at 350.\n",
      "21 minutes of cooking remain\n",
      "Baking ['butter', 'sugar', 'eggs', 'vanilla', 'cocoa', 'flour'] at 350.\n",
      "20 minutes of cooking remain\n",
      "Baking ['butter', 'sugar', 'eggs', 'vanilla', 'cocoa', 'flour'] at 350.\n",
      "19 minutes of cooking remain\n",
      "Baking ['butter', 'sugar', 'eggs', 'vanilla', 'cocoa', 'flour'] at 350.\n",
      "18 minutes of cooking remain\n",
      "Baking ['butter', 'sugar', 'eggs', 'vanilla', 'cocoa', 'flour'] at 350.\n",
      "17 minutes of cooking remain\n",
      "Baking ['butter', 'sugar', 'eggs', 'vanilla', 'cocoa', 'flour'] at 350.\n",
      "16 minutes of cooking remain\n",
      "Baking ['butter', 'sugar', 'eggs', 'vanilla', 'cocoa', 'flour'] at 350.\n",
      "15 minutes of cooking remain\n",
      "Baking ['butter', 'sugar', 'eggs', 'vanilla', 'cocoa', 'flour'] at 350.\n",
      "14 minutes of cooking remain\n",
      "Baking ['butter', 'sugar', 'eggs', 'vanilla', 'cocoa', 'flour'] at 350.\n",
      "13 minutes of cooking remain\n",
      "Baking ['butter', 'sugar', 'eggs', 'vanilla', 'cocoa', 'flour'] at 350.\n",
      "12 minutes of cooking remain\n",
      "Baking ['butter', 'sugar', 'eggs', 'vanilla', 'cocoa', 'flour'] at 350.\n",
      "11 minutes of cooking remain\n",
      "Baking ['butter', 'sugar', 'eggs', 'vanilla', 'cocoa', 'flour'] at 350.\n",
      "10 minutes of cooking remain\n",
      "Baking ['butter', 'sugar', 'eggs', 'vanilla', 'cocoa', 'flour'] at 350.\n",
      "9 minutes of cooking remain\n",
      "Baking ['butter', 'sugar', 'eggs', 'vanilla', 'cocoa', 'flour'] at 350.\n",
      "8 minutes of cooking remain\n",
      "Baking ['butter', 'sugar', 'eggs', 'vanilla', 'cocoa', 'flour'] at 350.\n",
      "7 minutes of cooking remain\n",
      "Baking ['butter', 'sugar', 'eggs', 'vanilla', 'cocoa', 'flour'] at 350.\n",
      "6 minutes of cooking remain\n",
      "Baking ['butter', 'sugar', 'eggs', 'vanilla', 'cocoa', 'flour'] at 350.\n",
      "5 minutes of cooking remain\n",
      "Baking ['butter', 'sugar', 'eggs', 'vanilla', 'cocoa', 'flour'] at 350.\n",
      "4 minutes of cooking remain\n",
      "Baking ['butter', 'sugar', 'eggs', 'vanilla', 'cocoa', 'flour'] at 350.\n",
      "3 minutes of cooking remain\n",
      "Baking ['butter', 'sugar', 'eggs', 'vanilla', 'cocoa', 'flour'] at 350.\n",
      "2 minutes of cooking remain\n",
      "Baking ['butter', 'sugar', 'eggs', 'vanilla', 'cocoa', 'flour'] at 350.\n",
      "1 minutes of cooking remain\n",
      "Baking ['butter', 'sugar', 'eggs', 'vanilla', 'cocoa', 'flour'] at 350.\n",
      "0 minutes of cooking remain\n",
      "Cake is done!\n"
     ]
    }
   ],
   "source": [
    "# Ingredients are stored as a dictionary of tuples. Each tuple contains the name\n",
    "# of the ingredients and the amount in milliliters (unless otherwise specified)\n",
    "# Why a dictionary of tuples? Because it is kinda convenient, and shows off how to\n",
    "# combine multiple data structures.\n",
    "ingredients = {\n",
    "    \"butter\"  : (\"butter\", 118.3),\n",
    "    \"sugar\"   : (\"sugar\", 236.6),\n",
    "    \"vanilla\" : (\"vanilla\", 4.929),\n",
    "    \"eggs\"    : (\"eggs\", 2), # whole eggs\n",
    "    \"cocoa\"   : (\"cocoa\", 118.3),\n",
    "    \"flour\"   : (\"flour\", 118.3)\n",
    "}\n",
    "\n",
    "# The butter was refrigerated, so it's not soft yet.\n",
    "butter_soft = False\n",
    "\n",
    "bowl = [] #empty list where the ingredients will go to be mixed\n",
    "\n",
    "# To make the cake, we'll need the following functions\n",
    "def melt(this):\n",
    "    print(\"Melting {0}.\".format(this)) #take an ingredient (this) and 'melt' it\n",
    "\n",
    "def bake(this, temp):\n",
    "    print(\"Baking {0} at {1}.\".format(this, temp)) #takes ingredient and 'bakes' it at specified temp\n",
    "\n",
    "def mix(this):\n",
    "    print(\"Mixing {0}.\".format(this)) #mixes specific ingredient\n",
    "\n",
    "def add_to_bowl(ingredient):\n",
    "    print(\"Adding {0} to the bowl.\".format(ingredient)) #takes ingredient and 'adds' to bowl\n",
    "    return bowl.append(ingredient) #adds ingredient to empty bowl list\n",
    "\n",
    "\n",
    "##### Start the algorithm! #####\n",
    "\n",
    "if butter_soft != True: #if butter is not soft, then:\n",
    "    melt(ingredients[\"butter\"][0]) #run melt function that melt's the butter\n",
    "    butter_soft = True #butter is now soft\n",
    "\n",
    "add_to_bowl(ingredients[\"butter\"][0]) #add the butter to the bowl from the dictionary ingredients, calling key 'butter' and \n",
    "                                      #and taking the first value [0], in this case the word 'butter'\n",
    "add_to_bowl(ingredients[\"sugar\"][0]) #add the sugar to the bowl - same logic as above\n",
    "\n",
    "mixing_time = 0 #set current mix time to 0\n",
    "mixture_creamy = False #set current mixture creamy level to 'False'\n",
    "\n",
    "# Mix until creamy\n",
    "while mixture_creamy == False: #while the mixture is not creamy, do the following:\n",
    "    mix(bowl) #mix the ingredients that are currently in the bowl\n",
    "    mixing_time += 1 #add one minute to the mixing time total\n",
    "    if mixing_time == 3: #if the mixing time is equal to 3 minutes, then:\n",
    "        # After 3 minutes, the mixture will be creamy,\n",
    "        # and our while loop will stop\n",
    "        mixture_creamy = True #mixture is now creamy, this 'while' loop is complete\n",
    "\n",
    "add_to_bowl(ingredients[\"eggs\"][0]) #add eggs to bowl\n",
    "add_to_bowl(ingredients[\"vanilla\"][0]) #add vanilla to bowl\n",
    "\n",
    "mix(bowl) #mix the ingredients in the bowl again\n",
    "\n",
    "add_to_bowl(ingredients[\"cocoa\"][0]) #add cocoa to the bowl\n",
    "add_to_bowl(ingredients[\"flour\"][0]) #add flour to the bowl\n",
    "\n",
    "mixing_time = 0 #reset the mixing time to zero\n",
    "well_blended = False #set blend level to 'False'\n",
    "\n",
    "# Mix until well-blended\n",
    "while well_blended == False: #as long as the blend level is False, do the following:\n",
    "    mix(bowl) #mix the ingredients in the bowl\n",
    "    mixing_time += 1 #add one minute to the mixing time\n",
    "    if mixing_time == 4: #when mixing time = 4 minutes:\n",
    "        well_blended = True #change blend status to 'True', loop complete\n",
    "\n",
    "# In cooking terms: pour contents of the bowl into a cake pan\n",
    "# In Python terms: redefine the bowl variable as cake_pan\n",
    "cake_pan = bowl \n",
    "\n",
    "cooking_temp = 350 #set cook temp to 350\n",
    "cooking_time = 30 #set cook time to 30 minutes\n",
    "\n",
    "clock = 1 #set clock for cooking time to 0\n",
    "for minute in range(0, cooking_time): #for each minute during the cooking time, do the following:    \n",
    "    bake(cake_pan, cooking_temp) #run bake function with all ingredients in the new cake pan variable at the cook temp defined\n",
    "    print (cooking_time - clock), 'minutes of cooking remain'\n",
    "    clock += 1\n",
    "    \n",
    "print(\"Cake is done!\") #we are done - cake is cooked\n",
    "\n"
   ]
  },
  {
   "cell_type": "markdown",
   "metadata": {},
   "source": [
    "#### FizzBuzz Algorithm"
   ]
  },
  {
   "cell_type": "raw",
   "metadata": {},
   "source": [
    "It goes like this:\n",
    "Loop through all the integers from 1 to 100\n",
    "If the number is divisible by 3, print \"Fizz\"\n",
    "If the number is divisible by 5, print \"Buzz\"\n",
    "If the number is divisible by both, print \"FizzBuzz\"\n",
    "If the number is divisible by neither, print the number"
   ]
  },
  {
   "cell_type": "code",
   "execution_count": 4,
   "metadata": {
    "collapsed": false
   },
   "outputs": [],
   "source": [
    "def FizzBuzz(a,b):\n",
    "    for i in range(a,b):\n",
    "        if i % 3 == 0 and i % 5 == 0:\n",
    "            print 'FizzBuzz'\n",
    "        elif i % 3 == 0:\n",
    "            print 'Fizz'\n",
    "        elif i % 5 == 0:\n",
    "            print 'Buzz'\n",
    "        else:\n",
    "            print i"
   ]
  },
  {
   "cell_type": "code",
   "execution_count": 5,
   "metadata": {
    "collapsed": false
   },
   "outputs": [
    {
     "name": "stdout",
     "output_type": "stream",
     "text": [
      "1\n",
      "2\n",
      "Fizz\n",
      "4\n",
      "Buzz\n",
      "Fizz\n",
      "7\n",
      "8\n",
      "Fizz\n",
      "Buzz\n",
      "11\n",
      "Fizz\n",
      "13\n",
      "14\n",
      "FizzBuzz\n",
      "16\n",
      "17\n",
      "Fizz\n",
      "19\n",
      "Buzz\n",
      "Fizz\n",
      "22\n",
      "23\n",
      "Fizz\n",
      "Buzz\n",
      "26\n",
      "Fizz\n",
      "28\n",
      "29\n",
      "FizzBuzz\n",
      "31\n",
      "32\n",
      "Fizz\n",
      "34\n",
      "Buzz\n",
      "Fizz\n",
      "37\n",
      "38\n",
      "Fizz\n",
      "Buzz\n",
      "41\n",
      "Fizz\n",
      "43\n",
      "44\n",
      "FizzBuzz\n",
      "46\n",
      "47\n",
      "Fizz\n",
      "49\n",
      "Buzz\n",
      "Fizz\n",
      "52\n",
      "53\n",
      "Fizz\n",
      "Buzz\n",
      "56\n",
      "Fizz\n",
      "58\n",
      "59\n",
      "FizzBuzz\n",
      "61\n",
      "62\n",
      "Fizz\n",
      "64\n",
      "Buzz\n",
      "Fizz\n",
      "67\n",
      "68\n",
      "Fizz\n",
      "Buzz\n",
      "71\n",
      "Fizz\n",
      "73\n",
      "74\n",
      "FizzBuzz\n",
      "76\n",
      "77\n",
      "Fizz\n",
      "79\n",
      "Buzz\n",
      "Fizz\n",
      "82\n",
      "83\n",
      "Fizz\n",
      "Buzz\n",
      "86\n",
      "Fizz\n",
      "88\n",
      "89\n",
      "FizzBuzz\n",
      "91\n",
      "92\n",
      "Fizz\n",
      "94\n",
      "Buzz\n",
      "Fizz\n",
      "97\n",
      "98\n",
      "Fizz\n",
      "Buzz\n"
     ]
    }
   ],
   "source": [
    "FizzBuzz(1,101)"
   ]
  },
  {
   "cell_type": "markdown",
   "metadata": {
    "collapsed": true
   },
   "source": [
    "#### Opening up Land data file (reading and writing files in python)"
   ]
  },
  {
   "cell_type": "code",
   "execution_count": 7,
   "metadata": {
    "collapsed": false
   },
   "outputs": [
    {
     "data": {
      "text/plain": [
       "u'C:\\\\Users\\\\griggrj\\\\Desktop\\\\Thinkful'"
      ]
     },
     "execution_count": 7,
     "metadata": {},
     "output_type": "execute_result"
    }
   ],
   "source": [
    "pwd"
   ]
  },
  {
   "cell_type": "code",
   "execution_count": 9,
   "metadata": {
    "collapsed": false
   },
   "outputs": [
    {
     "name": "stdout",
     "output_type": "stream",
     "text": [
      "C:\\Users\\griggrj\\Desktop\\Thinkful\\land_data\n"
     ]
    }
   ],
   "source": [
    "cd C:\\\\Users\\\\griggrj\\\\Desktop\\\\Thinkful\\\\land_data"
   ]
  },
  {
   "cell_type": "code",
   "execution_count": 10,
   "metadata": {
    "collapsed": false
   },
   "outputs": [
    {
     "data": {
      "text/plain": [
       "u'C:\\\\Users\\\\griggrj\\\\Desktop\\\\Thinkful\\\\land_data'"
      ]
     },
     "execution_count": 10,
     "metadata": {},
     "output_type": "execute_result"
    }
   ],
   "source": [
    "pwd"
   ]
  },
  {
   "cell_type": "code",
   "execution_count": 16,
   "metadata": {
    "collapsed": false
   },
   "outputs": [
    {
     "data": {
      "text/html": [
       "<div style=\"max-height:1000px;max-width:1500px;overflow:auto;\">\n",
       "<table border=\"1\" class=\"dataframe\">\n",
       "  <thead>\n",
       "    <tr style=\"text-align: right;\">\n",
       "      <th></th>\n",
       "      <th>Continent</th>\n",
       "      <th>ElevationZone</th>\n",
       "      <th>UrbanRuralDesignation</th>\n",
       "      <th>Population1990</th>\n",
       "      <th>Population2000</th>\n",
       "      <th>Population2010</th>\n",
       "      <th>Population2100</th>\n",
       "      <th>LandArea</th>\n",
       "    </tr>\n",
       "  </thead>\n",
       "  <tbody>\n",
       "    <tr>\n",
       "      <th>115</th>\n",
       "      <td> South America</td>\n",
       "      <td> Elevations Less Than or Equal To 7m</td>\n",
       "      <td> Urban</td>\n",
       "      <td>   9357959</td>\n",
       "      <td>  11074365</td>\n",
       "      <td>  12771388</td>\n",
       "      <td>  21107053</td>\n",
       "      <td>    13236</td>\n",
       "    </tr>\n",
       "    <tr>\n",
       "      <th>116</th>\n",
       "      <td> South America</td>\n",
       "      <td> Elevations Less Than or Equal To 9m</td>\n",
       "      <td> Rural</td>\n",
       "      <td>   3373239</td>\n",
       "      <td>   3888725</td>\n",
       "      <td>   4267061</td>\n",
       "      <td>   8057467</td>\n",
       "      <td>   208002</td>\n",
       "    </tr>\n",
       "    <tr>\n",
       "      <th>117</th>\n",
       "      <td> South America</td>\n",
       "      <td> Elevations Less Than or Equal To 9m</td>\n",
       "      <td> Urban</td>\n",
       "      <td>  12822897</td>\n",
       "      <td>  15110534</td>\n",
       "      <td>  17402616</td>\n",
       "      <td>  28930098</td>\n",
       "      <td>    17430</td>\n",
       "    </tr>\n",
       "    <tr>\n",
       "      <th>118</th>\n",
       "      <td> South America</td>\n",
       "      <td>           Total National Population</td>\n",
       "      <td> Rural</td>\n",
       "      <td> 112350531</td>\n",
       "      <td> 127151325</td>\n",
       "      <td> 140056209</td>\n",
       "      <td> 239202641</td>\n",
       "      <td> 15711683</td>\n",
       "    </tr>\n",
       "    <tr>\n",
       "      <th>119</th>\n",
       "      <td> South America</td>\n",
       "      <td>           Total National Population</td>\n",
       "      <td> Urban</td>\n",
       "      <td> 173863402</td>\n",
       "      <td> 208463363</td>\n",
       "      <td> 239968353</td>\n",
       "      <td> 389584115</td>\n",
       "      <td>   306223</td>\n",
       "    </tr>\n",
       "  </tbody>\n",
       "</table>\n",
       "</div>"
      ],
      "text/plain": [
       "         Continent                        ElevationZone UrbanRuralDesignation  Population1990  Population2000  Population2010  Population2100  LandArea\n",
       "115  South America  Elevations Less Than or Equal To 7m                 Urban         9357959        11074365        12771388        21107053     13236\n",
       "116  South America  Elevations Less Than or Equal To 9m                 Rural         3373239         3888725         4267061         8057467    208002\n",
       "117  South America  Elevations Less Than or Equal To 9m                 Urban        12822897        15110534        17402616        28930098     17430\n",
       "118  South America            Total National Population                 Rural       112350531       127151325       140056209       239202641  15711683\n",
       "119  South America            Total National Population                 Urban       173863402       208463363       239968353       389584115    306223"
      ]
     },
     "execution_count": 16,
     "metadata": {},
     "output_type": "execute_result"
    }
   ],
   "source": [
    "land_data = pd.read_csv('lecz-urban-rural-population-land-area-estimates_continent-90m.csv')\n",
    "land_data.tail()"
   ]
  },
  {
   "cell_type": "code",
   "execution_count": 13,
   "metadata": {
    "collapsed": false
   },
   "outputs": [
    {
     "data": {
      "text/plain": [
       "Asia             20\n",
       "Africa           20\n",
       "North America    20\n",
       "Oceania          20\n",
       "South America    20\n",
       "Europe           20\n",
       "dtype: int64"
      ]
     },
     "execution_count": 13,
     "metadata": {},
     "output_type": "execute_result"
    }
   ],
   "source": [
    "land_data.Continent.value_counts()"
   ]
  },
  {
   "cell_type": "code",
   "execution_count": 17,
   "metadata": {
    "collapsed": false
   },
   "outputs": [
    {
     "data": {
      "text/html": [
       "<div style=\"max-height:1000px;max-width:1500px;overflow:auto;\">\n",
       "<table border=\"1\" class=\"dataframe\">\n",
       "  <thead>\n",
       "    <tr style=\"text-align: right;\">\n",
       "      <th></th>\n",
       "      <th>Continent</th>\n",
       "      <th>ElevationZone</th>\n",
       "      <th>UrbanRuralDesignation</th>\n",
       "      <th>Population1990</th>\n",
       "      <th>Population2000</th>\n",
       "      <th>Population2010</th>\n",
       "      <th>Population2100</th>\n",
       "      <th>LandArea</th>\n",
       "    </tr>\n",
       "  </thead>\n",
       "  <tbody>\n",
       "    <tr>\n",
       "      <th>18 </th>\n",
       "      <td>        Africa</td>\n",
       "      <td> Total National Population</td>\n",
       "      <td> Rural</td>\n",
       "      <td>  361093713</td>\n",
       "      <td>  452970623</td>\n",
       "      <td>  573918429</td>\n",
       "      <td> 1367949254</td>\n",
       "      <td> 24092338</td>\n",
       "    </tr>\n",
       "    <tr>\n",
       "      <th>19 </th>\n",
       "      <td>        Africa</td>\n",
       "      <td> Total National Population</td>\n",
       "      <td> Urban</td>\n",
       "      <td>  195412402</td>\n",
       "      <td>  258131640</td>\n",
       "      <td>  327611385</td>\n",
       "      <td>  649906552</td>\n",
       "      <td>   228175</td>\n",
       "    </tr>\n",
       "    <tr>\n",
       "      <th>38 </th>\n",
       "      <td>          Asia</td>\n",
       "      <td> Total National Population</td>\n",
       "      <td> Rural</td>\n",
       "      <td> 1979944334</td>\n",
       "      <td> 2129687281</td>\n",
       "      <td> 2345920129</td>\n",
       "      <td> 3478325610</td>\n",
       "      <td> 39648539</td>\n",
       "    </tr>\n",
       "    <tr>\n",
       "      <th>39 </th>\n",
       "      <td>          Asia</td>\n",
       "      <td> Total National Population</td>\n",
       "      <td> Urban</td>\n",
       "      <td> 1237986520</td>\n",
       "      <td> 1573156714</td>\n",
       "      <td> 1720930281</td>\n",
       "      <td> 2369159274</td>\n",
       "      <td>  1336611</td>\n",
       "    </tr>\n",
       "    <tr>\n",
       "      <th>49 </th>\n",
       "      <td>       Oceania</td>\n",
       "      <td> Total National Population</td>\n",
       "      <td> Rural</td>\n",
       "      <td>    9561292</td>\n",
       "      <td>   11471250</td>\n",
       "      <td>   14024049</td>\n",
       "      <td>   20681609</td>\n",
       "      <td>  8441651</td>\n",
       "    </tr>\n",
       "    <tr>\n",
       "      <th>59 </th>\n",
       "      <td>       Oceania</td>\n",
       "      <td> Total National Population</td>\n",
       "      <td> Urban</td>\n",
       "      <td>   17136649</td>\n",
       "      <td>   19451769</td>\n",
       "      <td>   23152802</td>\n",
       "      <td>   25224909</td>\n",
       "      <td>    50597</td>\n",
       "    </tr>\n",
       "    <tr>\n",
       "      <th>78 </th>\n",
       "      <td>        Europe</td>\n",
       "      <td> Total National Population</td>\n",
       "      <td> Rural</td>\n",
       "      <td>  176568570</td>\n",
       "      <td>  176558812</td>\n",
       "      <td>  223529720</td>\n",
       "      <td>  125348019</td>\n",
       "      <td>  4840266</td>\n",
       "    </tr>\n",
       "    <tr>\n",
       "      <th>79 </th>\n",
       "      <td>        Europe</td>\n",
       "      <td> Total National Population</td>\n",
       "      <td> Urban</td>\n",
       "      <td>  362783257</td>\n",
       "      <td>  371322835</td>\n",
       "      <td>  481254575</td>\n",
       "      <td>  317506277</td>\n",
       "      <td>   632478</td>\n",
       "    </tr>\n",
       "    <tr>\n",
       "      <th>98 </th>\n",
       "      <td> North America</td>\n",
       "      <td> Total National Population</td>\n",
       "      <td> Rural</td>\n",
       "      <td>  121730674</td>\n",
       "      <td>  138236608</td>\n",
       "      <td>  136724785</td>\n",
       "      <td>  271046607</td>\n",
       "      <td> 20387978</td>\n",
       "    </tr>\n",
       "    <tr>\n",
       "      <th>99 </th>\n",
       "      <td> North America</td>\n",
       "      <td> Total National Population</td>\n",
       "      <td> Urban</td>\n",
       "      <td>  307915785</td>\n",
       "      <td>  349752222</td>\n",
       "      <td>  368856952</td>\n",
       "      <td>  485864890</td>\n",
       "      <td>  1087642</td>\n",
       "    </tr>\n",
       "    <tr>\n",
       "      <th>118</th>\n",
       "      <td> South America</td>\n",
       "      <td> Total National Population</td>\n",
       "      <td> Rural</td>\n",
       "      <td>  112350531</td>\n",
       "      <td>  127151325</td>\n",
       "      <td>  140056209</td>\n",
       "      <td>  239202641</td>\n",
       "      <td> 15711683</td>\n",
       "    </tr>\n",
       "    <tr>\n",
       "      <th>119</th>\n",
       "      <td> South America</td>\n",
       "      <td> Total National Population</td>\n",
       "      <td> Urban</td>\n",
       "      <td>  173863402</td>\n",
       "      <td>  208463363</td>\n",
       "      <td>  239968353</td>\n",
       "      <td>  389584115</td>\n",
       "      <td>   306223</td>\n",
       "    </tr>\n",
       "  </tbody>\n",
       "</table>\n",
       "</div>"
      ],
      "text/plain": [
       "         Continent              ElevationZone UrbanRuralDesignation  Population1990  Population2000  Population2010  Population2100  LandArea\n",
       "18          Africa  Total National Population                 Rural       361093713       452970623       573918429      1367949254  24092338\n",
       "19          Africa  Total National Population                 Urban       195412402       258131640       327611385       649906552    228175\n",
       "38            Asia  Total National Population                 Rural      1979944334      2129687281      2345920129      3478325610  39648539\n",
       "39            Asia  Total National Population                 Urban      1237986520      1573156714      1720930281      2369159274   1336611\n",
       "49         Oceania  Total National Population                 Rural         9561292        11471250        14024049        20681609   8441651\n",
       "59         Oceania  Total National Population                 Urban        17136649        19451769        23152802        25224909     50597\n",
       "78          Europe  Total National Population                 Rural       176568570       176558812       223529720       125348019   4840266\n",
       "79          Europe  Total National Population                 Urban       362783257       371322835       481254575       317506277    632478\n",
       "98   North America  Total National Population                 Rural       121730674       138236608       136724785       271046607  20387978\n",
       "99   North America  Total National Population                 Urban       307915785       349752222       368856952       485864890   1087642\n",
       "118  South America  Total National Population                 Rural       112350531       127151325       140056209       239202641  15711683\n",
       "119  South America  Total National Population                 Urban       173863402       208463363       239968353       389584115    306223"
      ]
     },
     "execution_count": 17,
     "metadata": {},
     "output_type": "execute_result"
    }
   ],
   "source": [
    "land_data_totals = land_data[(land_data.ElevationZone == 'Total National Population')]\n",
    "land_data_totals"
   ]
  },
  {
   "cell_type": "code",
   "execution_count": 21,
   "metadata": {
    "collapsed": false
   },
   "outputs": [
    {
     "data": {
      "text/html": [
       "<div style=\"max-height:1000px;max-width:1500px;overflow:auto;\">\n",
       "<table border=\"1\" class=\"dataframe\">\n",
       "  <thead>\n",
       "    <tr style=\"text-align: right;\">\n",
       "      <th></th>\n",
       "      <th>Population2010</th>\n",
       "    </tr>\n",
       "    <tr>\n",
       "      <th>Continent</th>\n",
       "      <th></th>\n",
       "    </tr>\n",
       "  </thead>\n",
       "  <tbody>\n",
       "    <tr>\n",
       "      <th>Africa</th>\n",
       "      <td>  901529814</td>\n",
       "    </tr>\n",
       "    <tr>\n",
       "      <th>Asia</th>\n",
       "      <td> 4066850410</td>\n",
       "    </tr>\n",
       "    <tr>\n",
       "      <th>Europe</th>\n",
       "      <td>  704784295</td>\n",
       "    </tr>\n",
       "    <tr>\n",
       "      <th>North America</th>\n",
       "      <td>  505581737</td>\n",
       "    </tr>\n",
       "    <tr>\n",
       "      <th>Oceania</th>\n",
       "      <td>   37176851</td>\n",
       "    </tr>\n",
       "    <tr>\n",
       "      <th>South America</th>\n",
       "      <td>  380024562</td>\n",
       "    </tr>\n",
       "  </tbody>\n",
       "</table>\n",
       "</div>"
      ],
      "text/plain": [
       "               Population2010\n",
       "Continent                    \n",
       "Africa              901529814\n",
       "Asia               4066850410\n",
       "Europe              704784295\n",
       "North America       505581737\n",
       "Oceania              37176851\n",
       "South America       380024562"
      ]
     },
     "execution_count": 21,
     "metadata": {},
     "output_type": "execute_result"
    }
   ],
   "source": [
    "total_population = land_data_totals.pivot_table(values='Population2010',index='Continent', aggfunc=sum)\n",
    "total_population = pd.DataFrame(total_population)\n",
    "total_population"
   ]
  },
  {
   "cell_type": "code",
   "execution_count": null,
   "metadata": {
    "collapsed": true
   },
   "outputs": [],
   "source": []
  }
 ],
 "metadata": {
  "kernelspec": {
   "display_name": "Python 2",
   "language": "python",
   "name": "python2"
  },
  "language_info": {
   "codemirror_mode": {
    "name": "ipython",
    "version": 2
   },
   "file_extension": ".py",
   "mimetype": "text/x-python",
   "name": "python",
   "nbconvert_exporter": "python",
   "pygments_lexer": "ipython2",
   "version": "2.7.6"
  }
 },
 "nbformat": 4,
 "nbformat_minor": 0
}
