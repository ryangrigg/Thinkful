{
 "cells": [
  {
   "cell_type": "code",
   "execution_count": 28,
   "metadata": {
    "collapsed": true
   },
   "outputs": [],
   "source": [
    "import pandas as pd\n",
    "import numpy as np \n",
    "import statsmodels.api as sm\n",
    "np.set_printoptions(suppress=True) #suppress scientific notation for easier reading"
   ]
  },
  {
   "cell_type": "code",
   "execution_count": 2,
   "metadata": {
    "collapsed": false
   },
   "outputs": [
    {
     "data": {
      "text/html": [
       "<div>\n",
       "<table border=\"1\" class=\"dataframe\">\n",
       "  <thead>\n",
       "    <tr style=\"text-align: right;\">\n",
       "      <th></th>\n",
       "      <th>Amount.Requested</th>\n",
       "      <th>Amount.Funded.By.Investors</th>\n",
       "      <th>Interest.Rate</th>\n",
       "      <th>Loan.Length</th>\n",
       "      <th>Loan.Purpose</th>\n",
       "      <th>Debt.To.Income.Ratio</th>\n",
       "      <th>State</th>\n",
       "      <th>Home.Ownership</th>\n",
       "      <th>Monthly.Income</th>\n",
       "      <th>FICO.Range</th>\n",
       "      <th>Open.CREDIT.Lines</th>\n",
       "      <th>Revolving.CREDIT.Balance</th>\n",
       "      <th>Inquiries.in.the.Last.6.Months</th>\n",
       "      <th>Employment.Length</th>\n",
       "    </tr>\n",
       "  </thead>\n",
       "  <tbody>\n",
       "    <tr>\n",
       "      <th>81174</th>\n",
       "      <td>20000</td>\n",
       "      <td>20000</td>\n",
       "      <td>8.90%</td>\n",
       "      <td>36 months</td>\n",
       "      <td>debt_consolidation</td>\n",
       "      <td>14.90%</td>\n",
       "      <td>SC</td>\n",
       "      <td>MORTGAGE</td>\n",
       "      <td>6541.67</td>\n",
       "      <td>735-739</td>\n",
       "      <td>14</td>\n",
       "      <td>14272</td>\n",
       "      <td>2</td>\n",
       "      <td>&lt; 1 year</td>\n",
       "    </tr>\n",
       "    <tr>\n",
       "      <th>99592</th>\n",
       "      <td>19200</td>\n",
       "      <td>19200</td>\n",
       "      <td>12.12%</td>\n",
       "      <td>36 months</td>\n",
       "      <td>debt_consolidation</td>\n",
       "      <td>28.36%</td>\n",
       "      <td>TX</td>\n",
       "      <td>MORTGAGE</td>\n",
       "      <td>4583.33</td>\n",
       "      <td>715-719</td>\n",
       "      <td>12</td>\n",
       "      <td>11140</td>\n",
       "      <td>1</td>\n",
       "      <td>2 years</td>\n",
       "    </tr>\n",
       "    <tr>\n",
       "      <th>80059</th>\n",
       "      <td>35000</td>\n",
       "      <td>35000</td>\n",
       "      <td>21.98%</td>\n",
       "      <td>60 months</td>\n",
       "      <td>debt_consolidation</td>\n",
       "      <td>23.81%</td>\n",
       "      <td>CA</td>\n",
       "      <td>MORTGAGE</td>\n",
       "      <td>11500.00</td>\n",
       "      <td>690-694</td>\n",
       "      <td>14</td>\n",
       "      <td>21977</td>\n",
       "      <td>1</td>\n",
       "      <td>2 years</td>\n",
       "    </tr>\n",
       "    <tr>\n",
       "      <th>15825</th>\n",
       "      <td>10000</td>\n",
       "      <td>9975</td>\n",
       "      <td>9.99%</td>\n",
       "      <td>36 months</td>\n",
       "      <td>debt_consolidation</td>\n",
       "      <td>14.30%</td>\n",
       "      <td>KS</td>\n",
       "      <td>MORTGAGE</td>\n",
       "      <td>3833.33</td>\n",
       "      <td>695-699</td>\n",
       "      <td>10</td>\n",
       "      <td>9346</td>\n",
       "      <td>0</td>\n",
       "      <td>5 years</td>\n",
       "    </tr>\n",
       "    <tr>\n",
       "      <th>33182</th>\n",
       "      <td>12000</td>\n",
       "      <td>12000</td>\n",
       "      <td>11.71%</td>\n",
       "      <td>36 months</td>\n",
       "      <td>credit_card</td>\n",
       "      <td>18.78%</td>\n",
       "      <td>NJ</td>\n",
       "      <td>RENT</td>\n",
       "      <td>3195.00</td>\n",
       "      <td>695-699</td>\n",
       "      <td>11</td>\n",
       "      <td>14469</td>\n",
       "      <td>0</td>\n",
       "      <td>9 years</td>\n",
       "    </tr>\n",
       "  </tbody>\n",
       "</table>\n",
       "</div>"
      ],
      "text/plain": [
       "       Amount.Requested  Amount.Funded.By.Investors Interest.Rate Loan.Length  \\\n",
       "81174             20000                       20000         8.90%   36 months   \n",
       "99592             19200                       19200        12.12%   36 months   \n",
       "80059             35000                       35000        21.98%   60 months   \n",
       "15825             10000                        9975         9.99%   36 months   \n",
       "33182             12000                       12000        11.71%   36 months   \n",
       "\n",
       "             Loan.Purpose Debt.To.Income.Ratio State Home.Ownership  \\\n",
       "81174  debt_consolidation               14.90%    SC       MORTGAGE   \n",
       "99592  debt_consolidation               28.36%    TX       MORTGAGE   \n",
       "80059  debt_consolidation               23.81%    CA       MORTGAGE   \n",
       "15825  debt_consolidation               14.30%    KS       MORTGAGE   \n",
       "33182         credit_card               18.78%    NJ           RENT   \n",
       "\n",
       "       Monthly.Income FICO.Range  Open.CREDIT.Lines  Revolving.CREDIT.Balance  \\\n",
       "81174         6541.67    735-739                 14                     14272   \n",
       "99592         4583.33    715-719                 12                     11140   \n",
       "80059        11500.00    690-694                 14                     21977   \n",
       "15825         3833.33    695-699                 10                      9346   \n",
       "33182         3195.00    695-699                 11                     14469   \n",
       "\n",
       "       Inquiries.in.the.Last.6.Months Employment.Length  \n",
       "81174                               2          < 1 year  \n",
       "99592                               1           2 years  \n",
       "80059                               1           2 years  \n",
       "15825                               0           5 years  \n",
       "33182                               0           9 years  "
      ]
     },
     "execution_count": 2,
     "metadata": {},
     "output_type": "execute_result"
    }
   ],
   "source": [
    "##### Same as before we did for linear regression\n",
    "loansData = pd.read_csv('https://spark-public.s3.amazonaws.com/dataanalysis/loansData.csv')\n",
    "loansData.head()"
   ]
  },
  {
   "cell_type": "code",
   "execution_count": 3,
   "metadata": {
    "collapsed": false
   },
   "outputs": [
    {
     "name": "stdout",
     "output_type": "stream",
     "text": [
      "31016250\n",
      "14216639.37\n"
     ]
    }
   ],
   "source": [
    "print loansData['Amount.Requested'].sum()\n",
    "print loansData['Monthly.Income'].sum()"
   ]
  },
  {
   "cell_type": "code",
   "execution_count": 4,
   "metadata": {
    "collapsed": false
   },
   "outputs": [
    {
     "data": {
      "text/html": [
       "<div>\n",
       "<table border=\"1\" class=\"dataframe\">\n",
       "  <thead>\n",
       "    <tr style=\"text-align: right;\">\n",
       "      <th></th>\n",
       "      <th>Interest.Rate</th>\n",
       "      <th>Monthly.Income</th>\n",
       "      <th>Home.Ownership</th>\n",
       "      <th>FICO.Range</th>\n",
       "      <th>Amount.Requested</th>\n",
       "    </tr>\n",
       "  </thead>\n",
       "  <tbody>\n",
       "    <tr>\n",
       "      <th>81174</th>\n",
       "      <td>8.90%</td>\n",
       "      <td>6541.67</td>\n",
       "      <td>MORTGAGE</td>\n",
       "      <td>735-739</td>\n",
       "      <td>20000</td>\n",
       "    </tr>\n",
       "    <tr>\n",
       "      <th>99592</th>\n",
       "      <td>12.12%</td>\n",
       "      <td>4583.33</td>\n",
       "      <td>MORTGAGE</td>\n",
       "      <td>715-719</td>\n",
       "      <td>19200</td>\n",
       "    </tr>\n",
       "    <tr>\n",
       "      <th>80059</th>\n",
       "      <td>21.98%</td>\n",
       "      <td>11500.00</td>\n",
       "      <td>MORTGAGE</td>\n",
       "      <td>690-694</td>\n",
       "      <td>35000</td>\n",
       "    </tr>\n",
       "    <tr>\n",
       "      <th>15825</th>\n",
       "      <td>9.99%</td>\n",
       "      <td>3833.33</td>\n",
       "      <td>MORTGAGE</td>\n",
       "      <td>695-699</td>\n",
       "      <td>10000</td>\n",
       "    </tr>\n",
       "    <tr>\n",
       "      <th>33182</th>\n",
       "      <td>11.71%</td>\n",
       "      <td>3195.00</td>\n",
       "      <td>RENT</td>\n",
       "      <td>695-699</td>\n",
       "      <td>12000</td>\n",
       "    </tr>\n",
       "  </tbody>\n",
       "</table>\n",
       "</div>"
      ],
      "text/plain": [
       "      Interest.Rate  Monthly.Income Home.Ownership FICO.Range  \\\n",
       "81174         8.90%         6541.67       MORTGAGE    735-739   \n",
       "99592        12.12%         4583.33       MORTGAGE    715-719   \n",
       "80059        21.98%        11500.00       MORTGAGE    690-694   \n",
       "15825         9.99%         3833.33       MORTGAGE    695-699   \n",
       "33182        11.71%         3195.00           RENT    695-699   \n",
       "\n",
       "       Amount.Requested  \n",
       "81174             20000  \n",
       "99592             19200  \n",
       "80059             35000  \n",
       "15825             10000  \n",
       "33182             12000  "
      ]
     },
     "execution_count": 4,
     "metadata": {},
     "output_type": "execute_result"
    }
   ],
   "source": [
    "#take only the columns we are interested in (annual_inc, int_rate, home_ownership)\n",
    "loansData = loansData.loc[:,('Interest.Rate', 'Monthly.Income', 'Home.Ownership','FICO.Range','Amount.Requested')]\n",
    "loansData.head()"
   ]
  },
  {
   "cell_type": "code",
   "execution_count": 5,
   "metadata": {
    "collapsed": false
   },
   "outputs": [
    {
     "data": {
      "text/html": [
       "<div>\n",
       "<table border=\"1\" class=\"dataframe\">\n",
       "  <thead>\n",
       "    <tr style=\"text-align: right;\">\n",
       "      <th></th>\n",
       "      <th>Interest.Rate</th>\n",
       "      <th>Monthly.Income</th>\n",
       "      <th>Home.Ownership</th>\n",
       "      <th>Amount.Requested</th>\n",
       "      <th>FICO.Score</th>\n",
       "    </tr>\n",
       "  </thead>\n",
       "  <tbody>\n",
       "    <tr>\n",
       "      <th>81174</th>\n",
       "      <td>0.089</td>\n",
       "      <td>6541.67</td>\n",
       "      <td>MORTGAGE</td>\n",
       "      <td>20000</td>\n",
       "      <td>735</td>\n",
       "    </tr>\n",
       "    <tr>\n",
       "      <th>99592</th>\n",
       "      <td>0.121</td>\n",
       "      <td>4583.33</td>\n",
       "      <td>MORTGAGE</td>\n",
       "      <td>19200</td>\n",
       "      <td>715</td>\n",
       "    </tr>\n",
       "    <tr>\n",
       "      <th>80059</th>\n",
       "      <td>0.220</td>\n",
       "      <td>11500.00</td>\n",
       "      <td>MORTGAGE</td>\n",
       "      <td>35000</td>\n",
       "      <td>690</td>\n",
       "    </tr>\n",
       "    <tr>\n",
       "      <th>15825</th>\n",
       "      <td>0.100</td>\n",
       "      <td>3833.33</td>\n",
       "      <td>MORTGAGE</td>\n",
       "      <td>10000</td>\n",
       "      <td>695</td>\n",
       "    </tr>\n",
       "    <tr>\n",
       "      <th>33182</th>\n",
       "      <td>0.117</td>\n",
       "      <td>3195.00</td>\n",
       "      <td>RENT</td>\n",
       "      <td>12000</td>\n",
       "      <td>695</td>\n",
       "    </tr>\n",
       "  </tbody>\n",
       "</table>\n",
       "</div>"
      ],
      "text/plain": [
       "       Interest.Rate  Monthly.Income Home.Ownership  Amount.Requested  \\\n",
       "81174          0.089         6541.67       MORTGAGE             20000   \n",
       "99592          0.121         4583.33       MORTGAGE             19200   \n",
       "80059          0.220        11500.00       MORTGAGE             35000   \n",
       "15825          0.100         3833.33       MORTGAGE             10000   \n",
       "33182          0.117         3195.00           RENT             12000   \n",
       "\n",
       "       FICO.Score  \n",
       "81174         735  \n",
       "99592         715  \n",
       "80059         690  \n",
       "15825         695  \n",
       "33182         695  "
      ]
     },
     "execution_count": 5,
     "metadata": {},
     "output_type": "execute_result"
    }
   ],
   "source": [
    "#cleaning up the columns for modelling:\n",
    "loansData['Interest.Rate'] = loansData['Interest.Rate'].map(lambda x: round(float(x.rstrip('%'))/100, 3))\n",
    "#loansData['Interest.Rate'] = loansData['Interest.Rate'].map(lambda x: x.rstrip('%'))\n",
    "#loansData['Interest.Rate'] = loansData['Interest.Rate'].astype(float)\n",
    "loansData['FICO.Score'] = loansData['FICO.Range'].map(lambda x: int(x[:3]))\n",
    "loansData.drop('FICO.Range', axis=1, inplace=True)\n",
    "loansData.head()"
   ]
  },
  {
   "cell_type": "code",
   "execution_count": 6,
   "metadata": {
    "collapsed": false
   },
   "outputs": [
    {
     "data": {
      "text/plain": [
       "Interest.Rate       float64\n",
       "Monthly.Income      float64\n",
       "Home.Ownership       object\n",
       "Amount.Requested      int64\n",
       "FICO.Score            int64\n",
       "dtype: object"
      ]
     },
     "execution_count": 6,
     "metadata": {},
     "output_type": "execute_result"
    }
   ],
   "source": [
    "loansData.dtypes"
   ]
  },
  {
   "cell_type": "code",
   "execution_count": 7,
   "metadata": {
    "collapsed": false
   },
   "outputs": [
    {
     "name": "stdout",
     "output_type": "stream",
     "text": [
      "326.629\n"
     ]
    }
   ],
   "source": [
    "print loansData['Interest.Rate'].sum()"
   ]
  },
  {
   "cell_type": "code",
   "execution_count": 8,
   "metadata": {
    "collapsed": false
   },
   "outputs": [
    {
     "name": "stdout",
     "output_type": "stream",
     "text": [
      "Before\n",
      "Interest.Rate       0\n",
      "Monthly.Income      1\n",
      "Home.Ownership      0\n",
      "Amount.Requested    0\n",
      "FICO.Score          0\n",
      "dtype: int64\n",
      "\n",
      "After\n",
      "Interest.Rate       0\n",
      "Monthly.Income      0\n",
      "Home.Ownership      0\n",
      "Amount.Requested    0\n",
      "FICO.Score          0\n",
      "dtype: int64\n"
     ]
    }
   ],
   "source": [
    "#any nan values to clean?\n",
    "print 'Before' \n",
    "print loansData.isnull().sum()\n",
    "\n",
    "#drop any NAN values:\n",
    "loansData = loansData.dropna()\n",
    "\n",
    "#confirmed dropped\n",
    "print ''\n",
    "print 'After'\n",
    "print loansData.isnull().sum()"
   ]
  },
  {
   "cell_type": "code",
   "execution_count": 11,
   "metadata": {
    "collapsed": false
   },
   "outputs": [
    {
     "name": "stdout",
     "output_type": "stream",
     "text": [
      "81174    0.089\n",
      "99592    0.121\n",
      "80059    0.220\n",
      "15825    0.100\n",
      "33182    0.117\n",
      "Name: Interest.Rate, dtype: float64\n",
      "<class 'pandas.core.series.Series'>\n",
      "\n",
      "81174    20000\n",
      "99592    19200\n",
      "80059    35000\n",
      "15825    10000\n",
      "33182    12000\n",
      "Name: Amount.Requested, dtype: int64\n",
      "<class 'pandas.core.series.Series'>\n",
      "\n",
      "81174    735\n",
      "99592    715\n",
      "80059    690\n",
      "15825    695\n",
      "33182    695\n",
      "Name: FICO.Score, dtype: int64\n",
      "<class 'pandas.core.series.Series'>\n",
      "\n",
      "81174     6541.67\n",
      "99592     4583.33\n",
      "80059    11500.00\n",
      "15825     3833.33\n",
      "33182     3195.00\n",
      "Name: Monthly.Income, dtype: float64\n",
      "<class 'pandas.core.series.Series'>\n"
     ]
    }
   ],
   "source": [
    "##### Now the logistic part; create series for each variable:\n",
    "intrate = loansData['Interest.Rate']\n",
    "#intrate[np.isnan(intrate)] = 0\n",
    "loanamt = loansData['Amount.Requested']\n",
    "#loanamt[np.isnan(loanamt)] = 0\n",
    "fico = loansData['FICO.Score']\n",
    "#fico[np.isnan(fico)] = 0\n",
    "monthly_income = loansData['Monthly.Income']\n",
    "#monthly_income[np.isnan(monthly_income)] = 0\n",
    "\n",
    "print intrate[:5]\n",
    "print type(intrate)\n",
    "print ''\n",
    "print loanamt[:5]\n",
    "print type(loanamt)\n",
    "print ''\n",
    "print fico[:5]\n",
    "print type(fico)\n",
    "print ''\n",
    "print monthly_income[:5]\n",
    "print type(monthly_income)\n"
   ]
  },
  {
   "cell_type": "code",
   "execution_count": 12,
   "metadata": {
    "collapsed": false
   },
   "outputs": [
    {
     "name": "stdout",
     "output_type": "stream",
     "text": [
      "[3, 3, 3, 3, 2]\n",
      "<type 'list'>\n"
     ]
    }
   ],
   "source": [
    "## Home Status is not a value, so you need to convert it and weigh them based on their importance\n",
    "house_ownership = loansData['Home.Ownership']\n",
    "house_ownership = [4 if x == 'OWN' else 3 if x == 'MORTGAGE' else 2 if x == 'RENT' else 1 if x == 'OTHER' \\\n",
    "                   else 0 for x in house_ownership]\n",
    "\n",
    "print house_ownership[:5]\n",
    "print type(house_ownership)"
   ]
  },
  {
   "cell_type": "code",
   "execution_count": 15,
   "metadata": {
    "collapsed": false
   },
   "outputs": [
    {
     "name": "stdout",
     "output_type": "stream",
     "text": [
      "[[ 0.089]\n",
      " [ 0.121]\n",
      " [ 0.22 ]\n",
      " [ 0.1  ]\n",
      " [ 0.117]]\n",
      "<class 'numpy.matrixlib.defmatrix.matrix'>\n"
     ]
    }
   ],
   "source": [
    "# The dependent variable\n",
    "IntRate = np.matrix(intrate).transpose()\n",
    "print IntRate[:5]\n",
    "print type(IntRate)"
   ]
  },
  {
   "cell_type": "code",
   "execution_count": 16,
   "metadata": {
    "collapsed": false
   },
   "outputs": [
    {
     "data": {
      "text/plain": [
       "matrix([[ 326.555]])"
      ]
     },
     "execution_count": 16,
     "metadata": {},
     "output_type": "execute_result"
    }
   ],
   "source": [
    "sum(IntRate)"
   ]
  },
  {
   "cell_type": "code",
   "execution_count": 17,
   "metadata": {
    "collapsed": false
   },
   "outputs": [
    {
     "name": "stdout",
     "output_type": "stream",
     "text": [
      "[[735]\n",
      " [715]\n",
      " [690]\n",
      " [695]\n",
      " [695]]\n",
      "[[1763920]]\n",
      "\n",
      "[[20000]\n",
      " [19200]\n",
      " [35000]\n",
      " [10000]\n",
      " [12000]]\n",
      "[[31011250]]\n",
      "\n",
      "[[  6541.67]\n",
      " [  4583.33]\n",
      " [ 11500.  ]\n",
      " [  3833.33]\n",
      " [  3195.  ]]\n",
      "[[ 14216639.37]]\n",
      "\n",
      "[[3]\n",
      " [3]\n",
      " [3]\n",
      " [3]\n",
      " [2]]\n",
      "[[6541]]\n",
      "\n"
     ]
    }
   ],
   "source": [
    "# The independent variables shaped as columns\n",
    "FICO = np.matrix(fico).transpose()\n",
    "print FICO[:5]\n",
    "print sum(FICO)\n",
    "print ''\n",
    "LoanAmount = np.matrix(loanamt).transpose()\n",
    "print LoanAmount[:5]\n",
    "print sum(LoanAmount)\n",
    "print ''\n",
    "MonInc = np.matrix(monthly_income).transpose()\n",
    "print MonInc[:5]\n",
    "print sum(MonInc)\n",
    "print ''\n",
    "HomeStatus = np.matrix(house_ownership).transpose()\n",
    "print HomeStatus[:5]\n",
    "print sum(HomeStatus)\n",
    "print ''"
   ]
  },
  {
   "cell_type": "code",
   "execution_count": 20,
   "metadata": {
    "collapsed": false
   },
   "outputs": [
    {
     "name": "stdout",
     "output_type": "stream",
     "text": [
      "[[   735.    20000.     6541.67]\n",
      " [   715.    19200.     4583.33]\n",
      " [   690.    35000.    11500.  ]\n",
      " [   695.    10000.     3833.33]\n",
      " [   695.    12000.     3195.  ]]\n",
      "[[  1763920.    31011250.    14216639.37]]\n"
     ]
    }
   ],
   "source": [
    "#Stack the Variables we want to use for the model:\n",
    "#leave out home status in first run\n",
    "stacked_run1 = np.column_stack([FICO,LoanAmount,MonInc])\n",
    "print stacked_run1[:5]\n",
    "print ''\n",
    "print sum(stacked_run1)"
   ]
  },
  {
   "cell_type": "code",
   "execution_count": 21,
   "metadata": {
    "collapsed": false
   },
   "outputs": [
    {
     "data": {
      "text/html": [
       "<table class=\"simpletable\">\n",
       "<caption>OLS Regression Results</caption>\n",
       "<tr>\n",
       "  <th>Dep. Variable:</th>            <td>y</td>        <th>  R-squared:         </th>  <td>   0.660</td> \n",
       "</tr>\n",
       "<tr>\n",
       "  <th>Model:</th>                   <td>OLS</td>       <th>  Adj. R-squared:    </th>  <td>   0.659</td> \n",
       "</tr>\n",
       "<tr>\n",
       "  <th>Method:</th>             <td>Least Squares</td>  <th>  F-statistic:       </th>  <td>   1613.</td> \n",
       "</tr>\n",
       "<tr>\n",
       "  <th>Date:</th>             <td>Tue, 20 Oct 2015</td> <th>  Prob (F-statistic):</th>   <td>  0.00</td>  \n",
       "</tr>\n",
       "<tr>\n",
       "  <th>Time:</th>                 <td>15:24:08</td>     <th>  Log-Likelihood:    </th>  <td>  5734.3</td> \n",
       "</tr>\n",
       "<tr>\n",
       "  <th>No. Observations:</th>      <td>  2499</td>      <th>  AIC:               </th> <td>-1.146e+04</td>\n",
       "</tr>\n",
       "<tr>\n",
       "  <th>Df Residuals:</th>          <td>  2495</td>      <th>  BIC:               </th> <td>-1.144e+04</td>\n",
       "</tr>\n",
       "<tr>\n",
       "  <th>Df Model:</th>              <td>     3</td>      <th>                     </th>      <td> </td>    \n",
       "</tr>\n",
       "<tr>\n",
       "  <th>Covariance Type:</th>      <td>nonrobust</td>    <th>                     </th>      <td> </td>    \n",
       "</tr>\n",
       "</table>\n",
       "<table class=\"simpletable\">\n",
       "<tr>\n",
       "    <td></td>       <th>coef</th>     <th>std err</th>      <th>t</th>      <th>P>|t|</th> <th>[95.0% Conf. Int.]</th> \n",
       "</tr>\n",
       "<tr>\n",
       "  <th>const</th> <td>    0.7279</td> <td>    0.010</td> <td>   73.688</td> <td> 0.000</td> <td>    0.709     0.747</td>\n",
       "</tr>\n",
       "<tr>\n",
       "  <th>x1</th>    <td>   -0.0009</td> <td> 1.41e-05</td> <td>  -62.549</td> <td> 0.000</td> <td>   -0.001    -0.001</td>\n",
       "</tr>\n",
       "<tr>\n",
       "  <th>x2</th>    <td> 2.236e-06</td> <td>  6.8e-08</td> <td>   32.869</td> <td> 0.000</td> <td>  2.1e-06  2.37e-06</td>\n",
       "</tr>\n",
       "<tr>\n",
       "  <th>x3</th>    <td>-6.374e-07</td> <td> 1.34e-07</td> <td>   -4.741</td> <td> 0.000</td> <td>-9.01e-07 -3.74e-07</td>\n",
       "</tr>\n",
       "</table>\n",
       "<table class=\"simpletable\">\n",
       "<tr>\n",
       "  <th>Omnibus:</th>       <td>70.934</td> <th>  Durbin-Watson:     </th> <td>   1.976</td>\n",
       "</tr>\n",
       "<tr>\n",
       "  <th>Prob(Omnibus):</th> <td> 0.000</td> <th>  Jarque-Bera (JB):  </th> <td>  79.339</td>\n",
       "</tr>\n",
       "<tr>\n",
       "  <th>Skew:</th>          <td> 0.385</td> <th>  Prob(JB):          </th> <td>5.91e-18</td>\n",
       "</tr>\n",
       "<tr>\n",
       "  <th>Kurtosis:</th>      <td> 3.410</td> <th>  Cond. No.          </th> <td>3.19e+05</td>\n",
       "</tr>\n",
       "</table>"
      ],
      "text/plain": [
       "<class 'statsmodels.iolib.summary.Summary'>\n",
       "\"\"\"\n",
       "                            OLS Regression Results                            \n",
       "==============================================================================\n",
       "Dep. Variable:                      y   R-squared:                       0.660\n",
       "Model:                            OLS   Adj. R-squared:                  0.659\n",
       "Method:                 Least Squares   F-statistic:                     1613.\n",
       "Date:                Tue, 20 Oct 2015   Prob (F-statistic):               0.00\n",
       "Time:                        15:24:08   Log-Likelihood:                 5734.3\n",
       "No. Observations:                2499   AIC:                        -1.146e+04\n",
       "Df Residuals:                    2495   BIC:                        -1.144e+04\n",
       "Df Model:                           3                                         \n",
       "Covariance Type:            nonrobust                                         \n",
       "==============================================================================\n",
       "                 coef    std err          t      P>|t|      [95.0% Conf. Int.]\n",
       "------------------------------------------------------------------------------\n",
       "const          0.7279      0.010     73.688      0.000         0.709     0.747\n",
       "x1            -0.0009   1.41e-05    -62.549      0.000        -0.001    -0.001\n",
       "x2          2.236e-06    6.8e-08     32.869      0.000       2.1e-06  2.37e-06\n",
       "x3         -6.374e-07   1.34e-07     -4.741      0.000     -9.01e-07 -3.74e-07\n",
       "==============================================================================\n",
       "Omnibus:                       70.934   Durbin-Watson:                   1.976\n",
       "Prob(Omnibus):                  0.000   Jarque-Bera (JB):               79.339\n",
       "Skew:                           0.385   Prob(JB):                     5.91e-18\n",
       "Kurtosis:                       3.410   Cond. No.                     3.19e+05\n",
       "==============================================================================\n",
       "\n",
       "Warnings:\n",
       "[1] Standard Errors assume that the covariance matrix of the errors is correctly specified.\n",
       "[2] The condition number is large, 3.19e+05. This might indicate that there are\n",
       "strong multicollinearity or other numerical problems.\n",
       "\"\"\""
      ]
     },
     "execution_count": 21,
     "metadata": {},
     "output_type": "execute_result"
    }
   ],
   "source": [
    "#create model:\n",
    "run1 = sm.add_constant(stacked_run1)\n",
    "model_run1 = sm.OLS(IntRate,run1)\n",
    "run1_fitted = model_run1.fit()\n",
    "\n",
    "#show summary:\n",
    "result_run1 = run1_fitted.summary()\n",
    "result_run1"
   ]
  },
  {
   "cell_type": "code",
   "execution_count": 24,
   "metadata": {
    "collapsed": false
   },
   "outputs": [
    {
     "name": "stdout",
     "output_type": "stream",
     "text": [
      "[ 0.72792692 -0.00088032  0.00000224 -0.00000064]\n"
     ]
    }
   ],
   "source": [
    "#Get the fitted coefficients from the results:\n",
    "coeff_run1 = run1_fitted.params\n",
    "print coeff_run1"
   ]
  },
  {
   "cell_type": "code",
   "execution_count": 26,
   "metadata": {
    "collapsed": false
   },
   "outputs": [
    {
     "name": "stdout",
     "output_type": "stream",
     "text": [
      "Coefficients:  [ 0.72792692 -0.00088032]\n",
      "Intercept:  2.23582087715e-06\n",
      "P-Values:  [ 0.          0.          0.          0.00000224]\n",
      "R-Squared:  0.659807170928\n"
     ]
    }
   ],
   "source": [
    "print 'Coefficients: ', run1_fitted.params[0:2]\n",
    "print 'Intercept: ', run1_fitted.params[2]\n",
    "print 'P-Values: ', run1_fitted.pvalues\n",
    "print 'R-Squared: ', run1_fitted.rsquared"
   ]
  },
  {
   "cell_type": "code",
   "execution_count": null,
   "metadata": {
    "collapsed": true
   },
   "outputs": [],
   "source": []
  },
  {
   "cell_type": "markdown",
   "metadata": {},
   "source": [
    "## Using Equation to Predict Interest Rates (Model Testing Phase)"
   ]
  },
  {
   "cell_type": "code",
   "execution_count": 25,
   "metadata": {
    "collapsed": false
   },
   "outputs": [
    {
     "data": {
      "text/html": [
       "<div>\n",
       "<table border=\"1\" class=\"dataframe\">\n",
       "  <thead>\n",
       "    <tr style=\"text-align: right;\">\n",
       "      <th></th>\n",
       "      <th>Interest.Rate</th>\n",
       "      <th>Monthly.Income</th>\n",
       "      <th>Home.Ownership</th>\n",
       "      <th>Amount.Requested</th>\n",
       "      <th>FICO.Score</th>\n",
       "    </tr>\n",
       "  </thead>\n",
       "  <tbody>\n",
       "    <tr>\n",
       "      <th>81174</th>\n",
       "      <td>0.089</td>\n",
       "      <td>6541.67</td>\n",
       "      <td>MORTGAGE</td>\n",
       "      <td>20000</td>\n",
       "      <td>735</td>\n",
       "    </tr>\n",
       "    <tr>\n",
       "      <th>99592</th>\n",
       "      <td>0.121</td>\n",
       "      <td>4583.33</td>\n",
       "      <td>MORTGAGE</td>\n",
       "      <td>19200</td>\n",
       "      <td>715</td>\n",
       "    </tr>\n",
       "    <tr>\n",
       "      <th>80059</th>\n",
       "      <td>0.220</td>\n",
       "      <td>11500.00</td>\n",
       "      <td>MORTGAGE</td>\n",
       "      <td>35000</td>\n",
       "      <td>690</td>\n",
       "    </tr>\n",
       "    <tr>\n",
       "      <th>15825</th>\n",
       "      <td>0.100</td>\n",
       "      <td>3833.33</td>\n",
       "      <td>MORTGAGE</td>\n",
       "      <td>10000</td>\n",
       "      <td>695</td>\n",
       "    </tr>\n",
       "    <tr>\n",
       "      <th>33182</th>\n",
       "      <td>0.117</td>\n",
       "      <td>3195.00</td>\n",
       "      <td>RENT</td>\n",
       "      <td>12000</td>\n",
       "      <td>695</td>\n",
       "    </tr>\n",
       "  </tbody>\n",
       "</table>\n",
       "</div>"
      ],
      "text/plain": [
       "       Interest.Rate  Monthly.Income Home.Ownership  Amount.Requested  \\\n",
       "81174          0.089         6541.67       MORTGAGE             20000   \n",
       "99592          0.121         4583.33       MORTGAGE             19200   \n",
       "80059          0.220        11500.00       MORTGAGE             35000   \n",
       "15825          0.100         3833.33       MORTGAGE             10000   \n",
       "33182          0.117         3195.00           RENT             12000   \n",
       "\n",
       "       FICO.Score  \n",
       "81174         735  \n",
       "99592         715  \n",
       "80059         690  \n",
       "15825         695  \n",
       "33182         695  "
      ]
     },
     "execution_count": 25,
     "metadata": {},
     "output_type": "execute_result"
    }
   ],
   "source": [
    "#recall data: \n",
    "loansData.head()"
   ]
  },
  {
   "cell_type": "code",
   "execution_count": 29,
   "metadata": {
    "collapsed": false
   },
   "outputs": [
    {
     "name": "stdout",
     "output_type": "stream",
     "text": [
      "0.727926922642\n",
      "-0.000880316336608\n",
      "2.23582087715e-06\n",
      "-6.37449340405e-07\n"
     ]
    }
   ],
   "source": [
    "print coeff_run1[0]\n",
    "print coeff_run1[1]\n",
    "print coeff_run1[2]\n",
    "print coeff_run1[3]"
   ]
  },
  {
   "cell_type": "code",
   "execution_count": 30,
   "metadata": {
    "collapsed": false
   },
   "outputs": [
    {
     "data": {
      "text/plain": [
       "0.12144084955145877"
      ]
     },
     "execution_count": 30,
     "metadata": {},
     "output_type": "execute_result"
    }
   ],
   "source": [
    "test_case = coeff_run1[0] + (coeff_run1[1]*735) + (coeff_run1[2]*20000) + (coeff_run1[3]*6541.67)\n",
    "test_case"
   ]
  },
  {
   "cell_type": "code",
   "execution_count": 31,
   "metadata": {
    "collapsed": false
   },
   "outputs": [
    {
     "data": {
      "text/html": [
       "<div>\n",
       "<table border=\"1\" class=\"dataframe\">\n",
       "  <thead>\n",
       "    <tr style=\"text-align: right;\">\n",
       "      <th></th>\n",
       "      <th>Interest.Rate</th>\n",
       "      <th>Monthly.Income</th>\n",
       "      <th>Home.Ownership</th>\n",
       "      <th>Amount.Requested</th>\n",
       "      <th>FICO.Score</th>\n",
       "    </tr>\n",
       "  </thead>\n",
       "  <tbody>\n",
       "    <tr>\n",
       "      <th>81174</th>\n",
       "      <td>0.089</td>\n",
       "      <td>6541.67</td>\n",
       "      <td>MORTGAGE</td>\n",
       "      <td>20000</td>\n",
       "      <td>735</td>\n",
       "    </tr>\n",
       "    <tr>\n",
       "      <th>99592</th>\n",
       "      <td>0.121</td>\n",
       "      <td>4583.33</td>\n",
       "      <td>MORTGAGE</td>\n",
       "      <td>19200</td>\n",
       "      <td>715</td>\n",
       "    </tr>\n",
       "    <tr>\n",
       "      <th>80059</th>\n",
       "      <td>0.220</td>\n",
       "      <td>11500.00</td>\n",
       "      <td>MORTGAGE</td>\n",
       "      <td>35000</td>\n",
       "      <td>690</td>\n",
       "    </tr>\n",
       "    <tr>\n",
       "      <th>15825</th>\n",
       "      <td>0.100</td>\n",
       "      <td>3833.33</td>\n",
       "      <td>MORTGAGE</td>\n",
       "      <td>10000</td>\n",
       "      <td>695</td>\n",
       "    </tr>\n",
       "    <tr>\n",
       "      <th>33182</th>\n",
       "      <td>0.117</td>\n",
       "      <td>3195.00</td>\n",
       "      <td>RENT</td>\n",
       "      <td>12000</td>\n",
       "      <td>695</td>\n",
       "    </tr>\n",
       "  </tbody>\n",
       "</table>\n",
       "</div>"
      ],
      "text/plain": [
       "       Interest.Rate  Monthly.Income Home.Ownership  Amount.Requested  \\\n",
       "81174          0.089         6541.67       MORTGAGE             20000   \n",
       "99592          0.121         4583.33       MORTGAGE             19200   \n",
       "80059          0.220        11500.00       MORTGAGE             35000   \n",
       "15825          0.100         3833.33       MORTGAGE             10000   \n",
       "33182          0.117         3195.00           RENT             12000   \n",
       "\n",
       "       FICO.Score  \n",
       "81174         735  \n",
       "99592         715  \n",
       "80059         690  \n",
       "15825         695  \n",
       "33182         695  "
      ]
     },
     "execution_count": 31,
     "metadata": {},
     "output_type": "execute_result"
    }
   ],
   "source": [
    "test_copy = loansData.copy(deep=True)\n",
    "test_copy.head()"
   ]
  },
  {
   "cell_type": "code",
   "execution_count": 37,
   "metadata": {
    "collapsed": false
   },
   "outputs": [],
   "source": [
    "test_copy['predicted_int_rate'] = (coeff_run1[0] + (coeff_run1[1]*test_copy['FICO.Score']) + \\\n",
    "                                                   (coeff_run1[2]*test_copy['Amount.Requested']) + \\\n",
    "                                                   (coeff_run1[3]*test_copy['Monthly.Income']))"
   ]
  },
  {
   "cell_type": "code",
   "execution_count": 38,
   "metadata": {
    "collapsed": false,
    "scrolled": true
   },
   "outputs": [
    {
     "data": {
      "text/html": [
       "<div>\n",
       "<table border=\"1\" class=\"dataframe\">\n",
       "  <thead>\n",
       "    <tr style=\"text-align: right;\">\n",
       "      <th></th>\n",
       "      <th>Interest.Rate</th>\n",
       "      <th>Monthly.Income</th>\n",
       "      <th>Home.Ownership</th>\n",
       "      <th>Amount.Requested</th>\n",
       "      <th>FICO.Score</th>\n",
       "      <th>predicted_int_rate</th>\n",
       "    </tr>\n",
       "  </thead>\n",
       "  <tbody>\n",
       "    <tr>\n",
       "      <th>81174</th>\n",
       "      <td>0.089</td>\n",
       "      <td>6541.67</td>\n",
       "      <td>MORTGAGE</td>\n",
       "      <td>20000</td>\n",
       "      <td>735</td>\n",
       "      <td>0.121441</td>\n",
       "    </tr>\n",
       "    <tr>\n",
       "      <th>99592</th>\n",
       "      <td>0.121</td>\n",
       "      <td>4583.33</td>\n",
       "      <td>MORTGAGE</td>\n",
       "      <td>19200</td>\n",
       "      <td>715</td>\n",
       "      <td>0.138507</td>\n",
       "    </tr>\n",
       "    <tr>\n",
       "      <th>80059</th>\n",
       "      <td>0.220</td>\n",
       "      <td>11500.00</td>\n",
       "      <td>MORTGAGE</td>\n",
       "      <td>35000</td>\n",
       "      <td>690</td>\n",
       "      <td>0.191432</td>\n",
       "    </tr>\n",
       "    <tr>\n",
       "      <th>15825</th>\n",
       "      <td>0.100</td>\n",
       "      <td>3833.33</td>\n",
       "      <td>MORTGAGE</td>\n",
       "      <td>10000</td>\n",
       "      <td>695</td>\n",
       "      <td>0.136022</td>\n",
       "    </tr>\n",
       "    <tr>\n",
       "      <th>33182</th>\n",
       "      <td>0.117</td>\n",
       "      <td>3195.00</td>\n",
       "      <td>RENT</td>\n",
       "      <td>12000</td>\n",
       "      <td>695</td>\n",
       "      <td>0.140900</td>\n",
       "    </tr>\n",
       "    <tr>\n",
       "      <th>62403</th>\n",
       "      <td>0.153</td>\n",
       "      <td>4891.67</td>\n",
       "      <td>OWN</td>\n",
       "      <td>6000</td>\n",
       "      <td>670</td>\n",
       "      <td>0.148412</td>\n",
       "    </tr>\n",
       "    <tr>\n",
       "      <th>48808</th>\n",
       "      <td>0.079</td>\n",
       "      <td>2916.67</td>\n",
       "      <td>RENT</td>\n",
       "      <td>10000</td>\n",
       "      <td>720</td>\n",
       "      <td>0.114598</td>\n",
       "    </tr>\n",
       "    <tr>\n",
       "      <th>22090</th>\n",
       "      <td>0.171</td>\n",
       "      <td>13863.42</td>\n",
       "      <td>MORTGAGE</td>\n",
       "      <td>33500</td>\n",
       "      <td>705</td>\n",
       "      <td>0.173367</td>\n",
       "    </tr>\n",
       "    <tr>\n",
       "      <th>76404</th>\n",
       "      <td>0.143</td>\n",
       "      <td>3150.00</td>\n",
       "      <td>RENT</td>\n",
       "      <td>14675</td>\n",
       "      <td>685</td>\n",
       "      <td>0.155713</td>\n",
       "    </tr>\n",
       "    <tr>\n",
       "      <th>15867</th>\n",
       "      <td>0.069</td>\n",
       "      <td>5000.00</td>\n",
       "      <td>RENT</td>\n",
       "      <td>7000</td>\n",
       "      <td>715</td>\n",
       "      <td>0.110964</td>\n",
       "    </tr>\n",
       "  </tbody>\n",
       "</table>\n",
       "</div>"
      ],
      "text/plain": [
       "       Interest.Rate  Monthly.Income Home.Ownership  Amount.Requested  \\\n",
       "81174          0.089         6541.67       MORTGAGE             20000   \n",
       "99592          0.121         4583.33       MORTGAGE             19200   \n",
       "80059          0.220        11500.00       MORTGAGE             35000   \n",
       "15825          0.100         3833.33       MORTGAGE             10000   \n",
       "33182          0.117         3195.00           RENT             12000   \n",
       "62403          0.153         4891.67            OWN              6000   \n",
       "48808          0.079         2916.67           RENT             10000   \n",
       "22090          0.171        13863.42       MORTGAGE             33500   \n",
       "76404          0.143         3150.00           RENT             14675   \n",
       "15867          0.069         5000.00           RENT              7000   \n",
       "\n",
       "       FICO.Score  predicted_int_rate  \n",
       "81174         735            0.121441  \n",
       "99592         715            0.138507  \n",
       "80059         690            0.191432  \n",
       "15825         695            0.136022  \n",
       "33182         695            0.140900  \n",
       "62403         670            0.148412  \n",
       "48808         720            0.114598  \n",
       "22090         705            0.173367  \n",
       "76404         685            0.155713  \n",
       "15867         715            0.110964  "
      ]
     },
     "execution_count": 38,
     "metadata": {},
     "output_type": "execute_result"
    }
   ],
   "source": [
    "test_copy.head(10)"
   ]
  },
  {
   "cell_type": "code",
   "execution_count": null,
   "metadata": {
    "collapsed": true
   },
   "outputs": [],
   "source": []
  }
 ],
 "metadata": {
  "kernelspec": {
   "display_name": "Python 2",
   "language": "python",
   "name": "python2"
  },
  "language_info": {
   "codemirror_mode": {
    "name": "ipython",
    "version": 2
   },
   "file_extension": ".py",
   "mimetype": "text/x-python",
   "name": "python",
   "nbconvert_exporter": "python",
   "pygments_lexer": "ipython2",
   "version": "2.7.6"
  }
 },
 "nbformat": 4,
 "nbformat_minor": 0
}
