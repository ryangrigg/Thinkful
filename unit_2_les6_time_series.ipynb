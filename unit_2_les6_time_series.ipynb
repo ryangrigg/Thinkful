{
 "cells": [
  {
   "cell_type": "code",
   "execution_count": 1,
   "metadata": {
    "collapsed": true
   },
   "outputs": [],
   "source": [
    "import pandas as pd\n",
    "import statsmodels.api as sm\n",
    "import statsmodels.formula.api as smf #needed for models in this script\n",
    "import pylab as pl\n",
    "import matplotlib.pyplot as plt\n",
    "import numpy as np\n",
    "from scipy import stats"
   ]
  },
  {
   "cell_type": "code",
   "execution_count": 2,
   "metadata": {
    "collapsed": true
   },
   "outputs": [],
   "source": [
    "pd.set_option('html', True) #see the dataframe in a more user friendly manner\n",
    "%matplotlib inline"
   ]
  },
  {
   "cell_type": "markdown",
   "metadata": {},
   "source": [
    "## Overview of Time Series Analysis"
   ]
  },
  {
   "cell_type": "markdown",
   "metadata": {},
   "source": [
    "One approach to this analysis asserts that all time series can be broken into three components so that Y=m+s+e, where \"Y\" is the series, \"m\" is the trend, \"s\" is the seasonal component and \"e\" is random noise. The trend component can be thought of as longer-term change and is often calculated my taking a moving average over a certain time span.The seasonal component is short-term periodic fluctuations that are measured by averaging detrended observations (Y-m) that are separated by a constant number of observations. For example, you can think of the price of gasoline as having a long-term trend (say declining) which experiences regular increases every twelve months when people start to take vacations.\n",
    "\n",
    "Another approach is known as exponential smoothing. The idea behind this method is to forecast predictions based on a weighted average of the most recent observations. The weighting is typically a geometrically declining series that sums to 1, so the most recent observations are given the most weight. The result is a smoothed series that reflects the pattern of the most recent observations. New observations are then seen as a function of this smooth series and the most recent observation. The most common application, the Holt-Winters methods, also incorporates trend terms and a seasonal component.\n",
    "\n",
    "Two good series on Time Series Analysis; i) https://www.youtube.com/watch?v=F3Kjdz4K7vE by Jason Delaney (series of videos and ii) https://www.youtube.com/watch?v=0unf-C-pBYE by Wes McKinney (3.5 hour video)."
   ]
  },
  {
   "cell_type": "markdown",
   "metadata": {},
   "source": [
    "## ARIMA analysis with Loan Data"
   ]
  },
  {
   "cell_type": "markdown",
   "metadata": {},
   "source": [
    "A more involved approach to time-series analysis is the ARIMA method. The acronym stands for \"Auto-Regressive Integrated Moving Average\", the main components of the model. The general idea behind this model is that a series can be expressed as a function of its most recent observations (\"auto-regressive\" indicates a regression of an observation on itself, or more specifically, running a regression on an observation using previous observations as explanatory variables) as well as a trend component of the forecast errors (moving average).\n",
    "\n",
    "ARIMA models assume that the time-series is stationary, which in this context, means that the mean, variance and autocorrelation does not change over time. In practice this means that a differenced series (the result of subtracting a set of observations in a series with a previous observation of a fixed time lag) is often used to model an ARIMA process. Adding back the difference to get a model for the original series is considered \"integrating.\""
   ]
  },
  {
   "cell_type": "markdown",
   "metadata": {},
   "source": [
    "#### Goal: Using Lending Club Statistics, create a monthly time series of the loan counts by the issue date (issue_d)."
   ]
  },
  {
   "cell_type": "code",
   "execution_count": 5,
   "metadata": {
    "collapsed": false
   },
   "outputs": [
    {
     "data": {
      "text/html": [
       "<div>\n",
       "<table border=\"1\" class=\"dataframe\">\n",
       "  <thead>\n",
       "    <tr style=\"text-align: right;\">\n",
       "      <th></th>\n",
       "      <th>id</th>\n",
       "      <th>member_id</th>\n",
       "      <th>loan_amnt</th>\n",
       "      <th>funded_amnt</th>\n",
       "      <th>funded_amnt_inv</th>\n",
       "      <th>term</th>\n",
       "      <th>int_rate</th>\n",
       "      <th>installment</th>\n",
       "      <th>grade</th>\n",
       "      <th>sub_grade</th>\n",
       "      <th>...</th>\n",
       "      <th>total_rec_late_fee</th>\n",
       "      <th>recoveries</th>\n",
       "      <th>collection_recovery_fee</th>\n",
       "      <th>last_pymnt_d</th>\n",
       "      <th>last_pymnt_amnt</th>\n",
       "      <th>next_pymnt_d</th>\n",
       "      <th>last_credit_pull_d</th>\n",
       "      <th>collections_12_mths_ex_med</th>\n",
       "      <th>mths_since_last_major_derog</th>\n",
       "      <th>policy_code</th>\n",
       "    </tr>\n",
       "  </thead>\n",
       "  <tbody>\n",
       "    <tr>\n",
       "      <th>0</th>\n",
       "      <td>10149526</td>\n",
       "      <td>12001069</td>\n",
       "      <td>27600</td>\n",
       "      <td>27600</td>\n",
       "      <td>27600</td>\n",
       "      <td>60 months</td>\n",
       "      <td>19.97%</td>\n",
       "      <td>730.78</td>\n",
       "      <td>D</td>\n",
       "      <td>D5</td>\n",
       "      <td>...</td>\n",
       "      <td>0</td>\n",
       "      <td>0</td>\n",
       "      <td>0</td>\n",
       "      <td>Sep-2015</td>\n",
       "      <td>730.78</td>\n",
       "      <td>Nov-2015</td>\n",
       "      <td>Sep-2015</td>\n",
       "      <td>0</td>\n",
       "      <td>7</td>\n",
       "      <td>1</td>\n",
       "    </tr>\n",
       "    <tr>\n",
       "      <th>1</th>\n",
       "      <td>10224583</td>\n",
       "      <td>12086734</td>\n",
       "      <td>11100</td>\n",
       "      <td>11100</td>\n",
       "      <td>11100</td>\n",
       "      <td>36 months</td>\n",
       "      <td>14.98%</td>\n",
       "      <td>384.68</td>\n",
       "      <td>C</td>\n",
       "      <td>C3</td>\n",
       "      <td>...</td>\n",
       "      <td>0</td>\n",
       "      <td>0</td>\n",
       "      <td>0</td>\n",
       "      <td>Sep-2015</td>\n",
       "      <td>384.68</td>\n",
       "      <td>Nov-2015</td>\n",
       "      <td>Sep-2015</td>\n",
       "      <td>0</td>\n",
       "      <td>16</td>\n",
       "      <td>1</td>\n",
       "    </tr>\n",
       "  </tbody>\n",
       "</table>\n",
       "<p>2 rows × 52 columns</p>\n",
       "</div>"
      ],
      "text/plain": [
       "         id  member_id  loan_amnt  funded_amnt  funded_amnt_inv        term  \\\n",
       "0  10149526   12001069      27600        27600            27600   60 months   \n",
       "1  10224583   12086734      11100        11100            11100   36 months   \n",
       "\n",
       "  int_rate  installment grade sub_grade     ...     total_rec_late_fee  \\\n",
       "0   19.97%       730.78     D        D5     ...                      0   \n",
       "1   14.98%       384.68     C        C3     ...                      0   \n",
       "\n",
       "  recoveries collection_recovery_fee  last_pymnt_d last_pymnt_amnt  \\\n",
       "0          0                       0      Sep-2015          730.78   \n",
       "1          0                       0      Sep-2015          384.68   \n",
       "\n",
       "  next_pymnt_d last_credit_pull_d collections_12_mths_ex_med  \\\n",
       "0     Nov-2015           Sep-2015                          0   \n",
       "1     Nov-2015           Sep-2015                          0   \n",
       "\n",
       "  mths_since_last_major_derog policy_code  \n",
       "0                           7           1  \n",
       "1                          16           1  \n",
       "\n",
       "[2 rows x 52 columns]"
      ]
     },
     "execution_count": 5,
     "metadata": {},
     "output_type": "execute_result"
    }
   ],
   "source": [
    "loanData = pd.read_csv('LoanStats3b.csv', header=1, low_memory=False)\n",
    "# header=1 tells the file to be read in with the column headers beginning in the 2nd row (0 is the first row)\n",
    "# low_memory=False beacuse there are columns in this dataset with mixed datatypes so setting this parameter will tell pandas\n",
    "# to ignore datatypes; we will set them manually if need be. \n",
    "loanData.head(2)"
   ]
  },
  {
   "cell_type": "code",
   "execution_count": 6,
   "metadata": {
    "collapsed": false
   },
   "outputs": [
    {
     "data": {
      "text/html": [
       "<div>\n",
       "<table border=\"1\" class=\"dataframe\">\n",
       "  <thead>\n",
       "    <tr style=\"text-align: right;\">\n",
       "      <th></th>\n",
       "      <th>id</th>\n",
       "      <th>member_id</th>\n",
       "      <th>loan_amnt</th>\n",
       "      <th>funded_amnt</th>\n",
       "      <th>funded_amnt_inv</th>\n",
       "      <th>term</th>\n",
       "      <th>int_rate</th>\n",
       "      <th>installment</th>\n",
       "      <th>grade</th>\n",
       "      <th>sub_grade</th>\n",
       "      <th>...</th>\n",
       "      <th>total_rec_late_fee</th>\n",
       "      <th>recoveries</th>\n",
       "      <th>collection_recovery_fee</th>\n",
       "      <th>last_pymnt_d</th>\n",
       "      <th>last_pymnt_amnt</th>\n",
       "      <th>next_pymnt_d</th>\n",
       "      <th>last_credit_pull_d</th>\n",
       "      <th>collections_12_mths_ex_med</th>\n",
       "      <th>mths_since_last_major_derog</th>\n",
       "      <th>policy_code</th>\n",
       "    </tr>\n",
       "    <tr>\n",
       "      <th>issue_d_format</th>\n",
       "      <th></th>\n",
       "      <th></th>\n",
       "      <th></th>\n",
       "      <th></th>\n",
       "      <th></th>\n",
       "      <th></th>\n",
       "      <th></th>\n",
       "      <th></th>\n",
       "      <th></th>\n",
       "      <th></th>\n",
       "      <th></th>\n",
       "      <th></th>\n",
       "      <th></th>\n",
       "      <th></th>\n",
       "      <th></th>\n",
       "      <th></th>\n",
       "      <th></th>\n",
       "      <th></th>\n",
       "      <th></th>\n",
       "      <th></th>\n",
       "      <th></th>\n",
       "    </tr>\n",
       "  </thead>\n",
       "  <tbody>\n",
       "    <tr>\n",
       "      <th>2013-12-26</th>\n",
       "      <td>10149526</td>\n",
       "      <td>12001069</td>\n",
       "      <td>27600</td>\n",
       "      <td>27600</td>\n",
       "      <td>27600</td>\n",
       "      <td>60 months</td>\n",
       "      <td>19.97%</td>\n",
       "      <td>730.78</td>\n",
       "      <td>D</td>\n",
       "      <td>D5</td>\n",
       "      <td>...</td>\n",
       "      <td>0</td>\n",
       "      <td>0</td>\n",
       "      <td>0</td>\n",
       "      <td>Sep-2015</td>\n",
       "      <td>730.78</td>\n",
       "      <td>Nov-2015</td>\n",
       "      <td>Sep-2015</td>\n",
       "      <td>0</td>\n",
       "      <td>7</td>\n",
       "      <td>1</td>\n",
       "    </tr>\n",
       "    <tr>\n",
       "      <th>2013-12-26</th>\n",
       "      <td>10224583</td>\n",
       "      <td>12086734</td>\n",
       "      <td>11100</td>\n",
       "      <td>11100</td>\n",
       "      <td>11100</td>\n",
       "      <td>36 months</td>\n",
       "      <td>14.98%</td>\n",
       "      <td>384.68</td>\n",
       "      <td>C</td>\n",
       "      <td>C3</td>\n",
       "      <td>...</td>\n",
       "      <td>0</td>\n",
       "      <td>0</td>\n",
       "      <td>0</td>\n",
       "      <td>Sep-2015</td>\n",
       "      <td>384.68</td>\n",
       "      <td>Nov-2015</td>\n",
       "      <td>Sep-2015</td>\n",
       "      <td>0</td>\n",
       "      <td>16</td>\n",
       "      <td>1</td>\n",
       "    </tr>\n",
       "  </tbody>\n",
       "</table>\n",
       "<p>2 rows × 52 columns</p>\n",
       "</div>"
      ],
      "text/plain": [
       "                      id  member_id  loan_amnt  funded_amnt  funded_amnt_inv  \\\n",
       "issue_d_format                                                                 \n",
       "2013-12-26      10149526   12001069      27600        27600            27600   \n",
       "2013-12-26      10224583   12086734      11100        11100            11100   \n",
       "\n",
       "                      term int_rate  installment grade sub_grade     ...      \\\n",
       "issue_d_format                                                       ...       \n",
       "2013-12-26       60 months   19.97%       730.78     D        D5     ...       \n",
       "2013-12-26       36 months   14.98%       384.68     C        C3     ...       \n",
       "\n",
       "               total_rec_late_fee recoveries collection_recovery_fee  \\\n",
       "issue_d_format                                                         \n",
       "2013-12-26                      0          0                       0   \n",
       "2013-12-26                      0          0                       0   \n",
       "\n",
       "                last_pymnt_d last_pymnt_amnt next_pymnt_d last_credit_pull_d  \\\n",
       "issue_d_format                                                                 \n",
       "2013-12-26          Sep-2015          730.78     Nov-2015           Sep-2015   \n",
       "2013-12-26          Sep-2015          384.68     Nov-2015           Sep-2015   \n",
       "\n",
       "               collections_12_mths_ex_med mths_since_last_major_derog  \\\n",
       "issue_d_format                                                          \n",
       "2013-12-26                              0                           7   \n",
       "2013-12-26                              0                          16   \n",
       "\n",
       "               policy_code  \n",
       "issue_d_format              \n",
       "2013-12-26               1  \n",
       "2013-12-26               1  \n",
       "\n",
       "[2 rows x 52 columns]"
      ]
     },
     "execution_count": 6,
     "metadata": {},
     "output_type": "execute_result"
    }
   ],
   "source": [
    "# Convert issue_d datatype (current = object) to datetime:\n",
    "loanData['issue_d_format'] = pd.to_datetime(loanData['issue_d']) \n",
    "\n",
    "# Set this new column to the index:\n",
    "loanData = loanData.set_index('issue_d_format') \n",
    "\n",
    "# Confirm:\n",
    "loanData.head(2)"
   ]
  },
  {
   "cell_type": "code",
   "execution_count": 8,
   "metadata": {
    "collapsed": false
   },
   "outputs": [
    {
     "data": {
      "text/html": [
       "<div>\n",
       "<table border=\"1\" class=\"dataframe\">\n",
       "  <thead>\n",
       "    <tr style=\"text-align: right;\">\n",
       "      <th></th>\n",
       "      <th>id</th>\n",
       "      <th>member_id</th>\n",
       "      <th>loan_amnt</th>\n",
       "      <th>funded_amnt</th>\n",
       "      <th>funded_amnt_inv</th>\n",
       "      <th>term</th>\n",
       "      <th>int_rate</th>\n",
       "      <th>installment</th>\n",
       "      <th>grade</th>\n",
       "      <th>sub_grade</th>\n",
       "      <th>...</th>\n",
       "      <th>total_rec_late_fee</th>\n",
       "      <th>recoveries</th>\n",
       "      <th>collection_recovery_fee</th>\n",
       "      <th>last_pymnt_d</th>\n",
       "      <th>last_pymnt_amnt</th>\n",
       "      <th>next_pymnt_d</th>\n",
       "      <th>last_credit_pull_d</th>\n",
       "      <th>collections_12_mths_ex_med</th>\n",
       "      <th>mths_since_last_major_derog</th>\n",
       "      <th>policy_code</th>\n",
       "    </tr>\n",
       "  </thead>\n",
       "  <tbody>\n",
       "    <tr>\n",
       "      <th>201201</th>\n",
       "      <td>2602</td>\n",
       "      <td>2602</td>\n",
       "      <td>2602</td>\n",
       "      <td>2602</td>\n",
       "      <td>2602</td>\n",
       "      <td>2602</td>\n",
       "      <td>2602</td>\n",
       "      <td>2602</td>\n",
       "      <td>2602</td>\n",
       "      <td>2602</td>\n",
       "      <td>...</td>\n",
       "      <td>2602</td>\n",
       "      <td>2602</td>\n",
       "      <td>2602</td>\n",
       "      <td>2597</td>\n",
       "      <td>2602</td>\n",
       "      <td>191</td>\n",
       "      <td>2602</td>\n",
       "      <td>2602</td>\n",
       "      <td>0</td>\n",
       "      <td>2602</td>\n",
       "    </tr>\n",
       "    <tr>\n",
       "      <th>201202</th>\n",
       "      <td>2560</td>\n",
       "      <td>2560</td>\n",
       "      <td>2560</td>\n",
       "      <td>2560</td>\n",
       "      <td>2560</td>\n",
       "      <td>2560</td>\n",
       "      <td>2560</td>\n",
       "      <td>2560</td>\n",
       "      <td>2560</td>\n",
       "      <td>2560</td>\n",
       "      <td>...</td>\n",
       "      <td>2560</td>\n",
       "      <td>2560</td>\n",
       "      <td>2560</td>\n",
       "      <td>2553</td>\n",
       "      <td>2560</td>\n",
       "      <td>182</td>\n",
       "      <td>2560</td>\n",
       "      <td>2560</td>\n",
       "      <td>0</td>\n",
       "      <td>2560</td>\n",
       "    </tr>\n",
       "    <tr>\n",
       "      <th>201203</th>\n",
       "      <td>2914</td>\n",
       "      <td>2914</td>\n",
       "      <td>2914</td>\n",
       "      <td>2914</td>\n",
       "      <td>2914</td>\n",
       "      <td>2914</td>\n",
       "      <td>2914</td>\n",
       "      <td>2914</td>\n",
       "      <td>2914</td>\n",
       "      <td>2914</td>\n",
       "      <td>...</td>\n",
       "      <td>2914</td>\n",
       "      <td>2914</td>\n",
       "      <td>2914</td>\n",
       "      <td>2909</td>\n",
       "      <td>2914</td>\n",
       "      <td>201</td>\n",
       "      <td>2914</td>\n",
       "      <td>2914</td>\n",
       "      <td>0</td>\n",
       "      <td>2914</td>\n",
       "    </tr>\n",
       "    <tr>\n",
       "      <th>201204</th>\n",
       "      <td>3230</td>\n",
       "      <td>3230</td>\n",
       "      <td>3230</td>\n",
       "      <td>3230</td>\n",
       "      <td>3230</td>\n",
       "      <td>3230</td>\n",
       "      <td>3230</td>\n",
       "      <td>3230</td>\n",
       "      <td>3230</td>\n",
       "      <td>3230</td>\n",
       "      <td>...</td>\n",
       "      <td>3230</td>\n",
       "      <td>3230</td>\n",
       "      <td>3230</td>\n",
       "      <td>3227</td>\n",
       "      <td>3230</td>\n",
       "      <td>208</td>\n",
       "      <td>3230</td>\n",
       "      <td>3230</td>\n",
       "      <td>0</td>\n",
       "      <td>3230</td>\n",
       "    </tr>\n",
       "    <tr>\n",
       "      <th>201205</th>\n",
       "      <td>3400</td>\n",
       "      <td>3400</td>\n",
       "      <td>3400</td>\n",
       "      <td>3400</td>\n",
       "      <td>3400</td>\n",
       "      <td>3400</td>\n",
       "      <td>3400</td>\n",
       "      <td>3400</td>\n",
       "      <td>3400</td>\n",
       "      <td>3400</td>\n",
       "      <td>...</td>\n",
       "      <td>3400</td>\n",
       "      <td>3400</td>\n",
       "      <td>3400</td>\n",
       "      <td>3395</td>\n",
       "      <td>3400</td>\n",
       "      <td>265</td>\n",
       "      <td>3400</td>\n",
       "      <td>3400</td>\n",
       "      <td>0</td>\n",
       "      <td>3400</td>\n",
       "    </tr>\n",
       "  </tbody>\n",
       "</table>\n",
       "<p>5 rows × 52 columns</p>\n",
       "</div>"
      ],
      "text/plain": [
       "          id  member_id  loan_amnt  funded_amnt  funded_amnt_inv  term  \\\n",
       "201201  2602       2602       2602         2602             2602  2602   \n",
       "201202  2560       2560       2560         2560             2560  2560   \n",
       "201203  2914       2914       2914         2914             2914  2914   \n",
       "201204  3230       3230       3230         3230             3230  3230   \n",
       "201205  3400       3400       3400         3400             3400  3400   \n",
       "\n",
       "        int_rate  installment  grade  sub_grade     ...       \\\n",
       "201201      2602         2602   2602       2602     ...        \n",
       "201202      2560         2560   2560       2560     ...        \n",
       "201203      2914         2914   2914       2914     ...        \n",
       "201204      3230         3230   3230       3230     ...        \n",
       "201205      3400         3400   3400       3400     ...        \n",
       "\n",
       "        total_rec_late_fee  recoveries  collection_recovery_fee  last_pymnt_d  \\\n",
       "201201                2602        2602                     2602          2597   \n",
       "201202                2560        2560                     2560          2553   \n",
       "201203                2914        2914                     2914          2909   \n",
       "201204                3230        3230                     3230          3227   \n",
       "201205                3400        3400                     3400          3395   \n",
       "\n",
       "        last_pymnt_amnt  next_pymnt_d  last_credit_pull_d  \\\n",
       "201201             2602           191                2602   \n",
       "201202             2560           182                2560   \n",
       "201203             2914           201                2914   \n",
       "201204             3230           208                3230   \n",
       "201205             3400           265                3400   \n",
       "\n",
       "        collections_12_mths_ex_med  mths_since_last_major_derog  policy_code  \n",
       "201201                        2602                            0         2602  \n",
       "201202                        2560                            0         2560  \n",
       "201203                        2914                            0         2914  \n",
       "201204                        3230                            0         3230  \n",
       "201205                        3400                            0         3400  \n",
       "\n",
       "[5 rows x 52 columns]"
      ]
     },
     "execution_count": 8,
     "metadata": {},
     "output_type": "execute_result"
    }
   ],
   "source": [
    "# Calculate monthly totals in new dataframe:\n",
    "\n",
    "year_month_summary = loanData.groupby(lambda x : x.year * 100 + x.month).count()\n",
    "# This new dataframe is grouped by the index; taking the year, multiplying by 100 and then adding the month. This creates a \n",
    "# unique number for each month. \n",
    "\n",
    "year_month_summary.head()\n",
    "#each month should have matching counts for most variables. The results here indicate a rapidly rising application count. "
   ]
  },
  {
   "cell_type": "code",
   "execution_count": 9,
   "metadata": {
    "collapsed": false
   },
   "outputs": [
    {
     "data": {
      "text/plain": [
       "201201     2602\n",
       "201202     2560\n",
       "201203     2914\n",
       "201204     3230\n",
       "201205     3400\n",
       "201206     3817\n",
       "201207     4627\n",
       "201208     5419\n",
       "201209     6087\n",
       "201210     6263\n",
       "201211     6382\n",
       "201212     6066\n",
       "201301     6872\n",
       "201302     7561\n",
       "201303     8273\n",
       "201304     9419\n",
       "201305    10350\n",
       "201306    10899\n",
       "201307    11910\n",
       "201308    12674\n",
       "201309    12987\n",
       "201310    14115\n",
       "201311    14676\n",
       "201312    15020\n",
       "Name: issue_d, dtype: int64"
      ]
     },
     "execution_count": 9,
     "metadata": {},
     "output_type": "execute_result"
    }
   ],
   "source": [
    "# Isolate issue_d column:\n",
    "loan_count_summary = year_month_summary.loc[:,('issue_d')]\n",
    "loan_count_summary"
   ]
  },
  {
   "cell_type": "markdown",
   "metadata": {},
   "source": [
    "## Plot Autocorrelation in Loan Data"
   ]
  },
  {
   "cell_type": "markdown",
   "metadata": {},
   "source": [
    "The difficulty with ARIMA models is deciding which terms to include in the various components of the model. In modern packages this is often decided by examining the autocorrelation function (ACF) and partial autocorrelation function (PACF) plots. The ACF plots the correlation between observations and the observations from a previous fixed time period or lag. The PACF plots the correlation of an observation and the observation with a given lag, but with the linear relationships of all intervening observations controlled for.\n",
    "\n",
    "A pattern of consistent significant autocorrelation across all lags, with little indication of decay as the lag increases, usually indicates a non-stationary series that needs to be differenced for the analysis to continue.\n",
    "\n",
    "![](files/ac1.jpg)\n",
    "\n",
    "Similarly, significant spikes in autocorrelation that occur at regular lag intervals suggest that there is a seasonality that needs to be addressed by differencing the series at intervals equal to the lag.\n",
    "\n",
    "![](files/ac2.jpg)\n",
    "\n",
    "A pattern of quickly decaying autocorrelations but with persistent partial autocorrelations implies that the model is best served by an MA terms to match the lags of significant autocorrelations.\n",
    "\n",
    "Analogously, persistent autocorrelation with quickly decaying partial autocorrelations point towards adding AR terms to match the significant partial autocorrelations.\n",
    "\n",
    "![](files/ac3.jpg)\n",
    "\n",
    "ARIMA modeling can be tricky and face common pitfalls like overdifferencing and non-convergence. Unlike some more formal techniques, the final models can be a process driven by nuance and judgement.\n",
    "\n",
    "Good Notes on ARIMA modelling: http://people.duke.edu/~rnau/411arim.htm"
   ]
  },
  {
   "cell_type": "markdown",
   "metadata": {},
   "source": [
    "## Challenge"
   ]
  },
  {
   "cell_type": "markdown",
   "metadata": {},
   "source": [
    "Plot the loan data (loan_count_summary in from the previous assignment). Is the series stationary? If not, what would you do to transform it into a stationary series?"
   ]
  },
  {
   "cell_type": "code",
   "execution_count": 10,
   "metadata": {
    "collapsed": false
   },
   "outputs": [
    {
     "data": {
      "text/plain": [
       "[<matplotlib.lines.Line2D at 0x16cc5550>]"
      ]
     },
     "execution_count": 10,
     "metadata": {},
     "output_type": "execute_result"
    },
    {
     "data": {
      "image/png": "[encoded data removed]",
      "text/plain": [
       "<matplotlib.figure.Figure at 0x16ca3ef0>"
      ]
     },
     "metadata": {},
     "output_type": "display_data"
    }
   ],
   "source": [
    "# plotted data:\n",
    "plt.plot(loan_count_summary)"
   ]
  },
  {
   "cell_type": "markdown",
   "metadata": {},
   "source": [
    "This is definitely not stationary as it's continually increasing with time."
   ]
  },
  {
   "cell_type": "markdown",
   "metadata": {},
   "source": [
    "Non-stationary data, as a rule, are unpredictable and cannot be modeled or forecasted. The results obtained by using non-stationary time series may be spurious in that they may indicate a relationship between two variables where one does not exist. In order to receive consistent, reliable results, the non-stationary data needs to be transformed into stationary data. In contrast to the non-stationary process that has a variable variance and a mean that does not remain near, or returns to a long-run mean over time, the stationary process reverts around a constant long-term mean and has a constant variance independent of time."
   ]
  },
  {
   "cell_type": "code",
   "execution_count": 21,
   "metadata": {
    "collapsed": false
   },
   "outputs": [
    {
     "data": {
      "text/plain": [
       "201201       0\n",
       "201202      42\n",
       "201203     354\n",
       "201204     316\n",
       "201205     170\n",
       "201206     417\n",
       "201207     810\n",
       "201208     792\n",
       "201209     668\n",
       "201210     176\n",
       "201211     119\n",
       "201212     316\n",
       "201301     806\n",
       "201302     689\n",
       "201303     712\n",
       "201304    1146\n",
       "201305     931\n",
       "201306     549\n",
       "201307    1011\n",
       "201308     764\n",
       "201309     313\n",
       "201310    1128\n",
       "201311     561\n",
       "201312     344\n",
       "Name: issue_d, dtype: float64"
      ]
     },
     "execution_count": 21,
     "metadata": {},
     "output_type": "execute_result"
    }
   ],
   "source": [
    "# To transform the data - Take differences but only absoulte values; we don't want to see negative values as they can cancel out\n",
    "# positive values. \n",
    "loan_count_summary_diff = abs(loan_count_summary.diff())\n",
    "loan_count_summary_diff = loan_count_summary_diff.fillna(0) #get rid of the NaN value for the first month\n",
    "\n",
    "loan_count_summary_diff"
   ]
  },
  {
   "cell_type": "code",
   "execution_count": 22,
   "metadata": {
    "collapsed": false
   },
   "outputs": [
    {
     "data": {
      "text/plain": [
       "[<matplotlib.lines.Line2D at 0x175f9358>]"
      ]
     },
     "execution_count": 22,
     "metadata": {},
     "output_type": "execute_result"
    },
    {
     "data": {
      "image/png": "[encoded data removed]",
      "text/plain": [
       "<matplotlib.figure.Figure at 0x170f52e8>"
      ]
     },
     "metadata": {},
     "output_type": "display_data"
    }
   ],
   "source": [
    "# Plot the differences:\n",
    "plt.plot(loan_count_summary_diff)"
   ]
  },
  {
   "cell_type": "markdown",
   "metadata": {},
   "source": [
    "This is more stationary than we had before; but still has a lot of variation. "
   ]
  },
  {
   "cell_type": "code",
   "execution_count": null,
   "metadata": {
    "collapsed": false
   },
   "outputs": [],
   "source": [
    "************* Ask - how do we smooth this data more? ***************"
   ]
  },
  {
   "cell_type": "markdown",
   "metadata": {},
   "source": [
    "Plot out the ACF (statsmodels.api.graphics.tsa.plot_acf()) and PACF (statsmodels.api.graphics.tsa.plot_pacf()) of the series (or the transformed series). Are there any autocorrelated structures in the series? How would you have a model address these structures?"
   ]
  },
  {
   "cell_type": "code",
   "execution_count": 29,
   "metadata": {
    "collapsed": false
   },
   "outputs": [
    {
     "data": {
      "image/png": "[encoded data removed]",
      "text/plain": [
       "<matplotlib.figure.Figure at 0x14ad8a20>"
      ]
     },
     "metadata": {},
     "output_type": "display_data"
    }
   ],
   "source": [
    "# ACF Plot on Transformed Data:\n",
    "sm.graphics.tsa.plot_acf(loan_count_summary_diff); # autocorrelation, NOTE: ';' to supress output in ipython so this shows\n",
    "# only one graph"
   ]
  },
  {
   "cell_type": "code",
   "execution_count": 30,
   "metadata": {
    "collapsed": false
   },
   "outputs": [
    {
     "data": {
      "image/png": "[encoded data removed]",
      "text/plain": [
       "<matplotlib.figure.Figure at 0x14f190f0>"
      ]
     },
     "metadata": {},
     "output_type": "display_data"
    }
   ],
   "source": [
    "sm.graphics.tsa.plot_pacf(loan_count_summary_diff); # partial autocorrelation"
   ]
  },
  {
   "cell_type": "markdown",
   "metadata": {},
   "source": [
    "I don't see any autocorrelated structures in this dataset. "
   ]
  },
  {
   "cell_type": "code",
   "execution_count": null,
   "metadata": {
    "collapsed": true
   },
   "outputs": [],
   "source": [
    "****** Need to understand these graphs better ****** "
   ]
  }
 ],
 "metadata": {
  "kernelspec": {
   "display_name": "Python 2",
   "language": "python",
   "name": "python2"
  },
  "language_info": {
   "codemirror_mode": {
    "name": "ipython",
    "version": 2
   },
   "file_extension": ".py",
   "mimetype": "text/x-python",
   "name": "python",
   "nbconvert_exporter": "python",
   "pygments_lexer": "ipython2",
   "version": "2.7.6"
  }
 },
 "nbformat": 4,
 "nbformat_minor": 0
}
