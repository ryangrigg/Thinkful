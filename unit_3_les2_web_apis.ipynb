{
 "cells": [
  {
   "cell_type": "code",
   "execution_count": 1,
   "metadata": {
    "collapsed": true
   },
   "outputs": [],
   "source": [
    "import pandas as pd\n",
    "import statsmodels.api as sm\n",
    "import statsmodels.formula.api as smf #needed for models in this script\n",
    "import pylab as pl\n",
    "import matplotlib.pyplot as plt\n",
    "import numpy as np\n",
    "from scipy import stats"
   ]
  },
  {
   "cell_type": "code",
   "execution_count": 2,
   "metadata": {
    "collapsed": true
   },
   "outputs": [],
   "source": [
    "pd.set_option('html', True) #see the dataframe in a more user friendly manner\n",
    "%matplotlib inline"
   ]
  },
  {
   "cell_type": "markdown",
   "metadata": {},
   "source": [
    "## Overview of Web APIs"
   ]
  },
  {
   "cell_type": "markdown",
   "metadata": {},
   "source": [
    "An application programmer interface (API) is an interface that allows two computer systems to easily exchange information. A client requests information from a server, the server processes the request, and sends a response to the client. The request can be to access data matching a particular criteria, in which case the response will contain the data requested. The request can also be to add data to the server's system. In this case, the response is a simple indication whether the data was successfully added.\n",
    "\n",
    "You can think of this like a fast food window. You pull up and make a request at the window. You don't need to know what happens in the kitchen (and probably don't want to know). What you requested is delivered to you, and you go about your business. The same is true for an API.Most APIs use a standard URL string to carry the information necessary for the request. This usually involves:\n",
    "\n",
    "* a service endpoint\n",
    "* query parameters\n",
    "* authentication tokens\n",
    "\n",
    "Each API uses a different service endpoint. This will usually be the base URL for the request. Some APIs may only offer a single service, while others may offer many, requiring you to specify the service you wish to query. For example, the service endpoint for the Twitter search is \"https://api.twitter.com/1.1/search/tweets.json\". The first part (\"https://api.twitter.com/\") specifies the URL to access the service. The next part \"1.1\" specifies the API version being used. The service (\"search\") is indicated next, as is the target (\"tweets\"), and the desired return time (\"json\").\n",
    "\n",
    "Query parameters usually begin at the end of the service endpoint and start with a \"?\". Parameters could include a particular user or term to be searched. It could also include a location. For example, given a area, you can search for tweets that were posted at or near that point. In the Foursquare API, that would look like this: \"https://api.foursquare.com/v2/venues/search?intent=browse&v=20140625&ll=40.7021015456,-74.0122357117&radius=100&limit=50\". In this case, the service endpoint for the venue search service is \"https://api.foursquare.com/v2/venues/search\". The parameters include:\n",
    "\n",
    "* \"intent=browse\" - indicating we're browsing the venues for a given area\n",
    "* \"v=20140625\" - indicating the version of the API we're intending to use\n",
    "* \"ll=40.7021015456,-74.0122357117\" - indicating the location we want to query around\n",
    "* \"radius=100\" - indicating the radius around the point we want to query\n",
    "* \"limit=50\" - indicating the number of results to display (in most cases, there is a preset max number that can be returned per query)\n",
    "\n",
    "Some APIs have a parameter known as \"offset\" that allow you to page through results. In this case, after we get the first 50 results, we can set the offset to 50 so we get the next 50 results from the service.\n",
    "\n",
    "Notice how the parameters are combined together using the ampersand (\"&\"). While this tends to be the preferred method for combining search parameters, always check the documentation and find examples in order to construct your own API calls. You may need to prototype the calls in your text editor and run them in your browser before you run them in your code. This allows you to fix minor formatting errors.\n",
    "\n",
    "Authentication tokens identify the application accessing the service. In some cases, the token is just a simple identifier so the service knows which user is accessing the system. In other cases, there is a more robust authentication system with multiple authentication tokens to not only identify the user but secure access to the system on that users behalf. Many APIs are free, but some, especially those run by commercial services, charge a fee for access. In some cases, this is based on usage or a flat fee for access.\n",
    "\n",
    "In the following lesson, you will practice registering for access tokens, composing an API request, and submitting the API request with Python. Often the API requests can be complex and the responses full of information that needs to be parsed. While you can parse the data in a text editor, Python is far more powerful a tool and for making multiple requests, the ability to script tasks and run them in loop, makes the operation far easier than handling the requests by hand. Adding in the storage component in SQLite makes the task even easier.\n",
    "\n",
    "Good Overview of APIs: https://zapier.com/learn/apis/"
   ]
  },
  {
   "cell_type": "markdown",
   "metadata": {},
   "source": [
    "## Acquiring Weather Data from an API"
   ]
  },
  {
   "cell_type": "markdown",
   "metadata": {},
   "source": [
    "For this assignment, we're going to be collecting the max temperature in 5 major cities in the US over the course of a month and find out which city experienced the largest temperature swings.\n",
    "\n",
    "The five cities I picked to use are:   \n",
    "\n",
    "* Austin,TX,30.303936,-97.754355\n",
    "* Boston,MA,42.331960,-71.020173\n",
    "* Miami,FL,25.775163,-80.208615\n",
    "* Phoenix,AZ,33.572154,-112.090132\n",
    "* Seattle,WA,47.620499,-122.350876\n",
    "\n",
    "How you store the cities and locations is up to you, but a dictionary will allow you to store the values in a way that keeps them associated together:"
   ]
  },
  {
   "cell_type": "code",
   "execution_count": 3,
   "metadata": {
    "collapsed": false
   },
   "outputs": [
    {
     "data": {
      "text/plain": [
       "{'Austin': '30.303936,-97.754355',\n",
       " 'Boston': '42.331960,-71.020173',\n",
       " 'Miami': '25.775163,-80.208615',\n",
       " 'Phoenix': '33.572154,-112.090132',\n",
       " 'Seattle': '47.620499,-122.350876'}"
      ]
     },
     "execution_count": 3,
     "metadata": {},
     "output_type": "execute_result"
    }
   ],
   "source": [
    "# create dictionary:\n",
    "cities = {'Austin':'30.303936,-97.754355',\n",
    "          'Boston':'42.331960,-71.020173',\n",
    "          'Miami':'25.775163,-80.208615',\n",
    "          'Phoenix':'33.572154,-112.090132',\n",
    "         'Seattle':'47.620499,-122.350876'}\n",
    "\n",
    "cities"
   ]
  },
  {
   "cell_type": "markdown",
   "metadata": {},
   "source": [
    "<b>Note:</b> Storing the locations in a string will allow you to easily insert them into your API request."
   ]
  },
  {
   "cell_type": "markdown",
   "metadata": {},
   "source": [
    "## Getting Started"
   ]
  },
  {
   "cell_type": "markdown",
   "metadata": {},
   "source": [
    "We'll be using the forecast.io API to get weather data. This API powers the Dark Sky mobile app and offers an easy to use interface. There are a number of weather APIs available online, including one from the National Oceanic and Atmospheric Adminstration (NOAA), but this one is by far the easiest to access and use. Like some commercial APIs, there are an initial number of free queries (in this case 1000 a day) before the service charges your account ($1 for the next 10,000). The assignment can be completed using the free service and you won't have to supply a credit card if you don't want to.\n",
    "\n",
    "We're going to be querying an API using Python. To start off with, you'll need to get keys. Go to the registration page (https://developer.forecast.io/register) and request the keys. You should assign the API key to a variable in your code so you can use it in your request.\n",
    "\n",
    "As every API is different, it's important to look over the API documentation (https://developer.forecast.io/docs/v2). This will give you the format and parameters for your queries.\n",
    "\n",
    "Note the URL pattern for the API call:\n",
    "\n",
    "![](files/weather1.jpg)\n",
    "\n",
    "Note the format for time (https://developer.forecast.io/docs/v2#time_call), either Unix time or the format \"YYYY-MM-DDThh:mm:ss\"."
   ]
  },
  {
   "cell_type": "markdown",
   "metadata": {},
   "source": [
    "## Challenge"
   ]
  },
  {
   "cell_type": "markdown",
   "metadata": {},
   "source": [
    "<b>1.</b> Build the API call by combining the string elements in Python for your first city. You can use the datetime.datetime.now() function from the datetime package for the current datetime. You can use the datetime.timedelta() function to subtract or add time to a date. In this case, we'll be subtracting 30 days from the current date to get our start date and then iterating through until the present day. We do that like this start_date = datetime.datetime.now() - datetime.timedelta(days=30). This will subtract 30 days from the current day."
   ]
  },
  {
   "cell_type": "code",
   "execution_count": 4,
   "metadata": {
    "collapsed": false
   },
   "outputs": [
    {
     "data": {
      "text/plain": [
       "'30.303936,-97.754355'"
      ]
     },
     "execution_count": 4,
     "metadata": {},
     "output_type": "execute_result"
    }
   ],
   "source": [
    "cities['Austin']"
   ]
  },
  {
   "cell_type": "code",
   "execution_count": 5,
   "metadata": {
    "collapsed": true
   },
   "outputs": [],
   "source": [
    "import datetime\n",
    "import time"
   ]
  },
  {
   "cell_type": "markdown",
   "metadata": {},
   "source": [
    "Formating Time for API CALL:\n",
    "* [YYYY]-[MM]-[DD]T[HH]:[MM]:[SS] (ex: 2013-05-06T12:00:00-0400)"
   ]
  },
  {
   "cell_type": "code",
   "execution_count": 6,
   "metadata": {
    "collapsed": false
   },
   "outputs": [],
   "source": [
    "api_key = '20643adc99f908dd1da0d3696eac75d8'\n",
    "\n",
    "current_time = datetime.datetime.now()\n",
    "sub_days = datetime.timedelta(days=30)\n",
    "\n",
    "#create API call:\n",
    "api_call = 'https://api.forecast.io/forecast/'+api_key+'/'+cities['Austin']+','+(current_time - sub_days).strftime('%Y-%m-%dT%H:%M:%S')"
   ]
  },
  {
   "cell_type": "code",
   "execution_count": 7,
   "metadata": {
    "collapsed": false
   },
   "outputs": [
    {
     "name": "stdout",
     "output_type": "stream",
     "text": [
      "https://api.forecast.io/forecast/20643adc99f908dd1da0d3696eac75d8/30.303936,-97.754355,2015-09-29T17:49:00\n"
     ]
    }
   ],
   "source": [
    "print api_call"
   ]
  },
  {
   "cell_type": "markdown",
   "metadata": {},
   "source": [
    "<b>2.</b> Test the call for your first city and make sure you have it formatted properly. You can start by just printing out the URL and pasting it into your browser before you use the requests package to do the call for you. This can help you troubleshoot any errors (though you can use the text and status_code attributes to also troubleshoot any errors)   \n",
    "<b>3.</b> Once you have the URL formatted properly, issue the request from your code and inspect the result. How many levels does the data have? Which field do we want to save to get the daily maximum temperature?"
   ]
  },
  {
   "cell_type": "code",
   "execution_count": 8,
   "metadata": {
    "collapsed": true
   },
   "outputs": [],
   "source": [
    "import requests"
   ]
  },
  {
   "cell_type": "code",
   "execution_count": 9,
   "metadata": {
    "collapsed": true
   },
   "outputs": [],
   "source": [
    "weather_test = requests.get(api_call)"
   ]
  },
  {
   "cell_type": "code",
   "execution_count": 10,
   "metadata": {
    "collapsed": false
   },
   "outputs": [
    {
     "data": {
      "text/plain": [
       "{u'currently': {u'apparentTemperature': 89.99,\n",
       "  u'cloudCover': 0.29,\n",
       "  u'dewPoint': 61.96,\n",
       "  u'humidity': 0.4,\n",
       "  u'icon': u'partly-cloudy-day',\n",
       "  u'precipIntensity': 0,\n",
       "  u'precipProbability': 0,\n",
       "  u'pressure': 1009.64,\n",
       "  u'summary': u'Partly Cloudy',\n",
       "  u'temperature': 89.53,\n",
       "  u'time': 1443566940,\n",
       "  u'visibility': 10,\n",
       "  u'windBearing': 48,\n",
       "  u'windSpeed': 9.16},\n",
       " u'daily': {u'data': [{u'apparentTemperatureMax': 93.98,\n",
       "    u'apparentTemperatureMaxTime': 1443556800,\n",
       "    u'apparentTemperatureMin': 67.57,\n",
       "    u'apparentTemperatureMinTime': 1443524400,\n",
       "    u'cloudCover': 0.13,\n",
       "    u'dewPoint': 63.77,\n",
       "    u'humidity': 0.62,\n",
       "    u'icon': u'partly-cloudy-day',\n",
       "    u'moonPhase': 0.56,\n",
       "    u'precipIntensity': 0,\n",
       "    u'precipIntensityMax': 0,\n",
       "    u'precipProbability': 0,\n",
       "    u'pressure': 1010.86,\n",
       "    u'summary': u'Partly cloudy starting in the afternoon, continuing until evening.',\n",
       "    u'sunriseTime': 1443529463,\n",
       "    u'sunsetTime': 1443572452,\n",
       "    u'temperatureMax': 92.32,\n",
       "    u'temperatureMaxTime': 1443556800,\n",
       "    u'temperatureMin': 67.57,\n",
       "    u'temperatureMinTime': 1443524400,\n",
       "    u'time': 1443502800,\n",
       "    u'visibility': 10,\n",
       "    u'windBearing': 15,\n",
       "    u'windSpeed': 4.85}]},\n",
       " u'flags': {u'isd-stations': [u'720542-99999',\n",
       "   u'720648-99999',\n",
       "   u'722540-13904',\n",
       "   u'722544-13958',\n",
       "   u'722547-53942'],\n",
       "  u'sources': [u'isd'],\n",
       "  u'units': u'us'},\n",
       " u'hourly': {u'data': [{u'apparentTemperature': 72.84,\n",
       "    u'cloudCover': 0.05,\n",
       "    u'dewPoint': 63.84,\n",
       "    u'humidity': 0.73,\n",
       "    u'icon': u'clear-night',\n",
       "    u'precipIntensity': 0,\n",
       "    u'precipProbability': 0,\n",
       "    u'pressure': 1010.38,\n",
       "    u'summary': u'Clear',\n",
       "    u'temperature': 72.84,\n",
       "    u'time': 1443502800,\n",
       "    u'visibility': 10,\n",
       "    u'windBearing': 341,\n",
       "    u'windSpeed': 2.82},\n",
       "   {u'apparentTemperature': 71.67,\n",
       "    u'cloudCover': 0,\n",
       "    u'dewPoint': 64.67,\n",
       "    u'humidity': 0.79,\n",
       "    u'icon': u'clear-night',\n",
       "    u'precipIntensity': 0,\n",
       "    u'precipProbability': 0,\n",
       "    u'pressure': 1010.4,\n",
       "    u'summary': u'Clear',\n",
       "    u'temperature': 71.67,\n",
       "    u'time': 1443506400,\n",
       "    u'visibility': 10,\n",
       "    u'windBearing': 330,\n",
       "    u'windSpeed': 2.96},\n",
       "   {u'apparentTemperature': 69.43,\n",
       "    u'cloudCover': 0,\n",
       "    u'dewPoint': 63.72,\n",
       "    u'humidity': 0.82,\n",
       "    u'icon': u'clear-night',\n",
       "    u'precipIntensity': 0,\n",
       "    u'precipProbability': 0,\n",
       "    u'pressure': 1010.18,\n",
       "    u'summary': u'Clear',\n",
       "    u'temperature': 69.43,\n",
       "    u'time': 1443510000,\n",
       "    u'visibility': 10,\n",
       "    u'windBearing': 323,\n",
       "    u'windSpeed': 2.17},\n",
       "   {u'apparentTemperature': 68.58,\n",
       "    u'cloudCover': 0,\n",
       "    u'dewPoint': 63.76,\n",
       "    u'humidity': 0.85,\n",
       "    u'icon': u'clear-night',\n",
       "    u'precipIntensity': 0,\n",
       "    u'precipProbability': 0,\n",
       "    u'pressure': 1010.18,\n",
       "    u'summary': u'Clear',\n",
       "    u'temperature': 68.58,\n",
       "    u'time': 1443513600,\n",
       "    u'visibility': 10,\n",
       "    u'windBearing': 352,\n",
       "    u'windSpeed': 5.8},\n",
       "   {u'apparentTemperature': 67.72,\n",
       "    u'cloudCover': 0.06,\n",
       "    u'dewPoint': 63.87,\n",
       "    u'humidity': 0.88,\n",
       "    u'icon': u'clear-night',\n",
       "    u'precipIntensity': 0,\n",
       "    u'precipProbability': 0,\n",
       "    u'pressure': 1009.88,\n",
       "    u'summary': u'Clear',\n",
       "    u'temperature': 67.72,\n",
       "    u'time': 1443517200,\n",
       "    u'visibility': 10,\n",
       "    u'windBearing': 336,\n",
       "    u'windSpeed': 5.6},\n",
       "   {u'apparentTemperature': 69.19,\n",
       "    u'cloudCover': 0.03,\n",
       "    u'dewPoint': 63.73,\n",
       "    u'humidity': 0.83,\n",
       "    u'icon': u'clear-night',\n",
       "    u'precipIntensity': 0,\n",
       "    u'precipProbability': 0,\n",
       "    u'pressure': 1009.98,\n",
       "    u'summary': u'Clear',\n",
       "    u'temperature': 69.19,\n",
       "    u'time': 1443520800,\n",
       "    u'visibility': 10,\n",
       "    u'windBearing': 330,\n",
       "    u'windSpeed': 4.34},\n",
       "   {u'apparentTemperature': 67.57,\n",
       "    u'cloudCover': 0.3,\n",
       "    u'dewPoint': 63.87,\n",
       "    u'humidity': 0.88,\n",
       "    u'icon': u'partly-cloudy-night',\n",
       "    u'precipIntensity': 0,\n",
       "    u'precipProbability': 0,\n",
       "    u'pressure': 1010.37,\n",
       "    u'summary': u'Partly Cloudy',\n",
       "    u'temperature': 67.57,\n",
       "    u'time': 1443524400,\n",
       "    u'visibility': 10,\n",
       "    u'windBearing': 323,\n",
       "    u'windSpeed': 5.65},\n",
       "   {u'apparentTemperature': 68.66,\n",
       "    u'cloudCover': 0.28,\n",
       "    u'dewPoint': 63.86,\n",
       "    u'humidity': 0.85,\n",
       "    u'icon': u'partly-cloudy-night',\n",
       "    u'precipIntensity': 0,\n",
       "    u'precipProbability': 0,\n",
       "    u'pressure': 1010.8,\n",
       "    u'summary': u'Partly Cloudy',\n",
       "    u'temperature': 68.66,\n",
       "    u'time': 1443528000,\n",
       "    u'visibility': 10,\n",
       "    u'windBearing': 330,\n",
       "    u'windSpeed': 5.38},\n",
       "   {u'apparentTemperature': 69.11,\n",
       "    u'cloudCover': 0.03,\n",
       "    u'dewPoint': 63.99,\n",
       "    u'humidity': 0.84,\n",
       "    u'icon': u'clear-day',\n",
       "    u'precipIntensity': 0,\n",
       "    u'precipProbability': 0,\n",
       "    u'pressure': 1011.09,\n",
       "    u'summary': u'Clear',\n",
       "    u'temperature': 69.11,\n",
       "    u'time': 1443531600,\n",
       "    u'visibility': 10,\n",
       "    u'windBearing': 354,\n",
       "    u'windSpeed': 6.31},\n",
       "   {u'apparentTemperature': 73.49,\n",
       "    u'cloudCover': 0,\n",
       "    u'dewPoint': 65.19,\n",
       "    u'humidity': 0.75,\n",
       "    u'icon': u'clear-day',\n",
       "    u'precipIntensity': 0,\n",
       "    u'precipProbability': 0,\n",
       "    u'pressure': 1011.69,\n",
       "    u'summary': u'Clear',\n",
       "    u'temperature': 73.49,\n",
       "    u'time': 1443535200,\n",
       "    u'visibility': 10,\n",
       "    u'windBearing': 9,\n",
       "    u'windSpeed': 4.54},\n",
       "   {u'apparentTemperature': 82.04,\n",
       "    u'cloudCover': 0,\n",
       "    u'dewPoint': 65.81,\n",
       "    u'humidity': 0.62,\n",
       "    u'icon': u'clear-day',\n",
       "    u'precipIntensity': 0,\n",
       "    u'precipProbability': 0,\n",
       "    u'pressure': 1012.18,\n",
       "    u'summary': u'Clear',\n",
       "    u'temperature': 80.01,\n",
       "    u'time': 1443538800,\n",
       "    u'visibility': 10,\n",
       "    u'windBearing': 9,\n",
       "    u'windSpeed': 5.7},\n",
       "   {u'apparentTemperature': 84.94,\n",
       "    u'cloudCover': 0.07,\n",
       "    u'dewPoint': 66.15,\n",
       "    u'humidity': 0.58,\n",
       "    u'icon': u'clear-day',\n",
       "    u'precipIntensity': 0,\n",
       "    u'precipProbability': 0,\n",
       "    u'pressure': 1012.47,\n",
       "    u'summary': u'Clear',\n",
       "    u'temperature': 82.7,\n",
       "    u'time': 1443542400,\n",
       "    u'visibility': 10,\n",
       "    u'windBearing': 14,\n",
       "    u'windSpeed': 6.69},\n",
       "   {u'apparentTemperature': 88.06,\n",
       "    u'cloudCover': 0.31,\n",
       "    u'dewPoint': 64.84,\n",
       "    u'humidity': 0.49,\n",
       "    u'icon': u'partly-cloudy-day',\n",
       "    u'precipIntensity': 0,\n",
       "    u'precipProbability': 0,\n",
       "    u'pressure': 1012.38,\n",
       "    u'summary': u'Partly Cloudy',\n",
       "    u'temperature': 86.32,\n",
       "    u'time': 1443546000,\n",
       "    u'visibility': 10,\n",
       "    u'windBearing': 11,\n",
       "    u'windSpeed': 7.5},\n",
       "   {u'apparentTemperature': 89.08,\n",
       "    u'cloudCover': 0.6,\n",
       "    u'dewPoint': 63.86,\n",
       "    u'humidity': 0.45,\n",
       "    u'icon': u'partly-cloudy-day',\n",
       "    u'precipIntensity': 0,\n",
       "    u'precipProbability': 0,\n",
       "    u'pressure': 1012.1,\n",
       "    u'summary': u'Mostly Cloudy',\n",
       "    u'temperature': 87.78,\n",
       "    u'time': 1443549600,\n",
       "    u'visibility': 10,\n",
       "    u'windBearing': 34,\n",
       "    u'windSpeed': 5.58},\n",
       "   {u'apparentTemperature': 91.67,\n",
       "    u'cloudCover': 0.31,\n",
       "    u'dewPoint': 63.86,\n",
       "    u'humidity': 0.42,\n",
       "    u'icon': u'partly-cloudy-day',\n",
       "    u'precipIntensity': 0,\n",
       "    u'precipProbability': 0,\n",
       "    u'pressure': 1011.37,\n",
       "    u'summary': u'Partly Cloudy',\n",
       "    u'temperature': 90.24,\n",
       "    u'time': 1443553200,\n",
       "    u'visibility': 10,\n",
       "    u'windBearing': 28,\n",
       "    u'windSpeed': 6.36},\n",
       "   {u'apparentTemperature': 93.98,\n",
       "    u'cloudCover': 0.04,\n",
       "    u'dewPoint': 63.91,\n",
       "    u'humidity': 0.39,\n",
       "    u'icon': u'clear-day',\n",
       "    u'precipIntensity': 0,\n",
       "    u'precipProbability': 0,\n",
       "    u'pressure': 1010.37,\n",
       "    u'summary': u'Clear',\n",
       "    u'temperature': 92.32,\n",
       "    u'time': 1443556800,\n",
       "    u'visibility': 10,\n",
       "    u'windBearing': 41,\n",
       "    u'windSpeed': 8.11},\n",
       "   {u'apparentTemperature': 92.36,\n",
       "    u'cloudCover': 0.05,\n",
       "    u'dewPoint': 62.14,\n",
       "    u'humidity': 0.38,\n",
       "    u'icon': u'clear-day',\n",
       "    u'precipIntensity': 0,\n",
       "    u'precipProbability': 0,\n",
       "    u'pressure': 1009.85,\n",
       "    u'summary': u'Clear',\n",
       "    u'temperature': 91.69,\n",
       "    u'time': 1443560400,\n",
       "    u'visibility': 10,\n",
       "    u'windBearing': 21,\n",
       "    u'windSpeed': 8.18},\n",
       "   {u'apparentTemperature': 91.29,\n",
       "    u'cloudCover': 0.29,\n",
       "    u'dewPoint': 61.87,\n",
       "    u'humidity': 0.38,\n",
       "    u'icon': u'partly-cloudy-day',\n",
       "    u'precipIntensity': 0,\n",
       "    u'precipProbability': 0,\n",
       "    u'pressure': 1009.59,\n",
       "    u'summary': u'Partly Cloudy',\n",
       "    u'temperature': 90.81,\n",
       "    u'time': 1443564000,\n",
       "    u'visibility': 10,\n",
       "    u'windBearing': 56,\n",
       "    u'windSpeed': 9.52},\n",
       "   {u'apparentTemperature': 89.7,\n",
       "    u'cloudCover': 0.29,\n",
       "    u'dewPoint': 61.98,\n",
       "    u'humidity': 0.4,\n",
       "    u'icon': u'partly-cloudy-day',\n",
       "    u'precipIntensity': 0,\n",
       "    u'precipProbability': 0,\n",
       "    u'pressure': 1009.65,\n",
       "    u'summary': u'Partly Cloudy',\n",
       "    u'temperature': 89.24,\n",
       "    u'time': 1443567600,\n",
       "    u'visibility': 10,\n",
       "    u'windBearing': 47,\n",
       "    u'windSpeed': 9.11},\n",
       "   {u'apparentTemperature': 87.78,\n",
       "    u'cloudCover': 0.3,\n",
       "    u'dewPoint': 62.77,\n",
       "    u'humidity': 0.45,\n",
       "    u'icon': u'partly-cloudy-day',\n",
       "    u'precipIntensity': 0,\n",
       "    u'precipProbability': 0,\n",
       "    u'pressure': 1010,\n",
       "    u'summary': u'Partly Cloudy',\n",
       "    u'temperature': 86.98,\n",
       "    u'time': 1443571200,\n",
       "    u'visibility': 10,\n",
       "    u'windBearing': 59,\n",
       "    u'windSpeed': 5.47},\n",
       "   {u'apparentTemperature': 85.22,\n",
       "    u'cloudCover': 0.03,\n",
       "    u'dewPoint': 62.92,\n",
       "    u'humidity': 0.49,\n",
       "    u'icon': u'clear-night',\n",
       "    u'precipIntensity': 0,\n",
       "    u'precipProbability': 0,\n",
       "    u'pressure': 1010.45,\n",
       "    u'summary': u'Clear',\n",
       "    u'temperature': 84.26,\n",
       "    u'time': 1443574800,\n",
       "    u'visibility': 10,\n",
       "    u'windBearing': 40,\n",
       "    u'windSpeed': 5.18},\n",
       "   {u'apparentTemperature': 83.23,\n",
       "    u'cloudCover': 0.06,\n",
       "    u'dewPoint': 63.31,\n",
       "    u'humidity': 0.53,\n",
       "    u'icon': u'clear-night',\n",
       "    u'precipIntensity': 0,\n",
       "    u'precipProbability': 0,\n",
       "    u'pressure': 1011.17,\n",
       "    u'summary': u'Clear',\n",
       "    u'temperature': 81.95,\n",
       "    u'time': 1443578400,\n",
       "    u'visibility': 9.94,\n",
       "    u'windBearing': 25,\n",
       "    u'windSpeed': 3.44},\n",
       "   {u'apparentTemperature': 82.09,\n",
       "    u'cloudCover': 0.05,\n",
       "    u'dewPoint': 63.26,\n",
       "    u'humidity': 0.56,\n",
       "    u'icon': u'clear-night',\n",
       "    u'precipIntensity': 0,\n",
       "    u'precipProbability': 0,\n",
       "    u'pressure': 1011.79,\n",
       "    u'summary': u'Clear',\n",
       "    u'temperature': 80.69,\n",
       "    u'time': 1443582000,\n",
       "    u'visibility': 10,\n",
       "    u'windBearing': 27,\n",
       "    u'windSpeed': 3.37},\n",
       "   {u'apparentTemperature': 78.83,\n",
       "    u'cloudCover': 0.03,\n",
       "    u'dewPoint': 63.35,\n",
       "    u'humidity': 0.59,\n",
       "    u'icon': u'clear-night',\n",
       "    u'precipIntensity': 0,\n",
       "    u'precipProbability': 0,\n",
       "    u'pressure': 1012.38,\n",
       "    u'summary': u'Clear',\n",
       "    u'temperature': 78.83,\n",
       "    u'time': 1443585600,\n",
       "    u'visibility': 10,\n",
       "    u'windBearing': 27,\n",
       "    u'windSpeed': 3.35}],\n",
       "  u'icon': u'partly-cloudy-day',\n",
       "  u'summary': u'Partly cloudy starting in the afternoon, continuing until evening.'},\n",
       " u'latitude': 30.303936,\n",
       " u'longitude': -97.754355,\n",
       " u'offset': -5,\n",
       " u'timezone': u'America/Chicago'}"
      ]
     },
     "execution_count": 10,
     "metadata": {},
     "output_type": "execute_result"
    }
   ],
   "source": [
    "weather_test.json()"
   ]
  },
  {
   "cell_type": "code",
   "execution_count": 11,
   "metadata": {
    "collapsed": false
   },
   "outputs": [
    {
     "data": {
      "text/plain": [
       "[u'hourly',\n",
       " u'currently',\n",
       " u'longitude',\n",
       " u'flags',\n",
       " u'daily',\n",
       " u'offset',\n",
       " u'latitude',\n",
       " u'timezone']"
      ]
     },
     "execution_count": 11,
     "metadata": {},
     "output_type": "execute_result"
    }
   ],
   "source": [
    "weather_test.json().keys()"
   ]
  },
  {
   "cell_type": "code",
   "execution_count": 12,
   "metadata": {
    "collapsed": false
   },
   "outputs": [
    {
     "name": "stdout",
     "output_type": "stream",
     "text": [
      "{u'apparentTemperatureMinTime': 1443524400, u'cloudCover': 0.13, u'temperatureMin': 67.57, u'summary': u'Partly cloudy starting in the afternoon, continuing until evening.', u'dewPoint': 63.77, u'apparentTemperatureMax': 93.98, u'temperatureMax': 92.32, u'temperatureMaxTime': 1443556800, u'windBearing': 15, u'moonPhase': 0.56, u'visibility': 10, u'sunsetTime': 1443572452, u'pressure': 1010.86, u'precipProbability': 0, u'apparentTemperatureMin': 67.57, u'precipIntensityMax': 0, u'icon': u'partly-cloudy-day', u'apparentTemperatureMaxTime': 1443556800, u'humidity': 0.62, u'windSpeed': 4.85, u'time': 1443502800, u'precipIntensity': 0, u'sunriseTime': 1443529463, u'temperatureMinTime': 1443524400}\n"
     ]
    }
   ],
   "source": [
    "print weather_test.json()['daily']['data'][0]"
   ]
  },
  {
   "cell_type": "markdown",
   "metadata": {},
   "source": [
    "Save the daily max temperature in the 'daily' field, 'temperatureMax'"
   ]
  },
  {
   "cell_type": "markdown",
   "metadata": {},
   "source": [
    "<b>4.</b> Based on the data sample, create the table in a SQLite database called \"weather.db\"."
   ]
  },
  {
   "cell_type": "code",
   "execution_count": 13,
   "metadata": {
    "collapsed": false
   },
   "outputs": [],
   "source": [
    "import sqlite3 as lite\n",
    "\n",
    "con = lite.connect('weather.db')\n",
    "cur = con.cursor()"
   ]
  },
  {
   "cell_type": "markdown",
   "metadata": {},
   "source": [
    "Create table in 'weather.db':   \n",
    "<b>Note:</b> I found the instructions very unclear in this lesson. I've finally figured it out by moving ahead in the lesson to determine I'm only supposed to create a table with one variable from within 'daily'. I assumed (incorrectly) that I was supposed to be capturing more data in the database for each city. "
   ]
  },
  {
   "cell_type": "code",
   "execution_count": 14,
   "metadata": {
    "collapsed": false
   },
   "outputs": [],
   "source": [
    "with con:\n",
    "    cur.execute('CREATE TABLE daily_max_temp (\\\n",
    "    day TIMESTAMP, Austin REAL, Boston REAL, Miami REAL, Phoenix REAL, Seattle REAL)')"
   ]
  },
  {
   "cell_type": "code",
   "execution_count": 15,
   "metadata": {
    "collapsed": false
   },
   "outputs": [
    {
     "name": "stdout",
     "output_type": "stream",
     "text": [
      "Empty DataFrame\n",
      "Columns: [day, Austin, Boston, Miami, Phoenix, Seattle]\n",
      "Index: []\n"
     ]
    }
   ],
   "source": [
    "print pd.read_sql_query('SELECT * FROM daily_max_temp', con)\n",
    "# 'SELECT *' will bring the entire table, 'con' at the end references the connection to the database. "
   ]
  },
  {
   "cell_type": "markdown",
   "metadata": {},
   "source": [
    "<b>5.</b>Write a script that takes each city and queries every day for the past 30 days (Hint: You can use the datetime.timedelta(days=1) to increment the value by day).  \n",
    "<b>6.</b> Save the max temperature values to the table, keyed on the date. You can leave the date in Unix time or convert to a string."
   ]
  },
  {
   "cell_type": "markdown",
   "metadata": {},
   "source": [
    "In SQL, a row has to be inserted before it can be updated. In order to keep the code clean, we're going to iterate through the values in the range and insert them into the database without any other values:"
   ]
  },
  {
   "cell_type": "code",
   "execution_count": 19,
   "metadata": {
    "collapsed": false
   },
   "outputs": [],
   "source": [
    "query_date = current_time - sub_days # as above; returns 30 days. \n",
    "\n",
    "with con:\n",
    "    while query_date < current_time:\n",
    "        cur.execute('INSERT INTO daily_max_temp(day) VALUES (?)', [query_date.strftime('%Y-%m-%dT%H:%M:%S')],)\n",
    "        query_date += datetime.timedelta(days=1)"
   ]
  },
  {
   "cell_type": "code",
   "execution_count": 55,
   "metadata": {
    "collapsed": false
   },
   "outputs": [
    {
     "name": "stdout",
     "output_type": "stream",
     "text": [
      "                    day Austin Boston Miami Phoenix Seattle\n",
      "0   2015-09-29T17:49:00   None   None  None    None    None\n",
      "1   2015-09-30T17:49:00   None   None  None    None    None\n",
      "2   2015-10-01T17:49:00   None   None  None    None    None\n",
      "3   2015-10-02T17:49:00   None   None  None    None    None\n",
      "4   2015-10-03T17:49:00   None   None  None    None    None\n",
      "5   2015-10-04T17:49:00   None   None  None    None    None\n",
      "6   2015-10-05T17:49:00   None   None  None    None    None\n",
      "7   2015-10-06T17:49:00   None   None  None    None    None\n",
      "8   2015-10-07T17:49:00   None   None  None    None    None\n",
      "9   2015-10-08T17:49:00   None   None  None    None    None\n",
      "10  2015-10-09T17:49:00   None   None  None    None    None\n",
      "11  2015-10-10T17:49:00   None   None  None    None    None\n",
      "12  2015-10-11T17:49:00   None   None  None    None    None\n",
      "13  2015-10-12T17:49:00   None   None  None    None    None\n",
      "14  2015-10-13T17:49:00   None   None  None    None    None\n",
      "15  2015-10-14T17:49:00   None   None  None    None    None\n",
      "16  2015-10-15T17:49:00   None   None  None    None    None\n",
      "17  2015-10-16T17:49:00   None   None  None    None    None\n",
      "18  2015-10-17T17:49:00   None   None  None    None    None\n",
      "19  2015-10-18T17:49:00   None   None  None    None    None\n",
      "20  2015-10-19T17:49:00   None   None  None    None    None\n",
      "21  2015-10-20T17:49:00   None   None  None    None    None\n",
      "22  2015-10-21T17:49:00   None   None  None    None    None\n",
      "23  2015-10-22T17:49:00   None   None  None    None    None\n",
      "24  2015-10-23T17:49:00   None   None  None    None    None\n",
      "25  2015-10-24T17:49:00   None   None  None    None    None\n",
      "26  2015-10-25T17:49:00   None   None  None    None    None\n",
      "27  2015-10-26T17:49:00   None   None  None    None    None\n",
      "28  2015-10-27T17:49:00   None   None  None    None    None\n",
      "29  2015-10-28T17:49:00   None   None  None    None    None\n"
     ]
    }
   ],
   "source": [
    "print pd.read_sql_query('SELECT * FROM daily_max_temp', con)"
   ]
  },
  {
   "cell_type": "markdown",
   "metadata": {},
   "source": [
    "Now we can loop through our cities and query the API:"
   ]
  },
  {
   "cell_type": "code",
   "execution_count": 54,
   "metadata": {
    "collapsed": false
   },
   "outputs": [
    {
     "ename": "OperationalError",
     "evalue": "unrecognized token: \"29T17\"",
     "output_type": "error",
     "traceback": [
      "\u001b[1;31m---------------------------------------------------------------------------\u001b[0m",
      "\u001b[1;31mOperationalError\u001b[0m                          Traceback (most recent call last)",
      "\u001b[1;32m<ipython-input-54-a94c045448d5>\u001b[0m in \u001b[0;36m<module>\u001b[1;34m()\u001b[0m\n\u001b[0;32m      9\u001b[0m         \u001b[1;32mwith\u001b[0m \u001b[0mcon\u001b[0m\u001b[1;33m:\u001b[0m\u001b[1;33m\u001b[0m\u001b[0m\n\u001b[0;32m     10\u001b[0m             \u001b[1;31m#insert the temperature max to the database\u001b[0m\u001b[1;33m\u001b[0m\u001b[1;33m\u001b[0m\u001b[0m\n\u001b[1;32m---> 11\u001b[1;33m             \u001b[0mcur\u001b[0m\u001b[1;33m.\u001b[0m\u001b[0mexecute\u001b[0m\u001b[1;33m(\u001b[0m\u001b[1;34m'UPDATE daily_max_temp SET '\u001b[0m \u001b[1;33m+\u001b[0m \u001b[0mk\u001b[0m \u001b[1;33m+\u001b[0m \u001b[1;34m' = '\u001b[0m \u001b[1;33m+\u001b[0m \u001b[0mstr\u001b[0m\u001b[1;33m(\u001b[0m\u001b[0mr\u001b[0m\u001b[1;33m.\u001b[0m\u001b[0mjson\u001b[0m\u001b[1;33m(\u001b[0m\u001b[1;33m)\u001b[0m\u001b[1;33m[\u001b[0m\u001b[1;34m'daily'\u001b[0m\u001b[1;33m]\u001b[0m\u001b[1;33m[\u001b[0m\u001b[1;34m'data'\u001b[0m\u001b[1;33m]\u001b[0m\u001b[1;33m[\u001b[0m\u001b[1;36m0\u001b[0m\u001b[1;33m]\u001b[0m\u001b[1;33m[\u001b[0m\u001b[1;34m'temperatureMax'\u001b[0m\u001b[1;33m]\u001b[0m\u001b[1;33m)\u001b[0m \u001b[1;33m+\u001b[0m                         \u001b[1;34m' WHERE day = '\u001b[0m \u001b[1;33m+\u001b[0m \u001b[0mquery_date\u001b[0m\u001b[1;33m.\u001b[0m\u001b[0mstrftime\u001b[0m\u001b[1;33m(\u001b[0m\u001b[1;34m'%Y-%m-%dT%H:%M:%S'\u001b[0m\u001b[1;33m)\u001b[0m\u001b[1;33m)\u001b[0m\u001b[1;33m\u001b[0m\u001b[0m\n\u001b[0m\u001b[0;32m     12\u001b[0m \u001b[1;33m\u001b[0m\u001b[0m\n\u001b[0;32m     13\u001b[0m         \u001b[1;31m#increment query_date to the next day for next operation of loop\u001b[0m\u001b[1;33m\u001b[0m\u001b[1;33m\u001b[0m\u001b[0m\n",
      "\u001b[1;31mOperationalError\u001b[0m: unrecognized token: \"29T17\""
     ]
    }
   ],
   "source": [
    "for k,v in cities.iteritems(): #for each city and corresponding co-ordinates(lat & long) in the dict:\n",
    "    url = 'https://api.forecast.io/forecast/'+api_key\n",
    "    \n",
    "    query_date = current_time - sub_days # as above; returns 30 days.\n",
    "    while query_date < current_time:\n",
    "        #query for the value\n",
    "        r = requests.get(url + '/' + v + ',' + query_date.strftime('%Y-%m-%dT%H:%M:%S'))\n",
    "\n",
    "        with con:\n",
    "            #insert the temperature max to the database\n",
    "            cur.execute('UPDATE daily_max_temp SET ' + k + ' = ' + str(r.json()['daily']['data'][0]['temperatureMax']) + \\\n",
    "                        ' WHERE day = ' + query_date.strftime('%Y-%m-%dT%H:%M:%S'))\n",
    "\n",
    "        #increment query_date to the next day for next operation of loop\n",
    "        query_date += datetime.timedelta(days=1) #increment query_date to the next day\n",
    "\n",
    "\n",
    "#con.close() # a good practice to close connection to database"
   ]
  },
  {
   "cell_type": "code",
   "execution_count": null,
   "metadata": {
    "collapsed": false
   },
   "outputs": [],
   "source": []
  },
  {
   "cell_type": "code",
   "execution_count": null,
   "metadata": {
    "collapsed": false
   },
   "outputs": [],
   "source": []
  },
  {
   "cell_type": "code",
   "execution_count": null,
   "metadata": {
    "collapsed": false
   },
   "outputs": [],
   "source": []
  },
  {
   "cell_type": "code",
   "execution_count": null,
   "metadata": {
    "collapsed": false
   },
   "outputs": [],
   "source": []
  },
  {
   "cell_type": "code",
   "execution_count": null,
   "metadata": {
    "collapsed": true
   },
   "outputs": [],
   "source": []
  }
 ],
 "metadata": {
  "kernelspec": {
   "display_name": "Python 2",
   "language": "python",
   "name": "python2"
  },
  "language_info": {
   "codemirror_mode": {
    "name": "ipython",
    "version": 2
   },
   "file_extension": ".py",
   "mimetype": "text/x-python",
   "name": "python",
   "nbconvert_exporter": "python",
   "pygments_lexer": "ipython2",
   "version": "2.7.6"
  }
 },
 "nbformat": 4,
 "nbformat_minor": 0
}
