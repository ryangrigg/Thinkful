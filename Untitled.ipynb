{
 "cells": [
  {
   "cell_type": "code",
   "execution_count": 9,
   "metadata": {
    "collapsed": false,
    "scrolled": true
   },
   "outputs": [
    {
     "name": "stderr",
     "output_type": "stream",
     "text": [
      "C:\\Users\\griggrj\\AppData\\Local\\Enthought\\Canopy\\User\\lib\\site-packages\\ipykernel\\__main__.py:34: SettingWithCopyWarning: \n",
      "A value is trying to be set on a copy of a slice from a DataFrame\n",
      "\n",
      "See the the caveats in the documentation: http://pandas.pydata.org/pandas-docs/stable/indexing.html#indexing-view-versus-copy\n",
      "C:\\Users\\griggrj\\AppData\\Local\\Enthought\\Canopy\\User\\lib\\site-packages\\ipykernel\\__main__.py:36: SettingWithCopyWarning: \n",
      "A value is trying to be set on a copy of a slice from a DataFrame\n",
      "\n",
      "See the the caveats in the documentation: http://pandas.pydata.org/pandas-docs/stable/indexing.html#indexing-view-versus-copy\n",
      "C:\\Users\\griggrj\\AppData\\Local\\Enthought\\Canopy\\User\\lib\\site-packages\\ipykernel\\__main__.py:38: SettingWithCopyWarning: \n",
      "A value is trying to be set on a copy of a slice from a DataFrame\n",
      "\n",
      "See the the caveats in the documentation: http://pandas.pydata.org/pandas-docs/stable/indexing.html#indexing-view-versus-copy\n",
      "C:\\Users\\griggrj\\AppData\\Local\\Enthought\\Canopy\\User\\lib\\site-packages\\ipykernel\\__main__.py:40: SettingWithCopyWarning: \n",
      "A value is trying to be set on a copy of a slice from a DataFrame\n",
      "\n",
      "See the the caveats in the documentation: http://pandas.pydata.org/pandas-docs/stable/indexing.html#indexing-view-versus-copy\n"
     ]
    },
    {
     "name": "stdout",
     "output_type": "stream",
     "text": [
      "                            OLS Regression Results                            \n",
      "==============================================================================\n",
      "Dep. Variable:                      y   R-squared:                       0.660\n",
      "Model:                            OLS   Adj. R-squared:                  0.659\n",
      "Method:                 Least Squares   F-statistic:                     1210.\n",
      "Date:                Mon, 19 Oct 2015   Prob (F-statistic):               0.00\n",
      "Time:                        14:43:07   Log-Likelihood:                -5773.8\n",
      "No. Observations:                2500   AIC:                         1.156e+04\n",
      "Df Residuals:                    2495   BIC:                         1.159e+04\n",
      "Df Model:                           4                                         \n",
      "Covariance Type:            nonrobust                                         \n",
      "==============================================================================\n",
      "                 coef    std err          t      P>|t|      [95.0% Conf. Int.]\n",
      "------------------------------------------------------------------------------\n",
      "const         72.6904      0.989     73.482      0.000        70.751    74.630\n",
      "x1            -0.0877      0.001    -62.093      0.000        -0.090    -0.085\n",
      "x2             0.0002    6.8e-06     32.839      0.000         0.000     0.000\n",
      "x3         -6.361e-05   1.35e-05     -4.724      0.000        -9e-05 -3.72e-05\n",
      "x4            -0.0482      0.078     -0.618      0.537        -0.201     0.105\n",
      "==============================================================================\n",
      "Omnibus:                       69.579   Durbin-Watson:                   1.975\n",
      "Prob(Omnibus):                  0.000   Jarque-Bera (JB):               77.631\n",
      "Skew:                           0.382   Prob(JB):                     1.39e-17\n",
      "Kurtosis:                       3.404   Cond. No.                     3.20e+05\n",
      "==============================================================================\n",
      "\n",
      "Warnings:\n",
      "[1] Standard Errors assume that the covariance matrix of the errors is correctly specified.\n",
      "[2] The condition number is large, 3.2e+05. This might indicate that there are\n",
      "strong multicollinearity or other numerical problems.\n",
      "\n",
      "[ 72.69039155  -0.08770185   0.00022344  -0.00006361  -0.04818206]\n"
     ]
    }
   ],
   "source": [
    "import pandas as pd\n",
    "import numpy as np \n",
    "import statsmodels.api as sm\n",
    "np.set_printoptions(suppress=True) #suppress scientific notation for easier reading\n",
    "\n",
    "##### Same as before we did for linear regression\n",
    "\n",
    "loansData = pd.read_csv('https://spark-public.s3.amazonaws.com/dataanalysis/loansData.csv')\n",
    "\n",
    "#print the first 5 rows of each of the column to see what needs to be cleaned\n",
    "#print loansData['Interest.Rate'][0:5]\n",
    "#print loansData['Loan.Length'][0:5]\n",
    "#print loansData['FICO.Range'][0:5]\n",
    "\n",
    "#cleaning up the columns\n",
    "loansData['Interest.Rate'] = loansData['Interest.Rate'].map(lambda x: x.rstrip('%'))\n",
    "loansData['Interest.Rate'] = loansData['Interest.Rate'].astype(float)\n",
    "loansData['Loan.Length'] = loansData['Loan.Length'].map(lambda x: x.rstrip('months'))\n",
    "\n",
    "'''convert the data in FICO.Range into string and split the string and take the lowest value'''\n",
    "loansData['FICO.Score'] = loansData['FICO.Range']\n",
    "#print loansData['FICO.Score'][0:5]\n",
    "A =loansData['FICO.Score'].tolist()\n",
    "FICO=[] #declare an empty array\n",
    "for j in range(len(A)):   #for j in between 0 to len(A)\n",
    "  B = A[j].split(\"-\")     #split each sub-array on - and save it to B\n",
    "  C = float(B[0])           #convert the string to int, using only the first value\n",
    "  FICO.append(C)          #append each C to the empty array, using first value\n",
    "loansData['FICO.Score']=FICO\n",
    "loansData['Interest.Rate'] = loansData['Interest.Rate'].astype(float)  \n",
    "\n",
    "##### Now the logistic part\n",
    "intrate = loansData['Interest.Rate']\n",
    "intrate[np.isnan(intrate)] = 0\n",
    "loanamt = loansData['Amount.Requested']\n",
    "loanamt[np.isnan(loanamt)] = 0\n",
    "fico = loansData['FICO.Score']\n",
    "fico[np.isnan(fico)] = 0\n",
    "monthly_income = loansData['Monthly.Income']\n",
    "monthly_income[np.isnan(monthly_income)] = 0\n",
    "## It is not a value, so you need to convert it into we weigh them based on their importance\n",
    "house_ownership = loansData['Home.Ownership']\n",
    "house_ownership = [4 if x == 'OWN' else 3 if x == 'MORTGAGE' else 2 if x == 'RENT' else 1 if x == 'OTHER' else 0 for x in house_ownership]\n",
    "\n",
    "# The dependent variable\n",
    "y = np.matrix(intrate).transpose()\n",
    "# The independent variables shaped as columns\n",
    "x1 = np.matrix(fico).transpose()\n",
    "x2 = np.matrix(loanamt).transpose()\n",
    "x3 = np.matrix(monthly_income).transpose()\n",
    "x4 = np.matrix(house_ownership).transpose()\n",
    "\n",
    "\n",
    "x = np.column_stack([x1,x2,x3, x4])\n",
    "\n",
    "\n",
    "X = sm.add_constant(x)\n",
    "model = sm.OLS(y,X)\n",
    "f = model.fit()\n",
    "print f.summary()\n",
    "print ''\n",
    "coeff = f.params\n",
    "print coeff"
   ]
  },
  {
   "cell_type": "code",
   "execution_count": null,
   "metadata": {
    "collapsed": true
   },
   "outputs": [],
   "source": []
  }
 ],
 "metadata": {
  "kernelspec": {
   "display_name": "Python 2",
   "language": "python",
   "name": "python2"
  },
  "language_info": {
   "codemirror_mode": {
    "name": "ipython",
    "version": 2
   },
   "file_extension": ".py",
   "mimetype": "text/x-python",
   "name": "python",
   "nbconvert_exporter": "python",
   "pygments_lexer": "ipython2",
   "version": "2.7.6"
  }
 },
 "nbformat": 4,
 "nbformat_minor": 0
}
