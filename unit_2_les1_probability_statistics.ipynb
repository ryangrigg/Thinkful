{
 "cells": [
  {
   "cell_type": "markdown",
   "metadata": {},
   "source": [
    "## Admin"
   ]
  },
  {
   "cell_type": "code",
   "execution_count": 1,
   "metadata": {
    "collapsed": true
   },
   "outputs": [],
   "source": [
    "import pandas as pd\n",
    "import numpy as np\n",
    "from pandas import Series, DataFrame\n",
    "import scipy.stats as stats"
   ]
  },
  {
   "cell_type": "code",
   "execution_count": 2,
   "metadata": {
    "collapsed": true
   },
   "outputs": [],
   "source": [
    "pd.set_option('html', True)#sets the dataframe to include HTML code for visual perspective\n",
    "pd.set_option('max_columns', 5000) #max columns to show\n",
    "pd.set_option('max_rows', 300) #max rows to show\n",
    "pd.set_option('display.large_repr', 'info') #when data exceeds max rows / columns; a summary view is given\n",
    "pd.set_option('display.width', 100000) #set the width the notebook will display in characters\n",
    "pd.set_option('display.float_format', lambda x: '%.2f' % x)"
   ]
  },
  {
   "cell_type": "code",
   "execution_count": 3,
   "metadata": {
    "collapsed": true
   },
   "outputs": [],
   "source": [
    "data = '''Region, Alcohol, Tobacco\n",
    "North, 6.47, 4.03\n",
    "Yorkshire, 6.13, 3.76\n",
    "Northeast, 6.19, 3.77\n",
    "East Midlands, 4.89, 3.34\n",
    "West Midlands, 5.63, 3.47\n",
    "East Anglia, 4.52, 2.92\n",
    "Southeast, 5.89, 3.20\n",
    "Southwest, 4.79, 2.71\n",
    "Wales, 5.27, 3.53\n",
    "Scotland, 6.08, 4.51\n",
    "Northern Ireland, 4.02, 4.56'''"
   ]
  },
  {
   "cell_type": "code",
   "execution_count": 4,
   "metadata": {
    "collapsed": true
   },
   "outputs": [],
   "source": [
    "data = data.split('\\n')"
   ]
  },
  {
   "cell_type": "code",
   "execution_count": 5,
   "metadata": {
    "collapsed": true
   },
   "outputs": [],
   "source": [
    "data = [i.split(',') for i in data]"
   ]
  },
  {
   "cell_type": "code",
   "execution_count": 6,
   "metadata": {
    "collapsed": false
   },
   "outputs": [
    {
     "data": {
      "text/plain": [
       "[['Region', ' Alcohol', ' Tobacco'],\n",
       " ['North', ' 6.47', ' 4.03'],\n",
       " ['Yorkshire', ' 6.13', ' 3.76'],\n",
       " ['Northeast', ' 6.19', ' 3.77'],\n",
       " ['East Midlands', ' 4.89', ' 3.34'],\n",
       " ['West Midlands', ' 5.63', ' 3.47'],\n",
       " ['East Anglia', ' 4.52', ' 2.92'],\n",
       " ['Southeast', ' 5.89', ' 3.20'],\n",
       " ['Southwest', ' 4.79', ' 2.71'],\n",
       " ['Wales', ' 5.27', ' 3.53'],\n",
       " ['Scotland', ' 6.08', ' 4.51'],\n",
       " ['Northern Ireland', ' 4.02', ' 4.56']]"
      ]
     },
     "execution_count": 6,
     "metadata": {},
     "output_type": "execute_result"
    }
   ],
   "source": [
    "data"
   ]
  },
  {
   "cell_type": "code",
   "execution_count": 11,
   "metadata": {
    "collapsed": false
   },
   "outputs": [
    {
     "data": {
      "text/html": [
       "<div style=\"max-height:1000px;max-width:1500px;overflow:auto;\">\n",
       "<table border=\"1\" class=\"dataframe\">\n",
       "  <thead>\n",
       "    <tr style=\"text-align: right;\">\n",
       "      <th></th>\n",
       "      <th>Region</th>\n",
       "      <th> Alcohol</th>\n",
       "      <th> Tobacco</th>\n",
       "    </tr>\n",
       "  </thead>\n",
       "  <tbody>\n",
       "    <tr>\n",
       "      <th>0 </th>\n",
       "      <td>            North</td>\n",
       "      <td>  6.47</td>\n",
       "      <td>  4.03</td>\n",
       "    </tr>\n",
       "    <tr>\n",
       "      <th>1 </th>\n",
       "      <td>        Yorkshire</td>\n",
       "      <td>  6.13</td>\n",
       "      <td>  3.76</td>\n",
       "    </tr>\n",
       "    <tr>\n",
       "      <th>2 </th>\n",
       "      <td>        Northeast</td>\n",
       "      <td>  6.19</td>\n",
       "      <td>  3.77</td>\n",
       "    </tr>\n",
       "    <tr>\n",
       "      <th>3 </th>\n",
       "      <td>    East Midlands</td>\n",
       "      <td>  4.89</td>\n",
       "      <td>  3.34</td>\n",
       "    </tr>\n",
       "    <tr>\n",
       "      <th>4 </th>\n",
       "      <td>    West Midlands</td>\n",
       "      <td>  5.63</td>\n",
       "      <td>  3.47</td>\n",
       "    </tr>\n",
       "    <tr>\n",
       "      <th>5 </th>\n",
       "      <td>      East Anglia</td>\n",
       "      <td>  4.52</td>\n",
       "      <td>  2.92</td>\n",
       "    </tr>\n",
       "    <tr>\n",
       "      <th>6 </th>\n",
       "      <td>        Southeast</td>\n",
       "      <td>  5.89</td>\n",
       "      <td>  3.20</td>\n",
       "    </tr>\n",
       "    <tr>\n",
       "      <th>7 </th>\n",
       "      <td>        Southwest</td>\n",
       "      <td>  4.79</td>\n",
       "      <td>  2.71</td>\n",
       "    </tr>\n",
       "    <tr>\n",
       "      <th>8 </th>\n",
       "      <td>            Wales</td>\n",
       "      <td>  5.27</td>\n",
       "      <td>  3.53</td>\n",
       "    </tr>\n",
       "    <tr>\n",
       "      <th>9 </th>\n",
       "      <td>         Scotland</td>\n",
       "      <td>  6.08</td>\n",
       "      <td>  4.51</td>\n",
       "    </tr>\n",
       "    <tr>\n",
       "      <th>10</th>\n",
       "      <td> Northern Ireland</td>\n",
       "      <td>  4.02</td>\n",
       "      <td>  4.56</td>\n",
       "    </tr>\n",
       "  </tbody>\n",
       "</table>\n",
       "</div>"
      ],
      "text/plain": [
       "              Region  Alcohol  Tobacco\n",
       "0              North     6.47     4.03\n",
       "1          Yorkshire     6.13     3.76\n",
       "2          Northeast     6.19     3.77\n",
       "3      East Midlands     4.89     3.34\n",
       "4      West Midlands     5.63     3.47\n",
       "5        East Anglia     4.52     2.92\n",
       "6          Southeast     5.89     3.20\n",
       "7          Southwest     4.79     2.71\n",
       "8              Wales     5.27     3.53\n",
       "9           Scotland     6.08     4.51\n",
       "10  Northern Ireland     4.02     4.56"
      ]
     },
     "execution_count": 11,
     "metadata": {},
     "output_type": "execute_result"
    }
   ],
   "source": [
    "column_names = data[0]\n",
    "data_rows = data[1:]\n",
    "df = pd.DataFrame(data_rows, columns=column_names)\n",
    "df"
   ]
  },
  {
   "cell_type": "code",
   "execution_count": 15,
   "metadata": {
    "collapsed": false
   },
   "outputs": [
    {
     "data": {
      "text/plain": [
       "Index([u'Region', u' Alcohol', u' Tobacco'], dtype='object')"
      ]
     },
     "execution_count": 15,
     "metadata": {},
     "output_type": "execute_result"
    }
   ],
   "source": [
    "df.columns"
   ]
  },
  {
   "cell_type": "code",
   "execution_count": 16,
   "metadata": {
    "collapsed": false
   },
   "outputs": [],
   "source": [
    "#convert numbers to float:\n",
    "df[' Alcohol'] = df[' Alcohol'].astype(float)\n",
    "df[' Tobacco'] = df[' Tobacco'].astype(float)"
   ]
  },
  {
   "cell_type": "code",
   "execution_count": 17,
   "metadata": {
    "collapsed": false
   },
   "outputs": [
    {
     "data": {
      "text/plain": [
       "Index([u'Region', u'Alcohol', u'Tobacco'], dtype='object')"
      ]
     },
     "execution_count": 17,
     "metadata": {},
     "output_type": "execute_result"
    }
   ],
   "source": [
    "df = df.rename(columns={' Alcohol': 'Alcohol', ' Tobacco': 'Tobacco'})\n",
    "df.columns"
   ]
  },
  {
   "cell_type": "code",
   "execution_count": 19,
   "metadata": {
    "collapsed": false
   },
   "outputs": [
    {
     "data": {
      "text/html": [
       "<div style=\"max-height:1000px;max-width:1500px;overflow:auto;\">\n",
       "<table border=\"1\" class=\"dataframe\">\n",
       "  <thead>\n",
       "    <tr style=\"text-align: right;\">\n",
       "      <th></th>\n",
       "      <th>Alcohol</th>\n",
       "      <th>Tobacco</th>\n",
       "    </tr>\n",
       "  </thead>\n",
       "  <tbody>\n",
       "    <tr>\n",
       "      <th>count</th>\n",
       "      <td>11.00</td>\n",
       "      <td>11.00</td>\n",
       "    </tr>\n",
       "    <tr>\n",
       "      <th>mean</th>\n",
       "      <td> 5.44</td>\n",
       "      <td> 3.62</td>\n",
       "    </tr>\n",
       "    <tr>\n",
       "      <th>std</th>\n",
       "      <td> 0.80</td>\n",
       "      <td> 0.59</td>\n",
       "    </tr>\n",
       "    <tr>\n",
       "      <th>min</th>\n",
       "      <td> 4.02</td>\n",
       "      <td> 2.71</td>\n",
       "    </tr>\n",
       "    <tr>\n",
       "      <th>25%</th>\n",
       "      <td> 4.84</td>\n",
       "      <td> 3.27</td>\n",
       "    </tr>\n",
       "    <tr>\n",
       "      <th>50%</th>\n",
       "      <td> 5.63</td>\n",
       "      <td> 3.53</td>\n",
       "    </tr>\n",
       "    <tr>\n",
       "      <th>75%</th>\n",
       "      <td> 6.11</td>\n",
       "      <td> 3.90</td>\n",
       "    </tr>\n",
       "    <tr>\n",
       "      <th>max</th>\n",
       "      <td> 6.47</td>\n",
       "      <td> 4.56</td>\n",
       "    </tr>\n",
       "  </tbody>\n",
       "</table>\n",
       "</div>"
      ],
      "text/plain": [
       "       Alcohol  Tobacco\n",
       "count    11.00    11.00\n",
       "mean      5.44     3.62\n",
       "std       0.80     0.59\n",
       "min       4.02     2.71\n",
       "25%       4.84     3.27\n",
       "50%       5.63     3.53\n",
       "75%       6.11     3.90\n",
       "max       6.47     4.56"
      ]
     },
     "execution_count": 19,
     "metadata": {},
     "output_type": "execute_result"
    }
   ],
   "source": [
    "df.describe()"
   ]
  },
  {
   "cell_type": "code",
   "execution_count": 36,
   "metadata": {
    "collapsed": true
   },
   "outputs": [],
   "source": [
    "def basic_stats_alcohol_tobacco(dataframe):\n",
    "    print 'The mean of the Alcohol data is:', dataframe['Alcohol'].mean()\n",
    "    print 'The median of the Alcohol data is:', dataframe['Alcohol'].median()\n",
    "    print 'The mode of the Alcohol data is:', stats.mode(df['Alcohol'])\n",
    "    print 'The variance of the Alcohol data is:', dataframe['Alcohol'].var()\n",
    "    print 'The standard deviation of the Alcohol data is:', dataframe['Alcohol'].std()\n",
    "    print 'The range of the Alcohol data is:', max(df['Alcohol']) - min(df['Alcohol'])\n",
    "    print ''\n",
    "    print 'The mean of the Tobacco data is:', dataframe['Tobacco'].mean()\n",
    "    print 'The median of the Tobacco data is:', dataframe['Tobacco'].median()\n",
    "    print 'The mode of the Tobacco data is:', stats.mode(df['Tobacco'])\n",
    "    print 'The variance of the Tobacco data is:', dataframe['Tobacco'].var()\n",
    "    print 'The standard deviation of the Tobacco data is:', dataframe['Tobacco'].std()\n",
    "    print 'The range of the Tobacco data is:', max(df['Tobacco']) - min(df['Tobacco'])"
   ]
  },
  {
   "cell_type": "code",
   "execution_count": 37,
   "metadata": {
    "collapsed": false
   },
   "outputs": [
    {
     "name": "stdout",
     "output_type": "stream",
     "text": [
      "The mean of the Alcohol data is: 5.44363636364\n",
      "The median of the Alcohol data is: 5.63\n",
      "The mode of the Alcohol data is: (array([ 4.02]), array([ 1.]))\n",
      "The variance of the Alcohol data is: 0.636425454545\n",
      "The standard deviation of the Alcohol data is: 0.797762780873\n",
      "The range of the Alcohol data is: 2.45\n",
      "\n",
      "The mean of the Tobacco data is: 3.61818181818\n",
      "The median of the Tobacco data is: 3.53\n",
      "The mode of the Tobacco data is: (array([ 2.71]), array([ 1.]))\n",
      "The variance of the Tobacco data is: 0.348936363636\n",
      "The standard deviation of the Tobacco data is: 0.590708357514\n",
      "The range of the Tobacco data is: 1.85\n"
     ]
    }
   ],
   "source": [
    "basic_stats_alcohol_tobacco(df)"
   ]
  },
  {
   "cell_type": "markdown",
   "metadata": {},
   "source": [
    "### Probability Graph"
   ]
  },
  {
   "cell_type": "code",
   "execution_count": null,
   "metadata": {
    "collapsed": true
   },
   "outputs": [],
   "source": [
    "import matplotlib.pyplot as plt\n",
    "import matplotlib.mlab as mlab\n",
    "\n",
    "mean = 0\n",
    "variance = 1\n",
    "sigma = np.sqrt(variance) # this is the standard deviation\n",
    "x = np.linspace(-3,3,100)\n",
    "plt.plot(x, mlab.normpdf(x,mean,sigma))\n",
    "\n",
    "plt.show()"
   ]
  },
  {
   "cell_type": "code",
   "execution_count": null,
   "metadata": {
    "collapsed": true
   },
   "outputs": [],
   "source": []
  }
 ],
 "metadata": {
  "kernelspec": {
   "display_name": "Python 2",
   "language": "python",
   "name": "python2"
  },
  "language_info": {
   "codemirror_mode": {
    "name": "ipython",
    "version": 2
   },
   "file_extension": ".py",
   "mimetype": "text/x-python",
   "name": "python",
   "nbconvert_exporter": "python",
   "pygments_lexer": "ipython2",
   "version": "2.7.6"
  }
 },
 "nbformat": 4,
 "nbformat_minor": 0
}
